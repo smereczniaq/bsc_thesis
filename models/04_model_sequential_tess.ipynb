{
 "cells": [
  {
   "cell_type": "markdown",
   "id": "5cf1d3d7-0d6f-4476-909d-a795a4a43657",
   "metadata": {},
   "source": [
    "# Import bibliotek"
   ]
  },
  {
   "cell_type": "code",
   "execution_count": 1,
   "id": "0fccc2e4-9049-419d-9078-bec173cd162a",
   "metadata": {},
   "outputs": [],
   "source": [
    "import os\n",
    "import numpy as np\n",
    "from PIL import Image\n",
    "from sklearn.model_selection import train_test_split\n",
    "import tensorflow as tf\n",
    "from tensorflow.keras import layers, models, activations\n",
    "from tensorflow.python.keras.callbacks import ModelCheckpoint\n",
    "import torch"
   ]
  },
  {
   "cell_type": "code",
   "execution_count": 2,
   "id": "9274775a-f0da-4fb1-8b1f-0f6eb6d28d97",
   "metadata": {},
   "outputs": [
    {
     "name": "stdout",
     "output_type": "stream",
     "text": [
      "Name: /physical_device:CPU:0   Type: CPU\n",
      "Name: /physical_device:GPU:0   Type: GPU\n"
     ]
    }
   ],
   "source": [
    "gpus = tf.config.list_physical_devices()\n",
    "for gpu in gpus:\n",
    "    print(\"Name:\", gpu.name, \"  Type:\", gpu.device_type)"
   ]
  },
  {
   "cell_type": "markdown",
   "id": "bfbbee11-b8ef-4bbc-95ad-6991818b3976",
   "metadata": {},
   "source": [
    "# Zmienne"
   ]
  },
  {
   "cell_type": "code",
   "execution_count": 3,
   "id": "fee89828-5f5e-456f-ab08-fbb979870dd2",
   "metadata": {},
   "outputs": [],
   "source": [
    "SPECTROGRAM = False\n",
    "classes = [\"Anger\", \"Happy\", \"Neutral\", \"Sad\", \"Fear\", \"Disgust\"]"
   ]
  },
  {
   "cell_type": "code",
   "execution_count": 4,
   "id": "3548011c-6f6a-4cbf-9a3f-b5398ea5d317",
   "metadata": {},
   "outputs": [],
   "source": [
    "if SPECTROGRAM:\n",
    "    path_train = \"../data/spectrograms/divided/Tess/train\"\n",
    "    path_test = \"../data/spectrograms/divided/Tess/test\"\n",
    "    log_directory = \"../tests/logs/TensorBoard/spec_tess\"\n",
    "    filepath = \"../tests/logs/SavedModels/spec_tess.h5\"\n",
    "\n",
    "else:\n",
    "    path_train = \"../data/melspectrograms/divided/Tess/train\"\n",
    "    path_test = \"../data/melspectrograms/divided/Tess/test\"\n",
    "    log_directory = \"../tests/logs/TensorBoard/melspec_tess\"\n",
    "    filepath = \"../tests/logs/SavedModels/melspec_tess.h5\""
   ]
  },
  {
   "cell_type": "code",
   "execution_count": 5,
   "id": "a986c223-5325-4c74-9978-12801794e0dd",
   "metadata": {},
   "outputs": [],
   "source": [
    "def get_train_data(train_data_path):\n",
    "    \"\"\"\n",
    "    Loads train data from all datasets\n",
    "\n",
    "    Returns:\n",
    "        data_train - training samples\n",
    "        data_val - validation samples\n",
    "        target_train - training targets\n",
    "        target_val - validation targets\n",
    "        \n",
    "    \"\"\"\n",
    "    class_number = 0\n",
    "    targets = []\n",
    "    img = []\n",
    "\n",
    "    for current_folder in classes:\n",
    "        print(f\"Emotion: {current_folder}\")\n",
    "        emotion_folder = f\"{train_data_path}/{current_folder}\"\n",
    "        for i, file_name in enumerate(os.listdir(emotion_folder)):\n",
    "            file_path = f\"{emotion_folder}/{file_name}\"\n",
    "            targets.append(class_number)\n",
    "            img.append(np.array(Image.open(file_path).convert('RGB'))/255)\n",
    "            print(f\"Loaded {i+1}/{len(os.listdir(emotion_folder))} files from train {current_folder}\", end=\"\\r\")\n",
    "        print(\"\\n\")\n",
    "        class_number += 1\n",
    "\n",
    "    \n",
    "    targets_array = np.asarray(targets)\n",
    "    print(\"Set np.asarray(targets)\")\n",
    "    targets = []\n",
    "    img_array = np.asarray(img)\n",
    "    print(\"Set np.asarray(img)\")\n",
    "    img = []\n",
    "\n",
    "    targets_array = tf.keras.utils.to_categorical(targets_array)\n",
    "    print(\"Set tf.keras.utils.to_categorical(targets_array)\")\n",
    "    \n",
    "    data_train, data_val, target_train, target_val = train_test_split(img_array, targets_array, test_size=0.25, random_state=0)\n",
    "    print(\"Splitted to train/val datasets\")\n",
    "    \n",
    "    print(\"shapes\")\n",
    "    print(data_train.shape)\n",
    "    print(target_train.shape)\n",
    "    print(data_val.shape)\n",
    "    print(target_val.shape)\n",
    "\n",
    "    return data_train, data_val, target_train, target_val"
   ]
  },
  {
   "cell_type": "code",
   "execution_count": 6,
   "id": "401bf4d4-1edd-4b63-bfcc-ad8c328eb223",
   "metadata": {},
   "outputs": [],
   "source": [
    "def get_test_data(test_data_path):\n",
    "    \"\"\"\n",
    "    Loads test data from all datasets\n",
    "\n",
    "    Returns:\n",
    "        data_test - test samples\n",
    "        target_test_to_categorical - test targets\n",
    "        \n",
    "    \"\"\"\n",
    "    class_number = 0\n",
    "    targets = []\n",
    "    img = []\n",
    "\n",
    "    for current_folder in classes:\n",
    "        print(f\"Emotion: {current_folder}\")\n",
    "        emotion_folder = f\"{test_data_path}/{current_folder}\"\n",
    "        for i, file_name in enumerate(os.listdir(emotion_folder)):\n",
    "            file_path = f\"{emotion_folder}/{file_name}\"\n",
    "            targets.append(class_number)\n",
    "            img.append(np.array(Image.open(file_path).convert('RGB'))/255)\n",
    "            print(f\"Loaded {i+1}/{len(os.listdir(emotion_folder))} files from test {current_folder}\", end=\"\\r\")\n",
    "        print(\"\\n\")\n",
    "        class_number += 1\n",
    "\n",
    "    target_test = np.asarray(targets)\n",
    "    print(\"Set np.asarray(targets)\")\n",
    "    targets = []\n",
    "    data_test = np.asarray(img)\n",
    "    print(\"Set np.asarray(img)\")\n",
    "    img = []\n",
    "    \n",
    "    target_test_to_categorical = tf.keras.utils.to_categorical(target_test)\n",
    "    print(\"Set tf.keras.utils.to_categorical(target_test)\")\n",
    "\n",
    "    print(data_test.shape)\n",
    "    print(target_test_to_categorical.shape)\n",
    "\n",
    "    return data_test, target_test_to_categorical"
   ]
  },
  {
   "cell_type": "code",
   "execution_count": 7,
   "id": "688c3312-8928-4a1b-8240-87b469922e4e",
   "metadata": {},
   "outputs": [],
   "source": [
    "# MODEL SHEDULER\n",
    "def scheduler(epoch, lr):\n",
    "    if epoch < 15:\n",
    "        eta = lr\n",
    "    else:\n",
    "        eta = lr - 0.00001\n",
    "    if lr < 0.00005:\n",
    "        eta = 0.00005\n",
    "\n",
    "    return eta"
   ]
  },
  {
   "cell_type": "code",
   "execution_count": 8,
   "id": "c090b0ca-a0e2-448d-9175-289595954c54",
   "metadata": {},
   "outputs": [
    {
     "name": "stdout",
     "output_type": "stream",
     "text": [
      "Emotion: Anger\n",
      "Loaded 320/320 files from train Anger\n",
      "\n",
      "Emotion: Happy\n",
      "Loaded 320/320 files from train Happy\n",
      "\n",
      "Emotion: Neutral\n",
      "Loaded 320/320 files from train Neutral\n",
      "\n",
      "Emotion: Sad\n",
      "Loaded 320/320 files from train Sad\n",
      "\n",
      "Emotion: Fear\n",
      "Loaded 320/320 files from train Fear\n",
      "\n",
      "Emotion: Disgust\n",
      "Loaded 320/320 files from train Disgust\n",
      "\n",
      "Set np.asarray(targets)\n",
      "Set np.asarray(img)\n",
      "Set tf.keras.utils.to_categorical(targets_array)\n",
      "Splitted to train/val datasets\n",
      "shapes\n",
      "(1440, 389, 515, 3)\n",
      "(1440, 6)\n",
      "(480, 389, 515, 3)\n",
      "(480, 6)\n"
     ]
    }
   ],
   "source": [
    "data_train, data_val, target_train, target_val = get_train_data(path_train)"
   ]
  },
  {
   "cell_type": "code",
   "execution_count": 9,
   "id": "7e272907-c01e-4891-ad8e-9053178ea87f",
   "metadata": {},
   "outputs": [
    {
     "name": "stdout",
     "output_type": "stream",
     "text": [
      "Model: \"sequential\"\n",
      "_________________________________________________________________\n",
      " Layer (type)                Output Shape              Param #   \n",
      "=================================================================\n",
      " conv2d (Conv2D)             (None, 389, 515, 75)      5700      \n",
      "                                                                 \n",
      " max_pooling2d (MaxPooling2D  (None, 129, 171, 75)     0         \n",
      " )                                                               \n",
      "                                                                 \n",
      " conv2d_1 (Conv2D)           (None, 129, 171, 135)     253260    \n",
      "                                                                 \n",
      " max_pooling2d_1 (MaxPooling  (None, 43, 57, 135)      0         \n",
      " 2D)                                                             \n",
      "                                                                 \n",
      " dropout (Dropout)           (None, 43, 57, 135)       0         \n",
      "                                                                 \n",
      " conv2d_2 (Conv2D)           (None, 43, 57, 75)        253200    \n",
      "                                                                 \n",
      " max_pooling2d_2 (MaxPooling  (None, 14, 19, 75)       0         \n",
      " 2D)                                                             \n",
      "                                                                 \n",
      " dropout_1 (Dropout)         (None, 14, 19, 75)        0         \n",
      "                                                                 \n",
      " flatten (Flatten)           (None, 19950)             0         \n",
      "                                                                 \n",
      " dense (Dense)               (None, 45)                897795    \n",
      "                                                                 \n",
      " dropout_2 (Dropout)         (None, 45)                0         \n",
      "                                                                 \n",
      " dense_1 (Dense)             (None, 6)                 276       \n",
      "                                                                 \n",
      "=================================================================\n",
      "Total params: 1,410,231\n",
      "Trainable params: 1,410,231\n",
      "Non-trainable params: 0\n",
      "_________________________________________________________________\n"
     ]
    }
   ],
   "source": [
    "# MODEL SHEDULER\n",
    "scheduler_callback = tf.keras.callbacks.LearningRateScheduler(scheduler)\n",
    "\n",
    "# TENSORBOARD\n",
    "tensorboard_callback = tf.keras.callbacks.TensorBoard(log_dir=log_directory)\n",
    "\n",
    "# SAVE MODEL \n",
    "checkpoint = ModelCheckpoint(filepath,\n",
    "                             monitor='val_loss', \n",
    "                             verbose=1,\n",
    "                             save_best_only=True,\n",
    "                             mode='min')\n",
    "\n",
    "\n",
    "model = models.Sequential()\n",
    "model.add(layers.Conv2D(75, (5, 5), activation='relu', input_shape=(389, 515, 3), padding='same'))\n",
    "model.add(layers.MaxPooling2D((3, 3)))\n",
    "model.add(layers.Conv2D(135, (5, 5), activation='relu', padding='same'))\n",
    "model.add(layers.MaxPooling2D((3, 3)))\n",
    "model.add(layers.Dropout(0.15))\n",
    "model.add(layers.Conv2D(75, (5, 5), activation='relu', padding='same'))\n",
    "model.add(layers.MaxPooling2D((3, 3)))\n",
    "model.add(layers.Dropout(0.25))\n",
    "model.add(layers.Flatten()) \n",
    "model.add(layers.Dense(45, activation='relu'))\n",
    "model.add(layers.Dropout(0.2))\n",
    "# model.add(layers.Dense(40, activation='relu'))\n",
    "# model.add(layers.Dropout(0.3))\n",
    "model.add(layers.Dense(6, activation='softmax'))\n",
    "\n",
    "\n",
    "model.summary()"
   ]
  },
  {
   "cell_type": "code",
   "execution_count": 10,
   "id": "f4a86c22-2581-4433-a5b1-5405b78b3adb",
   "metadata": {},
   "outputs": [],
   "source": [
    "# MODEL COMPILE \n",
    "model.compile(optimizer='adam',\n",
    "            loss='categorical_crossentropy',\n",
    "            metrics=['accuracy'])"
   ]
  },
  {
   "cell_type": "code",
   "execution_count": 11,
   "id": "9a0fac85-4b72-4cc2-8312-44f96430695f",
   "metadata": {},
   "outputs": [
    {
     "name": "stdout",
     "output_type": "stream",
     "text": [
      "Epoch 1/20\n"
     ]
    },
    {
     "name": "stderr",
     "output_type": "stream",
     "text": [
      "2024-10-29 13:27:27.129510: W tensorflow/tsl/platform/profile_utils/cpu_utils.cc:128] Failed to get CPU frequency: 0 Hz\n"
     ]
    },
    {
     "name": "stdout",
     "output_type": "stream",
     "text": [
      "45/45 [==============================] - ETA: 0s - loss: 1.8745 - accuracy: 0.1715\n",
      "Epoch 00001: val_loss improved from inf to 1.81821, saving model to ../tests/logs/SavedModels/melspec_tess.h5\n",
      "45/45 [==============================] - 162s 4s/step - loss: 1.8745 - accuracy: 0.1715 - val_loss: 1.8182 - val_accuracy: 0.2229\n",
      "Epoch 2/20\n",
      "45/45 [==============================] - ETA: 0s - loss: 9.0501 - accuracy: 0.3764\n",
      "Epoch 00002: val_loss did not improve from 1.81821\n",
      "45/45 [==============================] - 143s 3s/step - loss: 9.0501 - accuracy: 0.3764 - val_loss: 10.4870 - val_accuracy: 0.7188\n",
      "Epoch 3/20\n",
      "45/45 [==============================] - ETA: 0s - loss: 51.2834 - accuracy: 0.5910\n",
      "Epoch 00003: val_loss did not improve from 1.81821\n",
      "45/45 [==============================] - 140s 3s/step - loss: 51.2834 - accuracy: 0.5910 - val_loss: 19.8371 - val_accuracy: 0.8125\n",
      "Epoch 4/20\n",
      "45/45 [==============================] - ETA: 0s - loss: 107.8026 - accuracy: 0.7042\n",
      "Epoch 00004: val_loss did not improve from 1.81821\n",
      "45/45 [==============================] - 138s 3s/step - loss: 107.8026 - accuracy: 0.7042 - val_loss: 4.5263 - val_accuracy: 0.9604\n",
      "Epoch 5/20\n",
      "45/45 [==============================] - ETA: 0s - loss: 94.1244 - accuracy: 0.8035\n",
      "Epoch 00005: val_loss did not improve from 1.81821\n",
      "45/45 [==============================] - 136s 3s/step - loss: 94.1244 - accuracy: 0.8035 - val_loss: 2.8814 - val_accuracy: 0.9750\n",
      "Epoch 6/20\n",
      "45/45 [==============================] - ETA: 0s - loss: 71.1624 - accuracy: 0.8861\n",
      "Epoch 00006: val_loss did not improve from 1.81821\n",
      "45/45 [==============================] - 83s 2s/step - loss: 71.1624 - accuracy: 0.8861 - val_loss: 13.0451 - val_accuracy: 0.9500\n",
      "Epoch 7/20\n",
      "45/45 [==============================] - ETA: 0s - loss: 49.8588 - accuracy: 0.9174\n",
      "Epoch 00007: val_loss did not improve from 1.81821\n",
      "45/45 [==============================] - 83s 2s/step - loss: 49.8588 - accuracy: 0.9174 - val_loss: 6.7132 - val_accuracy: 0.9792\n",
      "Epoch 8/20\n",
      "45/45 [==============================] - ETA: 0s - loss: 62.8363 - accuracy: 0.9125\n",
      "Epoch 00008: val_loss did not improve from 1.81821\n",
      "45/45 [==============================] - 83s 2s/step - loss: 62.8363 - accuracy: 0.9125 - val_loss: 4.6916 - val_accuracy: 0.9917\n",
      "Epoch 9/20\n",
      "45/45 [==============================] - ETA: 0s - loss: 31.7998 - accuracy: 0.9465\n",
      "Epoch 00009: val_loss did not improve from 1.81821\n",
      "45/45 [==============================] - 83s 2s/step - loss: 31.7998 - accuracy: 0.9465 - val_loss: 4.3285 - val_accuracy: 0.9854\n",
      "Epoch 10/20\n",
      "45/45 [==============================] - ETA: 0s - loss: 15.6508 - accuracy: 0.9708\n",
      "Epoch 00010: val_loss did not improve from 1.81821\n",
      "45/45 [==============================] - 84s 2s/step - loss: 15.6508 - accuracy: 0.9708 - val_loss: 2.4249 - val_accuracy: 0.9917\n",
      "Epoch 11/20\n",
      "45/45 [==============================] - ETA: 0s - loss: 13.1227 - accuracy: 0.9674\n",
      "Epoch 00011: val_loss improved from 1.81821 to 1.60629, saving model to ../tests/logs/SavedModels/melspec_tess.h5\n",
      "45/45 [==============================] - 83s 2s/step - loss: 13.1227 - accuracy: 0.9674 - val_loss: 1.6063 - val_accuracy: 0.9979\n",
      "Epoch 12/20\n",
      "45/45 [==============================] - ETA: 0s - loss: 18.9000 - accuracy: 0.9632\n",
      "Epoch 00012: val_loss did not improve from 1.60629\n",
      "45/45 [==============================] - 83s 2s/step - loss: 18.9000 - accuracy: 0.9632 - val_loss: 4.6841 - val_accuracy: 0.9896\n",
      "Epoch 13/20\n",
      "45/45 [==============================] - ETA: 0s - loss: 18.4107 - accuracy: 0.9708\n",
      "Epoch 00013: val_loss improved from 1.60629 to 0.92897, saving model to ../tests/logs/SavedModels/melspec_tess.h5\n",
      "45/45 [==============================] - 83s 2s/step - loss: 18.4107 - accuracy: 0.9708 - val_loss: 0.9290 - val_accuracy: 0.9958\n",
      "Epoch 14/20\n",
      "45/45 [==============================] - ETA: 0s - loss: 9.1874 - accuracy: 0.9743\n",
      "Epoch 00014: val_loss improved from 0.92897 to 0.67685, saving model to ../tests/logs/SavedModels/melspec_tess.h5\n",
      "45/45 [==============================] - 83s 2s/step - loss: 9.1874 - accuracy: 0.9743 - val_loss: 0.6769 - val_accuracy: 0.9979\n",
      "Epoch 15/20\n",
      "45/45 [==============================] - ETA: 0s - loss: 7.1331 - accuracy: 0.9847 \n",
      "Epoch 00015: val_loss improved from 0.67685 to 0.65888, saving model to ../tests/logs/SavedModels/melspec_tess.h5\n",
      "45/45 [==============================] - 479s 11s/step - loss: 7.1331 - accuracy: 0.9847 - val_loss: 0.6589 - val_accuracy: 0.9958\n",
      "Epoch 16/20\n",
      "45/45 [==============================] - ETA: 0s - loss: 5.1645 - accuracy: 0.9889\n",
      "Epoch 00016: val_loss improved from 0.65888 to 0.00000, saving model to ../tests/logs/SavedModels/melspec_tess.h5\n",
      "45/45 [==============================] - 83s 2s/step - loss: 5.1645 - accuracy: 0.9889 - val_loss: 0.0000e+00 - val_accuracy: 1.0000\n",
      "Epoch 17/20\n",
      "45/45 [==============================] - ETA: 0s - loss: 4.8002 - accuracy: 0.9868\n",
      "Epoch 00017: val_loss did not improve from 0.00000\n",
      "45/45 [==============================] - 84s 2s/step - loss: 4.8002 - accuracy: 0.9868 - val_loss: 0.0000e+00 - val_accuracy: 1.0000\n",
      "Epoch 18/20\n",
      "45/45 [==============================] - ETA: 0s - loss: 13.1869 - accuracy: 0.9757\n",
      "Epoch 00018: val_loss did not improve from 0.00000\n",
      "45/45 [==============================] - 84s 2s/step - loss: 13.1869 - accuracy: 0.9757 - val_loss: 0.8315 - val_accuracy: 0.9979\n",
      "Epoch 19/20\n",
      "45/45 [==============================] - ETA: 0s - loss: 13.5464 - accuracy: 0.9701\n",
      "Epoch 00019: val_loss did not improve from 0.00000\n",
      "45/45 [==============================] - 83s 2s/step - loss: 13.5464 - accuracy: 0.9701 - val_loss: 1.1423 - val_accuracy: 0.9958\n",
      "Epoch 20/20\n",
      "45/45 [==============================] - ETA: 0s - loss: 7.8137 - accuracy: 0.9833\n",
      "Epoch 00020: val_loss did not improve from 0.00000\n",
      "45/45 [==============================] - 83s 2s/step - loss: 7.8137 - accuracy: 0.9833 - val_loss: 0.0000e+00 - val_accuracy: 1.0000\n"
     ]
    }
   ],
   "source": [
    "# MODEL FIT \n",
    "history = model.fit(data_train,\n",
    "                    target_train,\n",
    "                    epochs=20,\n",
    "                    shuffle=True,\n",
    "                    validation_data=(data_val, target_val),\n",
    "                    callbacks=[tensorboard_callback, checkpoint])"
   ]
  },
  {
   "cell_type": "code",
   "execution_count": 12,
   "id": "46d0cb2b-02dc-4402-a42e-23b4f7c2cfc3",
   "metadata": {},
   "outputs": [
    {
     "name": "stdout",
     "output_type": "stream",
     "text": [
      "Emotion: Anger\n",
      "Loaded 80/80 files from test Anger\n",
      "\n",
      "Emotion: Happy\n",
      "Loaded 80/80 files from test Happy\n",
      "\n",
      "Emotion: Neutral\n",
      "Loaded 80/80 files from test Neutral\n",
      "\n",
      "Emotion: Sad\n",
      "Loaded 80/80 files from test Sad\n",
      "\n",
      "Emotion: Fear\n",
      "Loaded 80/80 files from test Fear\n",
      "\n",
      "Emotion: Disgust\n",
      "Loaded 80/80 files from test Disgust\n",
      "\n",
      "Set np.asarray(targets)\n",
      "Set np.asarray(img)\n",
      "Set tf.keras.utils.to_categorical(target_test)\n",
      "(480, 389, 515, 3)\n",
      "(480, 6)\n"
     ]
    }
   ],
   "source": [
    "data_train = []\n",
    "data_val = []\n",
    "target_train = []\n",
    "target_val = []\n",
    "\n",
    "targets = []\n",
    "img = []\n",
    "\n",
    "data_test, target_test_to_categorical = get_test_data(path_test)"
   ]
  },
  {
   "cell_type": "code",
   "execution_count": 13,
   "id": "abeaaa7d-a71c-491c-84f7-53d8a5750987",
   "metadata": {},
   "outputs": [
    {
     "name": "stdout",
     "output_type": "stream",
     "text": [
      "480/480 [==============================] - 11s 22ms/step - loss: 4.0311 - accuracy: 0.9917\n",
      "test loss, test acc: [4.031081676483154, 0.9916666746139526]\n"
     ]
    }
   ],
   "source": [
    "model.load_weights(filepath=filepath)\n",
    "    \n",
    "results = model.evaluate(data_test, target_test_to_categorical, batch_size=1)\n",
    "print(\"test loss, test acc:\", results)"
   ]
  },
  {
   "cell_type": "code",
   "execution_count": null,
   "id": "ac5484d4-9eda-4d0a-9c9f-7ee8a6b8dd2a",
   "metadata": {},
   "outputs": [],
   "source": []
  }
 ],
 "metadata": {
  "kernelspec": {
   "display_name": "tf_metal",
   "language": "python",
   "name": "tf_metal"
  },
  "language_info": {
   "codemirror_mode": {
    "name": "ipython",
    "version": 3
   },
   "file_extension": ".py",
   "mimetype": "text/x-python",
   "name": "python",
   "nbconvert_exporter": "python",
   "pygments_lexer": "ipython3",
   "version": "3.10.14"
  }
 },
 "nbformat": 4,
 "nbformat_minor": 5
}
