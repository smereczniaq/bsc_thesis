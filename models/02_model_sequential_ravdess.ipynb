{
 "cells": [
  {
   "cell_type": "markdown",
   "id": "5cf1d3d7-0d6f-4476-909d-a795a4a43657",
   "metadata": {},
   "source": [
    "# Import bibliotek"
   ]
  },
  {
   "cell_type": "code",
   "execution_count": 1,
   "id": "0fccc2e4-9049-419d-9078-bec173cd162a",
   "metadata": {},
   "outputs": [],
   "source": [
    "import os\n",
    "import numpy as np\n",
    "from PIL import Image\n",
    "from sklearn.model_selection import train_test_split\n",
    "import tensorflow as tf\n",
    "from tensorflow.keras import layers, models, activations\n",
    "from tensorflow.python.keras.callbacks import ModelCheckpoint\n",
    "import torch"
   ]
  },
  {
   "cell_type": "code",
   "execution_count": 2,
   "id": "9274775a-f0da-4fb1-8b1f-0f6eb6d28d97",
   "metadata": {},
   "outputs": [
    {
     "name": "stdout",
     "output_type": "stream",
     "text": [
      "Name: /physical_device:CPU:0   Type: CPU\n",
      "Name: /physical_device:GPU:0   Type: GPU\n"
     ]
    }
   ],
   "source": [
    "gpus = tf.config.list_physical_devices()\n",
    "for gpu in gpus:\n",
    "    print(\"Name:\", gpu.name, \"  Type:\", gpu.device_type)"
   ]
  },
  {
   "cell_type": "markdown",
   "id": "bfbbee11-b8ef-4bbc-95ad-6991818b3976",
   "metadata": {},
   "source": [
    "# Zmienne"
   ]
  },
  {
   "cell_type": "code",
   "execution_count": 3,
   "id": "fee89828-5f5e-456f-ab08-fbb979870dd2",
   "metadata": {},
   "outputs": [],
   "source": [
    "SPECTROGRAM = False\n",
    "classes = [\"Anger\", \"Happy\", \"Neutral\", \"Sad\", \"Fear\", \"Disgust\"]"
   ]
  },
  {
   "cell_type": "code",
   "execution_count": 4,
   "id": "3548011c-6f6a-4cbf-9a3f-b5398ea5d317",
   "metadata": {},
   "outputs": [],
   "source": [
    "if SPECTROGRAM:\n",
    "    path_train = \"../data/spectrograms/divided/Ravdess/train\"\n",
    "    path_test = \"../data/spectrograms/divided/Ravdess/test\"\n",
    "    log_directory = \"../tests/logs/TensorBoard/spec_ravdess\"\n",
    "    filepath = \"../tests/logs/SavedModels/spec_ravdess.h5\"\n",
    "\n",
    "else:\n",
    "    path_train = \"../data/melspectrograms/divided/Ravdess/train\"\n",
    "    path_test = \"../data/melspectrograms/divided/Ravdess/test\"\n",
    "    log_directory = \"../tests/logs/TensorBoard/melspec_ravdess\"\n",
    "    filepath = \"../tests/logs/SavedModels/melspec_ravdess.h5\""
   ]
  },
  {
   "cell_type": "code",
   "execution_count": 5,
   "id": "a986c223-5325-4c74-9978-12801794e0dd",
   "metadata": {},
   "outputs": [],
   "source": [
    "def get_train_data(train_data_path):\n",
    "    \"\"\"\n",
    "    Loads train data from all datasets\n",
    "\n",
    "    Returns:\n",
    "        data_train - training samples\n",
    "        data_val - validation samples\n",
    "        target_train - training targets\n",
    "        target_val - validation targets\n",
    "        \n",
    "    \"\"\"\n",
    "    class_number = 0\n",
    "    targets = []\n",
    "    img = []\n",
    "\n",
    "    for current_folder in classes:\n",
    "        print(f\"Emotion: {current_folder}\")\n",
    "        emotion_folder = f\"{train_data_path}/{current_folder}\"\n",
    "        for i, file_name in enumerate(os.listdir(emotion_folder)):\n",
    "            file_path = f\"{emotion_folder}/{file_name}\"\n",
    "            targets.append(class_number)\n",
    "            img.append(np.array(Image.open(file_path).convert('RGB'))/255)\n",
    "            print(f\"Loaded {i+1}/{len(os.listdir(emotion_folder))} files from train {current_folder}\", end=\"\\r\")\n",
    "        print(\"\\n\")\n",
    "        class_number += 1\n",
    "\n",
    "    \n",
    "    targets_array = np.asarray(targets)\n",
    "    print(\"Set np.asarray(targets)\")\n",
    "    targets = []\n",
    "    img_array = np.asarray(img)\n",
    "    print(\"Set np.asarray(img)\")\n",
    "    img = []\n",
    "\n",
    "    targets_array = tf.keras.utils.to_categorical(targets_array)\n",
    "    print(\"Set tf.keras.utils.to_categorical(targets_array)\")\n",
    "    \n",
    "    data_train, data_val, target_train, target_val = train_test_split(img_array, targets_array, test_size=0.25, random_state=0)\n",
    "    print(\"Splitted to train/val datasets\")\n",
    "    \n",
    "    print(\"shapes\")\n",
    "    print(data_train.shape)\n",
    "    print(target_train.shape)\n",
    "    print(data_val.shape)\n",
    "    print(target_val.shape)\n",
    "\n",
    "    return data_train, data_val, target_train, target_val"
   ]
  },
  {
   "cell_type": "code",
   "execution_count": 6,
   "id": "401bf4d4-1edd-4b63-bfcc-ad8c328eb223",
   "metadata": {},
   "outputs": [],
   "source": [
    "def get_test_data(test_data_path):\n",
    "    \"\"\"\n",
    "    Loads test data from all datasets\n",
    "\n",
    "    Returns:\n",
    "        data_test - test samples\n",
    "        target_test_to_categorical - test targets\n",
    "        \n",
    "    \"\"\"\n",
    "    class_number = 0\n",
    "    targets = []\n",
    "    img = []\n",
    "\n",
    "    for current_folder in classes:\n",
    "        print(f\"Emotion: {current_folder}\")\n",
    "        emotion_folder = f\"{test_data_path}/{current_folder}\"\n",
    "        for i, file_name in enumerate(os.listdir(emotion_folder)):\n",
    "            file_path = f\"{emotion_folder}/{file_name}\"\n",
    "            targets.append(class_number)\n",
    "            img.append(np.array(Image.open(file_path).convert('RGB'))/255)\n",
    "            print(f\"Loaded {i+1}/{len(os.listdir(emotion_folder))} files from test {current_folder}\", end=\"\\r\")\n",
    "        print(\"\\n\")\n",
    "        class_number += 1\n",
    "\n",
    "    target_test = np.asarray(targets)\n",
    "    print(\"Set np.asarray(targets)\")\n",
    "    targets = []\n",
    "    data_test = np.asarray(img)\n",
    "    print(\"Set np.asarray(img)\")\n",
    "    img = []\n",
    "    \n",
    "    target_test_to_categorical = tf.keras.utils.to_categorical(target_test)\n",
    "    print(\"Set tf.keras.utils.to_categorical(target_test)\")\n",
    "\n",
    "    print(data_test.shape)\n",
    "    print(target_test_to_categorical.shape)\n",
    "\n",
    "    return data_test, target_test_to_categorical"
   ]
  },
  {
   "cell_type": "code",
   "execution_count": 7,
   "id": "688c3312-8928-4a1b-8240-87b469922e4e",
   "metadata": {},
   "outputs": [],
   "source": [
    "# MODEL SHEDULER\n",
    "def scheduler(epoch, lr):\n",
    "    if epoch < 15:\n",
    "        eta = lr\n",
    "    else:\n",
    "        eta = lr - 0.00001\n",
    "    if lr < 0.00005:\n",
    "        eta = 0.00005\n",
    "\n",
    "    return eta"
   ]
  },
  {
   "cell_type": "code",
   "execution_count": 8,
   "id": "c090b0ca-a0e2-448d-9175-289595954c54",
   "metadata": {},
   "outputs": [
    {
     "name": "stdout",
     "output_type": "stream",
     "text": [
      "Emotion: Anger\n",
      "Loaded 153/153 files from train Anger\n",
      "\n",
      "Emotion: Happy\n",
      "Loaded 153/153 files from train Happy\n",
      "\n",
      "Emotion: Neutral\n",
      "Loaded 77/77 files from train Neutral\n",
      "\n",
      "Emotion: Sad\n",
      "Loaded 154/154 files from train Sad\n",
      "\n",
      "Emotion: Fear\n",
      "Loaded 153/153 files from train Fear\n",
      "\n",
      "Emotion: Disgust\n",
      "Loaded 154/154 files from train Disgust\n",
      "\n",
      "Set np.asarray(targets)\n",
      "Set np.asarray(img)\n",
      "Set tf.keras.utils.to_categorical(targets_array)\n",
      "Splitted to train/val datasets\n",
      "shapes\n",
      "(633, 389, 515, 3)\n",
      "(633, 6)\n",
      "(211, 389, 515, 3)\n",
      "(211, 6)\n"
     ]
    }
   ],
   "source": [
    "data_train, data_val, target_train, target_val = get_train_data(path_train)"
   ]
  },
  {
   "cell_type": "code",
   "execution_count": 9,
   "id": "7e272907-c01e-4891-ad8e-9053178ea87f",
   "metadata": {},
   "outputs": [
    {
     "name": "stdout",
     "output_type": "stream",
     "text": [
      "Model: \"sequential\"\n",
      "_________________________________________________________________\n",
      " Layer (type)                Output Shape              Param #   \n",
      "=================================================================\n",
      " conv2d (Conv2D)             (None, 389, 515, 75)      5700      \n",
      "                                                                 \n",
      " max_pooling2d (MaxPooling2D  (None, 129, 171, 75)     0         \n",
      " )                                                               \n",
      "                                                                 \n",
      " conv2d_1 (Conv2D)           (None, 129, 171, 135)     253260    \n",
      "                                                                 \n",
      " max_pooling2d_1 (MaxPooling  (None, 43, 57, 135)      0         \n",
      " 2D)                                                             \n",
      "                                                                 \n",
      " dropout (Dropout)           (None, 43, 57, 135)       0         \n",
      "                                                                 \n",
      " conv2d_2 (Conv2D)           (None, 43, 57, 75)        253200    \n",
      "                                                                 \n",
      " max_pooling2d_2 (MaxPooling  (None, 14, 19, 75)       0         \n",
      " 2D)                                                             \n",
      "                                                                 \n",
      " dropout_1 (Dropout)         (None, 14, 19, 75)        0         \n",
      "                                                                 \n",
      " flatten (Flatten)           (None, 19950)             0         \n",
      "                                                                 \n",
      " dense (Dense)               (None, 45)                897795    \n",
      "                                                                 \n",
      " dropout_2 (Dropout)         (None, 45)                0         \n",
      "                                                                 \n",
      " dense_1 (Dense)             (None, 6)                 276       \n",
      "                                                                 \n",
      "=================================================================\n",
      "Total params: 1,410,231\n",
      "Trainable params: 1,410,231\n",
      "Non-trainable params: 0\n",
      "_________________________________________________________________\n"
     ]
    }
   ],
   "source": [
    "# MODEL SHEDULER\n",
    "scheduler_callback = tf.keras.callbacks.LearningRateScheduler(scheduler)\n",
    "\n",
    "# TENSORBOARD\n",
    "tensorboard_callback = tf.keras.callbacks.TensorBoard(log_dir=log_directory)\n",
    "\n",
    "# SAVE MODEL \n",
    "checkpoint = ModelCheckpoint(filepath,\n",
    "                             monitor='val_loss', \n",
    "                             verbose=1,\n",
    "                             save_best_only=True,\n",
    "                             mode='min')\n",
    "\n",
    "\n",
    "model = models.Sequential()\n",
    "model.add(layers.Conv2D(75, (5, 5), activation='relu', input_shape=(389, 515, 3), padding='same'))\n",
    "model.add(layers.MaxPooling2D((3, 3)))\n",
    "model.add(layers.Conv2D(135, (5, 5), activation='relu', padding='same'))\n",
    "model.add(layers.MaxPooling2D((3, 3)))\n",
    "model.add(layers.Dropout(0.15))\n",
    "model.add(layers.Conv2D(75, (5, 5), activation='relu', padding='same'))\n",
    "model.add(layers.MaxPooling2D((3, 3)))\n",
    "model.add(layers.Dropout(0.25))\n",
    "model.add(layers.Flatten()) \n",
    "model.add(layers.Dense(45, activation='relu'))\n",
    "model.add(layers.Dropout(0.2))\n",
    "# model.add(layers.Dense(40, activation='relu'))\n",
    "# model.add(layers.Dropout(0.3))\n",
    "model.add(layers.Dense(6, activation='softmax'))\n",
    "\n",
    "\n",
    "model.summary()"
   ]
  },
  {
   "cell_type": "code",
   "execution_count": 10,
   "id": "f4a86c22-2581-4433-a5b1-5405b78b3adb",
   "metadata": {},
   "outputs": [],
   "source": [
    "# MODEL COMPILE \n",
    "model.compile(optimizer='adam',\n",
    "            loss='categorical_crossentropy',\n",
    "            metrics=['accuracy'])"
   ]
  },
  {
   "cell_type": "code",
   "execution_count": 11,
   "id": "9a0fac85-4b72-4cc2-8312-44f96430695f",
   "metadata": {},
   "outputs": [
    {
     "name": "stdout",
     "output_type": "stream",
     "text": [
      "Epoch 1/20\n"
     ]
    },
    {
     "name": "stderr",
     "output_type": "stream",
     "text": [
      "2024-10-29 14:08:02.983386: W tensorflow/tsl/platform/profile_utils/cpu_utils.cc:128] Failed to get CPU frequency: 0 Hz\n"
     ]
    },
    {
     "name": "stdout",
     "output_type": "stream",
     "text": [
      "20/20 [==============================] - ETA: 0s - loss: 1.8525 - accuracy: 0.1785\n",
      "Epoch 00001: val_loss improved from inf to 1.75254, saving model to ../tests/logs/SavedModels/melspec_ravdess.h5\n",
      "20/20 [==============================] - 78s 4s/step - loss: 1.8525 - accuracy: 0.1785 - val_loss: 1.7525 - val_accuracy: 0.1611\n",
      "Epoch 2/20\n",
      "20/20 [==============================] - ETA: 0s - loss: 1.7538 - accuracy: 0.2148\n",
      "Epoch 00002: val_loss improved from 1.75254 to 1.72478, saving model to ../tests/logs/SavedModels/melspec_ravdess.h5\n",
      "20/20 [==============================] - 75s 4s/step - loss: 1.7538 - accuracy: 0.2148 - val_loss: 1.7248 - val_accuracy: 0.3033\n",
      "Epoch 3/20\n",
      "20/20 [==============================] - ETA: 0s - loss: 1.7815 - accuracy: 0.2638\n",
      "Epoch 00003: val_loss improved from 1.72478 to 1.62138, saving model to ../tests/logs/SavedModels/melspec_ravdess.h5\n",
      "20/20 [==============================] - 67s 3s/step - loss: 1.7815 - accuracy: 0.2638 - val_loss: 1.6214 - val_accuracy: 0.3460\n",
      "Epoch 4/20\n",
      "20/20 [==============================] - ETA: 0s - loss: 1.7127 - accuracy: 0.2859\n",
      "Epoch 00004: val_loss improved from 1.62138 to 1.53299, saving model to ../tests/logs/SavedModels/melspec_ravdess.h5\n",
      "20/20 [==============================] - 62s 3s/step - loss: 1.7127 - accuracy: 0.2859 - val_loss: 1.5330 - val_accuracy: 0.3175\n",
      "Epoch 5/20\n",
      "20/20 [==============================] - ETA: 0s - loss: 1.6536 - accuracy: 0.3144\n",
      "Epoch 00005: val_loss improved from 1.53299 to 1.46158, saving model to ../tests/logs/SavedModels/melspec_ravdess.h5\n",
      "20/20 [==============================] - 71s 3s/step - loss: 1.6536 - accuracy: 0.3144 - val_loss: 1.4616 - val_accuracy: 0.3839\n",
      "Epoch 6/20\n",
      "20/20 [==============================] - ETA: 0s - loss: 1.5524 - accuracy: 0.3744\n",
      "Epoch 00006: val_loss improved from 1.46158 to 1.45525, saving model to ../tests/logs/SavedModels/melspec_ravdess.h5\n",
      "20/20 [==============================] - 70s 4s/step - loss: 1.5524 - accuracy: 0.3744 - val_loss: 1.4553 - val_accuracy: 0.3934\n",
      "Epoch 7/20\n",
      "20/20 [==============================] - ETA: 0s - loss: 1.4899 - accuracy: 0.3949\n",
      "Epoch 00007: val_loss improved from 1.45525 to 1.35017, saving model to ../tests/logs/SavedModels/melspec_ravdess.h5\n",
      "20/20 [==============================] - 75s 4s/step - loss: 1.4899 - accuracy: 0.3949 - val_loss: 1.3502 - val_accuracy: 0.4787\n",
      "Epoch 8/20\n",
      " 1/20 [>.............................] - ETA: 56s - loss: 1.5469 - accuracy: 0.3438"
     ]
    },
    {
     "name": "stderr",
     "output_type": "stream",
     "text": [
      "Error: command buffer exited with error status.\n",
      "\tThe Metal Performance Shaders operations encoded on it may not have completed.\n",
      "\tError: \n",
      "\t(null)\n",
      "\tInternal Error (0000000e:Internal Error)\n",
      "\t<AGXG13XFamilyCommandBuffer: 0x34c7ad850>\n",
      "    label = <none> \n",
      "    device = <AGXG13XDevice: 0x13aee9000>\n",
      "        name = Apple M1 Pro \n",
      "    commandQueue = <AGXG13XFamilyCommandQueue: 0x104248200>\n",
      "        label = <none> \n",
      "        device = <AGXG13XDevice: 0x13aee9000>\n",
      "            name = Apple M1 Pro \n",
      "    retainedReferences = 1\n"
     ]
    },
    {
     "name": "stdout",
     "output_type": "stream",
     "text": [
      "20/20 [==============================] - ETA: 0s - loss: 1.4345 - accuracy: 0.4408\n",
      "Epoch 00008: val_loss did not improve from 1.35017\n",
      "20/20 [==============================] - 73s 4s/step - loss: 1.4345 - accuracy: 0.4408 - val_loss: 1.3584 - val_accuracy: 0.5166\n",
      "Epoch 9/20\n",
      "20/20 [==============================] - ETA: 0s - loss: 1.3249 - accuracy: 0.4771\n",
      "Epoch 00009: val_loss improved from 1.35017 to 1.25794, saving model to ../tests/logs/SavedModels/melspec_ravdess.h5\n",
      "20/20 [==============================] - 46s 2s/step - loss: 1.3249 - accuracy: 0.4771 - val_loss: 1.2579 - val_accuracy: 0.5024\n",
      "Epoch 10/20\n",
      "20/20 [==============================] - ETA: 0s - loss: 1.3168 - accuracy: 0.4803\n",
      "Epoch 00010: val_loss improved from 1.25794 to 1.18220, saving model to ../tests/logs/SavedModels/melspec_ravdess.h5\n",
      "20/20 [==============================] - 37s 2s/step - loss: 1.3168 - accuracy: 0.4803 - val_loss: 1.1822 - val_accuracy: 0.5403\n",
      "Epoch 11/20\n",
      "20/20 [==============================] - ETA: 0s - loss: 1.2530 - accuracy: 0.5008\n",
      "Epoch 00011: val_loss did not improve from 1.18220\n",
      "20/20 [==============================] - 37s 2s/step - loss: 1.2530 - accuracy: 0.5008 - val_loss: 1.2605 - val_accuracy: 0.5024\n",
      "Epoch 12/20\n",
      "20/20 [==============================] - ETA: 0s - loss: 1.2565 - accuracy: 0.4976\n",
      "Epoch 00012: val_loss improved from 1.18220 to 1.14912, saving model to ../tests/logs/SavedModels/melspec_ravdess.h5\n",
      "20/20 [==============================] - 37s 2s/step - loss: 1.2565 - accuracy: 0.4976 - val_loss: 1.1491 - val_accuracy: 0.5592\n",
      "Epoch 13/20\n",
      "20/20 [==============================] - ETA: 0s - loss: 1.0435 - accuracy: 0.5766\n",
      "Epoch 00013: val_loss did not improve from 1.14912\n",
      "20/20 [==============================] - 37s 2s/step - loss: 1.0435 - accuracy: 0.5766 - val_loss: 1.2390 - val_accuracy: 0.5118\n",
      "Epoch 14/20\n",
      "20/20 [==============================] - ETA: 0s - loss: 1.1156 - accuracy: 0.5656\n",
      "Epoch 00014: val_loss improved from 1.14912 to 1.12154, saving model to ../tests/logs/SavedModels/melspec_ravdess.h5\n",
      "20/20 [==============================] - 37s 2s/step - loss: 1.1156 - accuracy: 0.5656 - val_loss: 1.1215 - val_accuracy: 0.5498\n",
      "Epoch 15/20\n",
      "20/20 [==============================] - ETA: 0s - loss: 0.9504 - accuracy: 0.6272\n",
      "Epoch 00015: val_loss did not improve from 1.12154\n",
      "20/20 [==============================] - 37s 2s/step - loss: 0.9504 - accuracy: 0.6272 - val_loss: 1.1908 - val_accuracy: 0.5545\n",
      "Epoch 16/20\n",
      "20/20 [==============================] - ETA: 0s - loss: 0.9862 - accuracy: 0.6224\n",
      "Epoch 00016: val_loss improved from 1.12154 to 1.05838, saving model to ../tests/logs/SavedModels/melspec_ravdess.h5\n",
      "20/20 [==============================] - 37s 2s/step - loss: 0.9862 - accuracy: 0.6224 - val_loss: 1.0584 - val_accuracy: 0.6114\n",
      "Epoch 17/20\n",
      "20/20 [==============================] - ETA: 0s - loss: 0.9029 - accuracy: 0.6382\n",
      "Epoch 00017: val_loss did not improve from 1.05838\n",
      "20/20 [==============================] - 37s 2s/step - loss: 0.9029 - accuracy: 0.6382 - val_loss: 1.2519 - val_accuracy: 0.5592\n",
      "Epoch 18/20\n",
      "20/20 [==============================] - ETA: 0s - loss: 0.8719 - accuracy: 0.6714\n",
      "Epoch 00018: val_loss did not improve from 1.05838\n",
      "20/20 [==============================] - 37s 2s/step - loss: 0.8719 - accuracy: 0.6714 - val_loss: 1.0641 - val_accuracy: 0.6209\n",
      "Epoch 19/20\n",
      "20/20 [==============================] - ETA: 0s - loss: 0.8115 - accuracy: 0.7141\n",
      "Epoch 00019: val_loss did not improve from 1.05838\n",
      "20/20 [==============================] - 37s 2s/step - loss: 0.8115 - accuracy: 0.7141 - val_loss: 1.1291 - val_accuracy: 0.5829\n",
      "Epoch 20/20\n",
      "20/20 [==============================] - ETA: 0s - loss: 0.7765 - accuracy: 0.6793\n",
      "Epoch 00020: val_loss did not improve from 1.05838\n",
      "20/20 [==============================] - 37s 2s/step - loss: 0.7765 - accuracy: 0.6793 - val_loss: 1.1441 - val_accuracy: 0.6019\n"
     ]
    }
   ],
   "source": [
    "# MODEL FIT \n",
    "history = model.fit(data_train,\n",
    "                    target_train,\n",
    "                    epochs=20,\n",
    "                    shuffle=True,\n",
    "                    validation_data=(data_val, target_val),\n",
    "                    callbacks=[tensorboard_callback, checkpoint])"
   ]
  },
  {
   "cell_type": "code",
   "execution_count": 12,
   "id": "46d0cb2b-02dc-4402-a42e-23b4f7c2cfc3",
   "metadata": {},
   "outputs": [
    {
     "name": "stdout",
     "output_type": "stream",
     "text": [
      "Emotion: Anger\n",
      "Loaded 39/39 files from test Anger\n",
      "\n",
      "Emotion: Happy\n",
      "Loaded 39/39 files from test Happy\n",
      "\n",
      "Emotion: Neutral\n",
      "Loaded 19/19 files from test Neutral\n",
      "\n",
      "Emotion: Sad\n",
      "Loaded 38/38 files from test Sad\n",
      "\n",
      "Emotion: Fear\n",
      "Loaded 39/39 files from test Fear\n",
      "\n",
      "Emotion: Disgust\n",
      "Loaded 38/38 files from test Disgust\n",
      "\n",
      "Set np.asarray(targets)\n",
      "Set np.asarray(img)\n",
      "Set tf.keras.utils.to_categorical(target_test)\n",
      "(212, 389, 515, 3)\n",
      "(212, 6)\n"
     ]
    }
   ],
   "source": [
    "data_train = []\n",
    "data_val = []\n",
    "target_train = []\n",
    "target_val = []\n",
    "\n",
    "targets = []\n",
    "img = []\n",
    "\n",
    "data_test, target_test_to_categorical = get_test_data(path_test)"
   ]
  },
  {
   "cell_type": "code",
   "execution_count": 13,
   "id": "abeaaa7d-a71c-491c-84f7-53d8a5750987",
   "metadata": {},
   "outputs": [
    {
     "name": "stdout",
     "output_type": "stream",
     "text": [
      "212/212 [==============================] - 5s 22ms/step - loss: 1.1894 - accuracy: 0.5708\n",
      "test loss, test acc: [1.1894479990005493, 0.5707547068595886]\n"
     ]
    }
   ],
   "source": [
    "model.load_weights(filepath=filepath)\n",
    "    \n",
    "results = model.evaluate(data_test, target_test_to_categorical, batch_size=1)\n",
    "print(\"test loss, test acc:\", results)"
   ]
  },
  {
   "cell_type": "code",
   "execution_count": null,
   "id": "700d1e51-d2ec-4feb-ba1b-1f1b86eb66d6",
   "metadata": {},
   "outputs": [],
   "source": []
  }
 ],
 "metadata": {
  "kernelspec": {
   "display_name": "tf_metal",
   "language": "python",
   "name": "tf_metal"
  },
  "language_info": {
   "codemirror_mode": {
    "name": "ipython",
    "version": 3
   },
   "file_extension": ".py",
   "mimetype": "text/x-python",
   "name": "python",
   "nbconvert_exporter": "python",
   "pygments_lexer": "ipython3",
   "version": "3.10.14"
  }
 },
 "nbformat": 4,
 "nbformat_minor": 5
}
