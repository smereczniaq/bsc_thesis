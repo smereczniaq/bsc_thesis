{
 "cells": [
  {
   "cell_type": "markdown",
   "id": "5cf1d3d7-0d6f-4476-909d-a795a4a43657",
   "metadata": {},
   "source": [
    "# Import bibliotek"
   ]
  },
  {
   "cell_type": "code",
   "execution_count": 1,
   "id": "0fccc2e4-9049-419d-9078-bec173cd162a",
   "metadata": {},
   "outputs": [],
   "source": [
    "import os\n",
    "import numpy as np\n",
    "from PIL import Image\n",
    "from sklearn.model_selection import train_test_split\n",
    "import tensorflow as tf\n",
    "from tensorflow.keras import layers, models, activations\n",
    "from tensorflow.python.keras.callbacks import ModelCheckpoint\n",
    "import torch"
   ]
  },
  {
   "cell_type": "code",
   "execution_count": 2,
   "id": "9274775a-f0da-4fb1-8b1f-0f6eb6d28d97",
   "metadata": {},
   "outputs": [
    {
     "name": "stdout",
     "output_type": "stream",
     "text": [
      "Name: /physical_device:CPU:0   Type: CPU\n",
      "Name: /physical_device:GPU:0   Type: GPU\n"
     ]
    }
   ],
   "source": [
    "gpus = tf.config.list_physical_devices()\n",
    "for gpu in gpus:\n",
    "    print(\"Name:\", gpu.name, \"  Type:\", gpu.device_type)"
   ]
  },
  {
   "cell_type": "markdown",
   "id": "bfbbee11-b8ef-4bbc-95ad-6991818b3976",
   "metadata": {},
   "source": [
    "# Zmienne"
   ]
  },
  {
   "cell_type": "code",
   "execution_count": 3,
   "id": "2d46af4c-f6ff-405f-b4af-00b1cf185b15",
   "metadata": {
    "editable": true,
    "slideshow": {
     "slide_type": ""
    },
    "tags": []
   },
   "outputs": [],
   "source": [
    "SPECTROGRAM = False\n",
    "classes = [\"Anger\", \"Happy\", \"Neutral\", \"Sad\", \"Fear\", \"Disgust\"]"
   ]
  },
  {
   "cell_type": "code",
   "execution_count": 4,
   "id": "3548011c-6f6a-4cbf-9a3f-b5398ea5d317",
   "metadata": {},
   "outputs": [],
   "source": [
    "if SPECTROGRAM:\n",
    "    path_train = \"../data/spectrograms/divided/Crema/train\"\n",
    "    path_test = \"../data/spectrograms/divided/Crema/test\"\n",
    "    log_directory = \"../tests/logs/TensorBoard/spec_crema\"\n",
    "    filepath = \"../tests/logs/SavedModels/spec_crema.h5\"\n",
    "\n",
    "else:\n",
    "    path_train = \"../data/melspectrograms/divided/Crema/train\"\n",
    "    path_test = \"../data/melspectrograms/divided/Crema/test\"\n",
    "    log_directory = \"../tests/logs/TensorBoard/melspec_crema\"\n",
    "    filepath = \"../tests/logs/SavedModels/melspec_crema.h5\""
   ]
  },
  {
   "cell_type": "code",
   "execution_count": 5,
   "id": "a986c223-5325-4c74-9978-12801794e0dd",
   "metadata": {},
   "outputs": [],
   "source": [
    "def get_train_data(train_data_path):\n",
    "    \"\"\"\n",
    "    Loads train data from all datasets\n",
    "\n",
    "    Returns:\n",
    "        data_train - training samples\n",
    "        data_val - validation samples\n",
    "        target_train - training targets\n",
    "        target_val - validation targets\n",
    "        \n",
    "    \"\"\"\n",
    "    class_number = 0\n",
    "    targets = []\n",
    "    img = []\n",
    "\n",
    "    for current_folder in classes:\n",
    "        print(f\"Emotion: {current_folder}\")\n",
    "        emotion_folder = f\"{train_data_path}/{current_folder}\"\n",
    "        for i, file_name in enumerate(os.listdir(emotion_folder)):\n",
    "            file_path = f\"{emotion_folder}/{file_name}\"\n",
    "            targets.append(class_number)\n",
    "            img.append(np.array(Image.open(file_path).convert('RGB'))/255)\n",
    "            print(f\"Loaded {i+1}/{len(os.listdir(emotion_folder))} files from train {current_folder}\", end=\"\\r\")\n",
    "        print(\"\\n\")\n",
    "        class_number += 1\n",
    "\n",
    "    \n",
    "    targets_array = np.asarray(targets)\n",
    "    print(\"Set np.asarray(targets)\")\n",
    "    targets = []\n",
    "    img_array = np.asarray(img)\n",
    "    print(\"Set np.asarray(img)\")\n",
    "    img = []\n",
    "\n",
    "    targets_array = tf.keras.utils.to_categorical(targets_array)\n",
    "    print(\"Set tf.keras.utils.to_categorical(targets_array)\")\n",
    "    \n",
    "    data_train, data_val, target_train, target_val = train_test_split(img_array, targets_array, test_size=0.25, random_state=0)\n",
    "    print(\"Splitted to train/val datasets\")\n",
    "    \n",
    "    print(\"shapes\")\n",
    "    print(data_train.shape)\n",
    "    print(target_train.shape)\n",
    "    print(data_val.shape)\n",
    "    print(target_val.shape)\n",
    "\n",
    "    return data_train, data_val, target_train, target_val"
   ]
  },
  {
   "cell_type": "code",
   "execution_count": 6,
   "id": "401bf4d4-1edd-4b63-bfcc-ad8c328eb223",
   "metadata": {},
   "outputs": [],
   "source": [
    "def get_test_data(test_data_path):\n",
    "    \"\"\"\n",
    "    Loads test data from all datasets\n",
    "\n",
    "    Returns:\n",
    "        data_test - test samples\n",
    "        target_test_to_categorical - test targets\n",
    "        \n",
    "    \"\"\"\n",
    "    class_number = 0\n",
    "    targets = []\n",
    "    img = []\n",
    "\n",
    "    for current_folder in classes:\n",
    "        print(f\"Emotion: {current_folder}\")\n",
    "        emotion_folder = f\"{test_data_path}/{current_folder}\"\n",
    "        for i, file_name in enumerate(os.listdir(emotion_folder)):\n",
    "            file_path = f\"{emotion_folder}/{file_name}\"\n",
    "            targets.append(class_number)\n",
    "            img.append(np.array(Image.open(file_path).convert('RGB'))/255)\n",
    "            print(f\"Loaded {i+1}/{len(os.listdir(emotion_folder))} files from test {current_folder}\", end=\"\\r\")\n",
    "        print(\"\\n\")\n",
    "        class_number += 1\n",
    "\n",
    "    target_test = np.asarray(targets)\n",
    "    print(\"Set np.asarray(targets)\")\n",
    "    targets = []\n",
    "    data_test = np.asarray(img)\n",
    "    print(\"Set np.asarray(img)\")\n",
    "    img = []\n",
    "    \n",
    "    target_test_to_categorical = tf.keras.utils.to_categorical(target_test)\n",
    "    print(\"Set tf.keras.utils.to_categorical(target_test)\")\n",
    "\n",
    "    print(data_test.shape)\n",
    "    print(target_test_to_categorical.shape)\n",
    "\n",
    "    return data_test, target_test_to_categorical"
   ]
  },
  {
   "cell_type": "code",
   "execution_count": 7,
   "id": "688c3312-8928-4a1b-8240-87b469922e4e",
   "metadata": {},
   "outputs": [],
   "source": [
    "# MODEL SHEDULER\n",
    "def scheduler(epoch, lr):\n",
    "    if epoch < 15:\n",
    "        eta = lr\n",
    "    else:\n",
    "        eta = lr - 0.00001\n",
    "    if lr < 0.00005:\n",
    "        eta = 0.00005\n",
    "\n",
    "    return eta"
   ]
  },
  {
   "cell_type": "code",
   "execution_count": 8,
   "id": "c090b0ca-a0e2-448d-9175-289595954c54",
   "metadata": {},
   "outputs": [
    {
     "name": "stdout",
     "output_type": "stream",
     "text": [
      "Emotion: Anger\n",
      "Loaded 1017/1017 files from train Anger\n",
      "\n",
      "Emotion: Happy\n",
      "Loaded 1016/1016 files from train Happy\n",
      "\n",
      "Emotion: Neutral\n",
      "Loaded 869/869 files from train Neutral\n",
      "\n",
      "Emotion: Sad\n",
      "Loaded 1017/1017 files from train Sad\n",
      "\n",
      "Emotion: Fear\n",
      "Loaded 1017/1017 files from train Fear\n",
      "\n",
      "Emotion: Disgust\n",
      "Loaded 1017/1017 files from train Disgust\n",
      "\n",
      "Set np.asarray(targets)\n",
      "Set np.asarray(img)\n",
      "Set tf.keras.utils.to_categorical(targets_array)\n",
      "Splitted to train/val datasets\n",
      "shapes\n",
      "(4464, 389, 515, 3)\n",
      "(4464, 6)\n",
      "(1489, 389, 515, 3)\n",
      "(1489, 6)\n"
     ]
    }
   ],
   "source": [
    "data_train, data_val, target_train, target_val = get_train_data(path_train)"
   ]
  },
  {
   "cell_type": "code",
   "execution_count": 9,
   "id": "7e272907-c01e-4891-ad8e-9053178ea87f",
   "metadata": {},
   "outputs": [
    {
     "name": "stdout",
     "output_type": "stream",
     "text": [
      "Model: \"sequential\"\n",
      "_________________________________________________________________\n",
      " Layer (type)                Output Shape              Param #   \n",
      "=================================================================\n",
      " conv2d (Conv2D)             (None, 389, 515, 75)      5700      \n",
      "                                                                 \n",
      " max_pooling2d (MaxPooling2D  (None, 129, 171, 75)     0         \n",
      " )                                                               \n",
      "                                                                 \n",
      " conv2d_1 (Conv2D)           (None, 129, 171, 135)     253260    \n",
      "                                                                 \n",
      " max_pooling2d_1 (MaxPooling  (None, 43, 57, 135)      0         \n",
      " 2D)                                                             \n",
      "                                                                 \n",
      " dropout (Dropout)           (None, 43, 57, 135)       0         \n",
      "                                                                 \n",
      " conv2d_2 (Conv2D)           (None, 43, 57, 75)        253200    \n",
      "                                                                 \n",
      " max_pooling2d_2 (MaxPooling  (None, 14, 19, 75)       0         \n",
      " 2D)                                                             \n",
      "                                                                 \n",
      " dropout_1 (Dropout)         (None, 14, 19, 75)        0         \n",
      "                                                                 \n",
      " flatten (Flatten)           (None, 19950)             0         \n",
      "                                                                 \n",
      " dense (Dense)               (None, 45)                897795    \n",
      "                                                                 \n",
      " dropout_2 (Dropout)         (None, 45)                0         \n",
      "                                                                 \n",
      " dense_1 (Dense)             (None, 6)                 276       \n",
      "                                                                 \n",
      "=================================================================\n",
      "Total params: 1,410,231\n",
      "Trainable params: 1,410,231\n",
      "Non-trainable params: 0\n",
      "_________________________________________________________________\n"
     ]
    }
   ],
   "source": [
    "# MODEL SHEDULER\n",
    "scheduler_callback = tf.keras.callbacks.LearningRateScheduler(scheduler)\n",
    "\n",
    "# TENSORBOARD\n",
    "tensorboard_callback = tf.keras.callbacks.TensorBoard(log_dir=log_directory)\n",
    "\n",
    "# SAVE MODEL \n",
    "checkpoint = ModelCheckpoint(filepath,\n",
    "                             monitor='val_loss', \n",
    "                             verbose=1,\n",
    "                             save_best_only=True,\n",
    "                             mode='min')\n",
    "\n",
    "\n",
    "model = models.Sequential()\n",
    "model.add(layers.Conv2D(75, (5, 5), activation='relu', input_shape=(389, 515, 3), padding='same'))\n",
    "model.add(layers.MaxPooling2D((3, 3)))\n",
    "model.add(layers.Conv2D(135, (5, 5), activation='relu', padding='same'))\n",
    "model.add(layers.MaxPooling2D((3, 3)))\n",
    "model.add(layers.Dropout(0.15))\n",
    "model.add(layers.Conv2D(75, (5, 5), activation='relu', padding='same'))\n",
    "model.add(layers.MaxPooling2D((3, 3)))\n",
    "model.add(layers.Dropout(0.25))\n",
    "model.add(layers.Flatten()) \n",
    "model.add(layers.Dense(45, activation='relu'))\n",
    "model.add(layers.Dropout(0.2))\n",
    "# model.add(layers.Dense(40, activation='relu'))\n",
    "# model.add(layers.Dropout(0.3))\n",
    "model.add(layers.Dense(6, activation='softmax'))\n",
    "\n",
    "\n",
    "model.summary()"
   ]
  },
  {
   "cell_type": "code",
   "execution_count": 10,
   "id": "f4a86c22-2581-4433-a5b1-5405b78b3adb",
   "metadata": {},
   "outputs": [],
   "source": [
    "# MODEL COMPILE \n",
    "model.compile(optimizer='adam',\n",
    "            loss='categorical_crossentropy',\n",
    "            metrics=['accuracy'])"
   ]
  },
  {
   "cell_type": "code",
   "execution_count": 11,
   "id": "9a0fac85-4b72-4cc2-8312-44f96430695f",
   "metadata": {},
   "outputs": [
    {
     "name": "stdout",
     "output_type": "stream",
     "text": [
      "Epoch 1/20\n"
     ]
    },
    {
     "name": "stderr",
     "output_type": "stream",
     "text": [
      "2024-10-29 16:01:38.935632: W tensorflow/tsl/platform/profile_utils/cpu_utils.cc:128] Failed to get CPU frequency: 0 Hz\n"
     ]
    },
    {
     "name": "stdout",
     "output_type": "stream",
     "text": [
      "140/140 [==============================] - ETA: 0s - loss: 1.7229 - accuracy: 0.2650\n",
      "Epoch 00001: val_loss improved from inf to 1.62569, saving model to ../tests/logs/SavedModels/melspec_crema.h5\n",
      "140/140 [==============================] - 478s 3s/step - loss: 1.7229 - accuracy: 0.2650 - val_loss: 1.6257 - val_accuracy: 0.3479\n",
      "Epoch 2/20\n",
      "140/140 [==============================] - ETA: 0s - loss: 1.6117 - accuracy: 0.3230\n",
      "Epoch 00002: val_loss improved from 1.62569 to 1.57657, saving model to ../tests/logs/SavedModels/melspec_crema.h5\n",
      "140/140 [==============================] - 285s 2s/step - loss: 1.6117 - accuracy: 0.3230 - val_loss: 1.5766 - val_accuracy: 0.3559\n",
      "Epoch 3/20\n",
      "140/140 [==============================] - ETA: 0s - loss: 1.6343 - accuracy: 0.3461\n",
      "Epoch 00003: val_loss improved from 1.57657 to 1.56889, saving model to ../tests/logs/SavedModels/melspec_crema.h5\n",
      "140/140 [==============================] - 282s 2s/step - loss: 1.6343 - accuracy: 0.3461 - val_loss: 1.5689 - val_accuracy: 0.3156\n",
      "Epoch 4/20\n",
      "140/140 [==============================] - ETA: 0s - loss: 1.9140 - accuracy: 0.3192\n",
      "Epoch 00004: val_loss improved from 1.56889 to 1.56192, saving model to ../tests/logs/SavedModels/melspec_crema.h5\n",
      "140/140 [==============================] - 282s 2s/step - loss: 1.9140 - accuracy: 0.3192 - val_loss: 1.5619 - val_accuracy: 0.2787\n",
      "Epoch 5/20\n",
      "140/140 [==============================] - ETA: 0s - loss: 2.0630 - accuracy: 0.3333\n",
      "Epoch 00005: val_loss did not improve from 1.56192\n",
      "140/140 [==============================] - 281s 2s/step - loss: 2.0630 - accuracy: 0.3333 - val_loss: 1.9546 - val_accuracy: 0.2955\n",
      "Epoch 6/20\n",
      "140/140 [==============================] - ETA: 0s - loss: 2.4940 - accuracy: 0.3349\n",
      "Epoch 00006: val_loss did not improve from 1.56192\n",
      "140/140 [==============================] - 280s 2s/step - loss: 2.4940 - accuracy: 0.3349 - val_loss: 2.1266 - val_accuracy: 0.2868\n",
      "Epoch 7/20\n",
      "140/140 [==============================] - ETA: 0s - loss: 1.6959 - accuracy: 0.3828\n",
      "Epoch 00007: val_loss did not improve from 1.56192\n",
      "140/140 [==============================] - 281s 2s/step - loss: 1.6959 - accuracy: 0.3828 - val_loss: 1.9059 - val_accuracy: 0.3230\n",
      "Epoch 8/20\n",
      "140/140 [==============================] - ETA: 0s - loss: 1.6370 - accuracy: 0.3996\n",
      "Epoch 00008: val_loss did not improve from 1.56192\n",
      "140/140 [==============================] - 281s 2s/step - loss: 1.6370 - accuracy: 0.3996 - val_loss: 1.5902 - val_accuracy: 0.3519\n",
      "Epoch 9/20\n",
      "140/140 [==============================] - ETA: 0s - loss: 1.5853 - accuracy: 0.4003\n",
      "Epoch 00009: val_loss did not improve from 1.56192\n",
      "140/140 [==============================] - 285s 2s/step - loss: 1.5853 - accuracy: 0.4003 - val_loss: 1.5716 - val_accuracy: 0.3439\n",
      "Epoch 10/20\n",
      "140/140 [==============================] - ETA: 0s - loss: 1.4762 - accuracy: 0.4187\n",
      "Epoch 00010: val_loss improved from 1.56192 to 1.45944, saving model to ../tests/logs/SavedModels/melspec_crema.h5\n",
      "140/140 [==============================] - 293s 2s/step - loss: 1.4762 - accuracy: 0.4187 - val_loss: 1.4594 - val_accuracy: 0.4157\n",
      "Epoch 11/20\n",
      "140/140 [==============================] - ETA: 0s - loss: 1.4346 - accuracy: 0.4319\n",
      "Epoch 00011: val_loss did not improve from 1.45944\n",
      "140/140 [==============================] - 291s 2s/step - loss: 1.4346 - accuracy: 0.4319 - val_loss: 1.6125 - val_accuracy: 0.3566\n",
      "Epoch 12/20\n",
      "140/140 [==============================] - ETA: 0s - loss: 1.3866 - accuracy: 0.4534\n",
      "Epoch 00012: val_loss did not improve from 1.45944\n",
      "140/140 [==============================] - 294s 2s/step - loss: 1.3866 - accuracy: 0.4534 - val_loss: 1.6054 - val_accuracy: 0.3835\n",
      "Epoch 13/20\n",
      "140/140 [==============================] - ETA: 0s - loss: 1.5681 - accuracy: 0.4247\n",
      "Epoch 00013: val_loss did not improve from 1.45944\n",
      "140/140 [==============================] - 291s 2s/step - loss: 1.5681 - accuracy: 0.4247 - val_loss: 1.5695 - val_accuracy: 0.4043\n",
      "Epoch 14/20\n",
      "140/140 [==============================] - ETA: 0s - loss: 1.3976 - accuracy: 0.4657\n",
      "Epoch 00014: val_loss did not improve from 1.45944\n",
      "140/140 [==============================] - 290s 2s/step - loss: 1.3976 - accuracy: 0.4657 - val_loss: 1.7361 - val_accuracy: 0.3660\n",
      "Epoch 15/20\n",
      "140/140 [==============================] - ETA: 0s - loss: 1.3367 - accuracy: 0.4794\n",
      "Epoch 00015: val_loss did not improve from 1.45944\n",
      "140/140 [==============================] - 292s 2s/step - loss: 1.3367 - accuracy: 0.4794 - val_loss: 1.7694 - val_accuracy: 0.3573\n",
      "Epoch 16/20\n",
      "140/140 [==============================] - ETA: 0s - loss: 1.2727 - accuracy: 0.4993\n",
      "Epoch 00016: val_loss did not improve from 1.45944\n",
      "140/140 [==============================] - 293s 2s/step - loss: 1.2727 - accuracy: 0.4993 - val_loss: 1.5590 - val_accuracy: 0.3983\n",
      "Epoch 17/20\n",
      "140/140 [==============================] - ETA: 0s - loss: 1.2975 - accuracy: 0.5038\n",
      "Epoch 00017: val_loss did not improve from 1.45944\n",
      "140/140 [==============================] - 295s 2s/step - loss: 1.2975 - accuracy: 0.5038 - val_loss: 1.6139 - val_accuracy: 0.4291\n",
      "Epoch 18/20\n",
      "140/140 [==============================] - ETA: 0s - loss: 1.2458 - accuracy: 0.5193\n",
      "Epoch 00018: val_loss improved from 1.45944 to 1.45292, saving model to ../tests/logs/SavedModels/melspec_crema.h5\n",
      "140/140 [==============================] - 293s 2s/step - loss: 1.2458 - accuracy: 0.5193 - val_loss: 1.4529 - val_accuracy: 0.4345\n",
      "Epoch 19/20\n",
      "140/140 [==============================] - ETA: 0s - loss: 1.2528 - accuracy: 0.5215\n",
      "Epoch 00019: val_loss did not improve from 1.45292\n",
      "140/140 [==============================] - 295s 2s/step - loss: 1.2528 - accuracy: 0.5215 - val_loss: 1.6412 - val_accuracy: 0.4023\n",
      "Epoch 20/20\n",
      "140/140 [==============================] - ETA: 0s - loss: 1.1973 - accuracy: 0.5495\n",
      "Epoch 00020: val_loss did not improve from 1.45292\n",
      "140/140 [==============================] - 293s 2s/step - loss: 1.1973 - accuracy: 0.5495 - val_loss: 1.6205 - val_accuracy: 0.4077\n"
     ]
    }
   ],
   "source": [
    "# MODEL FIT \n",
    "history = model.fit(data_train,\n",
    "                    target_train,\n",
    "                    epochs=20,\n",
    "                    shuffle=True,\n",
    "                    validation_data=(data_val, target_val),\n",
    "                    callbacks=[tensorboard_callback, checkpoint])"
   ]
  },
  {
   "cell_type": "code",
   "execution_count": 12,
   "id": "46d0cb2b-02dc-4402-a42e-23b4f7c2cfc3",
   "metadata": {},
   "outputs": [
    {
     "name": "stdout",
     "output_type": "stream",
     "text": [
      "Emotion: Anger\n",
      "Loaded 254/254 files from test Anger\n",
      "\n",
      "Emotion: Happy\n",
      "Loaded 255/255 files from test Happy\n",
      "\n",
      "Emotion: Neutral\n",
      "Loaded 218/218 files from test Neutral\n",
      "\n",
      "Emotion: Sad\n",
      "Loaded 254/254 files from test Sad\n",
      "\n",
      "Emotion: Fear\n",
      "Loaded 254/254 files from test Fear\n",
      "\n",
      "Emotion: Disgust\n",
      "Loaded 254/254 files from test Disgust\n",
      "\n",
      "Set np.asarray(targets)\n",
      "Set np.asarray(img)\n",
      "Set tf.keras.utils.to_categorical(target_test)\n",
      "(1489, 389, 515, 3)\n",
      "(1489, 6)\n"
     ]
    }
   ],
   "source": [
    "data_train = []\n",
    "data_val = []\n",
    "target_train = []\n",
    "target_val = []\n",
    "\n",
    "targets = []\n",
    "img = []\n",
    "\n",
    "data_test, target_test_to_categorical = get_test_data(path_test)"
   ]
  },
  {
   "cell_type": "code",
   "execution_count": 13,
   "id": "abeaaa7d-a71c-491c-84f7-53d8a5750987",
   "metadata": {},
   "outputs": [
    {
     "name": "stdout",
     "output_type": "stream",
     "text": [
      "1489/1489 [==============================] - 39s 26ms/step - loss: 1.4211 - accuracy: 0.4567\n",
      "test loss, test acc: [1.4211245775222778, 0.45668232440948486]\n"
     ]
    }
   ],
   "source": [
    "model.load_weights(filepath=filepath)\n",
    "    \n",
    "results = model.evaluate(data_test, target_test_to_categorical, batch_size=1)\n",
    "print(\"test loss, test acc:\", results)"
   ]
  },
  {
   "cell_type": "code",
   "execution_count": null,
   "id": "700d1e51-d2ec-4feb-ba1b-1f1b86eb66d6",
   "metadata": {},
   "outputs": [],
   "source": []
  }
 ],
 "metadata": {
  "kernelspec": {
   "display_name": "tf_metal",
   "language": "python",
   "name": "tf_metal"
  },
  "language_info": {
   "codemirror_mode": {
    "name": "ipython",
    "version": 3
   },
   "file_extension": ".py",
   "mimetype": "text/x-python",
   "name": "python",
   "nbconvert_exporter": "python",
   "pygments_lexer": "ipython3",
   "version": "3.10.14"
  }
 },
 "nbformat": 4,
 "nbformat_minor": 5
}
