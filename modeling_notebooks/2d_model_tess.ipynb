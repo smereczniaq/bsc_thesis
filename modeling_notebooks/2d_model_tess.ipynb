{
 "cells": [
  {
   "cell_type": "markdown",
   "id": "4da0f072-93d2-460f-8bdd-8b337aa3cf7f",
   "metadata": {},
   "source": [
    "# Import bibliotek"
   ]
  },
  {
   "cell_type": "code",
   "execution_count": 1,
   "id": "37af525f-0ad6-4da4-a494-d76b94bfd58d",
   "metadata": {},
   "outputs": [],
   "source": [
    "import warnings\n",
    "warnings.filterwarnings(\"ignore\")"
   ]
  },
  {
   "cell_type": "code",
   "execution_count": 2,
   "id": "802e8e28-c235-4402-babf-4b0b446fe2c4",
   "metadata": {},
   "outputs": [],
   "source": [
    "import pandas as pd\n",
    "\n",
    "import torch\n",
    "from torch import nn\n",
    "from torchvision import transforms\n",
    "\n",
    "import matplotlib.pyplot as plt\n",
    "\n",
    "from sklearn.model_selection import train_test_split\n",
    "from sklearn.preprocessing import StandardScaler\n",
    "\n",
    "from tqdm.auto import tqdm\n",
    "from timeit import default_timer as timer \n",
    "\n",
    "import os\n",
    "\n",
    "from typing import List, Dict"
   ]
  },
  {
   "cell_type": "code",
   "execution_count": 3,
   "id": "9d694c20-e7ad-4ed9-8ac7-306a54859840",
   "metadata": {},
   "outputs": [],
   "source": [
    "import sys\n",
    "sys.path.append(\"../src/\")\n",
    "\n",
    "from data_setup import create_dataloaders\n",
    "from model_builder import HybridModel\n",
    "from engine import train_step, test_step, train"
   ]
  },
  {
   "cell_type": "markdown",
   "id": "9d3ede7a-7c39-4461-aee4-2ab8858d5d3d",
   "metadata": {},
   "source": [
    "# Wczytanie danych"
   ]
  },
  {
   "cell_type": "code",
   "execution_count": 4,
   "id": "d0c30ae0-0ef0-4dbb-8553-895448caebcb",
   "metadata": {},
   "outputs": [
    {
     "data": {
      "text/html": [
       "<div>\n",
       "<style scoped>\n",
       "    .dataframe tbody tr th:only-of-type {\n",
       "        vertical-align: middle;\n",
       "    }\n",
       "\n",
       "    .dataframe tbody tr th {\n",
       "        vertical-align: top;\n",
       "    }\n",
       "\n",
       "    .dataframe thead th {\n",
       "        text-align: right;\n",
       "    }\n",
       "</style>\n",
       "<table border=\"1\" class=\"dataframe\">\n",
       "  <thead>\n",
       "    <tr style=\"text-align: right;\">\n",
       "      <th></th>\n",
       "      <th>Emotion</th>\n",
       "      <th>Path</th>\n",
       "      <th>Dataset</th>\n",
       "      <th>Emotion_mapped</th>\n",
       "    </tr>\n",
       "  </thead>\n",
       "  <tbody>\n",
       "    <tr>\n",
       "      <th>0</th>\n",
       "      <td>ANGRY</td>\n",
       "      <td>../data/kaggle/input/speech-emotion-recognitio...</td>\n",
       "      <td>Crema</td>\n",
       "      <td>0</td>\n",
       "    </tr>\n",
       "    <tr>\n",
       "      <th>1</th>\n",
       "      <td>ANGRY</td>\n",
       "      <td>../data/kaggle/input/speech-emotion-recognitio...</td>\n",
       "      <td>Crema</td>\n",
       "      <td>0</td>\n",
       "    </tr>\n",
       "    <tr>\n",
       "      <th>2</th>\n",
       "      <td>NEUTRAL</td>\n",
       "      <td>../data/kaggle/input/speech-emotion-recognitio...</td>\n",
       "      <td>Crema</td>\n",
       "      <td>1</td>\n",
       "    </tr>\n",
       "    <tr>\n",
       "      <th>3</th>\n",
       "      <td>NEUTRAL</td>\n",
       "      <td>../data/kaggle/input/speech-emotion-recognitio...</td>\n",
       "      <td>Crema</td>\n",
       "      <td>1</td>\n",
       "    </tr>\n",
       "    <tr>\n",
       "      <th>4</th>\n",
       "      <td>DISGUST</td>\n",
       "      <td>../data/kaggle/input/speech-emotion-recognitio...</td>\n",
       "      <td>Crema</td>\n",
       "      <td>2</td>\n",
       "    </tr>\n",
       "    <tr>\n",
       "      <th>...</th>\n",
       "      <td>...</td>\n",
       "      <td>...</td>\n",
       "      <td>...</td>\n",
       "      <td>...</td>\n",
       "    </tr>\n",
       "    <tr>\n",
       "      <th>9390</th>\n",
       "      <td>ANGRY</td>\n",
       "      <td>../data/kaggle/input/speech-emotion-recognitio...</td>\n",
       "      <td>Tess</td>\n",
       "      <td>0</td>\n",
       "    </tr>\n",
       "    <tr>\n",
       "      <th>9391</th>\n",
       "      <td>ANGRY</td>\n",
       "      <td>../data/kaggle/input/speech-emotion-recognitio...</td>\n",
       "      <td>Tess</td>\n",
       "      <td>0</td>\n",
       "    </tr>\n",
       "    <tr>\n",
       "      <th>9392</th>\n",
       "      <td>ANGRY</td>\n",
       "      <td>../data/kaggle/input/speech-emotion-recognitio...</td>\n",
       "      <td>Tess</td>\n",
       "      <td>0</td>\n",
       "    </tr>\n",
       "    <tr>\n",
       "      <th>9393</th>\n",
       "      <td>ANGRY</td>\n",
       "      <td>../data/kaggle/input/speech-emotion-recognitio...</td>\n",
       "      <td>Tess</td>\n",
       "      <td>0</td>\n",
       "    </tr>\n",
       "    <tr>\n",
       "      <th>9394</th>\n",
       "      <td>ANGRY</td>\n",
       "      <td>../data/kaggle/input/speech-emotion-recognitio...</td>\n",
       "      <td>Tess</td>\n",
       "      <td>0</td>\n",
       "    </tr>\n",
       "  </tbody>\n",
       "</table>\n",
       "<p>9395 rows × 4 columns</p>\n",
       "</div>"
      ],
      "text/plain": [
       "      Emotion                                               Path Dataset  \\\n",
       "0       ANGRY  ../data/kaggle/input/speech-emotion-recognitio...   Crema   \n",
       "1       ANGRY  ../data/kaggle/input/speech-emotion-recognitio...   Crema   \n",
       "2     NEUTRAL  ../data/kaggle/input/speech-emotion-recognitio...   Crema   \n",
       "3     NEUTRAL  ../data/kaggle/input/speech-emotion-recognitio...   Crema   \n",
       "4     DISGUST  ../data/kaggle/input/speech-emotion-recognitio...   Crema   \n",
       "...       ...                                                ...     ...   \n",
       "9390    ANGRY  ../data/kaggle/input/speech-emotion-recognitio...    Tess   \n",
       "9391    ANGRY  ../data/kaggle/input/speech-emotion-recognitio...    Tess   \n",
       "9392    ANGRY  ../data/kaggle/input/speech-emotion-recognitio...    Tess   \n",
       "9393    ANGRY  ../data/kaggle/input/speech-emotion-recognitio...    Tess   \n",
       "9394    ANGRY  ../data/kaggle/input/speech-emotion-recognitio...    Tess   \n",
       "\n",
       "      Emotion_mapped  \n",
       "0                  0  \n",
       "1                  0  \n",
       "2                  1  \n",
       "3                  1  \n",
       "4                  2  \n",
       "...              ...  \n",
       "9390               0  \n",
       "9391               0  \n",
       "9392               0  \n",
       "9393               0  \n",
       "9394               0  \n",
       "\n",
       "[9395 rows x 4 columns]"
      ]
     },
     "execution_count": 4,
     "metadata": {},
     "output_type": "execute_result"
    }
   ],
   "source": [
    "df = pd.read_csv(\"../data/datasets_sum.csv\")\n",
    "df"
   ]
  },
  {
   "cell_type": "code",
   "execution_count": 5,
   "id": "e526046c-9762-4a09-8e2b-5e77a6785da9",
   "metadata": {},
   "outputs": [],
   "source": [
    "df = df[df[\"Dataset\"]==\"Tess\"].reset_index(drop=True)"
   ]
  },
  {
   "cell_type": "code",
   "execution_count": 6,
   "id": "403e236b-b0e6-4faa-b24b-dcbccb9e5b8b",
   "metadata": {},
   "outputs": [],
   "source": [
    "SAMPLE_RATE = 44100\n",
    "SEED = 42"
   ]
  },
  {
   "cell_type": "code",
   "execution_count": 7,
   "id": "2f99a006-cafd-4b20-a991-911d0bd005e4",
   "metadata": {},
   "outputs": [],
   "source": [
    "train_df, test_df = train_test_split(df, test_size=0.3, stratify=df[\"Emotion_mapped\"], random_state=SEED)"
   ]
  },
  {
   "cell_type": "code",
   "execution_count": 8,
   "id": "6a896a7c-2e80-4e24-87a8-78b7938efd38",
   "metadata": {},
   "outputs": [],
   "source": [
    "original_transform = transforms.Compose([\n",
    "    transforms.Resize((224, 224)),\n",
    "    transforms.Normalize(mean=[0.485], std=[0.229])\n",
    "])\n",
    "\n",
    "augment_transform = transforms.Compose([\n",
    "    transforms.RandomHorizontalFlip(),\n",
    "    transforms.RandomRotation(10),\n",
    "    transforms.RandomHorizontalFlip(p=0.5),\n",
    "    transforms.Resize((224, 224)),\n",
    "    transforms.Normalize(mean=[0.485], std=[0.229])\n",
    "])"
   ]
  },
  {
   "cell_type": "code",
   "execution_count": 9,
   "id": "ba2919e9-5521-4d22-93bf-443324570cc8",
   "metadata": {},
   "outputs": [],
   "source": [
    "train_dataloader, test_dataloader, class_names = create_dataloaders(\n",
    "    train_dataframe=train_df, \n",
    "    test_dataframe=test_df, \n",
    "    original_transform=original_transform, \n",
    "    augment_transform=augment_transform,\n",
    "    batch_size=32\n",
    ")"
   ]
  },
  {
   "cell_type": "code",
   "execution_count": 10,
   "id": "d8787de3-a023-473c-8134-e7e43b1f2e3b",
   "metadata": {},
   "outputs": [
    {
     "data": {
      "text/plain": [
       "(<torch.utils.data.dataloader.DataLoader at 0x30122da30>,\n",
       " <torch.utils.data.dataloader.DataLoader at 0x300fc35c0>,\n",
       " array(['DISGUST', 'ANGRY', 'NEUTRAL', 'HAPPY', 'FEAR'], dtype=object))"
      ]
     },
     "execution_count": 10,
     "metadata": {},
     "output_type": "execute_result"
    }
   ],
   "source": [
    "train_dataloader, test_dataloader, class_names"
   ]
  },
  {
   "cell_type": "markdown",
   "id": "eb9cba19-0ea3-4ff5-b682-dece400802ac",
   "metadata": {},
   "source": [
    "# Model"
   ]
  },
  {
   "cell_type": "markdown",
   "id": "e163fb5a-f4eb-469d-84c8-88c3df0ad497",
   "metadata": {},
   "source": [
    "## Uczenie"
   ]
  },
  {
   "cell_type": "code",
   "execution_count": 11,
   "id": "7061d605-8146-4711-8546-5cf4d66aba36",
   "metadata": {
    "scrolled": true
   },
   "outputs": [
    {
     "name": "stderr",
     "output_type": "stream",
     "text": [
      "  1%|          | 1/100 [02:04<3:26:07, 124.93s/it]"
     ]
    },
    {
     "name": "stdout",
     "output_type": "stream",
     "text": [
      "Epoch: 1 | train_loss: 1.4096 | train_acc: 0.3718 | test_loss: 1.6572 | test_acc: 0.1886\n"
     ]
    },
    {
     "name": "stderr",
     "output_type": "stream",
     "text": [
      "  2%|▏         | 2/100 [04:05<3:19:26, 122.11s/it]"
     ]
    },
    {
     "name": "stdout",
     "output_type": "stream",
     "text": [
      "Epoch: 2 | train_loss: 1.0836 | train_acc: 0.5334 | test_loss: 1.8767 | test_acc: 0.1968\n"
     ]
    },
    {
     "name": "stderr",
     "output_type": "stream",
     "text": [
      "  3%|▎         | 3/100 [06:04<3:15:38, 121.01s/it]"
     ]
    },
    {
     "name": "stdout",
     "output_type": "stream",
     "text": [
      "Epoch: 3 | train_loss: 0.9401 | train_acc: 0.6065 | test_loss: 2.1520 | test_acc: 0.2045\n"
     ]
    },
    {
     "name": "stderr",
     "output_type": "stream",
     "text": [
      "  4%|▍         | 4/100 [08:05<3:13:10, 120.73s/it]"
     ]
    },
    {
     "name": "stdout",
     "output_type": "stream",
     "text": [
      "Epoch: 4 | train_loss: 0.7997 | train_acc: 0.6733 | test_loss: 2.3836 | test_acc: 0.1025\n"
     ]
    },
    {
     "name": "stderr",
     "output_type": "stream",
     "text": [
      "  5%|▌         | 5/100 [10:07<3:11:57, 121.24s/it]"
     ]
    },
    {
     "name": "stdout",
     "output_type": "stream",
     "text": [
      "Epoch: 5 | train_loss: 0.7180 | train_acc: 0.7170 | test_loss: 2.5515 | test_acc: 0.1480\n"
     ]
    },
    {
     "name": "stderr",
     "output_type": "stream",
     "text": [
      "  6%|▌         | 6/100 [12:09<3:10:39, 121.70s/it]"
     ]
    },
    {
     "name": "stdout",
     "output_type": "stream",
     "text": [
      "Epoch: 6 | train_loss: 0.6334 | train_acc: 0.7660 | test_loss: 2.8166 | test_acc: 0.1952\n"
     ]
    },
    {
     "name": "stderr",
     "output_type": "stream",
     "text": [
      "  7%|▋         | 7/100 [31:19<11:49:24, 457.68s/it]"
     ]
    },
    {
     "name": "stdout",
     "output_type": "stream",
     "text": [
      "Epoch: 7 | train_loss: 0.5344 | train_acc: 0.7987 | test_loss: 2.8822 | test_acc: 0.2297\n"
     ]
    },
    {
     "name": "stderr",
     "output_type": "stream",
     "text": [
      "  8%|▊         | 8/100 [40:01<12:13:32, 478.40s/it]"
     ]
    },
    {
     "name": "stdout",
     "output_type": "stream",
     "text": [
      "Epoch: 8 | train_loss: 0.5193 | train_acc: 0.7972 | test_loss: 2.8541 | test_acc: 0.2116\n"
     ]
    },
    {
     "name": "stderr",
     "output_type": "stream",
     "text": [
      "  9%|▉         | 9/100 [48:53<12:30:38, 494.93s/it]"
     ]
    },
    {
     "name": "stdout",
     "output_type": "stream",
     "text": [
      "Epoch: 9 | train_loss: 0.4691 | train_acc: 0.8331 | test_loss: 3.1397 | test_acc: 0.1425\n"
     ]
    },
    {
     "name": "stderr",
     "output_type": "stream",
     "text": [
      " 10%|█         | 10/100 [50:55<9:29:40, 379.78s/it]"
     ]
    },
    {
     "name": "stdout",
     "output_type": "stream",
     "text": [
      "Epoch: 10 | train_loss: 0.4146 | train_acc: 0.8498 | test_loss: 3.0676 | test_acc: 0.2346\n"
     ]
    },
    {
     "name": "stderr",
     "output_type": "stream",
     "text": [
      " 11%|█         | 11/100 [58:50<10:06:51, 409.12s/it]"
     ]
    },
    {
     "name": "stdout",
     "output_type": "stream",
     "text": [
      "Epoch: 11 | train_loss: 0.3891 | train_acc: 0.8679 | test_loss: 3.1855 | test_acc: 0.2253\n"
     ]
    },
    {
     "name": "stderr",
     "output_type": "stream",
     "text": [
      " 12%|█▏        | 12/100 [1:06:26<10:20:43, 423.22s/it]"
     ]
    },
    {
     "name": "stdout",
     "output_type": "stream",
     "text": [
      "Epoch: 12 | train_loss: 0.3762 | train_acc: 0.8661 | test_loss: 3.2036 | test_acc: 0.0905\n"
     ]
    },
    {
     "name": "stderr",
     "output_type": "stream",
     "text": [
      " 13%|█▎        | 13/100 [1:10:11<8:46:42, 363.24s/it] "
     ]
    },
    {
     "name": "stdout",
     "output_type": "stream",
     "text": [
      "Epoch: 13 | train_loss: 0.3132 | train_acc: 0.8885 | test_loss: 3.1354 | test_acc: 0.0850\n"
     ]
    },
    {
     "name": "stderr",
     "output_type": "stream",
     "text": [
      " 14%|█▍        | 14/100 [1:13:00<7:16:37, 304.62s/it]"
     ]
    },
    {
     "name": "stdout",
     "output_type": "stream",
     "text": [
      "Epoch: 14 | train_loss: 0.3245 | train_acc: 0.8846 | test_loss: 3.3012 | test_acc: 0.0630\n"
     ]
    },
    {
     "name": "stderr",
     "output_type": "stream",
     "text": [
      " 15%|█▌        | 15/100 [2:56:44<49:19:00, 2088.71s/it]"
     ]
    },
    {
     "name": "stdout",
     "output_type": "stream",
     "text": [
      "Epoch: 15 | train_loss: 0.3103 | train_acc: 0.8960 | test_loss: 3.4924 | test_acc: 0.1924\n"
     ]
    },
    {
     "name": "stderr",
     "output_type": "stream",
     "text": [
      " 16%|█▌        | 16/100 [5:17:11<93:15:13, 3996.59s/it]"
     ]
    },
    {
     "name": "stdout",
     "output_type": "stream",
     "text": [
      "Epoch: 16 | train_loss: 0.2841 | train_acc: 0.9059 | test_loss: 3.4169 | test_acc: 0.2346\n"
     ]
    },
    {
     "name": "stderr",
     "output_type": "stream",
     "text": [
      " 17%|█▋        | 17/100 [6:46:54<101:45:18, 4413.48s/it]"
     ]
    },
    {
     "name": "stdout",
     "output_type": "stream",
     "text": [
      "Epoch: 17 | train_loss: 0.2608 | train_acc: 0.9087 | test_loss: 3.4835 | test_acc: 0.1667\n"
     ]
    },
    {
     "name": "stderr",
     "output_type": "stream",
     "text": [
      " 18%|█▊        | 18/100 [10:28:27<161:18:30, 7081.84s/it]"
     ]
    },
    {
     "name": "stdout",
     "output_type": "stream",
     "text": [
      "Epoch: 18 | train_loss: 0.2617 | train_acc: 0.9098 | test_loss: 3.4684 | test_acc: 0.0625\n"
     ]
    },
    {
     "name": "stderr",
     "output_type": "stream",
     "text": [
      " 19%|█▉        | 19/100 [14:09:02<200:55:08, 8929.74s/it]"
     ]
    },
    {
     "name": "stdout",
     "output_type": "stream",
     "text": [
      "Epoch: 19 | train_loss: 0.2586 | train_acc: 0.9094 | test_loss: 3.4914 | test_acc: 0.0822\n"
     ]
    },
    {
     "name": "stderr",
     "output_type": "stream",
     "text": [
      " 20%|██        | 20/100 [18:06:20<233:51:16, 10523.46s/it]"
     ]
    },
    {
     "name": "stdout",
     "output_type": "stream",
     "text": [
      "Epoch: 20 | train_loss: 0.2285 | train_acc: 0.9276 | test_loss: 3.5531 | test_acc: 0.0724\n"
     ]
    },
    {
     "name": "stderr",
     "output_type": "stream",
     "text": [
      " 21%|██        | 21/100 [21:18:36<237:36:20, 10827.60s/it]"
     ]
    },
    {
     "name": "stdout",
     "output_type": "stream",
     "text": [
      "Epoch: 21 | train_loss: 0.2178 | train_acc: 0.9240 | test_loss: 3.7891 | test_acc: 0.2105\n"
     ]
    },
    {
     "name": "stderr",
     "output_type": "stream",
     "text": [
      " 22%|██▏       | 22/100 [24:21:35<235:34:50, 10872.96s/it]"
     ]
    },
    {
     "name": "stdout",
     "output_type": "stream",
     "text": [
      "Epoch: 22 | train_loss: 0.2009 | train_acc: 0.9297 | test_loss: 3.7536 | test_acc: 0.0411\n"
     ]
    },
    {
     "name": "stderr",
     "output_type": "stream",
     "text": [
      " 23%|██▎       | 23/100 [26:54:14<221:33:29, 10358.56s/it]"
     ]
    },
    {
     "name": "stdout",
     "output_type": "stream",
     "text": [
      "Epoch: 23 | train_loss: 0.1880 | train_acc: 0.9396 | test_loss: 3.9837 | test_acc: 0.0510\n"
     ]
    },
    {
     "name": "stderr",
     "output_type": "stream",
     "text": [
      " 24%|██▍       | 24/100 [28:56:01<199:21:13, 9443.07s/it] "
     ]
    },
    {
     "name": "stdout",
     "output_type": "stream",
     "text": [
      "Epoch: 24 | train_loss: 0.1935 | train_acc: 0.9347 | test_loss: 3.8135 | test_acc: 0.0724\n"
     ]
    },
    {
     "name": "stderr",
     "output_type": "stream",
     "text": [
      " 25%|██▌       | 25/100 [28:59:33<139:01:42, 6673.37s/it]"
     ]
    },
    {
     "name": "stdout",
     "output_type": "stream",
     "text": [
      "Epoch: 25 | train_loss: 0.1987 | train_acc: 0.9300 | test_loss: 3.3140 | test_acc: 0.1036\n"
     ]
    },
    {
     "name": "stderr",
     "output_type": "stream",
     "text": [
      " 26%|██▌       | 26/100 [29:01:37<96:46:53, 4708.29s/it] "
     ]
    },
    {
     "name": "stdout",
     "output_type": "stream",
     "text": [
      "Epoch: 26 | train_loss: 0.1817 | train_acc: 0.9393 | test_loss: 3.5379 | test_acc: 0.0839\n"
     ]
    },
    {
     "name": "stderr",
     "output_type": "stream",
     "text": [
      " 27%|██▋       | 27/100 [29:03:39<67:34:14, 3332.25s/it]"
     ]
    },
    {
     "name": "stdout",
     "output_type": "stream",
     "text": [
      "Epoch: 27 | train_loss: 0.1703 | train_acc: 0.9460 | test_loss: 3.6398 | test_acc: 0.1595\n"
     ]
    },
    {
     "name": "stderr",
     "output_type": "stream",
     "text": [
      " 28%|██▊       | 28/100 [29:05:40<47:22:41, 2368.90s/it]"
     ]
    },
    {
     "name": "stdout",
     "output_type": "stream",
     "text": [
      "Epoch: 28 | train_loss: 0.1882 | train_acc: 0.9389 | test_loss: 3.3081 | test_acc: 0.1014\n"
     ]
    },
    {
     "name": "stderr",
     "output_type": "stream",
     "text": [
      " 29%|██▉       | 29/100 [29:07:42<33:25:22, 1694.69s/it]"
     ]
    },
    {
     "name": "stdout",
     "output_type": "stream",
     "text": [
      "Epoch: 29 | train_loss: 0.1419 | train_acc: 0.9545 | test_loss: 3.4260 | test_acc: 0.1743\n"
     ]
    },
    {
     "name": "stderr",
     "output_type": "stream",
     "text": [
      " 30%|███       | 30/100 [29:09:44<23:46:43, 1222.91s/it]"
     ]
    },
    {
     "name": "stdout",
     "output_type": "stream",
     "text": [
      "Epoch: 30 | train_loss: 0.1460 | train_acc: 0.9531 | test_loss: 3.6032 | test_acc: 0.1003\n"
     ]
    },
    {
     "name": "stderr",
     "output_type": "stream",
     "text": [
      " 31%|███       | 31/100 [29:11:46<17:06:36, 892.71s/it] "
     ]
    },
    {
     "name": "stdout",
     "output_type": "stream",
     "text": [
      "Epoch: 31 | train_loss: 0.1494 | train_acc: 0.9513 | test_loss: 3.6848 | test_acc: 0.1711\n"
     ]
    },
    {
     "name": "stderr",
     "output_type": "stream",
     "text": [
      " 32%|███▏      | 32/100 [29:13:50<12:30:21, 662.08s/it]"
     ]
    },
    {
     "name": "stdout",
     "output_type": "stream",
     "text": [
      "Epoch: 32 | train_loss: 0.1504 | train_acc: 0.9478 | test_loss: 3.7876 | test_acc: 0.1562\n"
     ]
    },
    {
     "name": "stderr",
     "output_type": "stream",
     "text": [
      " 33%|███▎      | 33/100 [29:15:54<9:19:03, 500.65s/it] "
     ]
    },
    {
     "name": "stdout",
     "output_type": "stream",
     "text": [
      "Epoch: 33 | train_loss: 0.1322 | train_acc: 0.9602 | test_loss: 3.6532 | test_acc: 0.1113\n"
     ]
    },
    {
     "name": "stderr",
     "output_type": "stream",
     "text": [
      " 34%|███▍      | 34/100 [29:17:55<7:05:31, 386.85s/it]"
     ]
    },
    {
     "name": "stdout",
     "output_type": "stream",
     "text": [
      "Epoch: 34 | train_loss: 0.1378 | train_acc: 0.9506 | test_loss: 4.0445 | test_acc: 0.1864\n"
     ]
    },
    {
     "name": "stderr",
     "output_type": "stream",
     "text": [
      " 35%|███▌      | 35/100 [29:19:57<5:32:50, 307.23s/it]"
     ]
    },
    {
     "name": "stdout",
     "output_type": "stream",
     "text": [
      "Epoch: 35 | train_loss: 0.1377 | train_acc: 0.9531 | test_loss: 3.9548 | test_acc: 0.0576\n"
     ]
    },
    {
     "name": "stderr",
     "output_type": "stream",
     "text": [
      " 36%|███▌      | 36/100 [29:21:59<4:28:23, 251.61s/it]"
     ]
    },
    {
     "name": "stdout",
     "output_type": "stream",
     "text": [
      "Epoch: 36 | train_loss: 0.1425 | train_acc: 0.9517 | test_loss: 4.2141 | test_acc: 0.2045\n"
     ]
    },
    {
     "name": "stderr",
     "output_type": "stream",
     "text": [
      " 37%|███▋      | 37/100 [29:24:01<3:43:30, 212.87s/it]"
     ]
    },
    {
     "name": "stdout",
     "output_type": "stream",
     "text": [
      "Epoch: 37 | train_loss: 0.1154 | train_acc: 0.9585 | test_loss: 3.8456 | test_acc: 0.1316\n"
     ]
    },
    {
     "name": "stderr",
     "output_type": "stream",
     "text": [
      " 38%|███▊      | 38/100 [29:26:03<3:11:50, 185.65s/it]"
     ]
    },
    {
     "name": "stdout",
     "output_type": "stream",
     "text": [
      "Epoch: 38 | train_loss: 0.1078 | train_acc: 0.9641 | test_loss: 3.3712 | test_acc: 0.1579\n"
     ]
    },
    {
     "name": "stderr",
     "output_type": "stream",
     "text": [
      " 39%|███▉      | 39/100 [29:28:05<2:49:11, 166.42s/it]"
     ]
    },
    {
     "name": "stdout",
     "output_type": "stream",
     "text": [
      "Epoch: 39 | train_loss: 0.1358 | train_acc: 0.9563 | test_loss: 4.1578 | test_acc: 0.0839\n"
     ]
    },
    {
     "name": "stderr",
     "output_type": "stream",
     "text": [
      " 40%|████      | 40/100 [29:30:07<2:33:05, 153.10s/it]"
     ]
    },
    {
     "name": "stdout",
     "output_type": "stream",
     "text": [
      "Epoch: 40 | train_loss: 0.1160 | train_acc: 0.9592 | test_loss: 3.8664 | test_acc: 0.1124\n"
     ]
    },
    {
     "name": "stderr",
     "output_type": "stream",
     "text": [
      " 41%|████      | 41/100 [29:32:10<2:21:41, 144.09s/it]"
     ]
    },
    {
     "name": "stdout",
     "output_type": "stream",
     "text": [
      "Epoch: 41 | train_loss: 0.1206 | train_acc: 0.9595 | test_loss: 3.9005 | test_acc: 0.1776\n"
     ]
    },
    {
     "name": "stderr",
     "output_type": "stream",
     "text": [
      " 42%|████▏     | 42/100 [29:34:12<2:12:49, 137.40s/it]"
     ]
    },
    {
     "name": "stdout",
     "output_type": "stream",
     "text": [
      "Epoch: 42 | train_loss: 0.1139 | train_acc: 0.9602 | test_loss: 3.9614 | test_acc: 0.0746\n"
     ]
    },
    {
     "name": "stderr",
     "output_type": "stream",
     "text": [
      " 43%|████▎     | 43/100 [29:36:13<2:06:06, 132.74s/it]"
     ]
    },
    {
     "name": "stdout",
     "output_type": "stream",
     "text": [
      "Epoch: 43 | train_loss: 0.1061 | train_acc: 0.9677 | test_loss: 4.3051 | test_acc: 0.1782\n"
     ]
    },
    {
     "name": "stderr",
     "output_type": "stream",
     "text": [
      " 44%|████▍     | 44/100 [29:38:15<2:00:49, 129.46s/it]"
     ]
    },
    {
     "name": "stdout",
     "output_type": "stream",
     "text": [
      "Epoch: 44 | train_loss: 0.0793 | train_acc: 0.9751 | test_loss: 4.4243 | test_acc: 0.0477\n"
     ]
    },
    {
     "name": "stderr",
     "output_type": "stream",
     "text": [
      " 45%|████▌     | 45/100 [29:40:17<1:56:29, 127.09s/it]"
     ]
    },
    {
     "name": "stdout",
     "output_type": "stream",
     "text": [
      "Epoch: 45 | train_loss: 0.1051 | train_acc: 0.9648 | test_loss: 4.4549 | test_acc: 0.1343\n"
     ]
    },
    {
     "name": "stderr",
     "output_type": "stream",
     "text": [
      " 46%|████▌     | 46/100 [29:42:18<1:52:39, 125.17s/it]"
     ]
    },
    {
     "name": "stdout",
     "output_type": "stream",
     "text": [
      "Epoch: 46 | train_loss: 0.0890 | train_acc: 0.9688 | test_loss: 4.3648 | test_acc: 0.1107\n"
     ]
    },
    {
     "name": "stderr",
     "output_type": "stream",
     "text": [
      " 47%|████▋     | 47/100 [29:44:19<1:49:39, 124.15s/it]"
     ]
    },
    {
     "name": "stdout",
     "output_type": "stream",
     "text": [
      "Epoch: 47 | train_loss: 0.0781 | train_acc: 0.9751 | test_loss: 4.1786 | test_acc: 0.0378\n"
     ]
    },
    {
     "name": "stderr",
     "output_type": "stream",
     "text": [
      " 48%|████▊     | 48/100 [29:46:21<1:46:57, 123.42s/it]"
     ]
    },
    {
     "name": "stdout",
     "output_type": "stream",
     "text": [
      "Epoch: 48 | train_loss: 0.0887 | train_acc: 0.9666 | test_loss: 4.7963 | test_acc: 0.2018\n"
     ]
    },
    {
     "name": "stderr",
     "output_type": "stream",
     "text": [
      " 49%|████▉     | 49/100 [29:48:23<1:44:25, 122.85s/it]"
     ]
    },
    {
     "name": "stdout",
     "output_type": "stream",
     "text": [
      "Epoch: 49 | train_loss: 0.0808 | train_acc: 0.9727 | test_loss: 4.1159 | test_acc: 0.1113\n"
     ]
    },
    {
     "name": "stderr",
     "output_type": "stream",
     "text": [
      " 50%|█████     | 50/100 [29:50:24<1:42:08, 122.58s/it]"
     ]
    },
    {
     "name": "stdout",
     "output_type": "stream",
     "text": [
      "Epoch: 50 | train_loss: 0.0846 | train_acc: 0.9737 | test_loss: 4.1854 | test_acc: 0.1146\n"
     ]
    },
    {
     "name": "stderr",
     "output_type": "stream",
     "text": [
      " 51%|█████     | 51/100 [29:52:27<1:40:04, 122.54s/it]"
     ]
    },
    {
     "name": "stdout",
     "output_type": "stream",
     "text": [
      "Epoch: 51 | train_loss: 0.0927 | train_acc: 0.9680 | test_loss: 4.4720 | test_acc: 0.1623\n"
     ]
    },
    {
     "name": "stderr",
     "output_type": "stream",
     "text": [
      " 52%|█████▏    | 52/100 [29:54:29<1:37:55, 122.41s/it]"
     ]
    },
    {
     "name": "stdout",
     "output_type": "stream",
     "text": [
      "Epoch: 52 | train_loss: 0.0833 | train_acc: 0.9723 | test_loss: 4.2308 | test_acc: 0.0899\n"
     ]
    },
    {
     "name": "stderr",
     "output_type": "stream",
     "text": [
      " 53%|█████▎    | 53/100 [29:56:31<1:35:42, 122.19s/it]"
     ]
    },
    {
     "name": "stdout",
     "output_type": "stream",
     "text": [
      "Epoch: 53 | train_loss: 0.0760 | train_acc: 0.9748 | test_loss: 4.1749 | test_acc: 0.1645\n"
     ]
    },
    {
     "name": "stderr",
     "output_type": "stream",
     "text": [
      " 54%|█████▍    | 54/100 [29:58:33<1:33:42, 122.22s/it]"
     ]
    },
    {
     "name": "stdout",
     "output_type": "stream",
     "text": [
      "Epoch: 54 | train_loss: 0.0682 | train_acc: 0.9798 | test_loss: 4.3509 | test_acc: 0.0894\n"
     ]
    },
    {
     "name": "stderr",
     "output_type": "stream",
     "text": [
      " 55%|█████▌    | 55/100 [30:00:36<1:31:46, 122.36s/it]"
     ]
    },
    {
     "name": "stdout",
     "output_type": "stream",
     "text": [
      "Epoch: 55 | train_loss: 0.0750 | train_acc: 0.9741 | test_loss: 3.8269 | test_acc: 0.0992\n"
     ]
    },
    {
     "name": "stderr",
     "output_type": "stream",
     "text": [
      " 56%|█████▌    | 56/100 [30:11:21<3:24:41, 279.12s/it]"
     ]
    },
    {
     "name": "stdout",
     "output_type": "stream",
     "text": [
      "Epoch: 56 | train_loss: 0.0837 | train_acc: 0.9712 | test_loss: 4.1719 | test_acc: 0.1683\n"
     ]
    },
    {
     "name": "stderr",
     "output_type": "stream",
     "text": [
      " 57%|█████▋    | 57/100 [30:23:21<4:54:56, 411.56s/it]"
     ]
    },
    {
     "name": "stdout",
     "output_type": "stream",
     "text": [
      "Epoch: 57 | train_loss: 0.0581 | train_acc: 0.9847 | test_loss: 4.3983 | test_acc: 0.1913\n"
     ]
    },
    {
     "name": "stderr",
     "output_type": "stream",
     "text": [
      " 58%|█████▊    | 58/100 [30:25:23<3:47:19, 324.74s/it]"
     ]
    },
    {
     "name": "stdout",
     "output_type": "stream",
     "text": [
      "Epoch: 58 | train_loss: 0.0626 | train_acc: 0.9801 | test_loss: 4.1006 | test_acc: 0.1546\n"
     ]
    },
    {
     "name": "stderr",
     "output_type": "stream",
     "text": [
      " 59%|█████▉    | 59/100 [30:27:25<3:00:15, 263.79s/it]"
     ]
    },
    {
     "name": "stdout",
     "output_type": "stream",
     "text": [
      "Epoch: 59 | train_loss: 0.0648 | train_acc: 0.9790 | test_loss: 4.3888 | test_acc: 0.1848\n"
     ]
    },
    {
     "name": "stderr",
     "output_type": "stream",
     "text": [
      " 60%|██████    | 60/100 [30:29:27<2:27:27, 221.18s/it]"
     ]
    },
    {
     "name": "stdout",
     "output_type": "stream",
     "text": [
      "Epoch: 60 | train_loss: 0.0541 | train_acc: 0.9837 | test_loss: 4.1856 | test_acc: 0.0910\n"
     ]
    },
    {
     "name": "stderr",
     "output_type": "stream",
     "text": [
      " 61%|██████    | 61/100 [30:31:29<2:04:25, 191.43s/it]"
     ]
    },
    {
     "name": "stdout",
     "output_type": "stream",
     "text": [
      "Epoch: 61 | train_loss: 0.0516 | train_acc: 0.9847 | test_loss: 4.2598 | test_acc: 0.1826\n"
     ]
    },
    {
     "name": "stderr",
     "output_type": "stream",
     "text": [
      " 62%|██████▏   | 62/100 [30:33:59<1:53:23, 179.05s/it]"
     ]
    },
    {
     "name": "stdout",
     "output_type": "stream",
     "text": [
      "Epoch: 62 | train_loss: 0.0627 | train_acc: 0.9783 | test_loss: 4.7424 | test_acc: 0.0959\n"
     ]
    },
    {
     "name": "stderr",
     "output_type": "stream",
     "text": [
      " 63%|██████▎   | 63/100 [31:10:20<8:00:48, 779.70s/it]"
     ]
    },
    {
     "name": "stdout",
     "output_type": "stream",
     "text": [
      "Epoch: 63 | train_loss: 0.0729 | train_acc: 0.9787 | test_loss: 3.9494 | test_acc: 0.1661\n"
     ]
    },
    {
     "name": "stderr",
     "output_type": "stream",
     "text": [
      " 64%|██████▍   | 64/100 [31:12:23<5:49:33, 582.60s/it]"
     ]
    },
    {
     "name": "stdout",
     "output_type": "stream",
     "text": [
      "Epoch: 64 | train_loss: 0.0625 | train_acc: 0.9794 | test_loss: 3.9225 | test_acc: 0.1316\n"
     ]
    },
    {
     "name": "stderr",
     "output_type": "stream",
     "text": [
      " 65%|██████▌   | 65/100 [31:40:03<8:48:30, 906.02s/it]"
     ]
    },
    {
     "name": "stdout",
     "output_type": "stream",
     "text": [
      "Epoch: 65 | train_loss: 0.0566 | train_acc: 0.9819 | test_loss: 4.1239 | test_acc: 0.1793\n"
     ]
    },
    {
     "name": "stderr",
     "output_type": "stream",
     "text": [
      " 66%|██████▌   | 66/100 [31:42:06<6:20:13, 670.98s/it]"
     ]
    },
    {
     "name": "stdout",
     "output_type": "stream",
     "text": [
      "Epoch: 66 | train_loss: 0.0506 | train_acc: 0.9840 | test_loss: 4.0462 | test_acc: 0.1913\n"
     ]
    },
    {
     "name": "stderr",
     "output_type": "stream",
     "text": [
      " 67%|██████▋   | 67/100 [31:44:07<4:38:18, 506.00s/it]"
     ]
    },
    {
     "name": "stdout",
     "output_type": "stream",
     "text": [
      "Epoch: 67 | train_loss: 0.0501 | train_acc: 0.9851 | test_loss: 4.2557 | test_acc: 0.1902\n"
     ]
    },
    {
     "name": "stderr",
     "output_type": "stream",
     "text": [
      " 68%|██████▊   | 68/100 [31:46:37<3:32:55, 399.24s/it]"
     ]
    },
    {
     "name": "stdout",
     "output_type": "stream",
     "text": [
      "Epoch: 68 | train_loss: 0.0363 | train_acc: 0.9872 | test_loss: 3.8003 | test_acc: 0.1201\n"
     ]
    },
    {
     "name": "stderr",
     "output_type": "stream",
     "text": [
      " 69%|██████▉   | 69/100 [32:06:31<5:29:23, 637.53s/it]"
     ]
    },
    {
     "name": "stdout",
     "output_type": "stream",
     "text": [
      "Epoch: 69 | train_loss: 0.0537 | train_acc: 0.9826 | test_loss: 4.2061 | test_acc: 0.2001\n"
     ]
    },
    {
     "name": "stderr",
     "output_type": "stream",
     "text": [
      " 70%|███████   | 70/100 [32:42:14<9:04:39, 1089.31s/it]"
     ]
    },
    {
     "name": "stdout",
     "output_type": "stream",
     "text": [
      "Epoch: 70 | train_loss: 0.0514 | train_acc: 0.9826 | test_loss: 4.2439 | test_acc: 0.0916\n"
     ]
    },
    {
     "name": "stderr",
     "output_type": "stream",
     "text": [
      " 71%|███████   | 71/100 [32:44:16<6:26:16, 799.19s/it] "
     ]
    },
    {
     "name": "stdout",
     "output_type": "stream",
     "text": [
      "Epoch: 71 | train_loss: 0.0496 | train_acc: 0.9847 | test_loss: 4.4242 | test_acc: 0.0428\n"
     ]
    },
    {
     "name": "stderr",
     "output_type": "stream",
     "text": [
      " 72%|███████▏  | 72/100 [32:46:18<4:38:04, 595.88s/it]"
     ]
    },
    {
     "name": "stdout",
     "output_type": "stream",
     "text": [
      "Epoch: 72 | train_loss: 0.0378 | train_acc: 0.9872 | test_loss: 4.9856 | test_acc: 0.1689\n"
     ]
    },
    {
     "name": "stderr",
     "output_type": "stream",
     "text": [
      " 73%|███████▎  | 73/100 [32:48:19<3:24:03, 453.46s/it]"
     ]
    },
    {
     "name": "stdout",
     "output_type": "stream",
     "text": [
      "Epoch: 73 | train_loss: 0.0418 | train_acc: 0.9876 | test_loss: 4.9446 | test_acc: 0.1343\n"
     ]
    },
    {
     "name": "stderr",
     "output_type": "stream",
     "text": [
      " 74%|███████▍  | 74/100 [32:50:21<2:33:22, 353.95s/it]"
     ]
    },
    {
     "name": "stdout",
     "output_type": "stream",
     "text": [
      "Epoch: 74 | train_loss: 0.0368 | train_acc: 0.9872 | test_loss: 4.6279 | test_acc: 0.1601\n"
     ]
    },
    {
     "name": "stderr",
     "output_type": "stream",
     "text": [
      " 75%|███████▌  | 75/100 [32:52:22<1:58:26, 284.27s/it]"
     ]
    },
    {
     "name": "stdout",
     "output_type": "stream",
     "text": [
      "Epoch: 75 | train_loss: 0.0389 | train_acc: 0.9879 | test_loss: 4.7279 | test_acc: 0.1113\n"
     ]
    },
    {
     "name": "stderr",
     "output_type": "stream",
     "text": [
      " 76%|███████▌  | 76/100 [32:54:24<1:34:12, 235.51s/it]"
     ]
    },
    {
     "name": "stdout",
     "output_type": "stream",
     "text": [
      "Epoch: 76 | train_loss: 0.0425 | train_acc: 0.9858 | test_loss: 4.3197 | test_acc: 0.0976\n"
     ]
    },
    {
     "name": "stderr",
     "output_type": "stream",
     "text": [
      " 77%|███████▋  | 77/100 [32:56:26<1:17:09, 201.26s/it]"
     ]
    },
    {
     "name": "stdout",
     "output_type": "stream",
     "text": [
      "Epoch: 77 | train_loss: 0.0420 | train_acc: 0.9854 | test_loss: 4.8845 | test_acc: 0.1848\n"
     ]
    },
    {
     "name": "stderr",
     "output_type": "stream",
     "text": [
      " 78%|███████▊  | 78/100 [32:58:27<1:05:00, 177.31s/it]"
     ]
    },
    {
     "name": "stdout",
     "output_type": "stream",
     "text": [
      "Epoch: 78 | train_loss: 0.0391 | train_acc: 0.9876 | test_loss: 4.6344 | test_acc: 0.1672\n"
     ]
    },
    {
     "name": "stderr",
     "output_type": "stream",
     "text": [
      " 79%|███████▉  | 79/100 [33:00:29<56:15, 160.74s/it]  "
     ]
    },
    {
     "name": "stdout",
     "output_type": "stream",
     "text": [
      "Epoch: 79 | train_loss: 0.0382 | train_acc: 0.9883 | test_loss: 4.2862 | test_acc: 0.1546\n"
     ]
    },
    {
     "name": "stderr",
     "output_type": "stream",
     "text": [
      " 80%|████████  | 80/100 [33:02:31<49:39, 148.98s/it]"
     ]
    },
    {
     "name": "stdout",
     "output_type": "stream",
     "text": [
      "Epoch: 80 | train_loss: 0.0311 | train_acc: 0.9893 | test_loss: 4.6008 | test_acc: 0.1168\n"
     ]
    },
    {
     "name": "stderr",
     "output_type": "stream",
     "text": [
      " 81%|████████  | 81/100 [33:04:33<44:37, 140.90s/it]"
     ]
    },
    {
     "name": "stdout",
     "output_type": "stream",
     "text": [
      "Epoch: 81 | train_loss: 0.0377 | train_acc: 0.9858 | test_loss: 4.2850 | test_acc: 0.1782\n"
     ]
    },
    {
     "name": "stderr",
     "output_type": "stream",
     "text": [
      " 82%|████████▏ | 82/100 [33:06:34<40:29, 134.99s/it]"
     ]
    },
    {
     "name": "stdout",
     "output_type": "stream",
     "text": [
      "Epoch: 82 | train_loss: 0.0475 | train_acc: 0.9840 | test_loss: 4.5607 | test_acc: 0.1782\n"
     ]
    },
    {
     "name": "stderr",
     "output_type": "stream",
     "text": [
      " 83%|████████▎ | 83/100 [33:08:35<37:04, 130.84s/it]"
     ]
    },
    {
     "name": "stdout",
     "output_type": "stream",
     "text": [
      "Epoch: 83 | train_loss: 0.0298 | train_acc: 0.9883 | test_loss: 4.9546 | test_acc: 0.1678\n"
     ]
    },
    {
     "name": "stderr",
     "output_type": "stream",
     "text": [
      " 84%|████████▍ | 84/100 [33:10:37<34:10, 128.16s/it]"
     ]
    },
    {
     "name": "stdout",
     "output_type": "stream",
     "text": [
      "Epoch: 84 | train_loss: 0.0403 | train_acc: 0.9858 | test_loss: 4.7924 | test_acc: 0.0866\n"
     ]
    },
    {
     "name": "stderr",
     "output_type": "stream",
     "text": [
      " 85%|████████▌ | 85/100 [33:12:38<31:32, 126.14s/it]"
     ]
    },
    {
     "name": "stdout",
     "output_type": "stream",
     "text": [
      "Epoch: 85 | train_loss: 0.0339 | train_acc: 0.9893 | test_loss: 4.8335 | test_acc: 0.1584\n"
     ]
    },
    {
     "name": "stderr",
     "output_type": "stream",
     "text": [
      " 86%|████████▌ | 86/100 [33:14:40<29:06, 124.77s/it]"
     ]
    },
    {
     "name": "stdout",
     "output_type": "stream",
     "text": [
      "Epoch: 86 | train_loss: 0.0328 | train_acc: 0.9893 | test_loss: 4.8627 | test_acc: 0.1798\n"
     ]
    },
    {
     "name": "stderr",
     "output_type": "stream",
     "text": [
      " 87%|████████▋ | 87/100 [33:16:41<26:49, 123.78s/it]"
     ]
    },
    {
     "name": "stdout",
     "output_type": "stream",
     "text": [
      "Epoch: 87 | train_loss: 0.0310 | train_acc: 0.9901 | test_loss: 4.9842 | test_acc: 0.1535\n"
     ]
    },
    {
     "name": "stderr",
     "output_type": "stream",
     "text": [
      " 88%|████████▊ | 88/100 [33:18:43<24:37, 123.10s/it]"
     ]
    },
    {
     "name": "stdout",
     "output_type": "stream",
     "text": [
      "Epoch: 88 | train_loss: 0.0288 | train_acc: 0.9918 | test_loss: 5.4714 | test_acc: 0.1985\n"
     ]
    },
    {
     "name": "stderr",
     "output_type": "stream",
     "text": [
      " 89%|████████▉ | 89/100 [33:20:45<22:29, 122.71s/it]"
     ]
    },
    {
     "name": "stdout",
     "output_type": "stream",
     "text": [
      "Epoch: 89 | train_loss: 0.0276 | train_acc: 0.9901 | test_loss: 5.5807 | test_acc: 0.1793\n"
     ]
    },
    {
     "name": "stderr",
     "output_type": "stream",
     "text": [
      " 90%|█████████ | 90/100 [33:22:46<20:24, 122.43s/it]"
     ]
    },
    {
     "name": "stdout",
     "output_type": "stream",
     "text": [
      "Epoch: 90 | train_loss: 0.0305 | train_acc: 0.9897 | test_loss: 4.6065 | test_acc: 0.1946\n"
     ]
    },
    {
     "name": "stderr",
     "output_type": "stream",
     "text": [
      " 91%|█████████ | 91/100 [33:24:48<18:19, 122.13s/it]"
     ]
    },
    {
     "name": "stdout",
     "output_type": "stream",
     "text": [
      "Epoch: 91 | train_loss: 0.0239 | train_acc: 0.9922 | test_loss: 5.1694 | test_acc: 0.2253\n"
     ]
    },
    {
     "name": "stderr",
     "output_type": "stream",
     "text": [
      " 92%|█████████▏| 92/100 [33:26:49<16:14, 121.84s/it]"
     ]
    },
    {
     "name": "stdout",
     "output_type": "stream",
     "text": [
      "Epoch: 92 | train_loss: 0.0281 | train_acc: 0.9915 | test_loss: 4.9030 | test_acc: 0.1661\n"
     ]
    },
    {
     "name": "stderr",
     "output_type": "stream",
     "text": [
      " 93%|█████████▎| 93/100 [33:28:51<14:12, 121.80s/it]"
     ]
    },
    {
     "name": "stdout",
     "output_type": "stream",
     "text": [
      "Epoch: 93 | train_loss: 0.0332 | train_acc: 0.9901 | test_loss: 4.7671 | test_acc: 0.1754\n"
     ]
    },
    {
     "name": "stderr",
     "output_type": "stream",
     "text": [
      " 94%|█████████▍| 94/100 [33:30:52<12:10, 121.71s/it]"
     ]
    },
    {
     "name": "stdout",
     "output_type": "stream",
     "text": [
      "Epoch: 94 | train_loss: 0.0286 | train_acc: 0.9908 | test_loss: 5.4734 | test_acc: 0.2001\n"
     ]
    },
    {
     "name": "stderr",
     "output_type": "stream",
     "text": [
      " 95%|█████████▌| 95/100 [33:32:54<10:08, 121.71s/it]"
     ]
    },
    {
     "name": "stdout",
     "output_type": "stream",
     "text": [
      "Epoch: 95 | train_loss: 0.0254 | train_acc: 0.9925 | test_loss: 5.1003 | test_acc: 0.1985\n"
     ]
    },
    {
     "name": "stderr",
     "output_type": "stream",
     "text": [
      " 96%|█████████▌| 96/100 [33:34:56<08:07, 121.85s/it]"
     ]
    },
    {
     "name": "stdout",
     "output_type": "stream",
     "text": [
      "Epoch: 96 | train_loss: 0.0274 | train_acc: 0.9915 | test_loss: 5.1617 | test_acc: 0.2034\n"
     ]
    },
    {
     "name": "stderr",
     "output_type": "stream",
     "text": [
      " 97%|█████████▋| 97/100 [33:36:58<06:05, 121.71s/it]"
     ]
    },
    {
     "name": "stdout",
     "output_type": "stream",
     "text": [
      "Epoch: 97 | train_loss: 0.0263 | train_acc: 0.9911 | test_loss: 5.3176 | test_acc: 0.1486\n"
     ]
    },
    {
     "name": "stderr",
     "output_type": "stream",
     "text": [
      " 98%|█████████▊| 98/100 [33:38:59<04:03, 121.60s/it]"
     ]
    },
    {
     "name": "stdout",
     "output_type": "stream",
     "text": [
      "Epoch: 98 | train_loss: 0.0317 | train_acc: 0.9897 | test_loss: 5.9116 | test_acc: 0.2018\n"
     ]
    },
    {
     "name": "stderr",
     "output_type": "stream",
     "text": [
      " 99%|█████████▉| 99/100 [33:41:01<02:01, 121.66s/it]"
     ]
    },
    {
     "name": "stdout",
     "output_type": "stream",
     "text": [
      "Epoch: 99 | train_loss: 0.0226 | train_acc: 0.9933 | test_loss: 5.7004 | test_acc: 0.2018\n"
     ]
    },
    {
     "name": "stderr",
     "output_type": "stream",
     "text": [
      "100%|██████████| 100/100 [33:43:04<00:00, 1213.84s/it]"
     ]
    },
    {
     "name": "stdout",
     "output_type": "stream",
     "text": [
      "Epoch: 100 | train_loss: 0.0308 | train_acc: 0.9893 | test_loss: 4.5917 | test_acc: 0.0603\n",
      "Total training time: 12205.340 seconds\n"
     ]
    },
    {
     "name": "stderr",
     "output_type": "stream",
     "text": [
      "\n"
     ]
    }
   ],
   "source": [
    "from data_setup import create_dataloaders\n",
    "from engine import train_step, test_step, train\n",
    "\n",
    "device = torch.device(\"mps\") if torch.backends.mps.is_available() else \"cpu\"\n",
    "\n",
    "torch.manual_seed(SEED) \n",
    "torch.mps.manual_seed(SEED)\n",
    "\n",
    "NUM_EPOCHS = 100\n",
    "\n",
    "model = HybridModel(num_emotions=len(class_names)).to(device)\n",
    "loss_fn = nn.CrossEntropyLoss()\n",
    "optimizer = torch.optim.Adam(params=model.parameters(), lr=0.001)\n",
    "\n",
    "start_time = timer()\n",
    "\n",
    "model_results = train(model=model, \n",
    "                      train_dataloader=train_dataloader,\n",
    "                      test_dataloader=test_dataloader,\n",
    "                      optimizer=optimizer,\n",
    "                      loss_fn=loss_fn, \n",
    "                      epochs=NUM_EPOCHS,\n",
    "                      device=device)\n",
    "\n",
    "end_time = timer()\n",
    "print(f\"Total training time: {end_time-start_time:.3f} seconds\")"
   ]
  },
  {
   "cell_type": "code",
   "execution_count": 12,
   "id": "b16c5596-7b0c-4e76-a463-963cfb477594",
   "metadata": {},
   "outputs": [
    {
     "data": {
      "text/plain": [
       "dict_keys(['train_loss', 'train_acc', 'test_loss', 'test_acc'])"
      ]
     },
     "execution_count": 12,
     "metadata": {},
     "output_type": "execute_result"
    }
   ],
   "source": [
    "# Check the model_0_results keys\n",
    "model_results.keys()"
   ]
  },
  {
   "cell_type": "code",
   "execution_count": 13,
   "id": "ff4b26b8-9c2b-460d-adf4-aff701403a07",
   "metadata": {},
   "outputs": [],
   "source": [
    "def plot_loss_curves(results: Dict[str, List[float]]):\n",
    "    \"\"\"Plots training curves of a results dictionary.\n",
    "\n",
    "    Args:\n",
    "        results (dict): dictionary containing list of values, e.g.\n",
    "            {\"train_loss\": [...],\n",
    "             \"train_acc\": [...],\n",
    "             \"test_loss\": [...],\n",
    "             \"test_acc\": [...]}\n",
    "    \"\"\"\n",
    "    \n",
    "    # Get the loss values of the results dictionary (training and test)\n",
    "    loss = results['train_loss']\n",
    "    test_loss = results['test_loss']\n",
    "\n",
    "    # Get the accuracy values of the results dictionary (training and test)\n",
    "    accuracy = results['train_acc']\n",
    "    test_accuracy = results['test_acc']\n",
    "\n",
    "    # Figure out how many epochs there were\n",
    "    epochs = range(len(results['train_loss']))\n",
    "\n",
    "    # Setup a plot \n",
    "    plt.figure(figsize=(15, 7))\n",
    "\n",
    "    # Plot loss\n",
    "    plt.subplot(1, 2, 1)\n",
    "    plt.plot(epochs, loss, label='train_loss')\n",
    "    plt.plot(epochs, test_loss, label='test_loss')\n",
    "    plt.title('Loss')\n",
    "    plt.xlabel('Epochs')\n",
    "    plt.legend()\n",
    "\n",
    "    # Plot accuracy\n",
    "    plt.subplot(1, 2, 2)\n",
    "    plt.plot(epochs, accuracy, label='train_accuracy')\n",
    "    plt.plot(epochs, test_accuracy, label='test_accuracy')\n",
    "    plt.title('Accuracy')\n",
    "    plt.xlabel('Epochs')\n",
    "    plt.legend();"
   ]
  },
  {
   "cell_type": "code",
   "execution_count": 14,
   "id": "3b212bb5-5ab6-4124-9c88-d35f789ed2cb",
   "metadata": {},
   "outputs": [
    {
     "data": {
      "image/png": "[encoded data removed]",
      "text/plain": [
       "<Figure size 1500x700 with 2 Axes>"
      ]
     },
     "metadata": {},
     "output_type": "display_data"
    }
   ],
   "source": [
    "plot_loss_curves(model_results)"
   ]
  },
  {
   "cell_type": "markdown",
   "id": "2b7ade64-caf3-4cf8-a20f-a205004893fe",
   "metadata": {},
   "source": [
    "## Zapisanie modelu"
   ]
  },
  {
   "cell_type": "code",
   "execution_count": 15,
   "id": "4da79f23-7742-4467-bbb0-130f0f2732ab",
   "metadata": {},
   "outputs": [],
   "source": [
    "model_save_path = \"../models/cnn_lstm_model_tess.pth\"\n",
    "\n",
    "torch.save(obj=model.state_dict(),\n",
    "             f=model_save_path)"
   ]
  },
  {
   "cell_type": "code",
   "execution_count": null,
   "id": "3f935474-850e-4698-9202-a976a53c0de4",
   "metadata": {},
   "outputs": [],
   "source": []
  }
 ],
 "metadata": {
  "kernelspec": {
   "display_name": "my_ser_env",
   "language": "python",
   "name": "my_ser_env"
  },
  "language_info": {
   "codemirror_mode": {
    "name": "ipython",
    "version": 3
   },
   "file_extension": ".py",
   "mimetype": "text/x-python",
   "name": "python",
   "nbconvert_exporter": "python",
   "pygments_lexer": "ipython3",
   "version": "3.12.5"
  }
 },
 "nbformat": 4,
 "nbformat_minor": 5
}
