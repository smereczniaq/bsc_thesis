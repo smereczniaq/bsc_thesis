{
 "cells": [
  {
   "cell_type": "markdown",
   "id": "4da0f072-93d2-460f-8bdd-8b337aa3cf7f",
   "metadata": {},
   "source": [
    "# Import bibliotek"
   ]
  },
  {
   "cell_type": "code",
   "execution_count": 1,
   "id": "37af525f-0ad6-4da4-a494-d76b94bfd58d",
   "metadata": {},
   "outputs": [],
   "source": [
    "import warnings\n",
    "warnings.filterwarnings(\"ignore\")"
   ]
  },
  {
   "cell_type": "code",
   "execution_count": 2,
   "id": "802e8e28-c235-4402-babf-4b0b446fe2c4",
   "metadata": {},
   "outputs": [],
   "source": [
    "import pandas as pd\n",
    "\n",
    "import torch\n",
    "from torch import nn\n",
    "from torchvision import transforms\n",
    "\n",
    "import matplotlib.pyplot as plt\n",
    "\n",
    "from sklearn.model_selection import train_test_split\n",
    "from sklearn.preprocessing import StandardScaler\n",
    "\n",
    "from tqdm.auto import tqdm\n",
    "from timeit import default_timer as timer \n",
    "\n",
    "import os\n",
    "\n",
    "from typing import List, Dict"
   ]
  },
  {
   "cell_type": "code",
   "execution_count": 3,
   "id": "9d694c20-e7ad-4ed9-8ac7-306a54859840",
   "metadata": {},
   "outputs": [],
   "source": [
    "import sys\n",
    "sys.path.append(\"../src/\")\n",
    "\n",
    "from data_setup import create_dataloaders\n",
    "from model_builder import HybridModel\n",
    "from engine import train_step, test_step, train"
   ]
  },
  {
   "cell_type": "markdown",
   "id": "9d3ede7a-7c39-4461-aee4-2ab8858d5d3d",
   "metadata": {},
   "source": [
    "# Wczytanie danych"
   ]
  },
  {
   "cell_type": "code",
   "execution_count": 4,
   "id": "d0c30ae0-0ef0-4dbb-8553-895448caebcb",
   "metadata": {},
   "outputs": [
    {
     "data": {
      "text/html": [
       "<div>\n",
       "<style scoped>\n",
       "    .dataframe tbody tr th:only-of-type {\n",
       "        vertical-align: middle;\n",
       "    }\n",
       "\n",
       "    .dataframe tbody tr th {\n",
       "        vertical-align: top;\n",
       "    }\n",
       "\n",
       "    .dataframe thead th {\n",
       "        text-align: right;\n",
       "    }\n",
       "</style>\n",
       "<table border=\"1\" class=\"dataframe\">\n",
       "  <thead>\n",
       "    <tr style=\"text-align: right;\">\n",
       "      <th></th>\n",
       "      <th>Emotion</th>\n",
       "      <th>Path</th>\n",
       "      <th>Dataset</th>\n",
       "      <th>Emotion_mapped</th>\n",
       "    </tr>\n",
       "  </thead>\n",
       "  <tbody>\n",
       "    <tr>\n",
       "      <th>0</th>\n",
       "      <td>ANGRY</td>\n",
       "      <td>../data/kaggle/input/speech-emotion-recognitio...</td>\n",
       "      <td>Crema</td>\n",
       "      <td>0</td>\n",
       "    </tr>\n",
       "    <tr>\n",
       "      <th>1</th>\n",
       "      <td>ANGRY</td>\n",
       "      <td>../data/kaggle/input/speech-emotion-recognitio...</td>\n",
       "      <td>Crema</td>\n",
       "      <td>0</td>\n",
       "    </tr>\n",
       "    <tr>\n",
       "      <th>2</th>\n",
       "      <td>NEUTRAL</td>\n",
       "      <td>../data/kaggle/input/speech-emotion-recognitio...</td>\n",
       "      <td>Crema</td>\n",
       "      <td>1</td>\n",
       "    </tr>\n",
       "    <tr>\n",
       "      <th>3</th>\n",
       "      <td>NEUTRAL</td>\n",
       "      <td>../data/kaggle/input/speech-emotion-recognitio...</td>\n",
       "      <td>Crema</td>\n",
       "      <td>1</td>\n",
       "    </tr>\n",
       "    <tr>\n",
       "      <th>4</th>\n",
       "      <td>DISGUST</td>\n",
       "      <td>../data/kaggle/input/speech-emotion-recognitio...</td>\n",
       "      <td>Crema</td>\n",
       "      <td>2</td>\n",
       "    </tr>\n",
       "    <tr>\n",
       "      <th>...</th>\n",
       "      <td>...</td>\n",
       "      <td>...</td>\n",
       "      <td>...</td>\n",
       "      <td>...</td>\n",
       "    </tr>\n",
       "    <tr>\n",
       "      <th>9390</th>\n",
       "      <td>ANGRY</td>\n",
       "      <td>../data/kaggle/input/speech-emotion-recognitio...</td>\n",
       "      <td>Tess</td>\n",
       "      <td>0</td>\n",
       "    </tr>\n",
       "    <tr>\n",
       "      <th>9391</th>\n",
       "      <td>ANGRY</td>\n",
       "      <td>../data/kaggle/input/speech-emotion-recognitio...</td>\n",
       "      <td>Tess</td>\n",
       "      <td>0</td>\n",
       "    </tr>\n",
       "    <tr>\n",
       "      <th>9392</th>\n",
       "      <td>ANGRY</td>\n",
       "      <td>../data/kaggle/input/speech-emotion-recognitio...</td>\n",
       "      <td>Tess</td>\n",
       "      <td>0</td>\n",
       "    </tr>\n",
       "    <tr>\n",
       "      <th>9393</th>\n",
       "      <td>ANGRY</td>\n",
       "      <td>../data/kaggle/input/speech-emotion-recognitio...</td>\n",
       "      <td>Tess</td>\n",
       "      <td>0</td>\n",
       "    </tr>\n",
       "    <tr>\n",
       "      <th>9394</th>\n",
       "      <td>ANGRY</td>\n",
       "      <td>../data/kaggle/input/speech-emotion-recognitio...</td>\n",
       "      <td>Tess</td>\n",
       "      <td>0</td>\n",
       "    </tr>\n",
       "  </tbody>\n",
       "</table>\n",
       "<p>9395 rows × 4 columns</p>\n",
       "</div>"
      ],
      "text/plain": [
       "      Emotion                                               Path Dataset  \\\n",
       "0       ANGRY  ../data/kaggle/input/speech-emotion-recognitio...   Crema   \n",
       "1       ANGRY  ../data/kaggle/input/speech-emotion-recognitio...   Crema   \n",
       "2     NEUTRAL  ../data/kaggle/input/speech-emotion-recognitio...   Crema   \n",
       "3     NEUTRAL  ../data/kaggle/input/speech-emotion-recognitio...   Crema   \n",
       "4     DISGUST  ../data/kaggle/input/speech-emotion-recognitio...   Crema   \n",
       "...       ...                                                ...     ...   \n",
       "9390    ANGRY  ../data/kaggle/input/speech-emotion-recognitio...    Tess   \n",
       "9391    ANGRY  ../data/kaggle/input/speech-emotion-recognitio...    Tess   \n",
       "9392    ANGRY  ../data/kaggle/input/speech-emotion-recognitio...    Tess   \n",
       "9393    ANGRY  ../data/kaggle/input/speech-emotion-recognitio...    Tess   \n",
       "9394    ANGRY  ../data/kaggle/input/speech-emotion-recognitio...    Tess   \n",
       "\n",
       "      Emotion_mapped  \n",
       "0                  0  \n",
       "1                  0  \n",
       "2                  1  \n",
       "3                  1  \n",
       "4                  2  \n",
       "...              ...  \n",
       "9390               0  \n",
       "9391               0  \n",
       "9392               0  \n",
       "9393               0  \n",
       "9394               0  \n",
       "\n",
       "[9395 rows x 4 columns]"
      ]
     },
     "execution_count": 4,
     "metadata": {},
     "output_type": "execute_result"
    }
   ],
   "source": [
    "df = pd.read_csv(\"../data/datasets_sum.csv\")\n",
    "df"
   ]
  },
  {
   "cell_type": "code",
   "execution_count": 5,
   "id": "e526046c-9762-4a09-8e2b-5e77a6785da9",
   "metadata": {},
   "outputs": [],
   "source": [
    "df = df[df[\"Dataset\"]==\"Crema\"].reset_index(drop=True)"
   ]
  },
  {
   "cell_type": "code",
   "execution_count": 6,
   "id": "403e236b-b0e6-4faa-b24b-dcbccb9e5b8b",
   "metadata": {},
   "outputs": [],
   "source": [
    "SAMPLE_RATE = 44100\n",
    "SEED = 42"
   ]
  },
  {
   "cell_type": "code",
   "execution_count": 7,
   "id": "2f99a006-cafd-4b20-a991-911d0bd005e4",
   "metadata": {},
   "outputs": [],
   "source": [
    "train_df, test_df = train_test_split(df, test_size=0.3, stratify=df[\"Emotion_mapped\"], random_state=SEED)"
   ]
  },
  {
   "cell_type": "code",
   "execution_count": 8,
   "id": "6a896a7c-2e80-4e24-87a8-78b7938efd38",
   "metadata": {},
   "outputs": [],
   "source": [
    "original_transform = transforms.Compose([\n",
    "    transforms.Resize((224, 224)),\n",
    "    transforms.Normalize(mean=[0.485], std=[0.229])\n",
    "])\n",
    "\n",
    "augment_transform = transforms.Compose([\n",
    "    transforms.RandomHorizontalFlip(),\n",
    "    transforms.RandomRotation(10),\n",
    "    transforms.RandomHorizontalFlip(p=0.5),\n",
    "    transforms.Resize((224, 224)),\n",
    "    transforms.Normalize(mean=[0.485], std=[0.229])\n",
    "])"
   ]
  },
  {
   "cell_type": "code",
   "execution_count": 9,
   "id": "ba2919e9-5521-4d22-93bf-443324570cc8",
   "metadata": {},
   "outputs": [],
   "source": [
    "train_dataloader, test_dataloader, class_names = create_dataloaders(\n",
    "    train_dataframe=train_df, \n",
    "    test_dataframe=test_df, \n",
    "    original_transform=original_transform, \n",
    "    augment_transform=augment_transform,\n",
    "    batch_size=32\n",
    ")"
   ]
  },
  {
   "cell_type": "code",
   "execution_count": 10,
   "id": "d8787de3-a023-473c-8134-e7e43b1f2e3b",
   "metadata": {},
   "outputs": [
    {
     "data": {
      "text/plain": [
       "(<torch.utils.data.dataloader.DataLoader at 0x105604cb0>,\n",
       " <torch.utils.data.dataloader.DataLoader at 0x126254a70>,\n",
       " array(['FEAR', 'ANGRY', 'NEUTRAL', 'HAPPY', 'DISGUST'], dtype=object))"
      ]
     },
     "execution_count": 10,
     "metadata": {},
     "output_type": "execute_result"
    }
   ],
   "source": [
    "train_dataloader, test_dataloader, class_names"
   ]
  },
  {
   "cell_type": "markdown",
   "id": "eb9cba19-0ea3-4ff5-b682-dece400802ac",
   "metadata": {},
   "source": [
    "# Model"
   ]
  },
  {
   "cell_type": "markdown",
   "id": "e163fb5a-f4eb-469d-84c8-88c3df0ad497",
   "metadata": {},
   "source": [
    "## Uczenie"
   ]
  },
  {
   "cell_type": "code",
   "execution_count": 11,
   "id": "7061d605-8146-4711-8546-5cf4d66aba36",
   "metadata": {
    "scrolled": true
   },
   "outputs": [
    {
     "name": "stderr",
     "output_type": "stream",
     "text": [
      "  1%|          | 1/100 [02:47<4:35:33, 167.01s/it]"
     ]
    },
    {
     "name": "stdout",
     "output_type": "stream",
     "text": [
      "Epoch: 1 | train_loss: 1.4955 | train_acc: 0.3325 | test_loss: 2.0130 | test_acc: 0.2058\n"
     ]
    },
    {
     "name": "stderr",
     "output_type": "stream",
     "text": [
      "  2%|▏         | 2/100 [05:24<4:23:17, 161.20s/it]"
     ]
    },
    {
     "name": "stdout",
     "output_type": "stream",
     "text": [
      "Epoch: 2 | train_loss: 1.3744 | train_acc: 0.4009 | test_loss: 1.8889 | test_acc: 0.1366\n"
     ]
    },
    {
     "name": "stderr",
     "output_type": "stream",
     "text": [
      "  3%|▎         | 3/100 [08:00<4:17:21, 159.19s/it]"
     ]
    },
    {
     "name": "stdout",
     "output_type": "stream",
     "text": [
      "Epoch: 3 | train_loss: 1.3454 | train_acc: 0.4212 | test_loss: 2.1157 | test_acc: 0.1576\n"
     ]
    },
    {
     "name": "stderr",
     "output_type": "stream",
     "text": [
      "  4%|▍         | 4/100 [10:37<4:12:53, 158.05s/it]"
     ]
    },
    {
     "name": "stdout",
     "output_type": "stream",
     "text": [
      "Epoch: 4 | train_loss: 1.3246 | train_acc: 0.4406 | test_loss: 2.0771 | test_acc: 0.1944\n"
     ]
    },
    {
     "name": "stderr",
     "output_type": "stream",
     "text": [
      "  5%|▌         | 5/100 [13:14<4:09:41, 157.70s/it]"
     ]
    },
    {
     "name": "stdout",
     "output_type": "stream",
     "text": [
      "Epoch: 5 | train_loss: 1.3086 | train_acc: 0.4489 | test_loss: 2.0475 | test_acc: 0.1922\n"
     ]
    },
    {
     "name": "stderr",
     "output_type": "stream",
     "text": [
      "  6%|▌         | 6/100 [15:51<4:06:57, 157.63s/it]"
     ]
    },
    {
     "name": "stdout",
     "output_type": "stream",
     "text": [
      "Epoch: 6 | train_loss: 1.2897 | train_acc: 0.4610 | test_loss: 2.1050 | test_acc: 0.2004\n"
     ]
    },
    {
     "name": "stderr",
     "output_type": "stream",
     "text": [
      "  7%|▋         | 7/100 [18:28<4:04:03, 157.46s/it]"
     ]
    },
    {
     "name": "stdout",
     "output_type": "stream",
     "text": [
      "Epoch: 7 | train_loss: 1.2833 | train_acc: 0.4621 | test_loss: 2.0950 | test_acc: 0.1943\n"
     ]
    },
    {
     "name": "stderr",
     "output_type": "stream",
     "text": [
      "  8%|▊         | 8/100 [21:06<4:01:15, 157.34s/it]"
     ]
    },
    {
     "name": "stdout",
     "output_type": "stream",
     "text": [
      "Epoch: 8 | train_loss: 1.2658 | train_acc: 0.4730 | test_loss: 2.0704 | test_acc: 0.1987\n"
     ]
    },
    {
     "name": "stderr",
     "output_type": "stream",
     "text": [
      "  9%|▉         | 9/100 [26:30<5:17:48, 209.54s/it]"
     ]
    },
    {
     "name": "stdout",
     "output_type": "stream",
     "text": [
      "Epoch: 9 | train_loss: 1.2710 | train_acc: 0.4700 | test_loss: 1.9902 | test_acc: 0.2024\n"
     ]
    },
    {
     "name": "stderr",
     "output_type": "stream",
     "text": [
      " 10%|█         | 10/100 [29:08<4:50:25, 193.61s/it]"
     ]
    },
    {
     "name": "stdout",
     "output_type": "stream",
     "text": [
      "Epoch: 10 | train_loss: 1.2585 | train_acc: 0.4787 | test_loss: 2.1504 | test_acc: 0.1987\n"
     ]
    },
    {
     "name": "stderr",
     "output_type": "stream",
     "text": [
      " 11%|█         | 11/100 [31:47<4:31:21, 182.93s/it]"
     ]
    },
    {
     "name": "stdout",
     "output_type": "stream",
     "text": [
      "Epoch: 11 | train_loss: 1.2468 | train_acc: 0.4831 | test_loss: 1.9855 | test_acc: 0.2160\n"
     ]
    },
    {
     "name": "stderr",
     "output_type": "stream",
     "text": [
      " 12%|█▏        | 12/100 [34:24<4:17:03, 175.27s/it]"
     ]
    },
    {
     "name": "stdout",
     "output_type": "stream",
     "text": [
      "Epoch: 12 | train_loss: 1.2468 | train_acc: 0.4812 | test_loss: 2.0659 | test_acc: 0.2047\n"
     ]
    },
    {
     "name": "stderr",
     "output_type": "stream",
     "text": [
      " 13%|█▎        | 13/100 [37:06<4:08:06, 171.11s/it]"
     ]
    },
    {
     "name": "stdout",
     "output_type": "stream",
     "text": [
      "Epoch: 13 | train_loss: 1.2402 | train_acc: 0.4905 | test_loss: 2.1936 | test_acc: 0.1998\n"
     ]
    },
    {
     "name": "stderr",
     "output_type": "stream",
     "text": [
      " 14%|█▍        | 14/100 [39:48<4:01:22, 168.40s/it]"
     ]
    },
    {
     "name": "stdout",
     "output_type": "stream",
     "text": [
      "Epoch: 14 | train_loss: 1.2325 | train_acc: 0.4929 | test_loss: 1.9460 | test_acc: 0.2154\n"
     ]
    },
    {
     "name": "stderr",
     "output_type": "stream",
     "text": [
      " 15%|█▌        | 15/100 [42:29<3:55:28, 166.22s/it]"
     ]
    },
    {
     "name": "stdout",
     "output_type": "stream",
     "text": [
      "Epoch: 15 | train_loss: 1.2231 | train_acc: 0.4982 | test_loss: 2.0819 | test_acc: 0.2003\n"
     ]
    },
    {
     "name": "stderr",
     "output_type": "stream",
     "text": [
      " 16%|█▌        | 16/100 [45:08<3:49:49, 164.17s/it]"
     ]
    },
    {
     "name": "stdout",
     "output_type": "stream",
     "text": [
      "Epoch: 16 | train_loss: 1.2175 | train_acc: 0.4986 | test_loss: 2.2842 | test_acc: 0.1977\n"
     ]
    },
    {
     "name": "stderr",
     "output_type": "stream",
     "text": [
      " 17%|█▋        | 17/100 [47:46<3:44:26, 162.25s/it]"
     ]
    },
    {
     "name": "stdout",
     "output_type": "stream",
     "text": [
      "Epoch: 17 | train_loss: 1.2175 | train_acc: 0.4950 | test_loss: 2.0961 | test_acc: 0.2122\n"
     ]
    },
    {
     "name": "stderr",
     "output_type": "stream",
     "text": [
      " 18%|█▊        | 18/100 [50:24<3:39:47, 160.82s/it]"
     ]
    },
    {
     "name": "stdout",
     "output_type": "stream",
     "text": [
      "Epoch: 18 | train_loss: 1.2056 | train_acc: 0.5045 | test_loss: 2.1307 | test_acc: 0.2014\n"
     ]
    },
    {
     "name": "stderr",
     "output_type": "stream",
     "text": [
      " 19%|█▉        | 19/100 [53:03<3:36:16, 160.21s/it]"
     ]
    },
    {
     "name": "stdout",
     "output_type": "stream",
     "text": [
      "Epoch: 19 | train_loss: 1.2067 | train_acc: 0.5059 | test_loss: 2.0974 | test_acc: 0.2133\n"
     ]
    },
    {
     "name": "stderr",
     "output_type": "stream",
     "text": [
      " 20%|██        | 20/100 [55:40<3:32:24, 159.31s/it]"
     ]
    },
    {
     "name": "stdout",
     "output_type": "stream",
     "text": [
      "Epoch: 20 | train_loss: 1.1996 | train_acc: 0.5100 | test_loss: 2.0415 | test_acc: 0.2246\n"
     ]
    },
    {
     "name": "stderr",
     "output_type": "stream",
     "text": [
      " 21%|██        | 21/100 [1:00:45<4:27:33, 203.21s/it]"
     ]
    },
    {
     "name": "stdout",
     "output_type": "stream",
     "text": [
      "Epoch: 21 | train_loss: 1.1954 | train_acc: 0.5105 | test_loss: 2.1348 | test_acc: 0.2025\n"
     ]
    },
    {
     "name": "stderr",
     "output_type": "stream",
     "text": [
      " 22%|██▏       | 22/100 [1:03:26<4:07:38, 190.49s/it]"
     ]
    },
    {
     "name": "stdout",
     "output_type": "stream",
     "text": [
      "Epoch: 22 | train_loss: 1.1866 | train_acc: 0.5168 | test_loss: 2.1005 | test_acc: 0.2144\n"
     ]
    },
    {
     "name": "stderr",
     "output_type": "stream",
     "text": [
      " 23%|██▎       | 23/100 [1:06:03<3:51:38, 180.50s/it]"
     ]
    },
    {
     "name": "stdout",
     "output_type": "stream",
     "text": [
      "Epoch: 23 | train_loss: 1.1840 | train_acc: 0.5166 | test_loss: 2.0441 | test_acc: 0.2106\n"
     ]
    },
    {
     "name": "stderr",
     "output_type": "stream",
     "text": [
      " 24%|██▍       | 24/100 [1:08:41<3:40:03, 173.73s/it]"
     ]
    },
    {
     "name": "stdout",
     "output_type": "stream",
     "text": [
      "Epoch: 24 | train_loss: 1.1763 | train_acc: 0.5250 | test_loss: 2.0095 | test_acc: 0.2154\n"
     ]
    },
    {
     "name": "stderr",
     "output_type": "stream",
     "text": [
      " 25%|██▌       | 25/100 [1:11:19<3:31:13, 168.98s/it]"
     ]
    },
    {
     "name": "stdout",
     "output_type": "stream",
     "text": [
      "Epoch: 25 | train_loss: 1.1638 | train_acc: 0.5293 | test_loss: 2.1120 | test_acc: 0.1929\n"
     ]
    },
    {
     "name": "stderr",
     "output_type": "stream",
     "text": [
      " 26%|██▌       | 26/100 [1:20:41<5:53:40, 286.76s/it]"
     ]
    },
    {
     "name": "stdout",
     "output_type": "stream",
     "text": [
      "Epoch: 26 | train_loss: 1.1685 | train_acc: 0.5264 | test_loss: 2.2663 | test_acc: 0.1939\n"
     ]
    },
    {
     "name": "stderr",
     "output_type": "stream",
     "text": [
      " 27%|██▋       | 27/100 [1:31:40<8:04:48, 398.48s/it]"
     ]
    },
    {
     "name": "stdout",
     "output_type": "stream",
     "text": [
      "Epoch: 27 | train_loss: 1.1501 | train_acc: 0.5309 | test_loss: 2.3167 | test_acc: 0.1873\n"
     ]
    },
    {
     "name": "stderr",
     "output_type": "stream",
     "text": [
      " 28%|██▊       | 28/100 [1:34:16<6:30:50, 325.71s/it]"
     ]
    },
    {
     "name": "stdout",
     "output_type": "stream",
     "text": [
      "Epoch: 28 | train_loss: 1.1575 | train_acc: 0.5285 | test_loss: 2.3888 | test_acc: 0.2095\n"
     ]
    },
    {
     "name": "stderr",
     "output_type": "stream",
     "text": [
      " 29%|██▉       | 29/100 [1:36:53<5:25:26, 275.02s/it]"
     ]
    },
    {
     "name": "stdout",
     "output_type": "stream",
     "text": [
      "Epoch: 29 | train_loss: 1.1524 | train_acc: 0.5348 | test_loss: 2.4130 | test_acc: 0.1987\n"
     ]
    },
    {
     "name": "stderr",
     "output_type": "stream",
     "text": [
      " 30%|███       | 30/100 [1:39:30<4:39:52, 239.89s/it]"
     ]
    },
    {
     "name": "stdout",
     "output_type": "stream",
     "text": [
      "Epoch: 30 | train_loss: 1.1493 | train_acc: 0.5376 | test_loss: 2.4215 | test_acc: 0.1868\n"
     ]
    },
    {
     "name": "stderr",
     "output_type": "stream",
     "text": [
      " 31%|███       | 31/100 [1:42:10<4:08:03, 215.70s/it]"
     ]
    },
    {
     "name": "stdout",
     "output_type": "stream",
     "text": [
      "Epoch: 31 | train_loss: 1.1448 | train_acc: 0.5337 | test_loss: 2.2727 | test_acc: 0.1770\n"
     ]
    },
    {
     "name": "stderr",
     "output_type": "stream",
     "text": [
      " 32%|███▏      | 32/100 [1:44:48<3:45:05, 198.61s/it]"
     ]
    },
    {
     "name": "stdout",
     "output_type": "stream",
     "text": [
      "Epoch: 32 | train_loss: 1.1403 | train_acc: 0.5421 | test_loss: 2.2346 | test_acc: 0.1863\n"
     ]
    },
    {
     "name": "stderr",
     "output_type": "stream",
     "text": [
      " 33%|███▎      | 33/100 [1:47:29<3:29:03, 187.21s/it]"
     ]
    },
    {
     "name": "stdout",
     "output_type": "stream",
     "text": [
      "Epoch: 33 | train_loss: 1.1344 | train_acc: 0.5439 | test_loss: 2.4841 | test_acc: 0.1917\n"
     ]
    },
    {
     "name": "stderr",
     "output_type": "stream",
     "text": [
      " 34%|███▍      | 34/100 [1:50:07<3:16:23, 178.54s/it]"
     ]
    },
    {
     "name": "stdout",
     "output_type": "stream",
     "text": [
      "Epoch: 34 | train_loss: 1.1312 | train_acc: 0.5417 | test_loss: 2.3498 | test_acc: 0.2004\n"
     ]
    },
    {
     "name": "stderr",
     "output_type": "stream",
     "text": [
      " 35%|███▌      | 35/100 [1:52:45<3:06:31, 172.18s/it]"
     ]
    },
    {
     "name": "stdout",
     "output_type": "stream",
     "text": [
      "Epoch: 35 | train_loss: 1.1126 | train_acc: 0.5499 | test_loss: 2.4039 | test_acc: 0.1960\n"
     ]
    },
    {
     "name": "stderr",
     "output_type": "stream",
     "text": [
      " 36%|███▌      | 36/100 [1:55:22<2:58:58, 167.79s/it]"
     ]
    },
    {
     "name": "stdout",
     "output_type": "stream",
     "text": [
      "Epoch: 36 | train_loss: 1.1136 | train_acc: 0.5530 | test_loss: 2.3846 | test_acc: 0.1625\n"
     ]
    },
    {
     "name": "stderr",
     "output_type": "stream",
     "text": [
      " 37%|███▋      | 37/100 [1:58:01<2:53:28, 165.22s/it]"
     ]
    },
    {
     "name": "stdout",
     "output_type": "stream",
     "text": [
      "Epoch: 37 | train_loss: 1.1114 | train_acc: 0.5519 | test_loss: 2.2809 | test_acc: 0.1652\n"
     ]
    },
    {
     "name": "stderr",
     "output_type": "stream",
     "text": [
      " 38%|███▊      | 38/100 [2:00:40<2:48:45, 163.31s/it]"
     ]
    },
    {
     "name": "stdout",
     "output_type": "stream",
     "text": [
      "Epoch: 38 | train_loss: 1.1026 | train_acc: 0.5624 | test_loss: 2.3138 | test_acc: 0.1907\n"
     ]
    },
    {
     "name": "stderr",
     "output_type": "stream",
     "text": [
      " 39%|███▉      | 39/100 [2:03:18<2:44:23, 161.70s/it]"
     ]
    },
    {
     "name": "stdout",
     "output_type": "stream",
     "text": [
      "Epoch: 39 | train_loss: 1.1002 | train_acc: 0.5570 | test_loss: 2.4078 | test_acc: 0.1902\n"
     ]
    },
    {
     "name": "stderr",
     "output_type": "stream",
     "text": [
      " 40%|████      | 40/100 [2:05:56<2:40:32, 160.54s/it]"
     ]
    },
    {
     "name": "stdout",
     "output_type": "stream",
     "text": [
      "Epoch: 40 | train_loss: 1.0960 | train_acc: 0.5582 | test_loss: 2.7128 | test_acc: 0.1912\n"
     ]
    },
    {
     "name": "stderr",
     "output_type": "stream",
     "text": [
      " 41%|████      | 41/100 [2:08:33<2:36:52, 159.54s/it]"
     ]
    },
    {
     "name": "stdout",
     "output_type": "stream",
     "text": [
      "Epoch: 41 | train_loss: 1.0913 | train_acc: 0.5652 | test_loss: 2.4200 | test_acc: 0.1890\n"
     ]
    },
    {
     "name": "stderr",
     "output_type": "stream",
     "text": [
      " 42%|████▏     | 42/100 [2:11:11<2:33:38, 158.94s/it]"
     ]
    },
    {
     "name": "stdout",
     "output_type": "stream",
     "text": [
      "Epoch: 42 | train_loss: 1.0911 | train_acc: 0.5588 | test_loss: 2.4867 | test_acc: 0.1955\n"
     ]
    },
    {
     "name": "stderr",
     "output_type": "stream",
     "text": [
      " 43%|████▎     | 43/100 [2:13:49<2:30:45, 158.69s/it]"
     ]
    },
    {
     "name": "stdout",
     "output_type": "stream",
     "text": [
      "Epoch: 43 | train_loss: 1.0816 | train_acc: 0.5684 | test_loss: 2.5527 | test_acc: 0.1637\n"
     ]
    },
    {
     "name": "stderr",
     "output_type": "stream",
     "text": [
      " 44%|████▍     | 44/100 [2:16:27<2:27:47, 158.35s/it]"
     ]
    },
    {
     "name": "stdout",
     "output_type": "stream",
     "text": [
      "Epoch: 44 | train_loss: 1.0810 | train_acc: 0.5619 | test_loss: 2.3420 | test_acc: 0.1750\n"
     ]
    },
    {
     "name": "stderr",
     "output_type": "stream",
     "text": [
      " 45%|████▌     | 45/100 [2:19:59<2:40:08, 174.70s/it]"
     ]
    },
    {
     "name": "stdout",
     "output_type": "stream",
     "text": [
      "Epoch: 45 | train_loss: 1.0753 | train_acc: 0.5683 | test_loss: 2.3628 | test_acc: 0.1576\n"
     ]
    },
    {
     "name": "stderr",
     "output_type": "stream",
     "text": [
      " 46%|████▌     | 46/100 [2:38:25<6:48:33, 453.95s/it]"
     ]
    },
    {
     "name": "stdout",
     "output_type": "stream",
     "text": [
      "Epoch: 46 | train_loss: 1.0625 | train_acc: 0.5732 | test_loss: 2.4815 | test_acc: 0.1652\n"
     ]
    },
    {
     "name": "stderr",
     "output_type": "stream",
     "text": [
      " 47%|████▋     | 47/100 [2:41:03<5:22:40, 365.30s/it]"
     ]
    },
    {
     "name": "stdout",
     "output_type": "stream",
     "text": [
      "Epoch: 47 | train_loss: 1.0776 | train_acc: 0.5682 | test_loss: 2.4448 | test_acc: 0.1884\n"
     ]
    },
    {
     "name": "stderr",
     "output_type": "stream",
     "text": [
      " 48%|████▊     | 48/100 [2:43:41<4:22:39, 303.06s/it]"
     ]
    },
    {
     "name": "stdout",
     "output_type": "stream",
     "text": [
      "Epoch: 48 | train_loss: 1.0766 | train_acc: 0.5700 | test_loss: 2.4469 | test_acc: 0.1695\n"
     ]
    },
    {
     "name": "stderr",
     "output_type": "stream",
     "text": [
      " 49%|████▉     | 49/100 [2:46:20<3:40:42, 259.66s/it]"
     ]
    },
    {
     "name": "stdout",
     "output_type": "stream",
     "text": [
      "Epoch: 49 | train_loss: 1.0548 | train_acc: 0.5799 | test_loss: 2.6229 | test_acc: 0.1923\n"
     ]
    },
    {
     "name": "stderr",
     "output_type": "stream",
     "text": [
      " 50%|█████     | 50/100 [2:48:57<3:10:51, 229.04s/it]"
     ]
    },
    {
     "name": "stdout",
     "output_type": "stream",
     "text": [
      "Epoch: 50 | train_loss: 1.0604 | train_acc: 0.5765 | test_loss: 2.3786 | test_acc: 0.1733\n"
     ]
    },
    {
     "name": "stderr",
     "output_type": "stream",
     "text": [
      " 51%|█████     | 51/100 [2:51:34<2:49:23, 207.43s/it]"
     ]
    },
    {
     "name": "stdout",
     "output_type": "stream",
     "text": [
      "Epoch: 51 | train_loss: 1.0491 | train_acc: 0.5814 | test_loss: 2.4998 | test_acc: 0.1890\n"
     ]
    },
    {
     "name": "stderr",
     "output_type": "stream",
     "text": [
      " 52%|█████▏    | 52/100 [2:54:11<2:33:47, 192.23s/it]"
     ]
    },
    {
     "name": "stdout",
     "output_type": "stream",
     "text": [
      "Epoch: 52 | train_loss: 1.0381 | train_acc: 0.5879 | test_loss: 2.6922 | test_acc: 0.1593\n"
     ]
    },
    {
     "name": "stderr",
     "output_type": "stream",
     "text": [
      " 53%|█████▎    | 53/100 [2:56:49<2:22:33, 181.98s/it]"
     ]
    },
    {
     "name": "stdout",
     "output_type": "stream",
     "text": [
      "Epoch: 53 | train_loss: 1.0373 | train_acc: 0.5917 | test_loss: 2.6443 | test_acc: 0.1954\n"
     ]
    },
    {
     "name": "stderr",
     "output_type": "stream",
     "text": [
      " 54%|█████▍    | 54/100 [2:59:26<2:13:49, 174.55s/it]"
     ]
    },
    {
     "name": "stdout",
     "output_type": "stream",
     "text": [
      "Epoch: 54 | train_loss: 1.0296 | train_acc: 0.5945 | test_loss: 2.4592 | test_acc: 0.1561\n"
     ]
    },
    {
     "name": "stderr",
     "output_type": "stream",
     "text": [
      " 55%|█████▌    | 55/100 [3:02:05<2:07:16, 169.71s/it]"
     ]
    },
    {
     "name": "stdout",
     "output_type": "stream",
     "text": [
      "Epoch: 55 | train_loss: 1.0334 | train_acc: 0.5871 | test_loss: 2.3934 | test_acc: 0.1793\n"
     ]
    },
    {
     "name": "stderr",
     "output_type": "stream",
     "text": [
      " 56%|█████▌    | 56/100 [3:04:42<2:01:45, 166.03s/it]"
     ]
    },
    {
     "name": "stdout",
     "output_type": "stream",
     "text": [
      "Epoch: 56 | train_loss: 1.0234 | train_acc: 0.5921 | test_loss: 2.5765 | test_acc: 0.1868\n"
     ]
    },
    {
     "name": "stderr",
     "output_type": "stream",
     "text": [
      " 57%|█████▋    | 57/100 [3:07:20<1:57:20, 163.74s/it]"
     ]
    },
    {
     "name": "stdout",
     "output_type": "stream",
     "text": [
      "Epoch: 57 | train_loss: 1.0266 | train_acc: 0.5846 | test_loss: 2.4045 | test_acc: 0.1679\n"
     ]
    },
    {
     "name": "stderr",
     "output_type": "stream",
     "text": [
      " 58%|█████▊    | 58/100 [3:09:58<1:53:22, 161.96s/it]"
     ]
    },
    {
     "name": "stdout",
     "output_type": "stream",
     "text": [
      "Epoch: 58 | train_loss: 1.0194 | train_acc: 0.5919 | test_loss: 2.6029 | test_acc: 0.1713\n"
     ]
    },
    {
     "name": "stderr",
     "output_type": "stream",
     "text": [
      " 59%|█████▉    | 59/100 [3:13:00<1:54:43, 167.88s/it]"
     ]
    },
    {
     "name": "stdout",
     "output_type": "stream",
     "text": [
      "Epoch: 59 | train_loss: 1.0225 | train_acc: 0.5937 | test_loss: 2.8023 | test_acc: 0.1740\n"
     ]
    },
    {
     "name": "stderr",
     "output_type": "stream",
     "text": [
      " 60%|██████    | 60/100 [3:15:48<1:52:01, 168.05s/it]"
     ]
    },
    {
     "name": "stdout",
     "output_type": "stream",
     "text": [
      "Epoch: 60 | train_loss: 1.0126 | train_acc: 0.5986 | test_loss: 2.8466 | test_acc: 0.1772\n"
     ]
    },
    {
     "name": "stderr",
     "output_type": "stream",
     "text": [
      " 61%|██████    | 61/100 [3:18:33<1:48:33, 167.01s/it]"
     ]
    },
    {
     "name": "stdout",
     "output_type": "stream",
     "text": [
      "Epoch: 61 | train_loss: 1.0136 | train_acc: 0.5988 | test_loss: 2.5567 | test_acc: 0.1852\n"
     ]
    },
    {
     "name": "stderr",
     "output_type": "stream",
     "text": [
      " 62%|██████▏   | 62/100 [3:21:16<1:45:05, 165.94s/it]"
     ]
    },
    {
     "name": "stdout",
     "output_type": "stream",
     "text": [
      "Epoch: 62 | train_loss: 1.0195 | train_acc: 0.5990 | test_loss: 2.5778 | test_acc: 0.1621\n"
     ]
    },
    {
     "name": "stderr",
     "output_type": "stream",
     "text": [
      " 63%|██████▎   | 63/100 [3:23:59<1:41:46, 165.04s/it]"
     ]
    },
    {
     "name": "stdout",
     "output_type": "stream",
     "text": [
      "Epoch: 63 | train_loss: 1.0024 | train_acc: 0.6051 | test_loss: 2.7281 | test_acc: 0.1713\n"
     ]
    },
    {
     "name": "stderr",
     "output_type": "stream",
     "text": [
      " 64%|██████▍   | 64/100 [3:26:41<1:38:24, 164.02s/it]"
     ]
    },
    {
     "name": "stdout",
     "output_type": "stream",
     "text": [
      "Epoch: 64 | train_loss: 1.0076 | train_acc: 0.6020 | test_loss: 2.7367 | test_acc: 0.1598\n"
     ]
    },
    {
     "name": "stderr",
     "output_type": "stream",
     "text": [
      " 65%|██████▌   | 65/100 [3:29:23<1:35:21, 163.48s/it]"
     ]
    },
    {
     "name": "stdout",
     "output_type": "stream",
     "text": [
      "Epoch: 65 | train_loss: 0.9973 | train_acc: 0.6094 | test_loss: 2.6826 | test_acc: 0.1382\n"
     ]
    },
    {
     "name": "stderr",
     "output_type": "stream",
     "text": [
      " 66%|██████▌   | 66/100 [3:32:04<1:32:11, 162.69s/it]"
     ]
    },
    {
     "name": "stdout",
     "output_type": "stream",
     "text": [
      "Epoch: 66 | train_loss: 0.9953 | train_acc: 0.6045 | test_loss: 2.8026 | test_acc: 0.1555\n"
     ]
    },
    {
     "name": "stderr",
     "output_type": "stream",
     "text": [
      " 67%|██████▋   | 67/100 [3:34:54<1:30:42, 164.92s/it]"
     ]
    },
    {
     "name": "stdout",
     "output_type": "stream",
     "text": [
      "Epoch: 67 | train_loss: 0.9955 | train_acc: 0.6043 | test_loss: 2.9709 | test_acc: 0.1636\n"
     ]
    },
    {
     "name": "stderr",
     "output_type": "stream",
     "text": [
      " 68%|██████▊   | 68/100 [3:38:09<1:32:45, 173.91s/it]"
     ]
    },
    {
     "name": "stdout",
     "output_type": "stream",
     "text": [
      "Epoch: 68 | train_loss: 0.9889 | train_acc: 0.6126 | test_loss: 2.6483 | test_acc: 0.1636\n"
     ]
    },
    {
     "name": "stderr",
     "output_type": "stream",
     "text": [
      " 69%|██████▉   | 69/100 [3:41:04<1:29:58, 174.16s/it]"
     ]
    },
    {
     "name": "stdout",
     "output_type": "stream",
     "text": [
      "Epoch: 69 | train_loss: 0.9876 | train_acc: 0.6099 | test_loss: 2.7437 | test_acc: 0.1668\n"
     ]
    },
    {
     "name": "stderr",
     "output_type": "stream",
     "text": [
      " 70%|███████   | 70/100 [3:43:52<1:26:09, 172.30s/it]"
     ]
    },
    {
     "name": "stdout",
     "output_type": "stream",
     "text": [
      "Epoch: 70 | train_loss: 0.9830 | train_acc: 0.6152 | test_loss: 2.5962 | test_acc: 0.1646\n"
     ]
    },
    {
     "name": "stderr",
     "output_type": "stream",
     "text": [
      " 71%|███████   | 71/100 [3:46:36<1:22:10, 170.01s/it]"
     ]
    },
    {
     "name": "stdout",
     "output_type": "stream",
     "text": [
      "Epoch: 71 | train_loss: 0.9719 | train_acc: 0.6159 | test_loss: 2.7915 | test_acc: 0.1733\n"
     ]
    },
    {
     "name": "stderr",
     "output_type": "stream",
     "text": [
      " 72%|███████▏  | 72/100 [3:49:21<1:18:30, 168.24s/it]"
     ]
    },
    {
     "name": "stdout",
     "output_type": "stream",
     "text": [
      "Epoch: 72 | train_loss: 0.9671 | train_acc: 0.6185 | test_loss: 2.8790 | test_acc: 0.1566\n"
     ]
    },
    {
     "name": "stderr",
     "output_type": "stream",
     "text": [
      " 73%|███████▎  | 73/100 [3:52:03<1:14:56, 166.55s/it]"
     ]
    },
    {
     "name": "stdout",
     "output_type": "stream",
     "text": [
      "Epoch: 73 | train_loss: 0.9621 | train_acc: 0.6118 | test_loss: 2.6658 | test_acc: 0.1766\n"
     ]
    },
    {
     "name": "stderr",
     "output_type": "stream",
     "text": [
      " 74%|███████▍  | 74/100 [3:54:46<1:11:39, 165.37s/it]"
     ]
    },
    {
     "name": "stdout",
     "output_type": "stream",
     "text": [
      "Epoch: 74 | train_loss: 0.9733 | train_acc: 0.6133 | test_loss: 2.8821 | test_acc: 0.1543\n"
     ]
    },
    {
     "name": "stderr",
     "output_type": "stream",
     "text": [
      " 75%|███████▌  | 75/100 [3:57:27<1:08:22, 164.09s/it]"
     ]
    },
    {
     "name": "stdout",
     "output_type": "stream",
     "text": [
      "Epoch: 75 | train_loss: 0.9725 | train_acc: 0.6201 | test_loss: 2.6374 | test_acc: 0.1928\n"
     ]
    },
    {
     "name": "stderr",
     "output_type": "stream",
     "text": [
      " 76%|███████▌  | 76/100 [4:00:08<1:05:19, 163.33s/it]"
     ]
    },
    {
     "name": "stdout",
     "output_type": "stream",
     "text": [
      "Epoch: 76 | train_loss: 0.9680 | train_acc: 0.6139 | test_loss: 2.7639 | test_acc: 0.1624\n"
     ]
    },
    {
     "name": "stderr",
     "output_type": "stream",
     "text": [
      " 77%|███████▋  | 77/100 [4:02:50<1:02:24, 162.79s/it]"
     ]
    },
    {
     "name": "stdout",
     "output_type": "stream",
     "text": [
      "Epoch: 77 | train_loss: 0.9600 | train_acc: 0.6129 | test_loss: 2.9193 | test_acc: 0.1716\n"
     ]
    },
    {
     "name": "stderr",
     "output_type": "stream",
     "text": [
      " 78%|███████▊  | 78/100 [4:05:32<59:33, 162.45s/it]  "
     ]
    },
    {
     "name": "stdout",
     "output_type": "stream",
     "text": [
      "Epoch: 78 | train_loss: 0.9601 | train_acc: 0.6183 | test_loss: 2.6855 | test_acc: 0.1804\n"
     ]
    },
    {
     "name": "stderr",
     "output_type": "stream",
     "text": [
      " 79%|███████▉  | 79/100 [4:08:15<56:58, 162.77s/it]"
     ]
    },
    {
     "name": "stdout",
     "output_type": "stream",
     "text": [
      "Epoch: 79 | train_loss: 0.9518 | train_acc: 0.6216 | test_loss: 2.8820 | test_acc: 0.1696\n"
     ]
    },
    {
     "name": "stderr",
     "output_type": "stream",
     "text": [
      " 80%|████████  | 80/100 [4:11:00<54:29, 163.48s/it]"
     ]
    },
    {
     "name": "stdout",
     "output_type": "stream",
     "text": [
      "Epoch: 80 | train_loss: 0.9512 | train_acc: 0.6216 | test_loss: 2.6816 | test_acc: 0.1511\n"
     ]
    },
    {
     "name": "stderr",
     "output_type": "stream",
     "text": [
      " 81%|████████  | 81/100 [4:13:46<52:00, 164.22s/it]"
     ]
    },
    {
     "name": "stdout",
     "output_type": "stream",
     "text": [
      "Epoch: 81 | train_loss: 0.9479 | train_acc: 0.6259 | test_loss: 2.9049 | test_acc: 0.1566\n"
     ]
    },
    {
     "name": "stderr",
     "output_type": "stream",
     "text": [
      " 82%|████████▏ | 82/100 [4:16:33<49:31, 165.10s/it]"
     ]
    },
    {
     "name": "stdout",
     "output_type": "stream",
     "text": [
      "Epoch: 82 | train_loss: 0.9443 | train_acc: 0.6298 | test_loss: 3.0317 | test_acc: 0.1713\n"
     ]
    },
    {
     "name": "stderr",
     "output_type": "stream",
     "text": [
      " 83%|████████▎ | 83/100 [4:19:22<47:02, 166.01s/it]"
     ]
    },
    {
     "name": "stdout",
     "output_type": "stream",
     "text": [
      "Epoch: 83 | train_loss: 0.9536 | train_acc: 0.6240 | test_loss: 2.9987 | test_acc: 0.1710\n"
     ]
    },
    {
     "name": "stderr",
     "output_type": "stream",
     "text": [
      " 84%|████████▍ | 84/100 [4:22:11<44:32, 167.03s/it]"
     ]
    },
    {
     "name": "stdout",
     "output_type": "stream",
     "text": [
      "Epoch: 84 | train_loss: 0.9409 | train_acc: 0.6268 | test_loss: 2.7721 | test_acc: 0.1878\n"
     ]
    },
    {
     "name": "stderr",
     "output_type": "stream",
     "text": [
      " 85%|████████▌ | 85/100 [4:25:00<41:53, 167.59s/it]"
     ]
    },
    {
     "name": "stdout",
     "output_type": "stream",
     "text": [
      "Epoch: 85 | train_loss: 0.9509 | train_acc: 0.6292 | test_loss: 2.7639 | test_acc: 0.1646\n"
     ]
    },
    {
     "name": "stderr",
     "output_type": "stream",
     "text": [
      " 86%|████████▌ | 86/100 [4:27:50<39:15, 168.22s/it]"
     ]
    },
    {
     "name": "stdout",
     "output_type": "stream",
     "text": [
      "Epoch: 86 | train_loss: 0.9333 | train_acc: 0.6296 | test_loss: 2.7078 | test_acc: 0.1594\n"
     ]
    },
    {
     "name": "stderr",
     "output_type": "stream",
     "text": [
      " 87%|████████▋ | 87/100 [4:30:38<36:29, 168.41s/it]"
     ]
    },
    {
     "name": "stdout",
     "output_type": "stream",
     "text": [
      "Epoch: 87 | train_loss: 0.9290 | train_acc: 0.6311 | test_loss: 2.8773 | test_acc: 0.1538\n"
     ]
    },
    {
     "name": "stderr",
     "output_type": "stream",
     "text": [
      " 88%|████████▊ | 88/100 [4:33:28<33:44, 168.67s/it]"
     ]
    },
    {
     "name": "stdout",
     "output_type": "stream",
     "text": [
      "Epoch: 88 | train_loss: 0.9408 | train_acc: 0.6303 | test_loss: 3.0007 | test_acc: 0.1587\n"
     ]
    },
    {
     "name": "stderr",
     "output_type": "stream",
     "text": [
      " 89%|████████▉ | 89/100 [4:36:18<31:01, 169.19s/it]"
     ]
    },
    {
     "name": "stdout",
     "output_type": "stream",
     "text": [
      "Epoch: 89 | train_loss: 0.9331 | train_acc: 0.6307 | test_loss: 2.7670 | test_acc: 0.1609\n"
     ]
    },
    {
     "name": "stderr",
     "output_type": "stream",
     "text": [
      " 90%|█████████ | 90/100 [4:39:08<28:14, 169.44s/it]"
     ]
    },
    {
     "name": "stdout",
     "output_type": "stream",
     "text": [
      "Epoch: 90 | train_loss: 0.9281 | train_acc: 0.6343 | test_loss: 2.7967 | test_acc: 0.1619\n"
     ]
    },
    {
     "name": "stderr",
     "output_type": "stream",
     "text": [
      " 91%|█████████ | 91/100 [4:42:00<25:31, 170.14s/it]"
     ]
    },
    {
     "name": "stdout",
     "output_type": "stream",
     "text": [
      "Epoch: 91 | train_loss: 0.9253 | train_acc: 0.6349 | test_loss: 2.9755 | test_acc: 0.1706\n"
     ]
    },
    {
     "name": "stderr",
     "output_type": "stream",
     "text": [
      " 92%|█████████▏| 92/100 [4:44:51<22:43, 170.43s/it]"
     ]
    },
    {
     "name": "stdout",
     "output_type": "stream",
     "text": [
      "Epoch: 92 | train_loss: 0.9239 | train_acc: 0.6346 | test_loss: 2.8083 | test_acc: 0.1700\n"
     ]
    },
    {
     "name": "stderr",
     "output_type": "stream",
     "text": [
      " 93%|█████████▎| 93/100 [4:47:41<19:51, 170.22s/it]"
     ]
    },
    {
     "name": "stdout",
     "output_type": "stream",
     "text": [
      "Epoch: 93 | train_loss: 0.9188 | train_acc: 0.6421 | test_loss: 3.2456 | test_acc: 0.1718\n"
     ]
    },
    {
     "name": "stderr",
     "output_type": "stream",
     "text": [
      " 94%|█████████▍| 94/100 [4:50:30<17:00, 170.09s/it]"
     ]
    },
    {
     "name": "stdout",
     "output_type": "stream",
     "text": [
      "Epoch: 94 | train_loss: 0.9220 | train_acc: 0.6308 | test_loss: 2.8580 | test_acc: 0.1534\n"
     ]
    },
    {
     "name": "stderr",
     "output_type": "stream",
     "text": [
      " 95%|█████████▌| 95/100 [4:53:20<14:09, 169.82s/it]"
     ]
    },
    {
     "name": "stdout",
     "output_type": "stream",
     "text": [
      "Epoch: 95 | train_loss: 0.9137 | train_acc: 0.6346 | test_loss: 2.9469 | test_acc: 0.1404\n"
     ]
    },
    {
     "name": "stderr",
     "output_type": "stream",
     "text": [
      " 96%|█████████▌| 96/100 [4:56:08<11:17, 169.38s/it]"
     ]
    },
    {
     "name": "stdout",
     "output_type": "stream",
     "text": [
      "Epoch: 96 | train_loss: 0.9244 | train_acc: 0.6366 | test_loss: 3.0332 | test_acc: 0.1545\n"
     ]
    },
    {
     "name": "stderr",
     "output_type": "stream",
     "text": [
      " 97%|█████████▋| 97/100 [4:58:55<08:26, 168.74s/it]"
     ]
    },
    {
     "name": "stdout",
     "output_type": "stream",
     "text": [
      "Epoch: 97 | train_loss: 0.9119 | train_acc: 0.6431 | test_loss: 2.8428 | test_acc: 0.1566\n"
     ]
    },
    {
     "name": "stderr",
     "output_type": "stream",
     "text": [
      " 98%|█████████▊| 98/100 [5:01:42<05:36, 168.26s/it]"
     ]
    },
    {
     "name": "stdout",
     "output_type": "stream",
     "text": [
      "Epoch: 98 | train_loss: 0.9090 | train_acc: 0.6428 | test_loss: 2.8690 | test_acc: 0.1640\n"
     ]
    },
    {
     "name": "stderr",
     "output_type": "stream",
     "text": [
      " 99%|█████████▉| 99/100 [5:04:30<02:48, 168.21s/it]"
     ]
    },
    {
     "name": "stdout",
     "output_type": "stream",
     "text": [
      "Epoch: 99 | train_loss: 0.9067 | train_acc: 0.6451 | test_loss: 2.8000 | test_acc: 0.1705\n"
     ]
    },
    {
     "name": "stderr",
     "output_type": "stream",
     "text": [
      "100%|██████████| 100/100 [5:07:18<00:00, 184.39s/it]"
     ]
    },
    {
     "name": "stdout",
     "output_type": "stream",
     "text": [
      "Epoch: 100 | train_loss: 0.9064 | train_acc: 0.6383 | test_loss: 2.9919 | test_acc: 0.1770\n",
      "Total training time: 16233.055 seconds\n"
     ]
    },
    {
     "name": "stderr",
     "output_type": "stream",
     "text": [
      "\n"
     ]
    }
   ],
   "source": [
    "from data_setup import create_dataloaders\n",
    "from engine import train_step, test_step, train\n",
    "\n",
    "device = torch.device(\"mps\") if torch.backends.mps.is_available() else \"cpu\"\n",
    "\n",
    "torch.manual_seed(SEED) \n",
    "torch.mps.manual_seed(SEED)\n",
    "\n",
    "NUM_EPOCHS = 100\n",
    "\n",
    "model = HybridModel(num_emotions=len(class_names)).to(device)\n",
    "loss_fn = nn.CrossEntropyLoss()\n",
    "optimizer = torch.optim.Adam(params=model.parameters(), lr=0.001)\n",
    "\n",
    "start_time = timer()\n",
    "\n",
    "model_results = train(model=model, \n",
    "                      train_dataloader=train_dataloader,\n",
    "                      test_dataloader=test_dataloader,\n",
    "                      optimizer=optimizer,\n",
    "                      loss_fn=loss_fn, \n",
    "                      epochs=NUM_EPOCHS,\n",
    "                      device=device)\n",
    "\n",
    "end_time = timer()\n",
    "print(f\"Total training time: {end_time-start_time:.3f} seconds\")"
   ]
  },
  {
   "cell_type": "code",
   "execution_count": 12,
   "id": "b16c5596-7b0c-4e76-a463-963cfb477594",
   "metadata": {},
   "outputs": [
    {
     "data": {
      "text/plain": [
       "dict_keys(['train_loss', 'train_acc', 'test_loss', 'test_acc'])"
      ]
     },
     "execution_count": 12,
     "metadata": {},
     "output_type": "execute_result"
    }
   ],
   "source": [
    "# Check the model_0_results keys\n",
    "model_results.keys()"
   ]
  },
  {
   "cell_type": "code",
   "execution_count": 13,
   "id": "ff4b26b8-9c2b-460d-adf4-aff701403a07",
   "metadata": {},
   "outputs": [],
   "source": [
    "def plot_loss_curves(results: Dict[str, List[float]]):\n",
    "    \"\"\"Plots training curves of a results dictionary.\n",
    "\n",
    "    Args:\n",
    "        results (dict): dictionary containing list of values, e.g.\n",
    "            {\"train_loss\": [...],\n",
    "             \"train_acc\": [...],\n",
    "             \"test_loss\": [...],\n",
    "             \"test_acc\": [...]}\n",
    "    \"\"\"\n",
    "    \n",
    "    # Get the loss values of the results dictionary (training and test)\n",
    "    loss = results['train_loss']\n",
    "    test_loss = results['test_loss']\n",
    "\n",
    "    # Get the accuracy values of the results dictionary (training and test)\n",
    "    accuracy = results['train_acc']\n",
    "    test_accuracy = results['test_acc']\n",
    "\n",
    "    # Figure out how many epochs there were\n",
    "    epochs = range(len(results['train_loss']))\n",
    "\n",
    "    # Setup a plot \n",
    "    plt.figure(figsize=(15, 7))\n",
    "\n",
    "    # Plot loss\n",
    "    plt.subplot(1, 2, 1)\n",
    "    plt.plot(epochs, loss, label='train_loss')\n",
    "    plt.plot(epochs, test_loss, label='test_loss')\n",
    "    plt.title('Loss')\n",
    "    plt.xlabel('Epochs')\n",
    "    plt.legend()\n",
    "\n",
    "    # Plot accuracy\n",
    "    plt.subplot(1, 2, 2)\n",
    "    plt.plot(epochs, accuracy, label='train_accuracy')\n",
    "    plt.plot(epochs, test_accuracy, label='test_accuracy')\n",
    "    plt.title('Accuracy')\n",
    "    plt.xlabel('Epochs')\n",
    "    plt.legend();"
   ]
  },
  {
   "cell_type": "code",
   "execution_count": 14,
   "id": "3b212bb5-5ab6-4124-9c88-d35f789ed2cb",
   "metadata": {},
   "outputs": [
    {
     "data": {
      "image/png": "[encoded data removed]",
      "text/plain": [
       "<Figure size 1500x700 with 2 Axes>"
      ]
     },
     "metadata": {},
     "output_type": "display_data"
    }
   ],
   "source": [
    "plot_loss_curves(model_results)"
   ]
  },
  {
   "cell_type": "markdown",
   "id": "2b7ade64-caf3-4cf8-a20f-a205004893fe",
   "metadata": {},
   "source": [
    "## Zapisanie modelu"
   ]
  },
  {
   "cell_type": "code",
   "execution_count": 15,
   "id": "4da79f23-7742-4467-bbb0-130f0f2732ab",
   "metadata": {},
   "outputs": [],
   "source": [
    "model_save_path = \"../models/cnn_lstm_model_crema.pth\"\n",
    "\n",
    "torch.save(obj=model.state_dict(),\n",
    "             f=model_save_path)"
   ]
  },
  {
   "cell_type": "code",
   "execution_count": null,
   "id": "3f935474-850e-4698-9202-a976a53c0de4",
   "metadata": {},
   "outputs": [],
   "source": []
  }
 ],
 "metadata": {
  "kernelspec": {
   "display_name": "my_ser_env",
   "language": "python",
   "name": "my_ser_env"
  },
  "language_info": {
   "codemirror_mode": {
    "name": "ipython",
    "version": 3
   },
   "file_extension": ".py",
   "mimetype": "text/x-python",
   "name": "python",
   "nbconvert_exporter": "python",
   "pygments_lexer": "ipython3",
   "version": "3.12.5"
  }
 },
 "nbformat": 4,
 "nbformat_minor": 5
}
