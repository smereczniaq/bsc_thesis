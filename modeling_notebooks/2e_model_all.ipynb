{
 "cells": [
  {
   "cell_type": "markdown",
   "id": "4da0f072-93d2-460f-8bdd-8b337aa3cf7f",
   "metadata": {},
   "source": [
    "# Import bibliotek"
   ]
  },
  {
   "cell_type": "code",
   "execution_count": 1,
   "id": "37af525f-0ad6-4da4-a494-d76b94bfd58d",
   "metadata": {},
   "outputs": [],
   "source": [
    "import warnings\n",
    "warnings.filterwarnings(\"ignore\")"
   ]
  },
  {
   "cell_type": "code",
   "execution_count": 2,
   "id": "802e8e28-c235-4402-babf-4b0b446fe2c4",
   "metadata": {},
   "outputs": [],
   "source": [
    "import pandas as pd\n",
    "\n",
    "import torch\n",
    "from torch import nn\n",
    "from torchvision import transforms\n",
    "\n",
    "import matplotlib.pyplot as plt\n",
    "\n",
    "from sklearn.model_selection import train_test_split\n",
    "from sklearn.preprocessing import StandardScaler\n",
    "\n",
    "from tqdm.auto import tqdm\n",
    "from timeit import default_timer as timer \n",
    "\n",
    "import os\n",
    "\n",
    "from typing import List, Dict"
   ]
  },
  {
   "cell_type": "code",
   "execution_count": 3,
   "id": "9d694c20-e7ad-4ed9-8ac7-306a54859840",
   "metadata": {},
   "outputs": [],
   "source": [
    "import sys\n",
    "sys.path.append(\"../src/\")\n",
    "\n",
    "from data_setup import create_dataloaders\n",
    "from model_builder import HybridModel\n",
    "from engine import train_step, test_step, train"
   ]
  },
  {
   "cell_type": "markdown",
   "id": "9d3ede7a-7c39-4461-aee4-2ab8858d5d3d",
   "metadata": {},
   "source": [
    "# Wczytanie danych"
   ]
  },
  {
   "cell_type": "code",
   "execution_count": 4,
   "id": "d0c30ae0-0ef0-4dbb-8553-895448caebcb",
   "metadata": {},
   "outputs": [
    {
     "data": {
      "text/html": [
       "<div>\n",
       "<style scoped>\n",
       "    .dataframe tbody tr th:only-of-type {\n",
       "        vertical-align: middle;\n",
       "    }\n",
       "\n",
       "    .dataframe tbody tr th {\n",
       "        vertical-align: top;\n",
       "    }\n",
       "\n",
       "    .dataframe thead th {\n",
       "        text-align: right;\n",
       "    }\n",
       "</style>\n",
       "<table border=\"1\" class=\"dataframe\">\n",
       "  <thead>\n",
       "    <tr style=\"text-align: right;\">\n",
       "      <th></th>\n",
       "      <th>Emotion</th>\n",
       "      <th>Path</th>\n",
       "      <th>Dataset</th>\n",
       "      <th>Emotion_mapped</th>\n",
       "    </tr>\n",
       "  </thead>\n",
       "  <tbody>\n",
       "    <tr>\n",
       "      <th>0</th>\n",
       "      <td>ANGRY</td>\n",
       "      <td>../data/kaggle/input/speech-emotion-recognitio...</td>\n",
       "      <td>Crema</td>\n",
       "      <td>0</td>\n",
       "    </tr>\n",
       "    <tr>\n",
       "      <th>1</th>\n",
       "      <td>ANGRY</td>\n",
       "      <td>../data/kaggle/input/speech-emotion-recognitio...</td>\n",
       "      <td>Crema</td>\n",
       "      <td>0</td>\n",
       "    </tr>\n",
       "    <tr>\n",
       "      <th>2</th>\n",
       "      <td>NEUTRAL</td>\n",
       "      <td>../data/kaggle/input/speech-emotion-recognitio...</td>\n",
       "      <td>Crema</td>\n",
       "      <td>1</td>\n",
       "    </tr>\n",
       "    <tr>\n",
       "      <th>3</th>\n",
       "      <td>NEUTRAL</td>\n",
       "      <td>../data/kaggle/input/speech-emotion-recognitio...</td>\n",
       "      <td>Crema</td>\n",
       "      <td>1</td>\n",
       "    </tr>\n",
       "    <tr>\n",
       "      <th>4</th>\n",
       "      <td>DISGUST</td>\n",
       "      <td>../data/kaggle/input/speech-emotion-recognitio...</td>\n",
       "      <td>Crema</td>\n",
       "      <td>2</td>\n",
       "    </tr>\n",
       "    <tr>\n",
       "      <th>...</th>\n",
       "      <td>...</td>\n",
       "      <td>...</td>\n",
       "      <td>...</td>\n",
       "      <td>...</td>\n",
       "    </tr>\n",
       "    <tr>\n",
       "      <th>9390</th>\n",
       "      <td>ANGRY</td>\n",
       "      <td>../data/kaggle/input/speech-emotion-recognitio...</td>\n",
       "      <td>Tess</td>\n",
       "      <td>0</td>\n",
       "    </tr>\n",
       "    <tr>\n",
       "      <th>9391</th>\n",
       "      <td>ANGRY</td>\n",
       "      <td>../data/kaggle/input/speech-emotion-recognitio...</td>\n",
       "      <td>Tess</td>\n",
       "      <td>0</td>\n",
       "    </tr>\n",
       "    <tr>\n",
       "      <th>9392</th>\n",
       "      <td>ANGRY</td>\n",
       "      <td>../data/kaggle/input/speech-emotion-recognitio...</td>\n",
       "      <td>Tess</td>\n",
       "      <td>0</td>\n",
       "    </tr>\n",
       "    <tr>\n",
       "      <th>9393</th>\n",
       "      <td>ANGRY</td>\n",
       "      <td>../data/kaggle/input/speech-emotion-recognitio...</td>\n",
       "      <td>Tess</td>\n",
       "      <td>0</td>\n",
       "    </tr>\n",
       "    <tr>\n",
       "      <th>9394</th>\n",
       "      <td>ANGRY</td>\n",
       "      <td>../data/kaggle/input/speech-emotion-recognitio...</td>\n",
       "      <td>Tess</td>\n",
       "      <td>0</td>\n",
       "    </tr>\n",
       "  </tbody>\n",
       "</table>\n",
       "<p>9395 rows × 4 columns</p>\n",
       "</div>"
      ],
      "text/plain": [
       "      Emotion                                               Path Dataset  \\\n",
       "0       ANGRY  ../data/kaggle/input/speech-emotion-recognitio...   Crema   \n",
       "1       ANGRY  ../data/kaggle/input/speech-emotion-recognitio...   Crema   \n",
       "2     NEUTRAL  ../data/kaggle/input/speech-emotion-recognitio...   Crema   \n",
       "3     NEUTRAL  ../data/kaggle/input/speech-emotion-recognitio...   Crema   \n",
       "4     DISGUST  ../data/kaggle/input/speech-emotion-recognitio...   Crema   \n",
       "...       ...                                                ...     ...   \n",
       "9390    ANGRY  ../data/kaggle/input/speech-emotion-recognitio...    Tess   \n",
       "9391    ANGRY  ../data/kaggle/input/speech-emotion-recognitio...    Tess   \n",
       "9392    ANGRY  ../data/kaggle/input/speech-emotion-recognitio...    Tess   \n",
       "9393    ANGRY  ../data/kaggle/input/speech-emotion-recognitio...    Tess   \n",
       "9394    ANGRY  ../data/kaggle/input/speech-emotion-recognitio...    Tess   \n",
       "\n",
       "      Emotion_mapped  \n",
       "0                  0  \n",
       "1                  0  \n",
       "2                  1  \n",
       "3                  1  \n",
       "4                  2  \n",
       "...              ...  \n",
       "9390               0  \n",
       "9391               0  \n",
       "9392               0  \n",
       "9393               0  \n",
       "9394               0  \n",
       "\n",
       "[9395 rows x 4 columns]"
      ]
     },
     "execution_count": 4,
     "metadata": {},
     "output_type": "execute_result"
    }
   ],
   "source": [
    "df = pd.read_csv(\"../data/datasets_sum.csv\")\n",
    "df"
   ]
  },
  {
   "cell_type": "code",
   "execution_count": 5,
   "id": "403e236b-b0e6-4faa-b24b-dcbccb9e5b8b",
   "metadata": {},
   "outputs": [],
   "source": [
    "SAMPLE_RATE = 44100\n",
    "SEED = 42"
   ]
  },
  {
   "cell_type": "code",
   "execution_count": 6,
   "id": "2f99a006-cafd-4b20-a991-911d0bd005e4",
   "metadata": {},
   "outputs": [],
   "source": [
    "train_df, test_df = train_test_split(df, test_size=0.3, stratify=df[\"Emotion_mapped\"], random_state=SEED)"
   ]
  },
  {
   "cell_type": "code",
   "execution_count": 7,
   "id": "6a896a7c-2e80-4e24-87a8-78b7938efd38",
   "metadata": {},
   "outputs": [],
   "source": [
    "original_transform = transforms.Compose([\n",
    "    transforms.Resize((224, 224)),\n",
    "    transforms.Normalize(mean=[0.485], std=[0.229])\n",
    "])\n",
    "\n",
    "augment_transform = transforms.Compose([\n",
    "    transforms.RandomHorizontalFlip(),\n",
    "    transforms.RandomRotation(10),\n",
    "    transforms.RandomHorizontalFlip(p=0.5),\n",
    "    transforms.Resize((224, 224)),\n",
    "    transforms.Normalize(mean=[0.485], std=[0.229])\n",
    "])"
   ]
  },
  {
   "cell_type": "code",
   "execution_count": 8,
   "id": "ba2919e9-5521-4d22-93bf-443324570cc8",
   "metadata": {},
   "outputs": [],
   "source": [
    "train_dataloader, test_dataloader, class_names = create_dataloaders(\n",
    "    train_dataframe=train_df, \n",
    "    test_dataframe=test_df, \n",
    "    original_transform=original_transform, \n",
    "    augment_transform=augment_transform,\n",
    "    batch_size=32\n",
    ")"
   ]
  },
  {
   "cell_type": "code",
   "execution_count": 9,
   "id": "d8787de3-a023-473c-8134-e7e43b1f2e3b",
   "metadata": {},
   "outputs": [
    {
     "data": {
      "text/plain": [
       "(<torch.utils.data.dataloader.DataLoader at 0x13200d430>,\n",
       " <torch.utils.data.dataloader.DataLoader at 0x13200d250>,\n",
       " array(['DISGUST', 'ANGRY', 'FEAR', 'HAPPY', 'NEUTRAL'], dtype=object))"
      ]
     },
     "execution_count": 9,
     "metadata": {},
     "output_type": "execute_result"
    }
   ],
   "source": [
    "train_dataloader, test_dataloader, class_names"
   ]
  },
  {
   "cell_type": "markdown",
   "id": "eb9cba19-0ea3-4ff5-b682-dece400802ac",
   "metadata": {},
   "source": [
    "# Model"
   ]
  },
  {
   "cell_type": "markdown",
   "id": "e163fb5a-f4eb-469d-84c8-88c3df0ad497",
   "metadata": {},
   "source": [
    "## Uczenie"
   ]
  },
  {
   "cell_type": "code",
   "execution_count": 10,
   "id": "7061d605-8146-4711-8546-5cf4d66aba36",
   "metadata": {
    "scrolled": true
   },
   "outputs": [
    {
     "name": "stderr",
     "output_type": "stream",
     "text": [
      "  1%|          | 1/100 [03:14<5:20:37, 194.31s/it]"
     ]
    },
    {
     "name": "stdout",
     "output_type": "stream",
     "text": [
      "Epoch: 1 | train_loss: 1.5117 | train_acc: 0.3165 | test_loss: 1.8355 | test_acc: 0.2489\n"
     ]
    },
    {
     "name": "stderr",
     "output_type": "stream",
     "text": [
      "  2%|▏         | 2/100 [06:27<5:15:58, 193.45s/it]"
     ]
    },
    {
     "name": "stdout",
     "output_type": "stream",
     "text": [
      "Epoch: 2 | train_loss: 1.4012 | train_acc: 0.3884 | test_loss: 2.0526 | test_acc: 0.2420\n"
     ]
    },
    {
     "name": "stderr",
     "output_type": "stream",
     "text": [
      "  3%|▎         | 3/100 [09:37<5:10:10, 191.86s/it]"
     ]
    },
    {
     "name": "stdout",
     "output_type": "stream",
     "text": [
      "Epoch: 3 | train_loss: 1.3353 | train_acc: 0.4348 | test_loss: 1.9972 | test_acc: 0.2206\n"
     ]
    },
    {
     "name": "stderr",
     "output_type": "stream",
     "text": [
      "  4%|▍         | 4/100 [12:46<5:05:08, 190.71s/it]"
     ]
    },
    {
     "name": "stdout",
     "output_type": "stream",
     "text": [
      "Epoch: 4 | train_loss: 1.3015 | train_acc: 0.4496 | test_loss: 2.1473 | test_acc: 0.2979\n"
     ]
    },
    {
     "name": "stderr",
     "output_type": "stream",
     "text": [
      "  5%|▌         | 5/100 [46:13<22:19:01, 845.70s/it]"
     ]
    },
    {
     "name": "stdout",
     "output_type": "stream",
     "text": [
      "Epoch: 5 | train_loss: 1.2494 | train_acc: 0.4779 | test_loss: 2.2055 | test_acc: 0.2526\n"
     ]
    },
    {
     "name": "stderr",
     "output_type": "stream",
     "text": [
      "  6%|▌         | 6/100 [56:34<20:05:39, 769.57s/it]"
     ]
    },
    {
     "name": "stdout",
     "output_type": "stream",
     "text": [
      "Epoch: 6 | train_loss: 1.2031 | train_acc: 0.5057 | test_loss: 2.4011 | test_acc: 0.2343\n"
     ]
    },
    {
     "name": "stderr",
     "output_type": "stream",
     "text": [
      "  7%|▋         | 7/100 [1:15:08<22:47:11, 882.06s/it]"
     ]
    },
    {
     "name": "stdout",
     "output_type": "stream",
     "text": [
      "Epoch: 7 | train_loss: 1.1549 | train_acc: 0.5229 | test_loss: 2.2975 | test_acc: 0.1939\n"
     ]
    },
    {
     "name": "stderr",
     "output_type": "stream",
     "text": [
      "  8%|▊         | 8/100 [1:18:49<17:09:56, 671.70s/it]"
     ]
    },
    {
     "name": "stdout",
     "output_type": "stream",
     "text": [
      "Epoch: 8 | train_loss: 1.1191 | train_acc: 0.5476 | test_loss: 2.5298 | test_acc: 0.2161\n"
     ]
    },
    {
     "name": "stderr",
     "output_type": "stream",
     "text": [
      "  9%|▉         | 9/100 [1:21:58<13:09:45, 520.72s/it]"
     ]
    },
    {
     "name": "stdout",
     "output_type": "stream",
     "text": [
      "Epoch: 9 | train_loss: 1.0882 | train_acc: 0.5554 | test_loss: 2.3884 | test_acc: 0.1953\n"
     ]
    },
    {
     "name": "stderr",
     "output_type": "stream",
     "text": [
      " 10%|█         | 10/100 [1:25:11<10:29:14, 419.50s/it]"
     ]
    },
    {
     "name": "stdout",
     "output_type": "stream",
     "text": [
      "Epoch: 10 | train_loss: 1.0602 | train_acc: 0.5713 | test_loss: 2.4659 | test_acc: 0.1649\n"
     ]
    },
    {
     "name": "stderr",
     "output_type": "stream",
     "text": [
      " 11%|█         | 11/100 [1:28:34<8:43:57, 353.23s/it] "
     ]
    },
    {
     "name": "stdout",
     "output_type": "stream",
     "text": [
      "Epoch: 11 | train_loss: 1.0373 | train_acc: 0.5748 | test_loss: 2.4473 | test_acc: 0.2066\n"
     ]
    },
    {
     "name": "stderr",
     "output_type": "stream",
     "text": [
      " 12%|█▏        | 12/100 [1:31:53<7:29:05, 306.20s/it]"
     ]
    },
    {
     "name": "stdout",
     "output_type": "stream",
     "text": [
      "Epoch: 12 | train_loss: 1.0210 | train_acc: 0.5852 | test_loss: 2.4685 | test_acc: 0.1827\n"
     ]
    },
    {
     "name": "stderr",
     "output_type": "stream",
     "text": [
      " 13%|█▎        | 13/100 [1:35:22<6:41:19, 276.77s/it]"
     ]
    },
    {
     "name": "stdout",
     "output_type": "stream",
     "text": [
      "Epoch: 13 | train_loss: 0.9999 | train_acc: 0.5959 | test_loss: 2.6669 | test_acc: 0.1704\n"
     ]
    },
    {
     "name": "stderr",
     "output_type": "stream",
     "text": [
      " 14%|█▍        | 14/100 [1:39:04<6:13:03, 260.28s/it]"
     ]
    },
    {
     "name": "stdout",
     "output_type": "stream",
     "text": [
      "Epoch: 14 | train_loss: 0.9876 | train_acc: 0.6063 | test_loss: 2.6775 | test_acc: 0.1479\n"
     ]
    },
    {
     "name": "stderr",
     "output_type": "stream",
     "text": [
      " 15%|█▌        | 15/100 [1:42:37<5:48:47, 246.20s/it]"
     ]
    },
    {
     "name": "stdout",
     "output_type": "stream",
     "text": [
      "Epoch: 15 | train_loss: 0.9697 | train_acc: 0.6099 | test_loss: 2.7479 | test_acc: 0.1746\n"
     ]
    },
    {
     "name": "stderr",
     "output_type": "stream",
     "text": [
      " 16%|█▌        | 16/100 [1:46:05<5:28:34, 234.70s/it]"
     ]
    },
    {
     "name": "stdout",
     "output_type": "stream",
     "text": [
      "Epoch: 16 | train_loss: 0.9658 | train_acc: 0.6149 | test_loss: 2.7533 | test_acc: 0.1557\n"
     ]
    },
    {
     "name": "stderr",
     "output_type": "stream",
     "text": [
      " 17%|█▋        | 17/100 [1:49:41<5:16:48, 229.02s/it]"
     ]
    },
    {
     "name": "stdout",
     "output_type": "stream",
     "text": [
      "Epoch: 17 | train_loss: 0.9497 | train_acc: 0.6179 | test_loss: 2.8143 | test_acc: 0.1834\n"
     ]
    },
    {
     "name": "stderr",
     "output_type": "stream",
     "text": [
      " 18%|█▊        | 18/100 [1:53:25<5:10:42, 227.35s/it]"
     ]
    },
    {
     "name": "stdout",
     "output_type": "stream",
     "text": [
      "Epoch: 18 | train_loss: 0.9464 | train_acc: 0.6139 | test_loss: 2.7878 | test_acc: 0.1925\n"
     ]
    },
    {
     "name": "stderr",
     "output_type": "stream",
     "text": [
      " 19%|█▉        | 19/100 [1:57:11<5:06:34, 227.10s/it]"
     ]
    },
    {
     "name": "stdout",
     "output_type": "stream",
     "text": [
      "Epoch: 19 | train_loss: 0.9354 | train_acc: 0.6210 | test_loss: 2.6580 | test_acc: 0.1725\n"
     ]
    },
    {
     "name": "stderr",
     "output_type": "stream",
     "text": [
      " 20%|██        | 20/100 [2:01:02<5:04:09, 228.12s/it]"
     ]
    },
    {
     "name": "stdout",
     "output_type": "stream",
     "text": [
      "Epoch: 20 | train_loss: 0.9294 | train_acc: 0.6245 | test_loss: 2.5727 | test_acc: 0.1648\n"
     ]
    },
    {
     "name": "stderr",
     "output_type": "stream",
     "text": [
      " 21%|██        | 21/100 [2:04:40<4:56:32, 225.23s/it]"
     ]
    },
    {
     "name": "stdout",
     "output_type": "stream",
     "text": [
      "Epoch: 21 | train_loss: 0.9263 | train_acc: 0.6286 | test_loss: 2.7229 | test_acc: 0.1662\n"
     ]
    },
    {
     "name": "stderr",
     "output_type": "stream",
     "text": [
      " 22%|██▏       | 22/100 [2:08:03<4:44:14, 218.65s/it]"
     ]
    },
    {
     "name": "stdout",
     "output_type": "stream",
     "text": [
      "Epoch: 22 | train_loss: 0.9085 | train_acc: 0.6293 | test_loss: 2.5702 | test_acc: 0.1783\n"
     ]
    },
    {
     "name": "stderr",
     "output_type": "stream",
     "text": [
      " 23%|██▎       | 23/100 [2:11:22<4:32:47, 212.57s/it]"
     ]
    },
    {
     "name": "stdout",
     "output_type": "stream",
     "text": [
      "Epoch: 23 | train_loss: 0.9108 | train_acc: 0.6326 | test_loss: 2.9743 | test_acc: 0.1565\n"
     ]
    },
    {
     "name": "stderr",
     "output_type": "stream",
     "text": [
      " 24%|██▍       | 24/100 [2:14:33<4:20:58, 206.04s/it]"
     ]
    },
    {
     "name": "stdout",
     "output_type": "stream",
     "text": [
      "Epoch: 24 | train_loss: 0.8962 | train_acc: 0.6406 | test_loss: 2.9456 | test_acc: 0.1855\n"
     ]
    },
    {
     "name": "stderr",
     "output_type": "stream",
     "text": [
      " 25%|██▌       | 25/100 [2:17:42<4:11:13, 200.98s/it]"
     ]
    },
    {
     "name": "stdout",
     "output_type": "stream",
     "text": [
      "Epoch: 25 | train_loss: 0.8935 | train_acc: 0.6429 | test_loss: 2.8908 | test_acc: 0.1606\n"
     ]
    },
    {
     "name": "stderr",
     "output_type": "stream",
     "text": [
      " 26%|██▌       | 26/100 [2:20:52<4:03:59, 197.83s/it]"
     ]
    },
    {
     "name": "stdout",
     "output_type": "stream",
     "text": [
      "Epoch: 26 | train_loss: 0.8860 | train_acc: 0.6410 | test_loss: 2.9193 | test_acc: 0.1571\n"
     ]
    },
    {
     "name": "stderr",
     "output_type": "stream",
     "text": [
      " 27%|██▋       | 27/100 [2:24:10<4:00:38, 197.79s/it]"
     ]
    },
    {
     "name": "stdout",
     "output_type": "stream",
     "text": [
      "Epoch: 27 | train_loss: 0.8949 | train_acc: 0.6381 | test_loss: 2.7969 | test_acc: 0.1637\n"
     ]
    },
    {
     "name": "stderr",
     "output_type": "stream",
     "text": [
      " 28%|██▊       | 28/100 [2:27:22<3:55:06, 195.92s/it]"
     ]
    },
    {
     "name": "stdout",
     "output_type": "stream",
     "text": [
      "Epoch: 28 | train_loss: 0.8829 | train_acc: 0.6448 | test_loss: 2.9452 | test_acc: 0.1862\n"
     ]
    },
    {
     "name": "stderr",
     "output_type": "stream",
     "text": [
      " 29%|██▉       | 29/100 [2:30:34<3:50:34, 194.85s/it]"
     ]
    },
    {
     "name": "stdout",
     "output_type": "stream",
     "text": [
      "Epoch: 29 | train_loss: 0.8649 | train_acc: 0.6538 | test_loss: 3.2402 | test_acc: 0.1785\n"
     ]
    },
    {
     "name": "stderr",
     "output_type": "stream",
     "text": [
      " 30%|███       | 30/100 [2:33:46<3:46:18, 193.98s/it]"
     ]
    },
    {
     "name": "stdout",
     "output_type": "stream",
     "text": [
      "Epoch: 30 | train_loss: 0.8663 | train_acc: 0.6488 | test_loss: 3.0365 | test_acc: 0.1290\n"
     ]
    },
    {
     "name": "stderr",
     "output_type": "stream",
     "text": [
      " 31%|███       | 31/100 [2:36:58<3:42:30, 193.49s/it]"
     ]
    },
    {
     "name": "stdout",
     "output_type": "stream",
     "text": [
      "Epoch: 31 | train_loss: 0.8675 | train_acc: 0.6537 | test_loss: 3.1130 | test_acc: 0.1739\n"
     ]
    },
    {
     "name": "stderr",
     "output_type": "stream",
     "text": [
      " 32%|███▏      | 32/100 [2:40:17<3:41:04, 195.06s/it]"
     ]
    },
    {
     "name": "stdout",
     "output_type": "stream",
     "text": [
      "Epoch: 32 | train_loss: 0.8548 | train_acc: 0.6577 | test_loss: 2.9881 | test_acc: 0.1479\n"
     ]
    },
    {
     "name": "stderr",
     "output_type": "stream",
     "text": [
      " 33%|███▎      | 33/100 [2:43:30<3:37:12, 194.52s/it]"
     ]
    },
    {
     "name": "stdout",
     "output_type": "stream",
     "text": [
      "Epoch: 33 | train_loss: 0.8534 | train_acc: 0.6596 | test_loss: 3.1721 | test_acc: 0.1599\n"
     ]
    },
    {
     "name": "stderr",
     "output_type": "stream",
     "text": [
      " 34%|███▍      | 34/100 [2:46:44<3:33:36, 194.19s/it]"
     ]
    },
    {
     "name": "stdout",
     "output_type": "stream",
     "text": [
      "Epoch: 34 | train_loss: 0.8521 | train_acc: 0.6574 | test_loss: 3.1310 | test_acc: 0.1486\n"
     ]
    },
    {
     "name": "stderr",
     "output_type": "stream",
     "text": [
      " 35%|███▌      | 35/100 [2:49:57<3:30:12, 194.04s/it]"
     ]
    },
    {
     "name": "stdout",
     "output_type": "stream",
     "text": [
      "Epoch: 35 | train_loss: 0.8400 | train_acc: 0.6601 | test_loss: 3.2516 | test_acc: 0.1395\n"
     ]
    },
    {
     "name": "stderr",
     "output_type": "stream",
     "text": [
      " 36%|███▌      | 36/100 [2:53:12<3:27:06, 194.16s/it]"
     ]
    },
    {
     "name": "stdout",
     "output_type": "stream",
     "text": [
      "Epoch: 36 | train_loss: 0.8376 | train_acc: 0.6649 | test_loss: 3.4006 | test_acc: 0.1578\n"
     ]
    },
    {
     "name": "stderr",
     "output_type": "stream",
     "text": [
      " 37%|███▋      | 37/100 [2:56:33<3:26:13, 196.41s/it]"
     ]
    },
    {
     "name": "stdout",
     "output_type": "stream",
     "text": [
      "Epoch: 37 | train_loss: 0.8385 | train_acc: 0.6664 | test_loss: 3.3459 | test_acc: 0.1589\n"
     ]
    },
    {
     "name": "stderr",
     "output_type": "stream",
     "text": [
      " 38%|███▊      | 38/100 [2:59:48<3:22:32, 196.00s/it]"
     ]
    },
    {
     "name": "stdout",
     "output_type": "stream",
     "text": [
      "Epoch: 38 | train_loss: 0.8319 | train_acc: 0.6676 | test_loss: 3.0039 | test_acc: 0.1402\n"
     ]
    },
    {
     "name": "stderr",
     "output_type": "stream",
     "text": [
      " 39%|███▉      | 39/100 [3:03:03<3:18:45, 195.50s/it]"
     ]
    },
    {
     "name": "stdout",
     "output_type": "stream",
     "text": [
      "Epoch: 39 | train_loss: 0.8248 | train_acc: 0.6693 | test_loss: 3.2392 | test_acc: 0.1477\n"
     ]
    },
    {
     "name": "stderr",
     "output_type": "stream",
     "text": [
      " 40%|████      | 40/100 [3:06:18<3:15:18, 195.31s/it]"
     ]
    },
    {
     "name": "stdout",
     "output_type": "stream",
     "text": [
      "Epoch: 40 | train_loss: 0.8287 | train_acc: 0.6674 | test_loss: 3.0890 | test_acc: 0.1658\n"
     ]
    },
    {
     "name": "stderr",
     "output_type": "stream",
     "text": [
      " 41%|████      | 41/100 [3:09:37<3:13:20, 196.62s/it]"
     ]
    },
    {
     "name": "stdout",
     "output_type": "stream",
     "text": [
      "Epoch: 41 | train_loss: 0.8257 | train_acc: 0.6705 | test_loss: 3.0309 | test_acc: 0.1644\n"
     ]
    },
    {
     "name": "stderr",
     "output_type": "stream",
     "text": [
      " 42%|████▏     | 42/100 [3:12:52<3:09:29, 196.03s/it]"
     ]
    },
    {
     "name": "stdout",
     "output_type": "stream",
     "text": [
      "Epoch: 42 | train_loss: 0.8279 | train_acc: 0.6692 | test_loss: 3.1161 | test_acc: 0.1595\n"
     ]
    },
    {
     "name": "stderr",
     "output_type": "stream",
     "text": [
      " 43%|████▎     | 43/100 [3:16:05<3:05:16, 195.03s/it]"
     ]
    },
    {
     "name": "stdout",
     "output_type": "stream",
     "text": [
      "Epoch: 43 | train_loss: 0.8146 | train_acc: 0.6708 | test_loss: 3.2776 | test_acc: 0.1567\n"
     ]
    },
    {
     "name": "stderr",
     "output_type": "stream",
     "text": [
      " 44%|████▍     | 44/100 [3:19:17<3:01:18, 194.25s/it]"
     ]
    },
    {
     "name": "stdout",
     "output_type": "stream",
     "text": [
      "Epoch: 44 | train_loss: 0.8124 | train_acc: 0.6750 | test_loss: 3.2658 | test_acc: 0.1335\n"
     ]
    },
    {
     "name": "stderr",
     "output_type": "stream",
     "text": [
      " 45%|████▌     | 45/100 [3:22:34<2:58:55, 195.20s/it]"
     ]
    },
    {
     "name": "stdout",
     "output_type": "stream",
     "text": [
      "Epoch: 45 | train_loss: 0.8064 | train_acc: 0.6805 | test_loss: 3.1719 | test_acc: 0.1420\n"
     ]
    },
    {
     "name": "stderr",
     "output_type": "stream",
     "text": [
      " 46%|████▌     | 46/100 [3:25:47<2:55:01, 194.47s/it]"
     ]
    },
    {
     "name": "stdout",
     "output_type": "stream",
     "text": [
      "Epoch: 46 | train_loss: 0.8063 | train_acc: 0.6823 | test_loss: 3.2524 | test_acc: 0.1574\n"
     ]
    },
    {
     "name": "stderr",
     "output_type": "stream",
     "text": [
      " 47%|████▋     | 47/100 [3:28:59<2:51:07, 193.72s/it]"
     ]
    },
    {
     "name": "stdout",
     "output_type": "stream",
     "text": [
      "Epoch: 47 | train_loss: 0.7900 | train_acc: 0.6839 | test_loss: 3.3737 | test_acc: 0.1374\n"
     ]
    },
    {
     "name": "stderr",
     "output_type": "stream",
     "text": [
      " 48%|████▊     | 48/100 [3:32:12<2:47:33, 193.33s/it]"
     ]
    },
    {
     "name": "stdout",
     "output_type": "stream",
     "text": [
      "Epoch: 48 | train_loss: 0.8020 | train_acc: 0.6781 | test_loss: 3.3207 | test_acc: 0.1358\n"
     ]
    },
    {
     "name": "stderr",
     "output_type": "stream",
     "text": [
      " 49%|████▉     | 49/100 [3:35:30<2:45:29, 194.69s/it]"
     ]
    },
    {
     "name": "stdout",
     "output_type": "stream",
     "text": [
      "Epoch: 49 | train_loss: 0.7918 | train_acc: 0.6885 | test_loss: 3.7872 | test_acc: 0.1301\n"
     ]
    },
    {
     "name": "stderr",
     "output_type": "stream",
     "text": [
      " 50%|█████     | 50/100 [3:38:43<2:41:49, 194.19s/it]"
     ]
    },
    {
     "name": "stdout",
     "output_type": "stream",
     "text": [
      "Epoch: 50 | train_loss: 0.7966 | train_acc: 0.6842 | test_loss: 3.4185 | test_acc: 0.1606\n"
     ]
    },
    {
     "name": "stderr",
     "output_type": "stream",
     "text": [
      " 51%|█████     | 51/100 [3:41:54<2:37:53, 193.34s/it]"
     ]
    },
    {
     "name": "stdout",
     "output_type": "stream",
     "text": [
      "Epoch: 51 | train_loss: 0.7912 | train_acc: 0.6851 | test_loss: 3.2746 | test_acc: 0.1518\n"
     ]
    },
    {
     "name": "stderr",
     "output_type": "stream",
     "text": [
      " 52%|█████▏    | 52/100 [3:45:06<2:34:28, 193.10s/it]"
     ]
    },
    {
     "name": "stdout",
     "output_type": "stream",
     "text": [
      "Epoch: 52 | train_loss: 0.7871 | train_acc: 0.6851 | test_loss: 3.3465 | test_acc: 0.1455\n"
     ]
    },
    {
     "name": "stderr",
     "output_type": "stream",
     "text": [
      " 53%|█████▎    | 53/100 [3:48:24<2:32:21, 194.50s/it]"
     ]
    },
    {
     "name": "stdout",
     "output_type": "stream",
     "text": [
      "Epoch: 53 | train_loss: 0.7857 | train_acc: 0.6883 | test_loss: 3.3719 | test_acc: 0.1441\n"
     ]
    },
    {
     "name": "stderr",
     "output_type": "stream",
     "text": [
      " 54%|█████▍    | 54/100 [3:51:36<2:28:33, 193.77s/it]"
     ]
    },
    {
     "name": "stdout",
     "output_type": "stream",
     "text": [
      "Epoch: 54 | train_loss: 0.7779 | train_acc: 0.6906 | test_loss: 3.3662 | test_acc: 0.1658\n"
     ]
    },
    {
     "name": "stderr",
     "output_type": "stream",
     "text": [
      " 55%|█████▌    | 55/100 [3:54:50<2:25:23, 193.86s/it]"
     ]
    },
    {
     "name": "stdout",
     "output_type": "stream",
     "text": [
      "Epoch: 55 | train_loss: 0.7866 | train_acc: 0.6854 | test_loss: 3.3501 | test_acc: 0.1452\n"
     ]
    },
    {
     "name": "stderr",
     "output_type": "stream",
     "text": [
      " 56%|█████▌    | 56/100 [3:58:04<2:22:04, 193.75s/it]"
     ]
    },
    {
     "name": "stdout",
     "output_type": "stream",
     "text": [
      "Epoch: 56 | train_loss: 0.7750 | train_acc: 0.6938 | test_loss: 3.6198 | test_acc: 0.1500\n"
     ]
    },
    {
     "name": "stderr",
     "output_type": "stream",
     "text": [
      " 57%|█████▋    | 57/100 [4:01:22<2:19:50, 195.14s/it]"
     ]
    },
    {
     "name": "stdout",
     "output_type": "stream",
     "text": [
      "Epoch: 57 | train_loss: 0.7725 | train_acc: 0.6940 | test_loss: 3.4759 | test_acc: 0.1258\n"
     ]
    },
    {
     "name": "stderr",
     "output_type": "stream",
     "text": [
      " 58%|█████▊    | 58/100 [4:04:36<2:16:12, 194.59s/it]"
     ]
    },
    {
     "name": "stdout",
     "output_type": "stream",
     "text": [
      "Epoch: 58 | train_loss: 0.7635 | train_acc: 0.6924 | test_loss: 3.4204 | test_acc: 0.1258\n"
     ]
    },
    {
     "name": "stderr",
     "output_type": "stream",
     "text": [
      " 59%|█████▉    | 59/100 [4:07:48<2:12:28, 193.86s/it]"
     ]
    },
    {
     "name": "stdout",
     "output_type": "stream",
     "text": [
      "Epoch: 59 | train_loss: 0.7733 | train_acc: 0.6905 | test_loss: 3.4176 | test_acc: 0.1388\n"
     ]
    },
    {
     "name": "stderr",
     "output_type": "stream",
     "text": [
      " 60%|██████    | 60/100 [4:11:06<2:10:05, 195.15s/it]"
     ]
    },
    {
     "name": "stdout",
     "output_type": "stream",
     "text": [
      "Epoch: 60 | train_loss: 0.7737 | train_acc: 0.6927 | test_loss: 3.6108 | test_acc: 0.1486\n"
     ]
    },
    {
     "name": "stderr",
     "output_type": "stream",
     "text": [
      " 61%|██████    | 61/100 [4:14:19<2:06:25, 194.49s/it]"
     ]
    },
    {
     "name": "stdout",
     "output_type": "stream",
     "text": [
      "Epoch: 61 | train_loss: 0.7698 | train_acc: 0.6903 | test_loss: 3.4216 | test_acc: 0.1031\n"
     ]
    },
    {
     "name": "stderr",
     "output_type": "stream",
     "text": [
      " 62%|██████▏   | 62/100 [4:17:32<2:02:56, 194.12s/it]"
     ]
    },
    {
     "name": "stdout",
     "output_type": "stream",
     "text": [
      "Epoch: 62 | train_loss: 0.7690 | train_acc: 0.6927 | test_loss: 3.4422 | test_acc: 0.1838\n"
     ]
    },
    {
     "name": "stderr",
     "output_type": "stream",
     "text": [
      " 63%|██████▎   | 63/100 [4:20:46<1:59:42, 194.12s/it]"
     ]
    },
    {
     "name": "stdout",
     "output_type": "stream",
     "text": [
      "Epoch: 63 | train_loss: 0.7571 | train_acc: 0.7043 | test_loss: 3.4363 | test_acc: 0.1472\n"
     ]
    },
    {
     "name": "stderr",
     "output_type": "stream",
     "text": [
      " 64%|██████▍   | 64/100 [4:24:06<1:57:34, 195.97s/it]"
     ]
    },
    {
     "name": "stdout",
     "output_type": "stream",
     "text": [
      "Epoch: 64 | train_loss: 0.7597 | train_acc: 0.6979 | test_loss: 3.4530 | test_acc: 0.1578\n"
     ]
    },
    {
     "name": "stderr",
     "output_type": "stream",
     "text": [
      " 65%|██████▌   | 65/100 [4:27:22<1:54:11, 195.75s/it]"
     ]
    },
    {
     "name": "stdout",
     "output_type": "stream",
     "text": [
      "Epoch: 65 | train_loss: 0.7573 | train_acc: 0.7011 | test_loss: 3.7251 | test_acc: 0.1658\n"
     ]
    },
    {
     "name": "stderr",
     "output_type": "stream",
     "text": [
      " 66%|██████▌   | 66/100 [4:30:37<1:50:50, 195.60s/it]"
     ]
    },
    {
     "name": "stdout",
     "output_type": "stream",
     "text": [
      "Epoch: 66 | train_loss: 0.7598 | train_acc: 0.7007 | test_loss: 3.3349 | test_acc: 0.1399\n"
     ]
    },
    {
     "name": "stderr",
     "output_type": "stream",
     "text": [
      " 67%|██████▋   | 67/100 [4:33:54<1:47:45, 195.93s/it]"
     ]
    },
    {
     "name": "stdout",
     "output_type": "stream",
     "text": [
      "Epoch: 67 | train_loss: 0.7428 | train_acc: 0.7086 | test_loss: 3.7271 | test_acc: 0.1676\n"
     ]
    },
    {
     "name": "stderr",
     "output_type": "stream",
     "text": [
      " 68%|██████▊   | 68/100 [4:37:14<1:45:14, 197.33s/it]"
     ]
    },
    {
     "name": "stdout",
     "output_type": "stream",
     "text": [
      "Epoch: 68 | train_loss: 0.7527 | train_acc: 0.6968 | test_loss: 3.5800 | test_acc: 0.1399\n"
     ]
    },
    {
     "name": "stderr",
     "output_type": "stream",
     "text": [
      " 69%|██████▉   | 69/100 [4:40:30<1:41:39, 196.75s/it]"
     ]
    },
    {
     "name": "stdout",
     "output_type": "stream",
     "text": [
      "Epoch: 69 | train_loss: 0.7449 | train_acc: 0.7130 | test_loss: 3.7474 | test_acc: 0.1743\n"
     ]
    },
    {
     "name": "stderr",
     "output_type": "stream",
     "text": [
      " 70%|███████   | 70/100 [4:43:45<1:38:07, 196.25s/it]"
     ]
    },
    {
     "name": "stdout",
     "output_type": "stream",
     "text": [
      "Epoch: 70 | train_loss: 0.7524 | train_acc: 0.7031 | test_loss: 3.9351 | test_acc: 0.1445\n"
     ]
    },
    {
     "name": "stderr",
     "output_type": "stream",
     "text": [
      " 71%|███████   | 71/100 [4:47:00<1:34:47, 196.11s/it]"
     ]
    },
    {
     "name": "stdout",
     "output_type": "stream",
     "text": [
      "Epoch: 71 | train_loss: 0.7416 | train_acc: 0.7078 | test_loss: 3.6554 | test_acc: 0.1437\n"
     ]
    },
    {
     "name": "stderr",
     "output_type": "stream",
     "text": [
      " 72%|███████▏  | 72/100 [4:50:21<1:32:10, 197.50s/it]"
     ]
    },
    {
     "name": "stdout",
     "output_type": "stream",
     "text": [
      "Epoch: 72 | train_loss: 0.7401 | train_acc: 0.7076 | test_loss: 3.7711 | test_acc: 0.1722\n"
     ]
    },
    {
     "name": "stderr",
     "output_type": "stream",
     "text": [
      " 73%|███████▎  | 73/100 [4:53:38<1:28:44, 197.21s/it]"
     ]
    },
    {
     "name": "stdout",
     "output_type": "stream",
     "text": [
      "Epoch: 73 | train_loss: 0.7329 | train_acc: 0.7084 | test_loss: 3.9032 | test_acc: 0.1399\n"
     ]
    },
    {
     "name": "stderr",
     "output_type": "stream",
     "text": [
      " 74%|███████▍  | 74/100 [4:56:54<1:25:21, 196.97s/it]"
     ]
    },
    {
     "name": "stdout",
     "output_type": "stream",
     "text": [
      "Epoch: 74 | train_loss: 0.7398 | train_acc: 0.7080 | test_loss: 3.9538 | test_acc: 0.1220\n"
     ]
    },
    {
     "name": "stderr",
     "output_type": "stream",
     "text": [
      " 75%|███████▌  | 75/100 [5:00:10<1:21:56, 196.67s/it]"
     ]
    },
    {
     "name": "stdout",
     "output_type": "stream",
     "text": [
      "Epoch: 75 | train_loss: 0.7482 | train_acc: 0.7007 | test_loss: 3.6384 | test_acc: 0.1567\n"
     ]
    },
    {
     "name": "stderr",
     "output_type": "stream",
     "text": [
      " 76%|███████▌  | 76/100 [5:03:31<1:19:09, 197.89s/it]"
     ]
    },
    {
     "name": "stdout",
     "output_type": "stream",
     "text": [
      "Epoch: 76 | train_loss: 0.7316 | train_acc: 0.7076 | test_loss: 3.7215 | test_acc: 0.1490\n"
     ]
    },
    {
     "name": "stderr",
     "output_type": "stream",
     "text": [
      " 77%|███████▋  | 77/100 [5:06:46<1:15:31, 197.04s/it]"
     ]
    },
    {
     "name": "stdout",
     "output_type": "stream",
     "text": [
      "Epoch: 77 | train_loss: 0.7280 | train_acc: 0.7153 | test_loss: 4.1330 | test_acc: 0.1230\n"
     ]
    },
    {
     "name": "stderr",
     "output_type": "stream",
     "text": [
      " 78%|███████▊  | 78/100 [5:10:00<1:11:57, 196.24s/it]"
     ]
    },
    {
     "name": "stdout",
     "output_type": "stream",
     "text": [
      "Epoch: 78 | train_loss: 0.7296 | train_acc: 0.7085 | test_loss: 3.6091 | test_acc: 0.1399\n"
     ]
    },
    {
     "name": "stderr",
     "output_type": "stream",
     "text": [
      " 79%|███████▉  | 79/100 [5:13:15<1:08:32, 195.82s/it]"
     ]
    },
    {
     "name": "stdout",
     "output_type": "stream",
     "text": [
      "Epoch: 79 | train_loss: 0.7299 | train_acc: 0.7117 | test_loss: 3.6175 | test_acc: 0.1515\n"
     ]
    },
    {
     "name": "stderr",
     "output_type": "stream",
     "text": [
      " 80%|████████  | 80/100 [5:16:35<1:05:42, 197.11s/it]"
     ]
    },
    {
     "name": "stdout",
     "output_type": "stream",
     "text": [
      "Epoch: 80 | train_loss: 0.7287 | train_acc: 0.7069 | test_loss: 4.0509 | test_acc: 0.1388\n"
     ]
    },
    {
     "name": "stderr",
     "output_type": "stream",
     "text": [
      " 81%|████████  | 81/100 [5:19:51<1:02:15, 196.59s/it]"
     ]
    },
    {
     "name": "stdout",
     "output_type": "stream",
     "text": [
      "Epoch: 81 | train_loss: 0.7303 | train_acc: 0.7173 | test_loss: 3.9240 | test_acc: 0.1680\n"
     ]
    },
    {
     "name": "stderr",
     "output_type": "stream",
     "text": [
      " 82%|████████▏ | 82/100 [5:23:04<58:42, 195.71s/it]  "
     ]
    },
    {
     "name": "stdout",
     "output_type": "stream",
     "text": [
      "Epoch: 82 | train_loss: 0.7215 | train_acc: 0.7178 | test_loss: 3.7044 | test_acc: 0.1351\n"
     ]
    },
    {
     "name": "stderr",
     "output_type": "stream",
     "text": [
      " 83%|████████▎ | 83/100 [5:26:20<55:25, 195.60s/it]"
     ]
    },
    {
     "name": "stdout",
     "output_type": "stream",
     "text": [
      "Epoch: 83 | train_loss: 0.7297 | train_acc: 0.7069 | test_loss: 3.4529 | test_acc: 0.1420\n"
     ]
    },
    {
     "name": "stderr",
     "output_type": "stream",
     "text": [
      " 84%|████████▍ | 84/100 [5:29:42<52:42, 197.67s/it]"
     ]
    },
    {
     "name": "stdout",
     "output_type": "stream",
     "text": [
      "Epoch: 84 | train_loss: 0.7244 | train_acc: 0.7121 | test_loss: 3.5393 | test_acc: 0.1342\n"
     ]
    },
    {
     "name": "stderr",
     "output_type": "stream",
     "text": [
      " 85%|████████▌ | 85/100 [5:32:57<49:13, 196.92s/it]"
     ]
    },
    {
     "name": "stdout",
     "output_type": "stream",
     "text": [
      "Epoch: 85 | train_loss: 0.7148 | train_acc: 0.7153 | test_loss: 3.7110 | test_acc: 0.1349\n"
     ]
    },
    {
     "name": "stderr",
     "output_type": "stream",
     "text": [
      " 86%|████████▌ | 86/100 [5:36:13<45:50, 196.45s/it]"
     ]
    },
    {
     "name": "stdout",
     "output_type": "stream",
     "text": [
      "Epoch: 86 | train_loss: 0.7209 | train_acc: 0.7150 | test_loss: 3.7156 | test_acc: 0.1402\n"
     ]
    },
    {
     "name": "stderr",
     "output_type": "stream",
     "text": [
      " 87%|████████▋ | 87/100 [5:39:29<42:31, 196.26s/it]"
     ]
    },
    {
     "name": "stdout",
     "output_type": "stream",
     "text": [
      "Epoch: 87 | train_loss: 0.7170 | train_acc: 0.7166 | test_loss: 3.7797 | test_acc: 0.1265\n"
     ]
    },
    {
     "name": "stderr",
     "output_type": "stream",
     "text": [
      " 88%|████████▊ | 88/100 [5:42:49<39:31, 197.59s/it]"
     ]
    },
    {
     "name": "stdout",
     "output_type": "stream",
     "text": [
      "Epoch: 88 | train_loss: 0.7082 | train_acc: 0.7203 | test_loss: 4.0719 | test_acc: 0.1539\n"
     ]
    },
    {
     "name": "stderr",
     "output_type": "stream",
     "text": [
      " 89%|████████▉ | 89/100 [5:46:04<36:04, 196.74s/it]"
     ]
    },
    {
     "name": "stdout",
     "output_type": "stream",
     "text": [
      "Epoch: 89 | train_loss: 0.7123 | train_acc: 0.7208 | test_loss: 3.9050 | test_acc: 0.1634\n"
     ]
    },
    {
     "name": "stderr",
     "output_type": "stream",
     "text": [
      " 90%|█████████ | 90/100 [5:49:18<32:40, 196.02s/it]"
     ]
    },
    {
     "name": "stdout",
     "output_type": "stream",
     "text": [
      "Epoch: 90 | train_loss: 0.7108 | train_acc: 0.7197 | test_loss: 3.8330 | test_acc: 0.1449\n"
     ]
    },
    {
     "name": "stderr",
     "output_type": "stream",
     "text": [
      " 91%|█████████ | 91/100 [5:52:35<29:25, 196.19s/it]"
     ]
    },
    {
     "name": "stdout",
     "output_type": "stream",
     "text": [
      "Epoch: 91 | train_loss: 0.7108 | train_acc: 0.7191 | test_loss: 3.8160 | test_acc: 0.1607\n"
     ]
    },
    {
     "name": "stderr",
     "output_type": "stream",
     "text": [
      " 92%|█████████▏| 92/100 [5:55:57<26:24, 198.01s/it]"
     ]
    },
    {
     "name": "stdout",
     "output_type": "stream",
     "text": [
      "Epoch: 92 | train_loss: 0.7083 | train_acc: 0.7199 | test_loss: 3.9279 | test_acc: 0.1451\n"
     ]
    },
    {
     "name": "stderr",
     "output_type": "stream",
     "text": [
      " 93%|█████████▎| 93/100 [5:59:15<23:06, 198.03s/it]"
     ]
    },
    {
     "name": "stdout",
     "output_type": "stream",
     "text": [
      "Epoch: 93 | train_loss: 0.7112 | train_acc: 0.7200 | test_loss: 3.7435 | test_acc: 0.1339\n"
     ]
    },
    {
     "name": "stderr",
     "output_type": "stream",
     "text": [
      " 94%|█████████▍| 94/100 [6:02:32<19:45, 197.55s/it]"
     ]
    },
    {
     "name": "stdout",
     "output_type": "stream",
     "text": [
      "Epoch: 94 | train_loss: 0.7029 | train_acc: 0.7236 | test_loss: 3.7548 | test_acc: 0.1434\n"
     ]
    },
    {
     "name": "stderr",
     "output_type": "stream",
     "text": [
      " 95%|█████████▌| 95/100 [6:05:49<16:27, 197.46s/it]"
     ]
    },
    {
     "name": "stdout",
     "output_type": "stream",
     "text": [
      "Epoch: 95 | train_loss: 0.7068 | train_acc: 0.7219 | test_loss: 3.6255 | test_acc: 0.1522\n"
     ]
    },
    {
     "name": "stderr",
     "output_type": "stream",
     "text": [
      " 96%|█████████▌| 96/100 [6:09:12<13:17, 199.29s/it]"
     ]
    },
    {
     "name": "stdout",
     "output_type": "stream",
     "text": [
      "Epoch: 96 | train_loss: 0.7046 | train_acc: 0.7232 | test_loss: 3.8560 | test_acc: 0.1592\n"
     ]
    },
    {
     "name": "stderr",
     "output_type": "stream",
     "text": [
      " 97%|█████████▋| 97/100 [6:12:31<09:57, 199.07s/it]"
     ]
    },
    {
     "name": "stdout",
     "output_type": "stream",
     "text": [
      "Epoch: 97 | train_loss: 0.7021 | train_acc: 0.7229 | test_loss: 3.9064 | test_acc: 0.1458\n"
     ]
    },
    {
     "name": "stderr",
     "output_type": "stream",
     "text": [
      " 98%|█████████▊| 98/100 [6:15:52<06:39, 199.61s/it]"
     ]
    },
    {
     "name": "stdout",
     "output_type": "stream",
     "text": [
      "Epoch: 98 | train_loss: 0.7059 | train_acc: 0.7199 | test_loss: 3.7053 | test_acc: 0.1381\n"
     ]
    },
    {
     "name": "stderr",
     "output_type": "stream",
     "text": [
      "Python(53842) MallocStackLogging: can't turn off malloc stack logging because it was not enabled.\n",
      "Python(53844) MallocStackLogging: can't turn off malloc stack logging because it was not enabled.\n",
      "Python(53850) MallocStackLogging: can't turn off malloc stack logging because it was not enabled.\n",
      "Python(53856) MallocStackLogging: can't turn off malloc stack logging because it was not enabled.\n",
      "Python(53858) MallocStackLogging: can't turn off malloc stack logging because it was not enabled.\n",
      "Python(53860) MallocStackLogging: can't turn off malloc stack logging because it was not enabled.\n",
      "Python(53862) MallocStackLogging: can't turn off malloc stack logging because it was not enabled.\n",
      "Python(53869) MallocStackLogging: can't turn off malloc stack logging because it was not enabled.\n",
      "Python(53886) MallocStackLogging: can't turn off malloc stack logging because it was not enabled.\n",
      "Python(53893) MallocStackLogging: can't turn off malloc stack logging because it was not enabled.\n",
      "Python(54226) MallocStackLogging: can't turn off malloc stack logging because it was not enabled.\n",
      "Python(54228) MallocStackLogging: can't turn off malloc stack logging because it was not enabled.\n",
      "Python(54230) MallocStackLogging: can't turn off malloc stack logging because it was not enabled.\n",
      "Python(54232) MallocStackLogging: can't turn off malloc stack logging because it was not enabled.\n",
      "Python(54239) MallocStackLogging: can't turn off malloc stack logging because it was not enabled.\n",
      "Python(54241) MallocStackLogging: can't turn off malloc stack logging because it was not enabled.\n",
      "Python(54243) MallocStackLogging: can't turn off malloc stack logging because it was not enabled.\n",
      "Python(54245) MallocStackLogging: can't turn off malloc stack logging because it was not enabled.\n",
      "Python(54251) MallocStackLogging: can't turn off malloc stack logging because it was not enabled.\n",
      "Python(54253) MallocStackLogging: can't turn off malloc stack logging because it was not enabled.\n",
      " 99%|█████████▉| 99/100 [6:19:12<03:19, 199.83s/it]"
     ]
    },
    {
     "name": "stdout",
     "output_type": "stream",
     "text": [
      "Epoch: 99 | train_loss: 0.6939 | train_acc: 0.7263 | test_loss: 3.8079 | test_acc: 0.1297\n"
     ]
    },
    {
     "name": "stderr",
     "output_type": "stream",
     "text": [
      "Python(54406) MallocStackLogging: can't turn off malloc stack logging because it was not enabled.\n",
      "Python(54412) MallocStackLogging: can't turn off malloc stack logging because it was not enabled.\n",
      "Python(54415) MallocStackLogging: can't turn off malloc stack logging because it was not enabled.\n",
      "Python(54434) MallocStackLogging: can't turn off malloc stack logging because it was not enabled.\n",
      "Python(54436) MallocStackLogging: can't turn off malloc stack logging because it was not enabled.\n",
      "Python(54443) MallocStackLogging: can't turn off malloc stack logging because it was not enabled.\n",
      "Python(54445) MallocStackLogging: can't turn off malloc stack logging because it was not enabled.\n",
      "Python(54447) MallocStackLogging: can't turn off malloc stack logging because it was not enabled.\n",
      "Python(54449) MallocStackLogging: can't turn off malloc stack logging because it was not enabled.\n",
      "Python(54457) MallocStackLogging: can't turn off malloc stack logging because it was not enabled.\n",
      "Python(54732) MallocStackLogging: can't turn off malloc stack logging because it was not enabled.\n",
      "Python(54734) MallocStackLogging: can't turn off malloc stack logging because it was not enabled.\n",
      "Python(54736) MallocStackLogging: can't turn off malloc stack logging because it was not enabled.\n",
      "Python(54750) MallocStackLogging: can't turn off malloc stack logging because it was not enabled.\n",
      "Python(54753) MallocStackLogging: can't turn off malloc stack logging because it was not enabled.\n",
      "Python(54757) MallocStackLogging: can't turn off malloc stack logging because it was not enabled.\n",
      "Python(54760) MallocStackLogging: can't turn off malloc stack logging because it was not enabled.\n",
      "Python(54767) MallocStackLogging: can't turn off malloc stack logging because it was not enabled.\n",
      "Python(54777) MallocStackLogging: can't turn off malloc stack logging because it was not enabled.\n",
      "Python(54779) MallocStackLogging: can't turn off malloc stack logging because it was not enabled.\n",
      "100%|██████████| 100/100 [6:22:37<00:00, 229.57s/it]"
     ]
    },
    {
     "name": "stdout",
     "output_type": "stream",
     "text": [
      "Epoch: 100 | train_loss: 0.6899 | train_acc: 0.7263 | test_loss: 3.6889 | test_acc: 0.1314\n",
      "Total training time: 19758.061 seconds\n"
     ]
    },
    {
     "name": "stderr",
     "output_type": "stream",
     "text": [
      "\n"
     ]
    }
   ],
   "source": [
    "from data_setup import create_dataloaders\n",
    "from engine import train_step, test_step, train\n",
    "\n",
    "device = torch.device(\"mps\") if torch.backends.mps.is_available() else \"cpu\"\n",
    "\n",
    "torch.manual_seed(SEED) \n",
    "torch.mps.manual_seed(SEED)\n",
    "\n",
    "NUM_EPOCHS = 100\n",
    "\n",
    "model = HybridModel(num_emotions=len(class_names)).to(device)\n",
    "loss_fn = nn.CrossEntropyLoss()\n",
    "optimizer = torch.optim.Adam(params=model.parameters(), lr=0.001)\n",
    "\n",
    "start_time = timer()\n",
    "\n",
    "model_results = train(model=model, \n",
    "                      train_dataloader=train_dataloader,\n",
    "                      test_dataloader=test_dataloader,\n",
    "                      optimizer=optimizer,\n",
    "                      loss_fn=loss_fn, \n",
    "                      epochs=NUM_EPOCHS,\n",
    "                      device=device)\n",
    "\n",
    "end_time = timer()\n",
    "print(f\"Total training time: {end_time-start_time:.3f} seconds\")"
   ]
  },
  {
   "cell_type": "code",
   "execution_count": 11,
   "id": "b16c5596-7b0c-4e76-a463-963cfb477594",
   "metadata": {},
   "outputs": [
    {
     "data": {
      "text/plain": [
       "dict_keys(['train_loss', 'train_acc', 'test_loss', 'test_acc'])"
      ]
     },
     "execution_count": 11,
     "metadata": {},
     "output_type": "execute_result"
    }
   ],
   "source": [
    "# Check the model_0_results keys\n",
    "model_results.keys()"
   ]
  },
  {
   "cell_type": "code",
   "execution_count": 12,
   "id": "ff4b26b8-9c2b-460d-adf4-aff701403a07",
   "metadata": {},
   "outputs": [],
   "source": [
    "def plot_loss_curves(results: Dict[str, List[float]]):\n",
    "    \"\"\"Plots training curves of a results dictionary.\n",
    "\n",
    "    Args:\n",
    "        results (dict): dictionary containing list of values, e.g.\n",
    "            {\"train_loss\": [...],\n",
    "             \"train_acc\": [...],\n",
    "             \"test_loss\": [...],\n",
    "             \"test_acc\": [...]}\n",
    "    \"\"\"\n",
    "    \n",
    "    # Get the loss values of the results dictionary (training and test)\n",
    "    loss = results['train_loss']\n",
    "    test_loss = results['test_loss']\n",
    "\n",
    "    # Get the accuracy values of the results dictionary (training and test)\n",
    "    accuracy = results['train_acc']\n",
    "    test_accuracy = results['test_acc']\n",
    "\n",
    "    # Figure out how many epochs there were\n",
    "    epochs = range(len(results['train_loss']))\n",
    "\n",
    "    # Setup a plot \n",
    "    plt.figure(figsize=(15, 7))\n",
    "\n",
    "    # Plot loss\n",
    "    plt.subplot(1, 2, 1)\n",
    "    plt.plot(epochs, loss, label='train_loss')\n",
    "    plt.plot(epochs, test_loss, label='test_loss')\n",
    "    plt.title('Loss')\n",
    "    plt.xlabel('Epochs')\n",
    "    plt.legend()\n",
    "\n",
    "    # Plot accuracy\n",
    "    plt.subplot(1, 2, 2)\n",
    "    plt.plot(epochs, accuracy, label='train_accuracy')\n",
    "    plt.plot(epochs, test_accuracy, label='test_accuracy')\n",
    "    plt.title('Accuracy')\n",
    "    plt.xlabel('Epochs')\n",
    "    plt.legend();"
   ]
  },
  {
   "cell_type": "code",
   "execution_count": 13,
   "id": "3b212bb5-5ab6-4124-9c88-d35f789ed2cb",
   "metadata": {},
   "outputs": [
    {
     "data": {
      "image/png": "[encoded data removed]",
      "text/plain": [
       "<Figure size 1500x700 with 2 Axes>"
      ]
     },
     "metadata": {},
     "output_type": "display_data"
    }
   ],
   "source": [
    "plot_loss_curves(model_results)"
   ]
  },
  {
   "cell_type": "markdown",
   "id": "2b7ade64-caf3-4cf8-a20f-a205004893fe",
   "metadata": {},
   "source": [
    "## Zapisanie modelu"
   ]
  },
  {
   "cell_type": "code",
   "execution_count": 14,
   "id": "4da79f23-7742-4467-bbb0-130f0f2732ab",
   "metadata": {},
   "outputs": [],
   "source": [
    "model_save_path = \"../models/cnn_lstm_model_all.pth\"\n",
    "\n",
    "torch.save(obj=model.state_dict(),\n",
    "             f=model_save_path)"
   ]
  },
  {
   "cell_type": "code",
   "execution_count": null,
   "id": "3f935474-850e-4698-9202-a976a53c0de4",
   "metadata": {},
   "outputs": [],
   "source": []
  }
 ],
 "metadata": {
  "kernelspec": {
   "display_name": "my_ser_env",
   "language": "python",
   "name": "my_ser_env"
  },
  "language_info": {
   "codemirror_mode": {
    "name": "ipython",
    "version": 3
   },
   "file_extension": ".py",
   "mimetype": "text/x-python",
   "name": "python",
   "nbconvert_exporter": "python",
   "pygments_lexer": "ipython3",
   "version": "3.12.5"
  }
 },
 "nbformat": 4,
 "nbformat_minor": 5
}
