{
 "cells": [
  {
   "cell_type": "code",
   "execution_count": 1,
   "id": "940580ce-7b94-482e-925f-139bbf2160f2",
   "metadata": {},
   "outputs": [],
   "source": [
    "import os\n",
    "\n",
    "import shutil\n",
    "import numpy as np\n",
    "import pandas as pd\n",
    "from random import randrange\n",
    "\n",
    "from sklearn.model_selection import train_test_split"
   ]
  },
  {
   "cell_type": "code",
   "execution_count": 2,
   "id": "eb23c891-cfc6-48a9-a408-111e25706edd",
   "metadata": {
    "scrolled": true
   },
   "outputs": [],
   "source": [
    "# source_folder = \"../data/kaggle/input/speech-emotion-recognition-en/Ravdess/audio_speech_actors_01-24/\"\n",
    "# destination_folder = \"../data/divided/Ravdess/train/\"\n",
    "\n",
    "# for folder_name in os.listdir(source_folder):\n",
    "#     current_folder = source_folder + folder_name\n",
    "#     if os.path.isdir(current_folder):\n",
    "#         for file_name in os.listdir(current_folder):\n",
    "#             file_class = file_name.split('-')[2]\n",
    "#             source = current_folder + '/' + file_name\n",
    "        \n",
    "#             if file_class == '05':\n",
    "#                 destination = destination_folder + 'Anger/'\n",
    "#                 shutil.copy2(source, destination)\n",
    "#             elif file_class == '07':\n",
    "#                 destination = destination_folder + 'Disgust/'\n",
    "#                 shutil.copy2(source, destination)\n",
    "#             elif file_class == '06':\n",
    "#                 destination = destination_folder + 'Fear/'\n",
    "#                 shutil.copy2(source, destination)\n",
    "#             elif file_class == '03':\n",
    "#                 destination = destination_folder + 'Happy/'\n",
    "#                 shutil.copy2(source, destination)\n",
    "#             elif file_class == '01':\n",
    "#                 destination = destination_folder + 'Neutral/'\n",
    "#                 shutil.copy2(source, destination)\n",
    "#             elif file_class == '04':\n",
    "#                 destination = destination_folder + 'Sad/'\n",
    "#                 shutil.copy2(source, destination)\n",
    "#             else:\n",
    "#                 continue"
   ]
  },
  {
   "cell_type": "code",
   "execution_count": 3,
   "id": "7b0a1669-eee8-43cf-b57c-04435744d340",
   "metadata": {},
   "outputs": [],
   "source": [
    "source_folder = \"../data/kaggle/input/speech-emotion-recognition-en/Ravdess/audio_speech_actors_01-24/\"\n",
    "destination_folder = \"../data/divided/Ravdess/train\"\n",
    "\n",
    "file_names = []\n",
    "classes = []\n",
    "\n",
    "df = pd.DataFrame()\n",
    "\n",
    "for folder_name in os.listdir(source_folder):\n",
    "    current_folder = source_folder + folder_name\n",
    "    if os.path.isdir(current_folder):\n",
    "        for file_name in os.listdir(current_folder):\n",
    "            if file_name.endswith(\".wav\"):\n",
    "                file_class = file_name.split('-')[2]\n",
    "                source = f\"{current_folder}/{file_name}\"\n",
    "            \n",
    "                if file_class == '05':\n",
    "                    class_name = \"Anger\"\n",
    "                elif file_class == '07':\n",
    "                    class_name = \"Disgust\"\n",
    "                elif file_class == '06':\n",
    "                    class_name = \"Fear\"\n",
    "                elif file_class == '03':\n",
    "                    class_name = \"Happy\"\n",
    "                elif file_class == '01':\n",
    "                    class_name = \"Neutral\"\n",
    "                elif file_class == '04':\n",
    "                    class_name = \"Sad\"\n",
    "                else:\n",
    "                    continue\n",
    "                file_names.append(file_name)\n",
    "                classes.append(class_name)\n",
    "                destination = f\"{destination_folder}/{class_name}\"\n",
    "        \n",
    "                shutil.copy2(source, destination)"
   ]
  },
  {
   "cell_type": "code",
   "execution_count": 4,
   "id": "2aef9323-ab49-49ad-8d81-2fcfacb01d96",
   "metadata": {},
   "outputs": [
    {
     "data": {
      "text/plain": [
       "1056"
      ]
     },
     "execution_count": 4,
     "metadata": {},
     "output_type": "execute_result"
    }
   ],
   "source": [
    "len(file_names)"
   ]
  },
  {
   "cell_type": "code",
   "execution_count": 5,
   "id": "a351daef-c3cc-4aed-a668-f3a466edafe8",
   "metadata": {},
   "outputs": [
    {
     "data": {
      "text/plain": [
       "1056"
      ]
     },
     "execution_count": 5,
     "metadata": {},
     "output_type": "execute_result"
    }
   ],
   "source": [
    "len(classes)"
   ]
  },
  {
   "cell_type": "code",
   "execution_count": 6,
   "id": "5bed3371-c34e-488f-b7cc-8849f3b98bef",
   "metadata": {},
   "outputs": [],
   "source": [
    "df[\"Filename\"] = file_names\n",
    "df[\"Class\"] = classes"
   ]
  },
  {
   "cell_type": "code",
   "execution_count": 7,
   "id": "15f5b8ce-6677-4ea2-b5cb-73d506ea24bb",
   "metadata": {},
   "outputs": [],
   "source": [
    "train_df, test_df = train_test_split(df, test_size=0.2, random_state=42, stratify=df[[\"Class\"]])"
   ]
  },
  {
   "cell_type": "code",
   "execution_count": 8,
   "id": "3ea80f50-ce09-4601-a12b-18b5a67bb568",
   "metadata": {},
   "outputs": [
    {
     "data": {
      "text/html": [
       "<div>\n",
       "<style scoped>\n",
       "    .dataframe tbody tr th:only-of-type {\n",
       "        vertical-align: middle;\n",
       "    }\n",
       "\n",
       "    .dataframe tbody tr th {\n",
       "        vertical-align: top;\n",
       "    }\n",
       "\n",
       "    .dataframe thead th {\n",
       "        text-align: right;\n",
       "    }\n",
       "</style>\n",
       "<table border=\"1\" class=\"dataframe\">\n",
       "  <thead>\n",
       "    <tr style=\"text-align: right;\">\n",
       "      <th></th>\n",
       "      <th>Filename</th>\n",
       "      <th>Class</th>\n",
       "    </tr>\n",
       "  </thead>\n",
       "  <tbody>\n",
       "    <tr>\n",
       "      <th>179</th>\n",
       "      <td>03-01-06-02-02-02-21.wav</td>\n",
       "      <td>Fear</td>\n",
       "    </tr>\n",
       "    <tr>\n",
       "      <th>988</th>\n",
       "      <td>03-01-07-02-01-02-01.wav</td>\n",
       "      <td>Disgust</td>\n",
       "    </tr>\n",
       "    <tr>\n",
       "      <th>726</th>\n",
       "      <td>03-01-01-01-01-01-22.wav</td>\n",
       "      <td>Neutral</td>\n",
       "    </tr>\n",
       "    <tr>\n",
       "      <th>777</th>\n",
       "      <td>03-01-04-01-01-01-14.wav</td>\n",
       "      <td>Sad</td>\n",
       "    </tr>\n",
       "    <tr>\n",
       "      <th>984</th>\n",
       "      <td>03-01-05-02-02-02-01.wav</td>\n",
       "      <td>Anger</td>\n",
       "    </tr>\n",
       "    <tr>\n",
       "      <th>...</th>\n",
       "      <td>...</td>\n",
       "      <td>...</td>\n",
       "    </tr>\n",
       "    <tr>\n",
       "      <th>505</th>\n",
       "      <td>03-01-03-02-01-01-05.wav</td>\n",
       "      <td>Happy</td>\n",
       "    </tr>\n",
       "    <tr>\n",
       "      <th>645</th>\n",
       "      <td>03-01-07-01-02-02-23.wav</td>\n",
       "      <td>Disgust</td>\n",
       "    </tr>\n",
       "    <tr>\n",
       "      <th>964</th>\n",
       "      <td>03-01-07-01-02-01-06.wav</td>\n",
       "      <td>Disgust</td>\n",
       "    </tr>\n",
       "    <tr>\n",
       "      <th>802</th>\n",
       "      <td>03-01-07-02-02-01-13.wav</td>\n",
       "      <td>Disgust</td>\n",
       "    </tr>\n",
       "    <tr>\n",
       "      <th>176</th>\n",
       "      <td>03-01-06-01-01-02-21.wav</td>\n",
       "      <td>Fear</td>\n",
       "    </tr>\n",
       "  </tbody>\n",
       "</table>\n",
       "<p>844 rows × 2 columns</p>\n",
       "</div>"
      ],
      "text/plain": [
       "                     Filename    Class\n",
       "179  03-01-06-02-02-02-21.wav     Fear\n",
       "988  03-01-07-02-01-02-01.wav  Disgust\n",
       "726  03-01-01-01-01-01-22.wav  Neutral\n",
       "777  03-01-04-01-01-01-14.wav      Sad\n",
       "984  03-01-05-02-02-02-01.wav    Anger\n",
       "..                        ...      ...\n",
       "505  03-01-03-02-01-01-05.wav    Happy\n",
       "645  03-01-07-01-02-02-23.wav  Disgust\n",
       "964  03-01-07-01-02-01-06.wav  Disgust\n",
       "802  03-01-07-02-02-01-13.wav  Disgust\n",
       "176  03-01-06-01-01-02-21.wav     Fear\n",
       "\n",
       "[844 rows x 2 columns]"
      ]
     },
     "execution_count": 8,
     "metadata": {},
     "output_type": "execute_result"
    }
   ],
   "source": [
    "train_df"
   ]
  },
  {
   "cell_type": "code",
   "execution_count": 9,
   "id": "12beaf9f-fba9-403f-a160-df6224147bf9",
   "metadata": {},
   "outputs": [
    {
     "data": {
      "text/html": [
       "<div>\n",
       "<style scoped>\n",
       "    .dataframe tbody tr th:only-of-type {\n",
       "        vertical-align: middle;\n",
       "    }\n",
       "\n",
       "    .dataframe tbody tr th {\n",
       "        vertical-align: top;\n",
       "    }\n",
       "\n",
       "    .dataframe thead th {\n",
       "        text-align: right;\n",
       "    }\n",
       "</style>\n",
       "<table border=\"1\" class=\"dataframe\">\n",
       "  <thead>\n",
       "    <tr style=\"text-align: right;\">\n",
       "      <th></th>\n",
       "      <th>Filename</th>\n",
       "      <th>Class</th>\n",
       "    </tr>\n",
       "  </thead>\n",
       "  <tbody>\n",
       "    <tr>\n",
       "      <th>81</th>\n",
       "      <td>03-01-06-01-01-02-11.wav</td>\n",
       "      <td>Fear</td>\n",
       "    </tr>\n",
       "    <tr>\n",
       "      <th>490</th>\n",
       "      <td>03-01-07-01-01-01-05.wav</td>\n",
       "      <td>Disgust</td>\n",
       "    </tr>\n",
       "    <tr>\n",
       "      <th>809</th>\n",
       "      <td>03-01-07-02-01-02-13.wav</td>\n",
       "      <td>Disgust</td>\n",
       "    </tr>\n",
       "    <tr>\n",
       "      <th>956</th>\n",
       "      <td>03-01-01-01-02-01-06.wav</td>\n",
       "      <td>Neutral</td>\n",
       "    </tr>\n",
       "    <tr>\n",
       "      <th>207</th>\n",
       "      <td>03-01-05-01-01-02-21.wav</td>\n",
       "      <td>Anger</td>\n",
       "    </tr>\n",
       "    <tr>\n",
       "      <th>...</th>\n",
       "      <td>...</td>\n",
       "      <td>...</td>\n",
       "    </tr>\n",
       "    <tr>\n",
       "      <th>1021</th>\n",
       "      <td>03-01-03-01-02-02-08.wav</td>\n",
       "      <td>Happy</td>\n",
       "    </tr>\n",
       "    <tr>\n",
       "      <th>867</th>\n",
       "      <td>03-01-06-01-01-01-09.wav</td>\n",
       "      <td>Fear</td>\n",
       "    </tr>\n",
       "    <tr>\n",
       "      <th>327</th>\n",
       "      <td>03-01-05-02-02-02-17.wav</td>\n",
       "      <td>Anger</td>\n",
       "    </tr>\n",
       "    <tr>\n",
       "      <th>472</th>\n",
       "      <td>03-01-06-01-02-01-02.wav</td>\n",
       "      <td>Fear</td>\n",
       "    </tr>\n",
       "    <tr>\n",
       "      <th>1022</th>\n",
       "      <td>03-01-03-02-01-02-08.wav</td>\n",
       "      <td>Happy</td>\n",
       "    </tr>\n",
       "  </tbody>\n",
       "</table>\n",
       "<p>212 rows × 2 columns</p>\n",
       "</div>"
      ],
      "text/plain": [
       "                      Filename    Class\n",
       "81    03-01-06-01-01-02-11.wav     Fear\n",
       "490   03-01-07-01-01-01-05.wav  Disgust\n",
       "809   03-01-07-02-01-02-13.wav  Disgust\n",
       "956   03-01-01-01-02-01-06.wav  Neutral\n",
       "207   03-01-05-01-01-02-21.wav    Anger\n",
       "...                        ...      ...\n",
       "1021  03-01-03-01-02-02-08.wav    Happy\n",
       "867   03-01-06-01-01-01-09.wav     Fear\n",
       "327   03-01-05-02-02-02-17.wav    Anger\n",
       "472   03-01-06-01-02-01-02.wav     Fear\n",
       "1022  03-01-03-02-01-02-08.wav    Happy\n",
       "\n",
       "[212 rows x 2 columns]"
      ]
     },
     "execution_count": 9,
     "metadata": {},
     "output_type": "execute_result"
    }
   ],
   "source": [
    "test_df"
   ]
  },
  {
   "cell_type": "code",
   "execution_count": 10,
   "id": "f662d1c7-e929-4bdd-92e9-8dc522e87b74",
   "metadata": {},
   "outputs": [],
   "source": [
    "source_folder = \"../data/divided/Ravdess/train/\"\n",
    "destination_folder = \"../data/divided/Ravdess/test/\"\n",
    "\n",
    "for index, row in test_df.iterrows():\n",
    "    file_name = row[\"Filename\"]\n",
    "    class_name = row[\"Class\"]\n",
    "    current_folder = source_folder + class_name\n",
    "    destination = f\"{destination_folder}/{class_name}/\"\n",
    "    source = f\"{current_folder}/{file_name}\"\n",
    "    shutil.move(source, destination)"
   ]
  },
  {
   "cell_type": "code",
   "execution_count": 11,
   "id": "0cc33556-4f8c-4964-85c4-0e10fc1f9959",
   "metadata": {
    "scrolled": true
   },
   "outputs": [],
   "source": [
    "# source_folder = \"../data/divided/Ravdess/train/\"\n",
    "# destination_folder = \"../data/divided/Ravdess/test/\"\n",
    "\n",
    "# for folder_name in os.listdir(source_folder):\n",
    "#     current_folder = source_folder + folder_name\n",
    "#     destination = f\"{destination_folder}/{folder_name}/\"\n",
    "#     if os.path.isdir(current_folder):\n",
    "#         for file_name in os.listdir(current_folder):\n",
    "#             source = current_folder + '/' + file_name\n",
    "#             actor_id_wav = file_name.split('-')[6] #5 people for test 3 male and 2 female\n",
    "#             actor_id = actor_id_wav.split('.')[0]\n",
    "#             if actor_id in ['23', '03', '02', '24', '09']:\n",
    "#                 shutil.move(source, destination)"
   ]
  },
  {
   "cell_type": "code",
   "execution_count": null,
   "id": "b9fb28fe-f4b5-45ea-b3de-caaafbae9f64",
   "metadata": {},
   "outputs": [],
   "source": []
  }
 ],
 "metadata": {
  "kernelspec": {
   "display_name": "my_ser_env",
   "language": "python",
   "name": "my_ser_env"
  },
  "language_info": {
   "codemirror_mode": {
    "name": "ipython",
    "version": 3
   },
   "file_extension": ".py",
   "mimetype": "text/x-python",
   "name": "python",
   "nbconvert_exporter": "python",
   "pygments_lexer": "ipython3",
   "version": "3.12.5"
  }
 },
 "nbformat": 4,
 "nbformat_minor": 5
}
