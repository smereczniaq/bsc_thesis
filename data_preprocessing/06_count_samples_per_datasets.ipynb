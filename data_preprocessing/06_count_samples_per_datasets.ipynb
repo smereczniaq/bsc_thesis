{
 "cells": [
  {
   "cell_type": "code",
   "execution_count": 1,
   "id": "bf3464e2-fa8f-42bc-9111-067b87da8d4d",
   "metadata": {},
   "outputs": [],
   "source": [
    "import os\n",
    "import pandas as pd\n",
    "import numpy as np\n",
    "import seaborn as sns\n",
    "\n",
    "from pathlib import Path"
   ]
  },
  {
   "cell_type": "markdown",
   "id": "be2476ec-8f8d-4722-ac62-e32a989757c3",
   "metadata": {},
   "source": [
    "## Read data"
   ]
  },
  {
   "cell_type": "code",
   "execution_count": 2,
   "id": "ceda62ab-1730-400d-9bff-0ee4340562fb",
   "metadata": {},
   "outputs": [],
   "source": [
    "parent_folder = \"../data/all_datasets\"\n",
    "\n",
    "emotions = [\"Anger\", \"Disgust\", \"Fear\", \"Happy\", \"Neutral\", \"Sad\"]"
   ]
  },
  {
   "cell_type": "code",
   "execution_count": 3,
   "id": "9c63b177-dd9b-4090-b376-3cee9b6b00d7",
   "metadata": {},
   "outputs": [],
   "source": [
    "def get_all_samples_names(parent_folder):\n",
    "    all_samples = []\n",
    "\n",
    "    for train_test in [\"train\", \"test\"]:\n",
    "        parent_folder = os.path.join(parent_folder, train_test)\n",
    "        for emotion in emotions:\n",
    "            all_samples.append(os.listdir(os.path.join(parent_folder, emotion)))\n",
    "        parent_folder = Path(parent_folder).parent\n",
    "    \n",
    "    return all_samples"
   ]
  },
  {
   "cell_type": "code",
   "execution_count": 4,
   "id": "15212461-0481-4835-9087-5ffb87301a45",
   "metadata": {},
   "outputs": [],
   "source": [
    "def get_all_samples_names_per_emotion(parent_folder):\n",
    "    current_samples = []\n",
    "    all_samples = []\n",
    "    train_samples = []\n",
    "    test_samples = []\n",
    "    df = pd.DataFrame()\n",
    "    df_train = pd.DataFrame()\n",
    "    df_test = pd.DataFrame()\n",
    "\n",
    "\n",
    "    for emotion in emotions:\n",
    "        train_path = os.path.join(parent_folder, \"train\")    # Train\n",
    "        current_samples.append(os.listdir(os.path.join(train_path, emotion)))\n",
    "        test_path = os.path.join(parent_folder, \"test\")    # Test\n",
    "        current_samples[0].extend(os.listdir(os.path.join(test_path, emotion)))\n",
    "        \n",
    "        df[emotion] = current_samples\n",
    "        current_samples = []\n",
    " \n",
    "    return df"
   ]
  },
  {
   "cell_type": "code",
   "execution_count": 5,
   "id": "42dda999-b3cf-4af9-b8ee-d996ab39014e",
   "metadata": {
    "scrolled": true
   },
   "outputs": [
    {
     "data": {
      "text/html": [
       "<div>\n",
       "<style scoped>\n",
       "    .dataframe tbody tr th:only-of-type {\n",
       "        vertical-align: middle;\n",
       "    }\n",
       "\n",
       "    .dataframe tbody tr th {\n",
       "        vertical-align: top;\n",
       "    }\n",
       "\n",
       "    .dataframe thead th {\n",
       "        text-align: right;\n",
       "    }\n",
       "</style>\n",
       "<table border=\"1\" class=\"dataframe\">\n",
       "  <thead>\n",
       "    <tr style=\"text-align: right;\">\n",
       "      <th></th>\n",
       "      <th>Anger</th>\n",
       "      <th>Disgust</th>\n",
       "      <th>Fear</th>\n",
       "      <th>Happy</th>\n",
       "      <th>Neutral</th>\n",
       "      <th>Sad</th>\n",
       "    </tr>\n",
       "  </thead>\n",
       "  <tbody>\n",
       "    <tr>\n",
       "      <th>0</th>\n",
       "      <td>[03-01-05-01-02-01-16.wav, 1022_ITS_ANG_XX.wav...</td>\n",
       "      <td>[1073_IOM_DIS_XX.wav, 1066_IOM_DIS_XX.wav, OAF...</td>\n",
       "      <td>[03-01-06-01-02-02-02.wav, 1029_TAI_FEA_XX.wav...</td>\n",
       "      <td>[YAF_wire_happy.wav, OAF_bought_happy.wav, 100...</td>\n",
       "      <td>[1060_ITS_NEU_XX.wav, 1075_ITS_NEU_XX.wav, OAF...</td>\n",
       "      <td>[1039_IEO_SAD_MD.wav, JK_sa01.wav, 1042_ITS_SA...</td>\n",
       "    </tr>\n",
       "  </tbody>\n",
       "</table>\n",
       "</div>"
      ],
      "text/plain": [
       "                                               Anger  \\\n",
       "0  [03-01-05-01-02-01-16.wav, 1022_ITS_ANG_XX.wav...   \n",
       "\n",
       "                                             Disgust  \\\n",
       "0  [1073_IOM_DIS_XX.wav, 1066_IOM_DIS_XX.wav, OAF...   \n",
       "\n",
       "                                                Fear  \\\n",
       "0  [03-01-06-01-02-02-02.wav, 1029_TAI_FEA_XX.wav...   \n",
       "\n",
       "                                               Happy  \\\n",
       "0  [YAF_wire_happy.wav, OAF_bought_happy.wav, 100...   \n",
       "\n",
       "                                             Neutral  \\\n",
       "0  [1060_ITS_NEU_XX.wav, 1075_ITS_NEU_XX.wav, OAF...   \n",
       "\n",
       "                                                 Sad  \n",
       "0  [1039_IEO_SAD_MD.wav, JK_sa01.wav, 1042_ITS_SA...  "
      ]
     },
     "execution_count": 5,
     "metadata": {},
     "output_type": "execute_result"
    }
   ],
   "source": [
    "get_all_samples_names_per_emotion(parent_folder)"
   ]
  },
  {
   "cell_type": "code",
   "execution_count": 6,
   "id": "caacd7cb-cb70-497f-97ff-bd9c908c08f2",
   "metadata": {},
   "outputs": [],
   "source": [
    "def get_all_samples_names_per_emotion_x(parent_folder):\n",
    "    current_samples = []\n",
    "    all_samples = []\n",
    "    train_samples = []\n",
    "    test_samples = []\n",
    "    df = pd.DataFrame()\n",
    "    df_train = pd.DataFrame()\n",
    "    df_test = pd.DataFrame()\n",
    "    \n",
    "    counter = 0\n",
    "    columns = []\n",
    "    list_of_emotion_samples = []\n",
    "\n",
    "    data = pd.DataFrame()\n",
    "\n",
    "    for emotion in emotions:\n",
    "        columns.append(emotion)\n",
    "        train_path = os.path.join(parent_folder, \"train\")    # Train\n",
    "        current_samples.append(os.listdir(os.path.join(train_path, emotion)))\n",
    "        test_path = os.path.join(parent_folder, \"test\")    # Test\n",
    "        current_samples[0].extend(os.listdir(os.path.join(test_path, emotion)))\n",
    "        \n",
    "        list_of_emotion_samples.append(current_samples)\n",
    "        df[emotion] =  pd.Series(current_samples)\n",
    "        data = data.assign(emotion=current_samples)\n",
    "        current_samples = []\n",
    "\n",
    "    print(len(list_of_emotion_samples))\n",
    "\n",
    "    return df"
   ]
  },
  {
   "cell_type": "code",
   "execution_count": 7,
   "id": "de444fce-6b7c-4546-ba3f-bf02027a53e8",
   "metadata": {},
   "outputs": [
    {
     "name": "stdout",
     "output_type": "stream",
     "text": [
      "6\n"
     ]
    }
   ],
   "source": [
    "samples_per_emotion = get_all_samples_names_per_emotion_x(parent_folder)"
   ]
  },
  {
   "cell_type": "code",
   "execution_count": 8,
   "id": "4c01501b-77b7-45d7-a86a-8397cf646f20",
   "metadata": {},
   "outputs": [],
   "source": [
    "def count_samples_per_database(list_of_all_samples):\n",
    "\n",
    "    tess_count = 0\n",
    "    cremad_count = 0\n",
    "    ravdess_count = 0\n",
    "    savee_count = 0\n",
    "\n",
    "    for sample in list_of_all_samples:\n",
    "        if(\"_\" in sample):\n",
    "            if(\"OAF\" in sample.split(\"_\")[0] or \"YAF\" in sample.split(\"_\")[0]):     # TESS\n",
    "                tess_count += 1\n",
    "            elif(sample.split(\"_\")[0] in [\"DC\", \"JE\", \"KL\", \"JK\"]):                 # SAVEE\n",
    "                savee_count += 1\n",
    "            else:                                                                   # CREMA-D\n",
    "                cremad_count += 1\n",
    "        elif(\"-\" in sample):                                                        # RAVDESS\n",
    "            ravdess_count += 1                                                    \n",
    "\n",
    "    dictionary = pd.DataFrame({\n",
    "        \"tess_count\": [tess_count],\n",
    "        \"cremad_count \": [cremad_count],\n",
    "        \"ravdess_count\": [ravdess_count],\n",
    "        \"savee_count\": [savee_count]\n",
    "    })\n",
    "\n",
    "    return dictionary"
   ]
  },
  {
   "cell_type": "code",
   "execution_count": 9,
   "id": "c5a931e4-63d7-48ac-a9f0-c4d432405042",
   "metadata": {},
   "outputs": [],
   "source": [
    "def present_results(samples_per_emotion):\n",
    "\n",
    "    for emotion in emotions:\n",
    "        print(f\"---------------------------------{emotion}---------------------------------\")\n",
    "        print(count_samples_per_database(samples_per_emotion[emotion][0]))\n",
    "\n",
    "    print(\"\\n_______________________________________________________________________\")\n",
    "    \n",
    "    for emotion in emotions:\n",
    "        print(f\"{emotion}: {len(samples_per_emotion[emotion][0])}\")"
   ]
  },
  {
   "cell_type": "code",
   "execution_count": 10,
   "id": "725454df-9c47-4d35-8f35-0182195652b5",
   "metadata": {
    "scrolled": true
   },
   "outputs": [],
   "source": [
    "samples_per_emotion = get_all_samples_names_per_emotion(parent_folder)"
   ]
  },
  {
   "cell_type": "code",
   "execution_count": 11,
   "id": "69fb8ca2-ed6b-4284-a69a-5a9ba5610a06",
   "metadata": {},
   "outputs": [
    {
     "data": {
      "text/html": [
       "<div>\n",
       "<style scoped>\n",
       "    .dataframe tbody tr th:only-of-type {\n",
       "        vertical-align: middle;\n",
       "    }\n",
       "\n",
       "    .dataframe tbody tr th {\n",
       "        vertical-align: top;\n",
       "    }\n",
       "\n",
       "    .dataframe thead th {\n",
       "        text-align: right;\n",
       "    }\n",
       "</style>\n",
       "<table border=\"1\" class=\"dataframe\">\n",
       "  <thead>\n",
       "    <tr style=\"text-align: right;\">\n",
       "      <th></th>\n",
       "      <th>Anger</th>\n",
       "      <th>Disgust</th>\n",
       "      <th>Fear</th>\n",
       "      <th>Happy</th>\n",
       "      <th>Neutral</th>\n",
       "      <th>Sad</th>\n",
       "    </tr>\n",
       "  </thead>\n",
       "  <tbody>\n",
       "    <tr>\n",
       "      <th>0</th>\n",
       "      <td>[03-01-05-01-02-01-16.wav, 1022_ITS_ANG_XX.wav...</td>\n",
       "      <td>[1073_IOM_DIS_XX.wav, 1066_IOM_DIS_XX.wav, OAF...</td>\n",
       "      <td>[03-01-06-01-02-02-02.wav, 1029_TAI_FEA_XX.wav...</td>\n",
       "      <td>[YAF_wire_happy.wav, OAF_bought_happy.wav, 100...</td>\n",
       "      <td>[1060_ITS_NEU_XX.wav, 1075_ITS_NEU_XX.wav, OAF...</td>\n",
       "      <td>[1039_IEO_SAD_MD.wav, JK_sa01.wav, 1042_ITS_SA...</td>\n",
       "    </tr>\n",
       "  </tbody>\n",
       "</table>\n",
       "</div>"
      ],
      "text/plain": [
       "                                               Anger  \\\n",
       "0  [03-01-05-01-02-01-16.wav, 1022_ITS_ANG_XX.wav...   \n",
       "\n",
       "                                             Disgust  \\\n",
       "0  [1073_IOM_DIS_XX.wav, 1066_IOM_DIS_XX.wav, OAF...   \n",
       "\n",
       "                                                Fear  \\\n",
       "0  [03-01-06-01-02-02-02.wav, 1029_TAI_FEA_XX.wav...   \n",
       "\n",
       "                                               Happy  \\\n",
       "0  [YAF_wire_happy.wav, OAF_bought_happy.wav, 100...   \n",
       "\n",
       "                                             Neutral  \\\n",
       "0  [1060_ITS_NEU_XX.wav, 1075_ITS_NEU_XX.wav, OAF...   \n",
       "\n",
       "                                                 Sad  \n",
       "0  [1039_IEO_SAD_MD.wav, JK_sa01.wav, 1042_ITS_SA...  "
      ]
     },
     "execution_count": 11,
     "metadata": {},
     "output_type": "execute_result"
    }
   ],
   "source": [
    "samples_per_emotion"
   ]
  },
  {
   "cell_type": "code",
   "execution_count": 12,
   "id": "b204bcfb-b1ce-42e1-94c4-71c552b3a24b",
   "metadata": {},
   "outputs": [
    {
     "name": "stdout",
     "output_type": "stream",
     "text": [
      "---------------------------------Anger---------------------------------\n",
      "   tess_count  cremad_count   ravdess_count  savee_count\n",
      "0         400           1271            192           60\n",
      "---------------------------------Disgust---------------------------------\n",
      "   tess_count  cremad_count   ravdess_count  savee_count\n",
      "0         400           1271            192           60\n",
      "---------------------------------Fear---------------------------------\n",
      "   tess_count  cremad_count   ravdess_count  savee_count\n",
      "0         400           1271            192           60\n",
      "---------------------------------Happy---------------------------------\n",
      "   tess_count  cremad_count   ravdess_count  savee_count\n",
      "0         400           1271            192           60\n",
      "---------------------------------Neutral---------------------------------\n",
      "   tess_count  cremad_count   ravdess_count  savee_count\n",
      "0         399           1088             96          120\n",
      "---------------------------------Sad---------------------------------\n",
      "   tess_count  cremad_count   ravdess_count  savee_count\n",
      "0         400           1271            192           60\n",
      "\n",
      "_______________________________________________________________________\n",
      "Anger: 1923\n",
      "Disgust: 1923\n",
      "Fear: 1923\n",
      "Happy: 1923\n",
      "Neutral: 1703\n",
      "Sad: 1923\n"
     ]
    }
   ],
   "source": [
    "present_results(samples_per_emotion)"
   ]
  },
  {
   "cell_type": "code",
   "execution_count": 13,
   "id": "955eb4bf-7330-4838-b0a9-47aa6bc47a75",
   "metadata": {
    "scrolled": true
   },
   "outputs": [
    {
     "data": {
      "text/html": [
       "<div>\n",
       "<style scoped>\n",
       "    .dataframe tbody tr th:only-of-type {\n",
       "        vertical-align: middle;\n",
       "    }\n",
       "\n",
       "    .dataframe tbody tr th {\n",
       "        vertical-align: top;\n",
       "    }\n",
       "\n",
       "    .dataframe thead th {\n",
       "        text-align: right;\n",
       "    }\n",
       "</style>\n",
       "<table border=\"1\" class=\"dataframe\">\n",
       "  <thead>\n",
       "    <tr style=\"text-align: right;\">\n",
       "      <th></th>\n",
       "      <th>tess_count</th>\n",
       "      <th>cremad_count</th>\n",
       "      <th>ravdess_count</th>\n",
       "      <th>savee_count</th>\n",
       "    </tr>\n",
       "  </thead>\n",
       "  <tbody>\n",
       "    <tr>\n",
       "      <th>0</th>\n",
       "      <td>2399</td>\n",
       "      <td>7443</td>\n",
       "      <td>1056</td>\n",
       "      <td>420</td>\n",
       "    </tr>\n",
       "  </tbody>\n",
       "</table>\n",
       "</div>"
      ],
      "text/plain": [
       "   tess_count  cremad_count   ravdess_count  savee_count\n",
       "0        2399           7443           1056          420"
      ]
     },
     "execution_count": 13,
     "metadata": {},
     "output_type": "execute_result"
    }
   ],
   "source": [
    "all_samples = get_all_samples_names(parent_folder)\n",
    "all_samples = [x for xs in all_samples for x in xs]\n",
    "\n",
    "samples_number_per_dataset = count_samples_per_database(all_samples)\n",
    "samples_number_per_dataset"
   ]
  },
  {
   "cell_type": "code",
   "execution_count": null,
   "id": "67684741-758c-463a-858f-320c2c605b1b",
   "metadata": {},
   "outputs": [],
   "source": []
  }
 ],
 "metadata": {
  "kernelspec": {
   "display_name": "my_ser_env",
   "language": "python",
   "name": "my_ser_env"
  },
  "language_info": {
   "codemirror_mode": {
    "name": "ipython",
    "version": 3
   },
   "file_extension": ".py",
   "mimetype": "text/x-python",
   "name": "python",
   "nbconvert_exporter": "python",
   "pygments_lexer": "ipython3",
   "version": "3.12.5"
  }
 },
 "nbformat": 4,
 "nbformat_minor": 5
}
