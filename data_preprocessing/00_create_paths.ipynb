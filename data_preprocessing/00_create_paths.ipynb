{
 "cells": [
  {
   "cell_type": "code",
   "execution_count": 1,
   "id": "0eee5781-e4ab-47fa-baa6-2a63962f8bed",
   "metadata": {},
   "outputs": [],
   "source": [
    "from pathlib import Path\n",
    "import shutil"
   ]
  },
  {
   "cell_type": "code",
   "execution_count": 2,
   "id": "c5712762-303a-4968-86b9-05b06d32a37b",
   "metadata": {},
   "outputs": [],
   "source": [
    "def delete_dir(dir_path):\n",
    "    if dir_path.exists() and dir_path.is_dir():\n",
    "        shutil.rmtree(dir_path)"
   ]
  },
  {
   "cell_type": "code",
   "execution_count": 3,
   "id": "16c3053f-343c-436c-9162-e892c814f848",
   "metadata": {},
   "outputs": [],
   "source": [
    "emotions = [\"Anger\", \"Happy\", \"Neutral\", \"Disgust\", \"Fear\", \"Sad\"]\n",
    "\n",
    "def create_divided_dir(divided_dir, rmtree=False):\n",
    "    if rmtree:\n",
    "        delete_dir(divided_dir)\n",
    "    \n",
    "    for i, dataset in enumerate([\"Crema\", \"Ravdess\", \"Savee\", \"Tess\"]):\n",
    "        for train_test in [\"train\", \"test\"]:\n",
    "            for emotion in emotions:\n",
    "                path = divided_dir / dataset / train_test / emotion\n",
    "                path.mkdir(parents=True, exist_ok=True)"
   ]
  },
  {
   "cell_type": "code",
   "execution_count": 4,
   "id": "3b7d0103-0d6e-4a81-8890-50a9c3a310ae",
   "metadata": {},
   "outputs": [],
   "source": [
    "def create_all_datasets_dir(all_datasets_dir, rmtree=False):\n",
    "    if rmtree:\n",
    "        delete_dir(all_datasets_dir)\n",
    "\n",
    "    for train_test in [\"train\", \"test\"]:\n",
    "        for emotion in emotions:\n",
    "            path = all_datasets_dir / train_test / emotion\n",
    "            path.mkdir(parents=True, exist_ok=True)"
   ]
  },
  {
   "cell_type": "code",
   "execution_count": 5,
   "id": "c63136ef-53f6-43f2-97e9-97ba131e53d6",
   "metadata": {},
   "outputs": [],
   "source": [
    "def create_melspectrograms_dir(rmtree=False):\n",
    "    melspectrograms_dir = Path(\"../data/melspectrograms\")\n",
    "    if rmtree:\n",
    "        delete_dir(melspectrograms_dir)\n",
    "\n",
    "    create_divided_dir(melspectrograms_dir/\"divided\")\n",
    "    create_all_datasets_dir(melspectrograms_dir/\"all_datasets\")"
   ]
  },
  {
   "cell_type": "code",
   "execution_count": 6,
   "id": "970eb726-f901-4712-b5d3-e5c6dcdf7a40",
   "metadata": {},
   "outputs": [],
   "source": [
    "def create_spectrograms_dir(rmtree=False):\n",
    "    spectrograms_dir = Path(\"../data/spectrograms\")\n",
    "    if rmtree:\n",
    "        delete_dir(spectrograms_dir)\n",
    "\n",
    "    create_divided_dir(spectrograms_dir/\"divided\")\n",
    "    create_all_datasets_dir(spectrograms_dir/\"all_datasets\")"
   ]
  },
  {
   "cell_type": "code",
   "execution_count": 7,
   "id": "cda1e7d3-2c9a-48e1-b706-1786802c6604",
   "metadata": {},
   "outputs": [],
   "source": [
    "def create_logs_dir():\n",
    "    logs_dir = Path(\"../tests/logs/TensorBoard\")\n",
    "\n",
    "    delete_dir(logs_dir)\n",
    "\n",
    "    for dataset in [\"crema\", \"ravdess\", \"savee\", \"tess\", \"all_datasets\"]:\n",
    "        specs_dir = logs_dir / f\"spec_{dataset}\"\n",
    "        melspecs_dir = logs_dir / f\"melspec_{dataset}\"\n",
    "\n",
    "        specs_dir.mkdir(parents=True, exist_ok=True)\n",
    "        melspecs_dir.mkdir(parents=True, exist_ok=True)"
   ]
  },
  {
   "cell_type": "code",
   "execution_count": 8,
   "id": "fc6fa20e-9bef-41f4-977d-cf199defcfb1",
   "metadata": {},
   "outputs": [],
   "source": [
    "def create_saved_models_dir():\n",
    "    saved_models_dir = Path(\"../tests/logs/SavedModels\")\n",
    "\n",
    "    delete_dir(saved_models_dir)\n",
    "\n",
    "    saved_models_dir.mkdir(parents=True, exist_ok=True)"
   ]
  },
  {
   "cell_type": "code",
   "execution_count": 9,
   "id": "352b5ec6-7176-430a-a257-1e48975a3e6e",
   "metadata": {},
   "outputs": [],
   "source": [
    "divided_dir = Path(\"../data/divided\")\n",
    "create_divided_dir(divided_dir, rmtree=True)"
   ]
  },
  {
   "cell_type": "code",
   "execution_count": 10,
   "id": "915c543e-9bf0-4b46-801d-b8486ce59eb2",
   "metadata": {},
   "outputs": [],
   "source": [
    "all_datasets = Path(\"../data/all_datasets\")\n",
    "create_all_datasets_dir(all_datasets, rmtree=True)"
   ]
  },
  {
   "cell_type": "code",
   "execution_count": 11,
   "id": "8a189768-cac2-4fe2-8de7-986bbb16062b",
   "metadata": {},
   "outputs": [],
   "source": [
    "create_melspectrograms_dir(rmtree=True)"
   ]
  },
  {
   "cell_type": "code",
   "execution_count": 12,
   "id": "5a1d7933-129c-4f6d-8515-14fa8564c679",
   "metadata": {},
   "outputs": [],
   "source": [
    "create_spectrograms_dir(rmtree=True)"
   ]
  },
  {
   "cell_type": "code",
   "execution_count": 13,
   "id": "aaaa676d-fd85-4749-a45c-f514ce41f335",
   "metadata": {},
   "outputs": [],
   "source": [
    "create_logs_dir()"
   ]
  },
  {
   "cell_type": "code",
   "execution_count": 14,
   "id": "3e3813be-de20-4c03-8467-19263da48dda",
   "metadata": {},
   "outputs": [],
   "source": [
    "create_saved_models_dir()"
   ]
  },
  {
   "cell_type": "code",
   "execution_count": null,
   "id": "1619c2cd-f377-4f70-b445-6cd1144f920f",
   "metadata": {},
   "outputs": [],
   "source": []
  }
 ],
 "metadata": {
  "kernelspec": {
   "display_name": "Python 3 (ipykernel)",
   "language": "python",
   "name": "python3"
  },
  "language_info": {
   "codemirror_mode": {
    "name": "ipython",
    "version": 3
   },
   "file_extension": ".py",
   "mimetype": "text/x-python",
   "name": "python",
   "nbconvert_exporter": "python",
   "pygments_lexer": "ipython3",
   "version": "3.12.5"
  }
 },
 "nbformat": 4,
 "nbformat_minor": 5
}
