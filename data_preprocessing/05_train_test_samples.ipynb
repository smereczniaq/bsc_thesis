{
 "cells": [
  {
   "cell_type": "code",
   "execution_count": 1,
   "id": "89d1815f-9dee-4893-aaad-91d31e8929ab",
   "metadata": {},
   "outputs": [],
   "source": [
    "import shutil\n",
    "import os"
   ]
  },
  {
   "cell_type": "code",
   "execution_count": 2,
   "id": "8194c6ca-eeba-49f7-b271-705a92128382",
   "metadata": {},
   "outputs": [],
   "source": [
    "emotions = [\"Anger\", \"Happy\", \"Neutral\", \"Sad\", \"Fear\", \"Disgust\"]\n",
    "datasets = [\"Crema\", \"Ravdess\", \"Savee\", \"Tess\"]"
   ]
  },
  {
   "cell_type": "code",
   "execution_count": 3,
   "id": "dbdc6069-c299-4bd3-8adf-6fae23b888fd",
   "metadata": {},
   "outputs": [],
   "source": [
    "divided_dir = \"../data/divided\"\n",
    "all_datasets_dir = \"../data/all_datasets\""
   ]
  },
  {
   "cell_type": "code",
   "execution_count": 4,
   "id": "4ef10169-beff-4cf2-b9dd-b149f2e31d90",
   "metadata": {},
   "outputs": [],
   "source": [
    "for dataset in datasets:\n",
    "    for train_test in [\"train\", \"test\"]:\n",
    "        for emotion in emotions:\n",
    "            source = f\"{divided_dir}/{dataset}/{train_test}/{emotion}\"\n",
    "            destination = f\"{all_datasets_dir}/{train_test}/{emotion}\"\n",
    "            \n",
    "            files=os.listdir(source)\n",
    "            for fname in files:\n",
    "                shutil.copy2(os.path.join(source,fname), destination)"
   ]
  },
  {
   "cell_type": "code",
   "execution_count": null,
   "id": "7be4a6a7-cc92-4891-a170-d7b437c2cc5d",
   "metadata": {},
   "outputs": [],
   "source": []
  }
 ],
 "metadata": {
  "kernelspec": {
   "display_name": "Python 3 (ipykernel)",
   "language": "python",
   "name": "python3"
  },
  "language_info": {
   "codemirror_mode": {
    "name": "ipython",
    "version": 3
   },
   "file_extension": ".py",
   "mimetype": "text/x-python",
   "name": "python",
   "nbconvert_exporter": "python",
   "pygments_lexer": "ipython3",
   "version": "3.12.5"
  }
 },
 "nbformat": 4,
 "nbformat_minor": 5
}
