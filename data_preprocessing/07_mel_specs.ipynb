{
 "cells": [
  {
   "cell_type": "code",
   "execution_count": 1,
   "id": "9e0aea58-9977-4f10-a826-be67c78cd93a",
   "metadata": {},
   "outputs": [],
   "source": [
    "import librosa\n",
    "import librosa.display\n",
    "import numpy as np\n",
    "import pandas as pd\n",
    "import matplotlib.pyplot as plt\n",
    "import os\n",
    "import matplotlib\n",
    "\n",
    "matplotlib.use('Agg')"
   ]
  },
  {
   "cell_type": "code",
   "execution_count": 2,
   "id": "719925a1-6c7d-4377-9b91-510c55e8fb5f",
   "metadata": {},
   "outputs": [],
   "source": [
    "spectrograms_path = \"../data/spectrograms\"\n",
    "melspectrograms_path = \"../data/melspectrograms\"\n",
    "\n",
    "emotions = [\"Anger\", \"Happy\", \"Neutral\", \"Sad\", \"Disgust\", \"Fear\"]\n",
    "datasets = [\"Crema\", \"Ravdess\", \"Savee\", \"Tess\"]\n",
    "\n",
    "mode = 0o777"
   ]
  },
  {
   "cell_type": "code",
   "execution_count": 3,
   "id": "9afcecd6-ebea-4ac7-baf5-449fd8a0a1fa",
   "metadata": {},
   "outputs": [],
   "source": [
    "def plot_spectrogram(Y, sr, hop_length, destination_to_save, y_axis=\"linear\"):\n",
    "    x = librosa.display.specshow(Y, \n",
    "                             sr=sr, \n",
    "                             hop_length=hop_length, \n",
    "                             x_axis=\"time\", \n",
    "                             y_axis=y_axis)\n",
    "    \n",
    "    plt.axis('off')\n",
    "                             \n",
    "    plt.savefig(destination_to_save, format='png', bbox_inches='tight')\n",
    "    return plt"
   ]
  },
  {
   "cell_type": "code",
   "execution_count": 4,
   "id": "93858f49-97b0-4eda-a2f5-65a6707ae89c",
   "metadata": {},
   "outputs": [],
   "source": [
    "def get_mel_spectrogram(wav_file):\n",
    "    scale , sr = librosa.load(wav_file, sr = 22050)\n",
    "    D = librosa.amplitude_to_db(np.abs(librosa.stft(scale, hop_length=HOP_SIZE)), ref=np.max)\n",
    "    file_name = wav_file.split(\"/\")[-1].split(\".\")[0]\n",
    "    \n",
    "    return (file_name, D, sr)"
   ]
  },
  {
   "cell_type": "code",
   "execution_count": 5,
   "id": "b6eb7b46-618a-4c07-8298-dc4c5eda69c8",
   "metadata": {},
   "outputs": [],
   "source": [
    "def get_spectrogram(wav_file):\n",
    "    scale , sr = librosa.load(wav_file, sr = 22050)\n",
    "    D = librosa.amplitude_to_db(np.abs(librosa.stft(scale)), ref=np.max)\n",
    "    file_name = wav_file.split(\"/\")[-1].split(\".\")[0]\n",
    "    \n",
    "    return (file_name, D, sr)"
   ]
  },
  {
   "cell_type": "code",
   "execution_count": 6,
   "id": "07763fd4-0783-4850-9316-2b548aef0ee3",
   "metadata": {},
   "outputs": [],
   "source": [
    "def generate_melspectrograms(source_path, test_train, emotion):\n",
    "    mel_specs = []\n",
    "    \n",
    "    path = f\"{source_path}/{test_train}/{emotion}\"\n",
    "    for file_name in os.listdir(path):\n",
    "        mel_specs.append(get_mel_spectrogram(f\"{path}/{file_name}\"))\n",
    "\n",
    "    return mel_specs"
   ]
  },
  {
   "cell_type": "code",
   "execution_count": 7,
   "id": "f4516e90-8516-4aaf-b5d0-03678bc6d806",
   "metadata": {},
   "outputs": [],
   "source": [
    "def generate_spectrograms(source_path, test_train, emotion):\n",
    "    specs = []\n",
    "    path = f\"{source_path}/{test_train}/{emotion}\"\n",
    "    for file_name in os.listdir(path):\n",
    "        specs.append(get_spectrogram(f\"{path}/{file_name}\"))\n",
    "\n",
    "    return specs"
   ]
  },
  {
   "cell_type": "code",
   "execution_count": 8,
   "id": "e0e401d2-5948-4cb3-9667-8347e884e2d4",
   "metadata": {},
   "outputs": [],
   "source": [
    "def save_melspectrogram(melspectrogram, train_test, emotion, divided, dataset=None):\n",
    "    file_name, D, sr = melspectrogram\n",
    "\n",
    "    if divided:\n",
    "        destination_to_save = f\"{melspectrograms_path}/divided/{dataset}/{train_test}/{emotion}/{file_name}.png\"\n",
    "    else:\n",
    "        destination_to_save = f\"{melspectrograms_path}/all_datasets/{train_test}/{emotion}/{file_name}.png\"\n",
    "    img = librosa.display.specshow(D, y_axis='log', sr=sr, hop_length=HOP_SIZE, x_axis='time')\n",
    "    plt.axis('off')\n",
    "    plt.savefig(destination_to_save, format='png', bbox_inches='tight')\n",
    "    plt.close()"
   ]
  },
  {
   "cell_type": "code",
   "execution_count": 9,
   "id": "cb6f1303-4513-47f3-b6a3-376353049f56",
   "metadata": {},
   "outputs": [],
   "source": [
    "def save_spectrogram(spectrogram, train_test, emotion, divided, dataset=None):\n",
    "    file_name, D, sr = spectrogram\n",
    "\n",
    "    if divided:\n",
    "        destination_to_save = f\"{spectrograms_path}/divided/{dataset}/{train_test}/{emotion}/{file_name}.png\"\n",
    "    else:\n",
    "        destination_to_save = f\"{spectrograms_path}/all_datasets/{train_test}/{emotion}/{file_name}.png\"\n",
    "    img = librosa.display.specshow(D, y_axis='linear', x_axis='time', sr=sr)\n",
    "    plt.axis('off')\n",
    "    plt.savefig(destination_to_save, format='png', bbox_inches='tight')\n",
    "    plt.close()"
   ]
  },
  {
   "cell_type": "code",
   "execution_count": 10,
   "id": "25ebe556-1f0f-4be0-8d5a-2634cf70d7ef",
   "metadata": {},
   "outputs": [],
   "source": [
    "FRAME_SIZE = 1024\n",
    "HOP_SIZE = 512"
   ]
  },
  {
   "cell_type": "code",
   "execution_count": 11,
   "id": "e862864b-f50a-42dc-9607-42d51f565890",
   "metadata": {},
   "outputs": [],
   "source": [
    "source_folder = \"../data/divided\""
   ]
  },
  {
   "cell_type": "code",
   "execution_count": 12,
   "id": "50a8106f-d440-4256-9bfd-70fa45dc6ba9",
   "metadata": {},
   "outputs": [],
   "source": [
    "train_spectrograms_divided = dict()\n",
    "test_spectrograms_divided = dict()\n",
    "\n",
    "train_melspectrograms_divided = dict()\n",
    "test_melspectrograms_divided = dict()"
   ]
  },
  {
   "cell_type": "code",
   "execution_count": 13,
   "id": "50e987a8-82b9-475e-a6c4-35b951abb605",
   "metadata": {},
   "outputs": [],
   "source": [
    "for dataset in datasets:\n",
    "    train_spectrograms_divided[dataset] = dict()\n",
    "    test_spectrograms_divided[dataset] = dict()\n",
    "\n",
    "    for emotion in emotions:\n",
    "        source_path = f\"{source_folder}/{dataset}\"\n",
    "        train_spectrograms_divided[dataset][emotion] = generate_spectrograms(source_path, \"train\", emotion)\n",
    "        test_spectrograms_divided[dataset][emotion] = generate_spectrograms(source_path, \"test\", emotion)"
   ]
  },
  {
   "cell_type": "code",
   "execution_count": 14,
   "id": "621e8575-7bde-4e68-a6a6-f5ffcd64ad24",
   "metadata": {},
   "outputs": [],
   "source": [
    "for dataset in datasets:\n",
    "    train_melspectrograms_divided[dataset] = dict()\n",
    "    test_melspectrograms_divided[dataset] = dict()\n",
    "\n",
    "    for emotion in emotions:\n",
    "        source_path = f\"{source_folder}/{dataset}\"\n",
    "        train_melspectrograms_divided[dataset][emotion] = generate_melspectrograms(source_path, \"train\", emotion)\n",
    "        test_melspectrograms_divided[dataset][emotion] = generate_melspectrograms(source_path, \"test\", emotion)"
   ]
  },
  {
   "cell_type": "code",
   "execution_count": 15,
   "id": "8dd6beb3-c190-4211-97da-e493f4ff94ba",
   "metadata": {},
   "outputs": [],
   "source": [
    "source_folder = \"../data/all_datasets\""
   ]
  },
  {
   "cell_type": "code",
   "execution_count": 16,
   "id": "9246f65d-a70a-46fc-bea3-77c93dd60a0f",
   "metadata": {},
   "outputs": [],
   "source": [
    "train_spectrograms_all_datasets = dict()\n",
    "test_spectrograms_all_datasets = dict()\n",
    "\n",
    "train_melspectrograms_all_datasets = dict()\n",
    "test_melspectrograms_all_datasets = dict()"
   ]
  },
  {
   "cell_type": "code",
   "execution_count": 17,
   "id": "b5dc702c-c5d8-4731-88b7-da6f6b49c133",
   "metadata": {},
   "outputs": [],
   "source": [
    "for emotion in emotions:\n",
    "    train_spectrograms_all_datasets[emotion] = generate_spectrograms(source_folder, \"train\", emotion)\n",
    "    test_spectrograms_all_datasets[emotion] = generate_spectrograms(source_folder, \"test\", emotion)"
   ]
  },
  {
   "cell_type": "code",
   "execution_count": 18,
   "id": "11214ebe-5fbd-45c3-88e8-b0efd1ce8c2f",
   "metadata": {},
   "outputs": [],
   "source": [
    "for emotion in emotions:\n",
    "    train_melspectrograms_all_datasets[emotion] = generate_melspectrograms(source_folder, \"train\", emotion)\n",
    "    test_melspectrograms_all_datasets[emotion] = generate_melspectrograms(source_folder, \"test\", emotion)"
   ]
  },
  {
   "cell_type": "code",
   "execution_count": 19,
   "id": "a7e06636-ce25-4d4b-af45-1aee51b18973",
   "metadata": {},
   "outputs": [
    {
     "name": "stdout",
     "output_type": "stream",
     "text": [
      "Emotion: Anger | Saved 1538/1538 train spectrograms\n",
      "\n",
      "Emotion: Happy | Saved 1537/1537 train spectrograms\n",
      "\n",
      "Emotion: Neutral | Saved 1362/1362 train spectrograms\n",
      "\n",
      "Emotion: Sad | Saved 1539/1539 train spectrograms\n",
      "\n",
      "Emotion: Disgust | Saved 1539/1539 train spectrograms\n",
      "\n",
      "Emotion: Fear | Saved 1538/1538 train spectrograms\n",
      "\n"
     ]
    }
   ],
   "source": [
    "for emotion in emotions:\n",
    "    for i, spectrogram in enumerate(train_spectrograms_all_datasets[emotion]):\n",
    "        save_spectrogram(spectrogram, \"train\", emotion, divided=False)\n",
    "        print(f\"Emotion: {emotion} | Saved {i+1}/{len(train_spectrograms_all_datasets[emotion])} train spectrograms\", end=\"\\r\")\n",
    "    print(\"\\n\")"
   ]
  },
  {
   "cell_type": "code",
   "execution_count": 20,
   "id": "76701671-ac65-4f27-a844-3ee835ab0c56",
   "metadata": {},
   "outputs": [
    {
     "name": "stdout",
     "output_type": "stream",
     "text": [
      "Emotion: Anger | Saved 385/385 test spectrograms\n",
      "\n",
      "Emotion: Happy | Saved 386/386 test spectrograms\n",
      "\n",
      "Emotion: Neutral | Saved 341/341 test spectrograms\n",
      "\n",
      "Emotion: Sad | Saved 384/384 test spectrograms\n",
      "\n",
      "Emotion: Disgust | Saved 384/384 test spectrograms\n",
      "\n",
      "Emotion: Fear | Saved 385/385 test spectrograms\n",
      "\n"
     ]
    }
   ],
   "source": [
    "for emotion in emotions:\n",
    "    for i, spectrogram in enumerate(test_spectrograms_all_datasets[emotion]):\n",
    "        save_spectrogram(spectrogram, \"test\", emotion, divided=False)\n",
    "        print(f\"Emotion: {emotion} | Saved {i+1}/{len(test_spectrograms_all_datasets[emotion])} test spectrograms\", end=\"\\r\")\n",
    "    print(\"\\n\")"
   ]
  },
  {
   "cell_type": "code",
   "execution_count": 21,
   "id": "ac2d912f-55ce-4455-98a2-256ef90a373b",
   "metadata": {},
   "outputs": [
    {
     "name": "stdout",
     "output_type": "stream",
     "text": [
      "Emotion: Anger | Saved 1538/1538 train melspectrograms\n",
      "\n",
      "Emotion: Happy | Saved 1537/1537 train melspectrograms\n",
      "\n",
      "Emotion: Neutral | Saved 1362/1362 train melspectrograms\n",
      "\n",
      "Emotion: Sad | Saved 1539/1539 train melspectrograms\n",
      "\n",
      "Emotion: Disgust | Saved 1539/1539 train melspectrograms\n",
      "\n",
      "Emotion: Fear | Saved 1538/1538 train melspectrograms\n",
      "\n"
     ]
    }
   ],
   "source": [
    "for emotion in emotions:\n",
    "    for i, melspectrogram in enumerate(train_melspectrograms_all_datasets[emotion]):\n",
    "        save_melspectrogram(melspectrogram, \"train\", emotion, divided=False)\n",
    "        print(f\"Emotion: {emotion} | Saved {i+1}/{len(train_melspectrograms_all_datasets[emotion])} train melspectrograms\", end=\"\\r\")\n",
    "    print(\"\\n\")"
   ]
  },
  {
   "cell_type": "code",
   "execution_count": 22,
   "id": "9c18150c-c5ca-495d-9905-e2388428ceb2",
   "metadata": {},
   "outputs": [
    {
     "name": "stdout",
     "output_type": "stream",
     "text": [
      "Emotion: Anger | Saved 385/385 test melspectrograms\n",
      "\n",
      "Emotion: Happy | Saved 386/386 test melspectrograms\n",
      "\n",
      "Emotion: Neutral | Saved 341/341 test melspectrograms\n",
      "\n",
      "Emotion: Sad | Saved 384/384 test melspectrograms\n",
      "\n",
      "Emotion: Disgust | Saved 384/384 test melspectrograms\n",
      "\n",
      "Emotion: Fear | Saved 385/385 test melspectrograms\n",
      "\n"
     ]
    }
   ],
   "source": [
    "for emotion in emotions:\n",
    "    for i, melspectrogram in enumerate(test_melspectrograms_all_datasets[emotion]):\n",
    "        save_melspectrogram(melspectrogram, \"test\", emotion, divided=False)\n",
    "        print(f\"Emotion: {emotion} | Saved {i+1}/{len(test_melspectrograms_all_datasets[emotion])} test melspectrograms\", end=\"\\r\")\n",
    "    print(\"\\n\")"
   ]
  },
  {
   "cell_type": "code",
   "execution_count": 23,
   "id": "fb3ab979-419e-4ea0-9d9a-423a9ba16a15",
   "metadata": {},
   "outputs": [
    {
     "name": "stdout",
     "output_type": "stream",
     "text": [
      "Dataset: Crema | Emotion: Anger | Saved 1017/1017 train spectrograms\n",
      "\n",
      "Dataset: Crema | Emotion: Happy | Saved 1016/1016 train spectrograms\n",
      "\n",
      "Dataset: Crema | Emotion: Neutral | Saved 869/869 train spectrograms\n",
      "\n",
      "Dataset: Crema | Emotion: Sad | Saved 1017/1017 train spectrograms\n",
      "\n",
      "Dataset: Crema | Emotion: Disgust | Saved 1017/1017 train spectrograms\n",
      "\n",
      "Dataset: Crema | Emotion: Fear | Saved 1017/1017 train spectrograms\n",
      "\n",
      "Dataset: Ravdess | Emotion: Anger | Saved 153/153 train spectrograms\n",
      "\n",
      "Dataset: Ravdess | Emotion: Happy | Saved 153/153 train spectrograms\n",
      "\n",
      "Dataset: Ravdess | Emotion: Neutral | Saved 77/77 train spectrograms\n",
      "\n",
      "Dataset: Ravdess | Emotion: Sad | Saved 154/154 train spectrograms\n",
      "\n",
      "Dataset: Ravdess | Emotion: Disgust | Saved 154/154 train spectrograms\n",
      "\n",
      "Dataset: Ravdess | Emotion: Fear | Saved 153/153 train spectrograms\n",
      "\n",
      "Dataset: Savee | Emotion: Anger | Saved 48/48 train spectrograms\n",
      "\n",
      "Dataset: Savee | Emotion: Happy | Saved 48/48 train spectrograms\n",
      "\n",
      "Dataset: Savee | Emotion: Neutral | Saved 96/96 train spectrograms\n",
      "\n",
      "Dataset: Savee | Emotion: Sad | Saved 48/48 train spectrograms\n",
      "\n",
      "Dataset: Savee | Emotion: Disgust | Saved 48/48 train spectrograms\n",
      "\n",
      "Dataset: Savee | Emotion: Fear | Saved 48/48 train spectrograms\n",
      "\n",
      "Dataset: Tess | Emotion: Anger | Saved 320/320 train spectrograms\n",
      "\n",
      "Dataset: Tess | Emotion: Happy | Saved 320/320 train spectrograms\n",
      "\n",
      "Dataset: Tess | Emotion: Neutral | Saved 320/320 train spectrograms\n",
      "\n",
      "Dataset: Tess | Emotion: Sad | Saved 320/320 train spectrograms\n",
      "\n",
      "Dataset: Tess | Emotion: Disgust | Saved 320/320 train spectrograms\n",
      "\n",
      "Dataset: Tess | Emotion: Fear | Saved 320/320 train spectrograms\n",
      "\n"
     ]
    }
   ],
   "source": [
    "for dataset in datasets:\n",
    "    for emotion in emotions:\n",
    "        for i, spectrogram in enumerate(train_spectrograms_divided[dataset][emotion]):\n",
    "            save_spectrogram(spectrogram, \"train\", emotion, divided=True, dataset=dataset)\n",
    "            print(f\"Dataset: {dataset} | Emotion: {emotion} | Saved {i+1}/{len(train_spectrograms_divided[dataset][emotion])} train spectrograms\", end=\"\\r\")\n",
    "        print(\"\\n\")"
   ]
  },
  {
   "cell_type": "code",
   "execution_count": 24,
   "id": "3b7a3c31-8958-46eb-aed4-e39945a9d410",
   "metadata": {},
   "outputs": [
    {
     "name": "stdout",
     "output_type": "stream",
     "text": [
      "Dataset: Crema | Emotion: Anger | Saved 254/254 test spectrograms\n",
      "\n",
      "Dataset: Crema | Emotion: Happy | Saved 255/255 test spectrograms\n",
      "\n",
      "Dataset: Crema | Emotion: Neutral | Saved 218/218 test spectrograms\n",
      "\n",
      "Dataset: Crema | Emotion: Sad | Saved 254/254 test spectrograms\n",
      "\n",
      "Dataset: Crema | Emotion: Disgust | Saved 254/254 test spectrograms\n",
      "\n",
      "Dataset: Crema | Emotion: Fear | Saved 254/254 test spectrograms\n",
      "\n",
      "Dataset: Ravdess | Emotion: Anger | Saved 39/39 test spectrograms\n",
      "\n",
      "Dataset: Ravdess | Emotion: Happy | Saved 39/39 test spectrograms\n",
      "\n",
      "Dataset: Ravdess | Emotion: Neutral | Saved 19/19 test spectrograms\n",
      "\n",
      "Dataset: Ravdess | Emotion: Sad | Saved 38/38 test spectrograms\n",
      "\n",
      "Dataset: Ravdess | Emotion: Disgust | Saved 38/38 test spectrograms\n",
      "\n",
      "Dataset: Ravdess | Emotion: Fear | Saved 39/39 test spectrograms\n",
      "\n",
      "Dataset: Savee | Emotion: Anger | Saved 12/12 test spectrograms\n",
      "\n",
      "Dataset: Savee | Emotion: Happy | Saved 12/12 test spectrograms\n",
      "\n",
      "Dataset: Savee | Emotion: Neutral | Saved 24/24 test spectrograms\n",
      "\n",
      "Dataset: Savee | Emotion: Sad | Saved 12/12 test spectrograms\n",
      "\n",
      "Dataset: Savee | Emotion: Disgust | Saved 12/12 test spectrograms\n",
      "\n",
      "Dataset: Savee | Emotion: Fear | Saved 12/12 test spectrograms\n",
      "\n",
      "Dataset: Tess | Emotion: Anger | Saved 80/80 test spectrograms\n",
      "\n",
      "Dataset: Tess | Emotion: Happy | Saved 80/80 test spectrograms\n",
      "\n",
      "Dataset: Tess | Emotion: Neutral | Saved 80/80 test spectrograms\n",
      "\n",
      "Dataset: Tess | Emotion: Sad | Saved 80/80 test spectrograms\n",
      "\n",
      "Dataset: Tess | Emotion: Disgust | Saved 80/80 test spectrograms\n",
      "\n",
      "Dataset: Tess | Emotion: Fear | Saved 80/80 test spectrograms\n",
      "\n"
     ]
    }
   ],
   "source": [
    "for dataset in datasets:\n",
    "    for emotion in emotions:\n",
    "        for i, spectrogram in enumerate(test_spectrograms_divided[dataset][emotion]):\n",
    "            save_spectrogram(spectrogram, \"test\", emotion, divided=True, dataset=dataset)\n",
    "            print(f\"Dataset: {dataset} | Emotion: {emotion} | Saved {i+1}/{len(test_spectrograms_divided[dataset][emotion])} test spectrograms\", end=\"\\r\")\n",
    "        print(\"\\n\")"
   ]
  },
  {
   "cell_type": "code",
   "execution_count": 25,
   "id": "51f39be2-5478-4639-832d-ad1e5cd5b413",
   "metadata": {},
   "outputs": [
    {
     "name": "stdout",
     "output_type": "stream",
     "text": [
      "Dataset: Crema | Emotion: Anger | Saved 1017/1017 train melspectrograms\n",
      "\n",
      "Dataset: Crema | Emotion: Happy | Saved 1016/1016 train melspectrograms\n",
      "\n",
      "Dataset: Crema | Emotion: Neutral | Saved 869/869 train melspectrograms\n",
      "\n",
      "Dataset: Crema | Emotion: Sad | Saved 1017/1017 train melspectrograms\n",
      "\n",
      "Dataset: Crema | Emotion: Disgust | Saved 1017/1017 train melspectrograms\n",
      "\n",
      "Dataset: Crema | Emotion: Fear | Saved 1017/1017 train melspectrograms\n",
      "\n",
      "Dataset: Ravdess | Emotion: Anger | Saved 153/153 train melspectrograms\n",
      "\n",
      "Dataset: Ravdess | Emotion: Happy | Saved 153/153 train melspectrograms\n",
      "\n",
      "Dataset: Ravdess | Emotion: Neutral | Saved 77/77 train melspectrograms\n",
      "\n",
      "Dataset: Ravdess | Emotion: Sad | Saved 154/154 train melspectrograms\n",
      "\n",
      "Dataset: Ravdess | Emotion: Disgust | Saved 154/154 train melspectrograms\n",
      "\n",
      "Dataset: Ravdess | Emotion: Fear | Saved 153/153 train melspectrograms\n",
      "\n",
      "Dataset: Savee | Emotion: Anger | Saved 48/48 train melspectrograms\n",
      "\n",
      "Dataset: Savee | Emotion: Happy | Saved 48/48 train melspectrograms\n",
      "\n",
      "Dataset: Savee | Emotion: Neutral | Saved 96/96 train melspectrograms\n",
      "\n",
      "Dataset: Savee | Emotion: Sad | Saved 48/48 train melspectrograms\n",
      "\n",
      "Dataset: Savee | Emotion: Disgust | Saved 48/48 train melspectrograms\n",
      "\n",
      "Dataset: Savee | Emotion: Fear | Saved 48/48 train melspectrograms\n",
      "\n",
      "Dataset: Tess | Emotion: Anger | Saved 320/320 train melspectrograms\n",
      "\n",
      "Dataset: Tess | Emotion: Happy | Saved 320/320 train melspectrograms\n",
      "\n",
      "Dataset: Tess | Emotion: Neutral | Saved 320/320 train melspectrograms\n",
      "\n",
      "Dataset: Tess | Emotion: Sad | Saved 320/320 train melspectrograms\n",
      "\n",
      "Dataset: Tess | Emotion: Disgust | Saved 320/320 train melspectrograms\n",
      "\n",
      "Dataset: Tess | Emotion: Fear | Saved 320/320 train melspectrograms\n",
      "\n"
     ]
    }
   ],
   "source": [
    "for dataset in datasets:\n",
    "    for emotion in emotions:\n",
    "        for i, melspectrogram in enumerate(train_melspectrograms_divided[dataset][emotion]):\n",
    "            save_melspectrogram(melspectrogram, \"train\", emotion, divided=True, dataset=dataset)\n",
    "            print(f\"Dataset: {dataset} | Emotion: {emotion} | Saved {i+1}/{len(train_melspectrograms_divided[dataset][emotion])} train melspectrograms\", end=\"\\r\")\n",
    "        print(\"\\n\")"
   ]
  },
  {
   "cell_type": "code",
   "execution_count": 26,
   "id": "dbe26141-b8e1-4ccb-b5d9-e88645d7c109",
   "metadata": {},
   "outputs": [
    {
     "name": "stdout",
     "output_type": "stream",
     "text": [
      "Dataset: Crema | Emotion: Anger | Saved 254/254 test melspectrograms\n",
      "\n",
      "Dataset: Crema | Emotion: Happy | Saved 255/255 test melspectrograms\n",
      "\n",
      "Dataset: Crema | Emotion: Neutral | Saved 218/218 test melspectrograms\n",
      "\n",
      "Dataset: Crema | Emotion: Sad | Saved 254/254 test melspectrograms\n",
      "\n",
      "Dataset: Crema | Emotion: Disgust | Saved 254/254 test melspectrograms\n",
      "\n",
      "Dataset: Crema | Emotion: Fear | Saved 254/254 test melspectrograms\n",
      "\n",
      "Dataset: Ravdess | Emotion: Anger | Saved 39/39 test melspectrograms\n",
      "\n",
      "Dataset: Ravdess | Emotion: Happy | Saved 39/39 test melspectrograms\n",
      "\n",
      "Dataset: Ravdess | Emotion: Neutral | Saved 19/19 test melspectrograms\n",
      "\n",
      "Dataset: Ravdess | Emotion: Sad | Saved 38/38 test melspectrograms\n",
      "\n",
      "Dataset: Ravdess | Emotion: Disgust | Saved 38/38 test melspectrograms\n",
      "\n",
      "Dataset: Ravdess | Emotion: Fear | Saved 39/39 test melspectrograms\n",
      "\n",
      "Dataset: Savee | Emotion: Anger | Saved 12/12 test melspectrograms\n",
      "\n",
      "Dataset: Savee | Emotion: Happy | Saved 12/12 test melspectrograms\n",
      "\n",
      "Dataset: Savee | Emotion: Neutral | Saved 24/24 test melspectrograms\n",
      "\n",
      "Dataset: Savee | Emotion: Sad | Saved 12/12 test melspectrograms\n",
      "\n",
      "Dataset: Savee | Emotion: Disgust | Saved 12/12 test melspectrograms\n",
      "\n",
      "Dataset: Savee | Emotion: Fear | Saved 12/12 test melspectrograms\n",
      "\n",
      "Dataset: Tess | Emotion: Anger | Saved 80/80 test melspectrograms\n",
      "\n",
      "Dataset: Tess | Emotion: Happy | Saved 80/80 test melspectrograms\n",
      "\n",
      "Dataset: Tess | Emotion: Neutral | Saved 80/80 test melspectrograms\n",
      "\n",
      "Dataset: Tess | Emotion: Sad | Saved 80/80 test melspectrograms\n",
      "\n",
      "Dataset: Tess | Emotion: Disgust | Saved 80/80 test melspectrograms\n",
      "\n",
      "Dataset: Tess | Emotion: Fear | Saved 80/80 test melspectrograms\n",
      "\n"
     ]
    }
   ],
   "source": [
    "for dataset in datasets:\n",
    "    for emotion in emotions:\n",
    "        for i, melspectrogram in enumerate(test_melspectrograms_divided[dataset][emotion]):\n",
    "            save_melspectrogram(melspectrogram, \"test\", emotion, divided=True, dataset=dataset)\n",
    "            print(f\"Dataset: {dataset} | Emotion: {emotion} | Saved {i+1}/{len(test_melspectrograms_divided[dataset][emotion])} test melspectrograms\", end=\"\\r\")\n",
    "        print(\"\\n\")"
   ]
  },
  {
   "cell_type": "code",
   "execution_count": null,
   "id": "0434faf3-10ac-4300-9fad-9a787c02e0f3",
   "metadata": {},
   "outputs": [],
   "source": []
  }
 ],
 "metadata": {
  "kernelspec": {
   "display_name": "my_ser_env",
   "language": "python",
   "name": "my_ser_env"
  },
  "language_info": {
   "codemirror_mode": {
    "name": "ipython",
    "version": 3
   },
   "file_extension": ".py",
   "mimetype": "text/x-python",
   "name": "python",
   "nbconvert_exporter": "python",
   "pygments_lexer": "ipython3",
   "version": "3.12.5"
  }
 },
 "nbformat": 4,
 "nbformat_minor": 5
}
