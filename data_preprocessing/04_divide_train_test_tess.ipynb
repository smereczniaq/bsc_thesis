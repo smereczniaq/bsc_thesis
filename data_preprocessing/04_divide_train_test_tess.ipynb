{
 "cells": [
  {
   "cell_type": "code",
   "execution_count": 1,
   "id": "940580ce-7b94-482e-925f-139bbf2160f2",
   "metadata": {},
   "outputs": [],
   "source": [
    "import os\n",
    "\n",
    "import shutil\n",
    "import numpy as np\n",
    "import pandas as pd\n",
    "from random import randrange\n",
    "\n",
    "from sklearn.model_selection import train_test_split"
   ]
  },
  {
   "cell_type": "code",
   "execution_count": 2,
   "id": "eb23c891-cfc6-48a9-a408-111e25706edd",
   "metadata": {},
   "outputs": [],
   "source": [
    "# source_folder = \"../data/kaggle/input/speech-emotion-recognition-en/Tess/\"\n",
    "# destination_folder = \"../data/divided/Tess/train/\"\n",
    "\n",
    "# for folder_name in os.listdir(source_folder):\n",
    "#     current_folder = source_folder + folder_name\n",
    "#     if os.path.isdir(current_folder):\n",
    "#         for file_name in os.listdir(current_folder):\n",
    "#             file_class = file_name.split('_')[2].split(\".\")[0]\n",
    "#             source = current_folder + '/' + file_name\n",
    "        \n",
    "#             if file_class == 'disgust':\n",
    "#                 destination = destination_folder + 'Disgust/'\n",
    "#                 shutil.copy2(source, destination)\n",
    "#             elif file_class == 'happy':\n",
    "#                 destination = destination_folder + 'Happy/'\n",
    "#                 shutil.copy2(source, destination)\n",
    "#             elif file_class == 'sad':\n",
    "#                 destination = destination_folder + 'Sad/'\n",
    "#                 shutil.copy2(source, destination)\n",
    "#             elif file_class == 'neutral':\n",
    "#                 destination = destination_folder + 'Neutral/'\n",
    "#                 shutil.copy2(source, destination)\n",
    "#             elif file_class == 'fear':\n",
    "#                 destination = destination_folder + 'Fear/'\n",
    "#                 shutil.copy2(source, destination)\n",
    "#             elif file_class == 'angry':\n",
    "#                 destination = destination_folder + 'Anger/'\n",
    "#                 shutil.copy2(source, destination)\n",
    "#             else:\n",
    "#                 continue"
   ]
  },
  {
   "cell_type": "code",
   "execution_count": 3,
   "id": "815f1088-f0eb-47cc-a269-c06e44a462fc",
   "metadata": {},
   "outputs": [],
   "source": [
    "source_folder = \"../data/kaggle/input/speech-emotion-recognition-en/Tess/\"\n",
    "destination_folder = \"../data/divided/Tess/train/\"\n",
    "\n",
    "file_names = []\n",
    "classes = []\n",
    "\n",
    "df = pd.DataFrame()\n",
    "\n",
    "for folder_name in os.listdir(source_folder):\n",
    "    current_folder = source_folder + folder_name\n",
    "    if os.path.isdir(current_folder):\n",
    "        for file_name in os.listdir(current_folder):\n",
    "            if file_name.endswith(\".wav\"):\n",
    "                file_class = file_name.split('_')[2].split(\".\")[0]\n",
    "                source = f\"{current_folder}/{file_name}\"\n",
    "            \n",
    "                if file_class == 'disgust':\n",
    "                    class_name = \"Disgust\"\n",
    "                elif file_class == 'happy':\n",
    "                    class_name = \"Happy\"\n",
    "                elif file_class == 'sad':\n",
    "                    class_name = \"Sad\"\n",
    "                elif file_class == 'neutral':\n",
    "                    class_name = \"Neutral\"\n",
    "                elif file_class == 'fear':\n",
    "                    class_name = \"Fear\"\n",
    "                elif file_class == 'angry':\n",
    "                    class_name = \"Anger\"\n",
    "                else:\n",
    "                    continue\n",
    "\n",
    "                file_names.append(file_name)\n",
    "                classes.append(class_name)\n",
    "                destination = f\"{destination_folder}/{class_name}\"\n",
    "        \n",
    "                shutil.copy2(source, destination)"
   ]
  },
  {
   "cell_type": "code",
   "execution_count": 4,
   "id": "e7105eb8-9de1-4d83-ae59-d67742ab9358",
   "metadata": {},
   "outputs": [],
   "source": [
    "df[\"Filename\"] = file_names\n",
    "df[\"Class\"] = classes"
   ]
  },
  {
   "cell_type": "code",
   "execution_count": 5,
   "id": "5e39e60c-6925-4188-abe7-2e0e64cf2b03",
   "metadata": {},
   "outputs": [],
   "source": [
    "train_df, test_df = train_test_split(df, test_size=0.2, random_state=42, stratify=df[[\"Class\"]])"
   ]
  },
  {
   "cell_type": "code",
   "execution_count": 6,
   "id": "524edd15-4d3b-4267-ab2f-6eba753f9e25",
   "metadata": {},
   "outputs": [
    {
     "data": {
      "text/plain": [
       "((1920, 2), (480, 2))"
      ]
     },
     "execution_count": 6,
     "metadata": {},
     "output_type": "execute_result"
    }
   ],
   "source": [
    "train_df.shape, test_df.shape"
   ]
  },
  {
   "cell_type": "code",
   "execution_count": 7,
   "id": "4ce4921d-f17a-44ab-83b5-89213b089dc4",
   "metadata": {},
   "outputs": [],
   "source": [
    "source_folder = \"../data/divided/Tess/train/\"\n",
    "destination_folder = \"../data/divided/Tess/test/\"\n",
    "\n",
    "for index, row in test_df.iterrows():\n",
    "    file_name = row[\"Filename\"]\n",
    "    class_name = row[\"Class\"]\n",
    "    current_folder = source_folder + class_name\n",
    "    destination = f\"{destination_folder}/{class_name}\"\n",
    "    source = f\"{current_folder}/{file_name}\"\n",
    "    shutil.move(source, destination)"
   ]
  },
  {
   "cell_type": "code",
   "execution_count": 8,
   "id": "96d56869-4971-4d8c-a715-03f11b935eaa",
   "metadata": {},
   "outputs": [
    {
     "data": {
      "text/plain": [
       "(80, 2)"
      ]
     },
     "execution_count": 8,
     "metadata": {},
     "output_type": "execute_result"
    }
   ],
   "source": [
    "test_df[test_df[\"Class\"]==\"Anger\"].shape"
   ]
  },
  {
   "cell_type": "code",
   "execution_count": 9,
   "id": "b9a46474-6767-44a5-b753-eb8ec4a54d45",
   "metadata": {},
   "outputs": [],
   "source": [
    "# source_folder = \"../data/divided/Tess/train/\"\n",
    "# destination_folder = \"../data/divided/Tess/test/\"\n",
    "\n",
    "# for folder_name in os.listdir(source_folder):\n",
    "#     current_folder = source_folder + folder_name\n",
    "#     destination = f\"{destination_folder}/{folder_name}/\"\n",
    "#     if os.path.isdir(current_folder):\n",
    "#         for file_name in os.listdir(current_folder):\n",
    "#             source = current_folder + '/' + file_name\n",
    "#             actor_id = file_name.split('_')[0] #5 people for test 3 male and 2 female\n",
    "#             if actor_id == 'OAF':\n",
    "#                 shutil.move(source, destination)"
   ]
  },
  {
   "cell_type": "code",
   "execution_count": null,
   "id": "b1e38538-b9b4-42d4-95d6-852445fc4ab4",
   "metadata": {},
   "outputs": [],
   "source": []
  }
 ],
 "metadata": {
  "kernelspec": {
   "display_name": "my_ser_env",
   "language": "python",
   "name": "my_ser_env"
  },
  "language_info": {
   "codemirror_mode": {
    "name": "ipython",
    "version": 3
   },
   "file_extension": ".py",
   "mimetype": "text/x-python",
   "name": "python",
   "nbconvert_exporter": "python",
   "pygments_lexer": "ipython3",
   "version": "3.12.5"
  }
 },
 "nbformat": 4,
 "nbformat_minor": 5
}
