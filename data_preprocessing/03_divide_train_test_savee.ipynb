{
 "cells": [
  {
   "cell_type": "code",
   "execution_count": 1,
   "id": "940580ce-7b94-482e-925f-139bbf2160f2",
   "metadata": {},
   "outputs": [],
   "source": [
    "import os\n",
    "\n",
    "import shutil\n",
    "import numpy as np\n",
    "import pandas as pd\n",
    "from random import randrange\n",
    "\n",
    "from sklearn.model_selection import train_test_split"
   ]
  },
  {
   "cell_type": "code",
   "execution_count": 2,
   "id": "eb23c891-cfc6-48a9-a408-111e25706edd",
   "metadata": {},
   "outputs": [],
   "source": [
    "# source_folder = \"../data/kaggle/input/speech-emotion-recognition-en/Savee/\"\n",
    "# destination_folder = \"../data/divided/Savee/train/\"\n",
    "\n",
    "# for file_name in os.listdir(source_folder):\n",
    "#     file_class = file_name.split(\"_\")[1][0]\n",
    "#     if file_class == 's':\n",
    "#         file_class = file_class + file_name.split(\"_\")[1][1]\n",
    "#     source = source_folder + '/' + file_name\n",
    "\n",
    "#     if file_class == 'a':\n",
    "#         destination = destination_folder + 'Anger/' + file_name\n",
    "#         shutil.copyfile(source, destination)\n",
    "#     elif file_class == 'd':\n",
    "#         destination = destination_folder + 'Disgust/' + file_name\n",
    "#         shutil.copyfile(source, destination)\n",
    "#     elif file_class == 'f':\n",
    "#         destination = destination_folder + 'Fear/' + file_name\n",
    "#         shutil.copyfile(source, destination)\n",
    "#     elif file_class == 'h':\n",
    "#         destination = destination_folder + 'Happy/' + file_name\n",
    "#         shutil.copyfile(source, destination)\n",
    "#     elif file_class == 'n':\n",
    "#         destination = destination_folder + 'Neutral/' + file_name\n",
    "#         shutil.copyfile(source, destination)\n",
    "#     elif file_class == 'sa':\n",
    "#         destination = destination_folder + 'Sad/' + file_name\n",
    "#         shutil.copyfile(source, destination)\n",
    "#     else:\n",
    "#         continue"
   ]
  },
  {
   "cell_type": "code",
   "execution_count": 3,
   "id": "4aff1952-8cb8-4b72-a83e-d15bfc7db2e3",
   "metadata": {},
   "outputs": [],
   "source": [
    "source_folder = \"../data/kaggle/input/speech-emotion-recognition-en/Savee\"\n",
    "destination_folder = \"../data/divided/Savee/train\"\n",
    "\n",
    "file_names = []\n",
    "classes = []\n",
    "\n",
    "df = pd.DataFrame()\n",
    "\n",
    "for file_name in os.listdir(source_folder):\n",
    "    if file_name.endswith(\".wav\"):\n",
    "        file_class = file_name.split(\"_\")[1][0]\n",
    "        if file_class == 's':\n",
    "            file_class = file_class + file_name.split(\"_\")[1][1]\n",
    "        source = f\"{source_folder}/{file_name}\"\n",
    "    \n",
    "        if file_class == 'a':\n",
    "            class_name = \"Anger\"\n",
    "        elif file_class == 'd':\n",
    "            class_name = \"Disgust\"\n",
    "        elif file_class == 'f':\n",
    "            class_name = \"Fear\"\n",
    "        elif file_class == 'h':\n",
    "            class_name = \"Happy\"\n",
    "        elif file_class == 'n':\n",
    "            class_name = \"Neutral\"\n",
    "        elif file_class == 'sa':\n",
    "            class_name = \"Sad\"\n",
    "        else:\n",
    "            continue\n",
    "\n",
    "        file_names.append(file_name)\n",
    "        classes.append(class_name)\n",
    "        destination = f\"{destination_folder}/{class_name}/{file_name}\"\n",
    "        \n",
    "        shutil.copyfile(source, destination)"
   ]
  },
  {
   "cell_type": "code",
   "execution_count": 4,
   "id": "2797695e-15bd-4a57-93f1-4bf62316b9f9",
   "metadata": {},
   "outputs": [],
   "source": [
    "df[\"Filename\"] = file_names\n",
    "df[\"Class\"] = classes"
   ]
  },
  {
   "cell_type": "code",
   "execution_count": 5,
   "id": "7e949b9a-0452-4f1f-a893-48f8b3c755fa",
   "metadata": {},
   "outputs": [],
   "source": [
    "train_df, test_df = train_test_split(df, test_size=0.2, random_state=42, stratify=df[[\"Class\"]])"
   ]
  },
  {
   "cell_type": "code",
   "execution_count": 6,
   "id": "5af4db60-5d2d-4fc0-b0e3-2561e33be146",
   "metadata": {},
   "outputs": [
    {
     "data": {
      "text/plain": [
       "((336, 2), (84, 2))"
      ]
     },
     "execution_count": 6,
     "metadata": {},
     "output_type": "execute_result"
    }
   ],
   "source": [
    "train_df.shape, test_df.shape"
   ]
  },
  {
   "cell_type": "code",
   "execution_count": 7,
   "id": "72b983e9-89e1-47c7-9dc9-1d2f2a82b7a0",
   "metadata": {},
   "outputs": [],
   "source": [
    "source_folder = \"../data/divided/Savee/train/\"\n",
    "destination_folder = \"../data/divided/Savee/test/\"\n",
    "\n",
    "for index, row in test_df.iterrows():\n",
    "    file_name = row[\"Filename\"]\n",
    "    class_name = row[\"Class\"]\n",
    "    current_folder = source_folder + class_name\n",
    "    destination = f\"{destination_folder}/{class_name}\"\n",
    "    source = f\"{current_folder}/{file_name}\"\n",
    "    shutil.move(source, destination)"
   ]
  },
  {
   "cell_type": "code",
   "execution_count": 8,
   "id": "b9a46474-6767-44a5-b753-eb8ec4a54d45",
   "metadata": {},
   "outputs": [],
   "source": [
    "# source_folder = \"../data/divided/Savee/train/\"\n",
    "# destination_folder = \"../data/divided/Savee/test/\"\n",
    "\n",
    "# for folder_name in os.listdir(source_folder):\n",
    "#     current_folder = source_folder + folder_name\n",
    "#     destination = f\"{destination_folder}/{folder_name}/\"\n",
    "#     if os.path.isdir(current_folder):\n",
    "#         for file_name in os.listdir(current_folder): \n",
    "#             source = current_folder + '/' + file_name\n",
    "#             actor_id = file_name[:2]\n",
    "#             if actor_id == 'JK':\n",
    "#                 shutil.move(source, destination)"
   ]
  },
  {
   "cell_type": "code",
   "execution_count": 9,
   "id": "b1e38538-b9b4-42d4-95d6-852445fc4ab4",
   "metadata": {},
   "outputs": [
    {
     "data": {
      "text/plain": [
       "(12, 2)"
      ]
     },
     "execution_count": 9,
     "metadata": {},
     "output_type": "execute_result"
    }
   ],
   "source": [
    "test_df[test_df[\"Class\"]==\"Anger\"].shape"
   ]
  },
  {
   "cell_type": "code",
   "execution_count": null,
   "id": "569fcf3a-7448-4b8a-8bfc-533d6c9e3f48",
   "metadata": {},
   "outputs": [],
   "source": []
  }
 ],
 "metadata": {
  "kernelspec": {
   "display_name": "my_ser_env",
   "language": "python",
   "name": "my_ser_env"
  },
  "language_info": {
   "codemirror_mode": {
    "name": "ipython",
    "version": 3
   },
   "file_extension": ".py",
   "mimetype": "text/x-python",
   "name": "python",
   "nbconvert_exporter": "python",
   "pygments_lexer": "ipython3",
   "version": "3.12.5"
  }
 },
 "nbformat": 4,
 "nbformat_minor": 5
}
