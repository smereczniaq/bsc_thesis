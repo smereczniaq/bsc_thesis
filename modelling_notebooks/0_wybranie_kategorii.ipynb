{
 "cells": [
  {
   "cell_type": "markdown",
   "id": "fb4e89b3-c97a-4646-9d7e-433cf1ae2110",
   "metadata": {},
   "source": [
    "# Import bibliotek"
   ]
  },
  {
   "cell_type": "code",
   "execution_count": 1,
   "id": "68742b2c-c0a0-4abf-8d91-56028c53782e",
   "metadata": {},
   "outputs": [],
   "source": [
    "import pandas as pd\n",
    "import numpy as np\n",
    "\n",
    "import os"
   ]
  },
  {
   "cell_type": "markdown",
   "id": "5df19352-de7a-40b6-bbe3-5804d23b04fc",
   "metadata": {},
   "source": [
    "# Crema dataset"
   ]
  },
  {
   "cell_type": "code",
   "execution_count": 2,
   "id": "1eea4089-25ea-4690-864f-4c6e09a85d2c",
   "metadata": {},
   "outputs": [],
   "source": [
    "crema_dir = \"../data/kaggle/input/speech-emotion-recognition-en/Crema/\""
   ]
  },
  {
   "cell_type": "code",
   "execution_count": 3,
   "id": "6a08f52e-095a-4fca-8750-c72168ec03f7",
   "metadata": {},
   "outputs": [],
   "source": [
    "emotions = []\n",
    "paths = []"
   ]
  },
  {
   "cell_type": "code",
   "execution_count": 4,
   "id": "1a737c9e-12cc-43bf-b80b-0979fe8ebad4",
   "metadata": {},
   "outputs": [],
   "source": [
    "for filename in os.listdir(crema_dir):\n",
    "    if filename.endswith(\".wav\"):\n",
    "        category = filename.split(\"_\")[2]\n",
    "        emotions.append(category)\n",
    "        paths.append(f\"{crema_dir}/{filename}\")"
   ]
  },
  {
   "cell_type": "code",
   "execution_count": 5,
   "id": "321a1350-f9f8-40ae-a3af-9675f853362e",
   "metadata": {},
   "outputs": [
    {
     "data": {
      "text/plain": [
       "{'ANG', 'DIS', 'FEA', 'HAP', 'NEU', 'SAD'}"
      ]
     },
     "execution_count": 5,
     "metadata": {},
     "output_type": "execute_result"
    }
   ],
   "source": [
    "set(emotions)"
   ]
  },
  {
   "cell_type": "code",
   "execution_count": 6,
   "id": "e19b9c23-b296-4753-b0cf-86cdd0fc5d26",
   "metadata": {},
   "outputs": [
    {
     "data": {
      "text/html": [
       "<div>\n",
       "<style scoped>\n",
       "    .dataframe tbody tr th:only-of-type {\n",
       "        vertical-align: middle;\n",
       "    }\n",
       "\n",
       "    .dataframe tbody tr th {\n",
       "        vertical-align: top;\n",
       "    }\n",
       "\n",
       "    .dataframe thead th {\n",
       "        text-align: right;\n",
       "    }\n",
       "</style>\n",
       "<table border=\"1\" class=\"dataframe\">\n",
       "  <thead>\n",
       "    <tr style=\"text-align: right;\">\n",
       "      <th></th>\n",
       "      <th>Emotion</th>\n",
       "      <th>Path</th>\n",
       "      <th>Dataset</th>\n",
       "    </tr>\n",
       "  </thead>\n",
       "  <tbody>\n",
       "    <tr>\n",
       "      <th>0</th>\n",
       "      <td>ANG</td>\n",
       "      <td>../data/kaggle/input/speech-emotion-recognitio...</td>\n",
       "      <td>Crema</td>\n",
       "    </tr>\n",
       "    <tr>\n",
       "      <th>1</th>\n",
       "      <td>ANG</td>\n",
       "      <td>../data/kaggle/input/speech-emotion-recognitio...</td>\n",
       "      <td>Crema</td>\n",
       "    </tr>\n",
       "    <tr>\n",
       "      <th>2</th>\n",
       "      <td>NEU</td>\n",
       "      <td>../data/kaggle/input/speech-emotion-recognitio...</td>\n",
       "      <td>Crema</td>\n",
       "    </tr>\n",
       "    <tr>\n",
       "      <th>3</th>\n",
       "      <td>NEU</td>\n",
       "      <td>../data/kaggle/input/speech-emotion-recognitio...</td>\n",
       "      <td>Crema</td>\n",
       "    </tr>\n",
       "    <tr>\n",
       "      <th>4</th>\n",
       "      <td>DIS</td>\n",
       "      <td>../data/kaggle/input/speech-emotion-recognitio...</td>\n",
       "      <td>Crema</td>\n",
       "    </tr>\n",
       "  </tbody>\n",
       "</table>\n",
       "</div>"
      ],
      "text/plain": [
       "  Emotion                                               Path Dataset\n",
       "0     ANG  ../data/kaggle/input/speech-emotion-recognitio...   Crema\n",
       "1     ANG  ../data/kaggle/input/speech-emotion-recognitio...   Crema\n",
       "2     NEU  ../data/kaggle/input/speech-emotion-recognitio...   Crema\n",
       "3     NEU  ../data/kaggle/input/speech-emotion-recognitio...   Crema\n",
       "4     DIS  ../data/kaggle/input/speech-emotion-recognitio...   Crema"
      ]
     },
     "execution_count": 6,
     "metadata": {},
     "output_type": "execute_result"
    }
   ],
   "source": [
    "emotions_crema_df = pd.DataFrame(emotions, columns=['Emotion'])\n",
    "path_crema_df = pd.DataFrame(paths, columns=['Path'])\n",
    "\n",
    "crema_df = pd.concat([emotions_crema_df, path_crema_df], axis=1)\n",
    "crema_df[\"Dataset\"] = \"Crema\"\n",
    "crema_df.head()"
   ]
  },
  {
   "cell_type": "code",
   "execution_count": 7,
   "id": "6794a57a-2727-4c59-9681-7afba4903a49",
   "metadata": {},
   "outputs": [],
   "source": [
    "crema_df.loc[:, \"Emotion\"] = crema_df.loc[:,\"Emotion\"].map({\n",
    "    \"ANG\": \"ANGRY\",\n",
    "    \"DIS\": \"DISGUST\",\n",
    "    \"FEA\": \"FEAR\",\n",
    "    \"HAP\": \"HAPPY\",\n",
    "    \"NEU\": \"NEUTRAL\",\n",
    "})"
   ]
  },
  {
   "cell_type": "code",
   "execution_count": 8,
   "id": "5d02e3ff-2edb-4d7e-ae20-339de1668832",
   "metadata": {},
   "outputs": [
    {
     "data": {
      "text/html": [
       "<div>\n",
       "<style scoped>\n",
       "    .dataframe tbody tr th:only-of-type {\n",
       "        vertical-align: middle;\n",
       "    }\n",
       "\n",
       "    .dataframe tbody tr th {\n",
       "        vertical-align: top;\n",
       "    }\n",
       "\n",
       "    .dataframe thead th {\n",
       "        text-align: right;\n",
       "    }\n",
       "</style>\n",
       "<table border=\"1\" class=\"dataframe\">\n",
       "  <thead>\n",
       "    <tr style=\"text-align: right;\">\n",
       "      <th></th>\n",
       "      <th>Emotion</th>\n",
       "      <th>Path</th>\n",
       "      <th>Dataset</th>\n",
       "    </tr>\n",
       "  </thead>\n",
       "  <tbody>\n",
       "    <tr>\n",
       "      <th>0</th>\n",
       "      <td>ANGRY</td>\n",
       "      <td>../data/kaggle/input/speech-emotion-recognitio...</td>\n",
       "      <td>Crema</td>\n",
       "    </tr>\n",
       "    <tr>\n",
       "      <th>1</th>\n",
       "      <td>ANGRY</td>\n",
       "      <td>../data/kaggle/input/speech-emotion-recognitio...</td>\n",
       "      <td>Crema</td>\n",
       "    </tr>\n",
       "    <tr>\n",
       "      <th>2</th>\n",
       "      <td>NEUTRAL</td>\n",
       "      <td>../data/kaggle/input/speech-emotion-recognitio...</td>\n",
       "      <td>Crema</td>\n",
       "    </tr>\n",
       "    <tr>\n",
       "      <th>3</th>\n",
       "      <td>NEUTRAL</td>\n",
       "      <td>../data/kaggle/input/speech-emotion-recognitio...</td>\n",
       "      <td>Crema</td>\n",
       "    </tr>\n",
       "    <tr>\n",
       "      <th>4</th>\n",
       "      <td>DISGUST</td>\n",
       "      <td>../data/kaggle/input/speech-emotion-recognitio...</td>\n",
       "      <td>Crema</td>\n",
       "    </tr>\n",
       "  </tbody>\n",
       "</table>\n",
       "</div>"
      ],
      "text/plain": [
       "   Emotion                                               Path Dataset\n",
       "0    ANGRY  ../data/kaggle/input/speech-emotion-recognitio...   Crema\n",
       "1    ANGRY  ../data/kaggle/input/speech-emotion-recognitio...   Crema\n",
       "2  NEUTRAL  ../data/kaggle/input/speech-emotion-recognitio...   Crema\n",
       "3  NEUTRAL  ../data/kaggle/input/speech-emotion-recognitio...   Crema\n",
       "4  DISGUST  ../data/kaggle/input/speech-emotion-recognitio...   Crema"
      ]
     },
     "execution_count": 8,
     "metadata": {},
     "output_type": "execute_result"
    }
   ],
   "source": [
    "crema_df.head()"
   ]
  },
  {
   "cell_type": "code",
   "execution_count": 9,
   "id": "10c2b003-29c4-49b1-a58d-5c4f4469e964",
   "metadata": {},
   "outputs": [],
   "source": [
    "del crema_dir, emotions_crema_df, path_crema_df"
   ]
  },
  {
   "cell_type": "markdown",
   "id": "a91e96e3-eff6-46d7-a3f2-fb397aac544a",
   "metadata": {},
   "source": [
    "# Ravdess dataset"
   ]
  },
  {
   "cell_type": "code",
   "execution_count": 10,
   "id": "86d57df9-3500-4710-8a32-8458b7c2d6b0",
   "metadata": {},
   "outputs": [],
   "source": [
    "ravdess_dir = \"../data/kaggle/input/speech-emotion-recognition-en/Ravdess/audio_speech_actors_01-24/\""
   ]
  },
  {
   "cell_type": "code",
   "execution_count": 11,
   "id": "41df8d33-a40a-43d9-b6e1-a4b8f2597d55",
   "metadata": {},
   "outputs": [
    {
     "data": {
      "text/plain": [
       "['Actor_16',\n",
       " 'Actor_11',\n",
       " 'Actor_18',\n",
       " 'Actor_20',\n",
       " 'Actor_21',\n",
       " 'Actor_19',\n",
       " 'Actor_10',\n",
       " 'Actor_17',\n",
       " '.DS_Store',\n",
       " 'Actor_04',\n",
       " 'Actor_03',\n",
       " 'Actor_02',\n",
       " 'Actor_05',\n",
       " 'Actor_12',\n",
       " 'Actor_15',\n",
       " 'Actor_23',\n",
       " 'Actor_24',\n",
       " 'Actor_22',\n",
       " 'Actor_14',\n",
       " 'Actor_13',\n",
       " 'Actor_09',\n",
       " 'Actor_07',\n",
       " 'Actor_06',\n",
       " 'Actor_01',\n",
       " 'Actor_08']"
      ]
     },
     "execution_count": 11,
     "metadata": {},
     "output_type": "execute_result"
    }
   ],
   "source": [
    "ravdess_dir_list = os.listdir(ravdess_dir)\n",
    "ravdess_dir_list"
   ]
  },
  {
   "cell_type": "code",
   "execution_count": 12,
   "id": "46a04b26-23a8-42fc-a8b8-9703546a3a1a",
   "metadata": {},
   "outputs": [],
   "source": [
    "emotions = []\n",
    "paths = []"
   ]
  },
  {
   "cell_type": "code",
   "execution_count": 13,
   "id": "d2eb4ee7-6fb1-4e9a-950f-8639c7dcaba5",
   "metadata": {},
   "outputs": [],
   "source": [
    "for directory in ravdess_dir_list:\n",
    "    if os.path.isdir(ravdess_dir + directory):\n",
    "        actor = os.listdir(ravdess_dir + directory)\n",
    "        for filename in actor:\n",
    "            if filename.endswith(\".wav\"):\n",
    "                category = filename.split(\"-\")[2]\n",
    "                emotions.append(category)\n",
    "                paths.append(f\"{ravdess_dir+directory}/{filename}\")"
   ]
  },
  {
   "cell_type": "code",
   "execution_count": 14,
   "id": "58c4df5b-f9e3-480a-bc3d-3c4abc31fabb",
   "metadata": {},
   "outputs": [
    {
     "data": {
      "text/html": [
       "<div>\n",
       "<style scoped>\n",
       "    .dataframe tbody tr th:only-of-type {\n",
       "        vertical-align: middle;\n",
       "    }\n",
       "\n",
       "    .dataframe tbody tr th {\n",
       "        vertical-align: top;\n",
       "    }\n",
       "\n",
       "    .dataframe thead th {\n",
       "        text-align: right;\n",
       "    }\n",
       "</style>\n",
       "<table border=\"1\" class=\"dataframe\">\n",
       "  <thead>\n",
       "    <tr style=\"text-align: right;\">\n",
       "      <th></th>\n",
       "      <th>Emotion</th>\n",
       "      <th>Path</th>\n",
       "      <th>Dataset</th>\n",
       "    </tr>\n",
       "  </thead>\n",
       "  <tbody>\n",
       "    <tr>\n",
       "      <th>0</th>\n",
       "      <td>05</td>\n",
       "      <td>../data/kaggle/input/speech-emotion-recognitio...</td>\n",
       "      <td>Ravdess</td>\n",
       "    </tr>\n",
       "    <tr>\n",
       "      <th>1</th>\n",
       "      <td>06</td>\n",
       "      <td>../data/kaggle/input/speech-emotion-recognitio...</td>\n",
       "      <td>Ravdess</td>\n",
       "    </tr>\n",
       "    <tr>\n",
       "      <th>2</th>\n",
       "      <td>06</td>\n",
       "      <td>../data/kaggle/input/speech-emotion-recognitio...</td>\n",
       "      <td>Ravdess</td>\n",
       "    </tr>\n",
       "    <tr>\n",
       "      <th>3</th>\n",
       "      <td>05</td>\n",
       "      <td>../data/kaggle/input/speech-emotion-recognitio...</td>\n",
       "      <td>Ravdess</td>\n",
       "    </tr>\n",
       "    <tr>\n",
       "      <th>4</th>\n",
       "      <td>07</td>\n",
       "      <td>../data/kaggle/input/speech-emotion-recognitio...</td>\n",
       "      <td>Ravdess</td>\n",
       "    </tr>\n",
       "  </tbody>\n",
       "</table>\n",
       "</div>"
      ],
      "text/plain": [
       "  Emotion                                               Path  Dataset\n",
       "0      05  ../data/kaggle/input/speech-emotion-recognitio...  Ravdess\n",
       "1      06  ../data/kaggle/input/speech-emotion-recognitio...  Ravdess\n",
       "2      06  ../data/kaggle/input/speech-emotion-recognitio...  Ravdess\n",
       "3      05  ../data/kaggle/input/speech-emotion-recognitio...  Ravdess\n",
       "4      07  ../data/kaggle/input/speech-emotion-recognitio...  Ravdess"
      ]
     },
     "execution_count": 14,
     "metadata": {},
     "output_type": "execute_result"
    }
   ],
   "source": [
    "emotions_ravdess_df = pd.DataFrame(emotions, columns=['Emotion'])\n",
    "path_ravdess_df = pd.DataFrame(paths, columns=['Path'])\n",
    "\n",
    "ravdess_df = pd.concat([emotions_ravdess_df, path_ravdess_df], axis=1)\n",
    "ravdess_df[\"Dataset\"] = \"Ravdess\"\n",
    "ravdess_df.head()"
   ]
  },
  {
   "cell_type": "code",
   "execution_count": 15,
   "id": "71b979d6-3992-407d-83a3-873037246679",
   "metadata": {},
   "outputs": [
    {
     "data": {
      "text/html": [
       "<div>\n",
       "<style scoped>\n",
       "    .dataframe tbody tr th:only-of-type {\n",
       "        vertical-align: middle;\n",
       "    }\n",
       "\n",
       "    .dataframe tbody tr th {\n",
       "        vertical-align: top;\n",
       "    }\n",
       "\n",
       "    .dataframe thead th {\n",
       "        text-align: right;\n",
       "    }\n",
       "</style>\n",
       "<table border=\"1\" class=\"dataframe\">\n",
       "  <thead>\n",
       "    <tr style=\"text-align: right;\">\n",
       "      <th></th>\n",
       "      <th>Emotion</th>\n",
       "      <th>Path</th>\n",
       "      <th>Dataset</th>\n",
       "    </tr>\n",
       "  </thead>\n",
       "  <tbody>\n",
       "    <tr>\n",
       "      <th>0</th>\n",
       "      <td>ANGRY</td>\n",
       "      <td>../data/kaggle/input/speech-emotion-recognitio...</td>\n",
       "      <td>Ravdess</td>\n",
       "    </tr>\n",
       "    <tr>\n",
       "      <th>1</th>\n",
       "      <td>FEAR</td>\n",
       "      <td>../data/kaggle/input/speech-emotion-recognitio...</td>\n",
       "      <td>Ravdess</td>\n",
       "    </tr>\n",
       "    <tr>\n",
       "      <th>2</th>\n",
       "      <td>FEAR</td>\n",
       "      <td>../data/kaggle/input/speech-emotion-recognitio...</td>\n",
       "      <td>Ravdess</td>\n",
       "    </tr>\n",
       "    <tr>\n",
       "      <th>3</th>\n",
       "      <td>ANGRY</td>\n",
       "      <td>../data/kaggle/input/speech-emotion-recognitio...</td>\n",
       "      <td>Ravdess</td>\n",
       "    </tr>\n",
       "    <tr>\n",
       "      <th>4</th>\n",
       "      <td>DISGUST</td>\n",
       "      <td>../data/kaggle/input/speech-emotion-recognitio...</td>\n",
       "      <td>Ravdess</td>\n",
       "    </tr>\n",
       "  </tbody>\n",
       "</table>\n",
       "</div>"
      ],
      "text/plain": [
       "   Emotion                                               Path  Dataset\n",
       "0    ANGRY  ../data/kaggle/input/speech-emotion-recognitio...  Ravdess\n",
       "1     FEAR  ../data/kaggle/input/speech-emotion-recognitio...  Ravdess\n",
       "2     FEAR  ../data/kaggle/input/speech-emotion-recognitio...  Ravdess\n",
       "3    ANGRY  ../data/kaggle/input/speech-emotion-recognitio...  Ravdess\n",
       "4  DISGUST  ../data/kaggle/input/speech-emotion-recognitio...  Ravdess"
      ]
     },
     "execution_count": 15,
     "metadata": {},
     "output_type": "execute_result"
    }
   ],
   "source": [
    "ravdess_df[\"Emotion\"] = ravdess_df[\"Emotion\"].astype(str) \n",
    "\n",
    "ravdess_df.loc[:, \"Emotion\"] = ravdess_df.loc[:, \"Emotion\"].map({\n",
    "    \"01\": \"NEUTRAL\",\n",
    "    \"02\": \"CALM\",\n",
    "    \"03\": \"HAPPY\",\n",
    "    \"04\": \"SAD\",\n",
    "    \"05\": \"ANGRY\",\n",
    "    \"06\": \"FEAR\",\n",
    "    \"07\": \"DISGUST\",\n",
    "    \"08\": \"SURPRISE\",\n",
    "})\n",
    "\n",
    "ravdess_df.head()"
   ]
  },
  {
   "cell_type": "code",
   "execution_count": 16,
   "id": "14ca4e82-dfdb-4ccf-96fb-7bf857f81375",
   "metadata": {},
   "outputs": [],
   "source": [
    "del ravdess_dir, ravdess_dir_list, emotions_ravdess_df, path_ravdess_df"
   ]
  },
  {
   "cell_type": "markdown",
   "id": "df121a25-d10b-49b9-86a4-85b98bc57669",
   "metadata": {},
   "source": [
    "# Savee dataset"
   ]
  },
  {
   "cell_type": "code",
   "execution_count": 17,
   "id": "64e16b90-652b-400e-960b-628629d6f80d",
   "metadata": {},
   "outputs": [],
   "source": [
    "savee_dir = \"../data/kaggle/input/speech-emotion-recognition-en/Savee/\""
   ]
  },
  {
   "cell_type": "code",
   "execution_count": 18,
   "id": "4d520b78-b445-4ab0-99ee-d8286802553a",
   "metadata": {},
   "outputs": [],
   "source": [
    "emotions = []\n",
    "paths = []"
   ]
  },
  {
   "cell_type": "code",
   "execution_count": 19,
   "id": "c027bb45-5bbc-40f8-a0b9-0418f1298a6e",
   "metadata": {},
   "outputs": [],
   "source": [
    "for filename in os.listdir(savee_dir):\n",
    "    if filename.endswith(\".wav\"):\n",
    "        category = filename.split(\"_\")[1][:-6]\n",
    "        emotions.append(category)\n",
    "        paths.append(f\"{savee_dir}/{filename}\")"
   ]
  },
  {
   "cell_type": "code",
   "execution_count": 20,
   "id": "d511ecb5-64af-4c73-8024-37b2887e8409",
   "metadata": {},
   "outputs": [
    {
     "data": {
      "text/plain": [
       "{'a', 'd', 'f', 'h', 'n', 'sa', 'su'}"
      ]
     },
     "execution_count": 20,
     "metadata": {},
     "output_type": "execute_result"
    }
   ],
   "source": [
    "set(emotions)"
   ]
  },
  {
   "cell_type": "code",
   "execution_count": 21,
   "id": "5f09d7f2-33fa-4f31-a920-54cf2666a22e",
   "metadata": {},
   "outputs": [
    {
     "data": {
      "text/html": [
       "<div>\n",
       "<style scoped>\n",
       "    .dataframe tbody tr th:only-of-type {\n",
       "        vertical-align: middle;\n",
       "    }\n",
       "\n",
       "    .dataframe tbody tr th {\n",
       "        vertical-align: top;\n",
       "    }\n",
       "\n",
       "    .dataframe thead th {\n",
       "        text-align: right;\n",
       "    }\n",
       "</style>\n",
       "<table border=\"1\" class=\"dataframe\">\n",
       "  <thead>\n",
       "    <tr style=\"text-align: right;\">\n",
       "      <th></th>\n",
       "      <th>Emotion</th>\n",
       "      <th>Path</th>\n",
       "      <th>Dataset</th>\n",
       "    </tr>\n",
       "  </thead>\n",
       "  <tbody>\n",
       "    <tr>\n",
       "      <th>0</th>\n",
       "      <td>sa</td>\n",
       "      <td>../data/kaggle/input/speech-emotion-recognitio...</td>\n",
       "      <td>Savee</td>\n",
       "    </tr>\n",
       "    <tr>\n",
       "      <th>1</th>\n",
       "      <td>sa</td>\n",
       "      <td>../data/kaggle/input/speech-emotion-recognitio...</td>\n",
       "      <td>Savee</td>\n",
       "    </tr>\n",
       "    <tr>\n",
       "      <th>2</th>\n",
       "      <td>n</td>\n",
       "      <td>../data/kaggle/input/speech-emotion-recognitio...</td>\n",
       "      <td>Savee</td>\n",
       "    </tr>\n",
       "    <tr>\n",
       "      <th>3</th>\n",
       "      <td>su</td>\n",
       "      <td>../data/kaggle/input/speech-emotion-recognitio...</td>\n",
       "      <td>Savee</td>\n",
       "    </tr>\n",
       "    <tr>\n",
       "      <th>4</th>\n",
       "      <td>n</td>\n",
       "      <td>../data/kaggle/input/speech-emotion-recognitio...</td>\n",
       "      <td>Savee</td>\n",
       "    </tr>\n",
       "  </tbody>\n",
       "</table>\n",
       "</div>"
      ],
      "text/plain": [
       "  Emotion                                               Path Dataset\n",
       "0      sa  ../data/kaggle/input/speech-emotion-recognitio...   Savee\n",
       "1      sa  ../data/kaggle/input/speech-emotion-recognitio...   Savee\n",
       "2       n  ../data/kaggle/input/speech-emotion-recognitio...   Savee\n",
       "3      su  ../data/kaggle/input/speech-emotion-recognitio...   Savee\n",
       "4       n  ../data/kaggle/input/speech-emotion-recognitio...   Savee"
      ]
     },
     "execution_count": 21,
     "metadata": {},
     "output_type": "execute_result"
    }
   ],
   "source": [
    "emotions_savee_df = pd.DataFrame(emotions, columns=['Emotion'])\n",
    "path_savee_df = pd.DataFrame(paths, columns=['Path'])\n",
    "\n",
    "savee_df = pd.concat([emotions_savee_df, path_savee_df], axis=1)\n",
    "savee_df[\"Dataset\"] = \"Savee\"\n",
    "savee_df.head()"
   ]
  },
  {
   "cell_type": "code",
   "execution_count": 22,
   "id": "bbe937b7-e47e-415e-8f03-efc9eed13262",
   "metadata": {},
   "outputs": [],
   "source": [
    "savee_df.loc[:, \"Emotion\"] = savee_df.loc[:,\"Emotion\"].map({\n",
    "    \"a\": \"ANGRY\",\n",
    "    \"d\": \"DISGUST\",\n",
    "    \"f\": \"FEAR\",\n",
    "    \"h\": \"HAPPY\",\n",
    "    \"n\": \"NEUTRAL\",\n",
    "    \"sa\": \"SAD\",\n",
    "    \"su\": \"SURPRISE\"\n",
    "})"
   ]
  },
  {
   "cell_type": "code",
   "execution_count": 23,
   "id": "5ee4ab47-d86b-40c6-8537-a4ae87832ac7",
   "metadata": {},
   "outputs": [
    {
     "data": {
      "text/html": [
       "<div>\n",
       "<style scoped>\n",
       "    .dataframe tbody tr th:only-of-type {\n",
       "        vertical-align: middle;\n",
       "    }\n",
       "\n",
       "    .dataframe tbody tr th {\n",
       "        vertical-align: top;\n",
       "    }\n",
       "\n",
       "    .dataframe thead th {\n",
       "        text-align: right;\n",
       "    }\n",
       "</style>\n",
       "<table border=\"1\" class=\"dataframe\">\n",
       "  <thead>\n",
       "    <tr style=\"text-align: right;\">\n",
       "      <th></th>\n",
       "      <th>Emotion</th>\n",
       "      <th>Path</th>\n",
       "      <th>Dataset</th>\n",
       "    </tr>\n",
       "  </thead>\n",
       "  <tbody>\n",
       "    <tr>\n",
       "      <th>0</th>\n",
       "      <td>SAD</td>\n",
       "      <td>../data/kaggle/input/speech-emotion-recognitio...</td>\n",
       "      <td>Savee</td>\n",
       "    </tr>\n",
       "    <tr>\n",
       "      <th>1</th>\n",
       "      <td>SAD</td>\n",
       "      <td>../data/kaggle/input/speech-emotion-recognitio...</td>\n",
       "      <td>Savee</td>\n",
       "    </tr>\n",
       "    <tr>\n",
       "      <th>2</th>\n",
       "      <td>NEUTRAL</td>\n",
       "      <td>../data/kaggle/input/speech-emotion-recognitio...</td>\n",
       "      <td>Savee</td>\n",
       "    </tr>\n",
       "    <tr>\n",
       "      <th>3</th>\n",
       "      <td>SURPRISE</td>\n",
       "      <td>../data/kaggle/input/speech-emotion-recognitio...</td>\n",
       "      <td>Savee</td>\n",
       "    </tr>\n",
       "    <tr>\n",
       "      <th>4</th>\n",
       "      <td>NEUTRAL</td>\n",
       "      <td>../data/kaggle/input/speech-emotion-recognitio...</td>\n",
       "      <td>Savee</td>\n",
       "    </tr>\n",
       "  </tbody>\n",
       "</table>\n",
       "</div>"
      ],
      "text/plain": [
       "    Emotion                                               Path Dataset\n",
       "0       SAD  ../data/kaggle/input/speech-emotion-recognitio...   Savee\n",
       "1       SAD  ../data/kaggle/input/speech-emotion-recognitio...   Savee\n",
       "2   NEUTRAL  ../data/kaggle/input/speech-emotion-recognitio...   Savee\n",
       "3  SURPRISE  ../data/kaggle/input/speech-emotion-recognitio...   Savee\n",
       "4   NEUTRAL  ../data/kaggle/input/speech-emotion-recognitio...   Savee"
      ]
     },
     "execution_count": 23,
     "metadata": {},
     "output_type": "execute_result"
    }
   ],
   "source": [
    "savee_df.head()"
   ]
  },
  {
   "cell_type": "markdown",
   "id": "2eade64c-5ab0-4db9-84b4-c36b3535f1cc",
   "metadata": {},
   "source": [
    "# Tess dataset"
   ]
  },
  {
   "cell_type": "code",
   "execution_count": 24,
   "id": "7eb6f2bb-6ebd-44c8-b5cc-000ac632145c",
   "metadata": {},
   "outputs": [],
   "source": [
    "tess_dir = \"../data/kaggle/input/speech-emotion-recognition-en/Tess/\""
   ]
  },
  {
   "cell_type": "code",
   "execution_count": 25,
   "id": "8172a12f-2387-473d-823b-431a0aa86ef5",
   "metadata": {},
   "outputs": [
    {
     "data": {
      "text/plain": [
       "['YAF_disgust',\n",
       " 'OAF_Pleasant_surprise',\n",
       " '.DS_Store',\n",
       " 'OAF_happy',\n",
       " 'YAF_sad',\n",
       " 'YAF_happy',\n",
       " 'YAF_neutral',\n",
       " 'OAF_Fear',\n",
       " 'OAF_angry',\n",
       " 'YAF_pleasant_surprised',\n",
       " 'YAF_fear',\n",
       " 'OAF_neutral',\n",
       " 'OAF_disgust',\n",
       " 'YAF_angry',\n",
       " 'OAF_Sad']"
      ]
     },
     "execution_count": 25,
     "metadata": {},
     "output_type": "execute_result"
    }
   ],
   "source": [
    "tess_dir_list = os.listdir(tess_dir)\n",
    "tess_dir_list"
   ]
  },
  {
   "cell_type": "code",
   "execution_count": 26,
   "id": "a74b3129-610a-471c-a6dd-7def0d51e3dd",
   "metadata": {},
   "outputs": [],
   "source": [
    "emotions = []\n",
    "paths = []"
   ]
  },
  {
   "cell_type": "code",
   "execution_count": 27,
   "id": "4260a794-026f-4cc5-948e-890c0c642e1c",
   "metadata": {},
   "outputs": [],
   "source": [
    "for directory in tess_dir_list:\n",
    "    if os.path.isdir(tess_dir + directory):\n",
    "        files = os.listdir(tess_dir + directory)\n",
    "        for filename in files:\n",
    "            if filename.endswith(\".wav\"):\n",
    "                category = filename.split(\".\")[0].split(\"_\")[2]\n",
    "                emotions.append(category)\n",
    "                paths.append(f\"{tess_dir+directory}/{filename}\")"
   ]
  },
  {
   "cell_type": "code",
   "execution_count": 28,
   "id": "bfaa3554-1362-444c-8360-3fdb9422b1b1",
   "metadata": {},
   "outputs": [
    {
     "data": {
      "text/plain": [
       "{'angry', 'disgust', 'fear', 'happy', 'neutral', 'ps', 'sad'}"
      ]
     },
     "execution_count": 28,
     "metadata": {},
     "output_type": "execute_result"
    }
   ],
   "source": [
    "set(emotions)"
   ]
  },
  {
   "cell_type": "code",
   "execution_count": 29,
   "id": "8048bff8-3979-4550-bb0b-0e4213dc6be6",
   "metadata": {},
   "outputs": [
    {
     "data": {
      "text/html": [
       "<div>\n",
       "<style scoped>\n",
       "    .dataframe tbody tr th:only-of-type {\n",
       "        vertical-align: middle;\n",
       "    }\n",
       "\n",
       "    .dataframe tbody tr th {\n",
       "        vertical-align: top;\n",
       "    }\n",
       "\n",
       "    .dataframe thead th {\n",
       "        text-align: right;\n",
       "    }\n",
       "</style>\n",
       "<table border=\"1\" class=\"dataframe\">\n",
       "  <thead>\n",
       "    <tr style=\"text-align: right;\">\n",
       "      <th></th>\n",
       "      <th>Emotion</th>\n",
       "      <th>Path</th>\n",
       "      <th>Dataset</th>\n",
       "    </tr>\n",
       "  </thead>\n",
       "  <tbody>\n",
       "    <tr>\n",
       "      <th>0</th>\n",
       "      <td>disgust</td>\n",
       "      <td>../data/kaggle/input/speech-emotion-recognitio...</td>\n",
       "      <td>Tess</td>\n",
       "    </tr>\n",
       "    <tr>\n",
       "      <th>1</th>\n",
       "      <td>disgust</td>\n",
       "      <td>../data/kaggle/input/speech-emotion-recognitio...</td>\n",
       "      <td>Tess</td>\n",
       "    </tr>\n",
       "    <tr>\n",
       "      <th>2</th>\n",
       "      <td>disgust</td>\n",
       "      <td>../data/kaggle/input/speech-emotion-recognitio...</td>\n",
       "      <td>Tess</td>\n",
       "    </tr>\n",
       "    <tr>\n",
       "      <th>3</th>\n",
       "      <td>disgust</td>\n",
       "      <td>../data/kaggle/input/speech-emotion-recognitio...</td>\n",
       "      <td>Tess</td>\n",
       "    </tr>\n",
       "    <tr>\n",
       "      <th>4</th>\n",
       "      <td>disgust</td>\n",
       "      <td>../data/kaggle/input/speech-emotion-recognitio...</td>\n",
       "      <td>Tess</td>\n",
       "    </tr>\n",
       "  </tbody>\n",
       "</table>\n",
       "</div>"
      ],
      "text/plain": [
       "   Emotion                                               Path Dataset\n",
       "0  disgust  ../data/kaggle/input/speech-emotion-recognitio...    Tess\n",
       "1  disgust  ../data/kaggle/input/speech-emotion-recognitio...    Tess\n",
       "2  disgust  ../data/kaggle/input/speech-emotion-recognitio...    Tess\n",
       "3  disgust  ../data/kaggle/input/speech-emotion-recognitio...    Tess\n",
       "4  disgust  ../data/kaggle/input/speech-emotion-recognitio...    Tess"
      ]
     },
     "execution_count": 29,
     "metadata": {},
     "output_type": "execute_result"
    }
   ],
   "source": [
    "emotions_tess_df = pd.DataFrame(emotions, columns=['Emotion'])\n",
    "path_tess_df = pd.DataFrame(paths, columns=['Path'])\n",
    "\n",
    "tess_df = pd.concat([emotions_tess_df, path_tess_df], axis=1)\n",
    "tess_df[\"Dataset\"] = \"Tess\"\n",
    "tess_df.head()"
   ]
  },
  {
   "cell_type": "code",
   "execution_count": 30,
   "id": "4431297c-80ed-49de-b210-1164971c02e5",
   "metadata": {},
   "outputs": [
    {
     "data": {
      "text/html": [
       "<div>\n",
       "<style scoped>\n",
       "    .dataframe tbody tr th:only-of-type {\n",
       "        vertical-align: middle;\n",
       "    }\n",
       "\n",
       "    .dataframe tbody tr th {\n",
       "        vertical-align: top;\n",
       "    }\n",
       "\n",
       "    .dataframe thead th {\n",
       "        text-align: right;\n",
       "    }\n",
       "</style>\n",
       "<table border=\"1\" class=\"dataframe\">\n",
       "  <thead>\n",
       "    <tr style=\"text-align: right;\">\n",
       "      <th></th>\n",
       "      <th>Emotion</th>\n",
       "      <th>Path</th>\n",
       "      <th>Dataset</th>\n",
       "    </tr>\n",
       "  </thead>\n",
       "  <tbody>\n",
       "    <tr>\n",
       "      <th>0</th>\n",
       "      <td>DISGUST</td>\n",
       "      <td>../data/kaggle/input/speech-emotion-recognitio...</td>\n",
       "      <td>Tess</td>\n",
       "    </tr>\n",
       "    <tr>\n",
       "      <th>1</th>\n",
       "      <td>DISGUST</td>\n",
       "      <td>../data/kaggle/input/speech-emotion-recognitio...</td>\n",
       "      <td>Tess</td>\n",
       "    </tr>\n",
       "    <tr>\n",
       "      <th>2</th>\n",
       "      <td>DISGUST</td>\n",
       "      <td>../data/kaggle/input/speech-emotion-recognitio...</td>\n",
       "      <td>Tess</td>\n",
       "    </tr>\n",
       "    <tr>\n",
       "      <th>3</th>\n",
       "      <td>DISGUST</td>\n",
       "      <td>../data/kaggle/input/speech-emotion-recognitio...</td>\n",
       "      <td>Tess</td>\n",
       "    </tr>\n",
       "    <tr>\n",
       "      <th>4</th>\n",
       "      <td>DISGUST</td>\n",
       "      <td>../data/kaggle/input/speech-emotion-recognitio...</td>\n",
       "      <td>Tess</td>\n",
       "    </tr>\n",
       "  </tbody>\n",
       "</table>\n",
       "</div>"
      ],
      "text/plain": [
       "   Emotion                                               Path Dataset\n",
       "0  DISGUST  ../data/kaggle/input/speech-emotion-recognitio...    Tess\n",
       "1  DISGUST  ../data/kaggle/input/speech-emotion-recognitio...    Tess\n",
       "2  DISGUST  ../data/kaggle/input/speech-emotion-recognitio...    Tess\n",
       "3  DISGUST  ../data/kaggle/input/speech-emotion-recognitio...    Tess\n",
       "4  DISGUST  ../data/kaggle/input/speech-emotion-recognitio...    Tess"
      ]
     },
     "execution_count": 30,
     "metadata": {},
     "output_type": "execute_result"
    }
   ],
   "source": [
    "tess_df.loc[:, \"Emotion\"] = tess_df.loc[:, \"Emotion\"].map({\n",
    "    \"neutral\": \"NEUTRAL\",\n",
    "    \"happy\": \"HAPPY\",\n",
    "    \"sad\": \"SAD\",\n",
    "    \"angry\": \"ANGRY\",\n",
    "    \"fear\": \"FEAR\",\n",
    "    \"disgust\": \"DISGUST\",\n",
    "    \"ps\": \"PLEASANT_SURPRISE\",\n",
    "})\n",
    "\n",
    "tess_df.head()"
   ]
  },
  {
   "cell_type": "code",
   "execution_count": 31,
   "id": "2dba44fb-f97f-4148-8232-83bda7935e80",
   "metadata": {},
   "outputs": [],
   "source": [
    "del tess_dir, tess_dir_list, emotions_tess_df, path_tess_df\n",
    "del emotions, paths\n",
    "del directory, files, filename, category"
   ]
  },
  {
   "cell_type": "markdown",
   "id": "8942df5d-52fb-4410-9db1-7cab790815ec",
   "metadata": {},
   "source": [
    "# Wybranie wspólnych kategorii"
   ]
  },
  {
   "cell_type": "code",
   "execution_count": 32,
   "id": "7872f135-052d-49d6-940f-c827dad9f15e",
   "metadata": {},
   "outputs": [
    {
     "name": "stdout",
     "output_type": "stream",
     "text": [
      "Crema emotions: {'DISGUST', 'ANGRY', 'FEAR', 'HAPPY', nan, 'NEUTRAL'}\n",
      "Ravdess emotions: {'DISGUST', 'SAD', 'CALM', 'ANGRY', 'FEAR', 'HAPPY', 'SURPRISE', 'NEUTRAL'}\n",
      "Savee emotions: {'DISGUST', 'SAD', 'ANGRY', 'FEAR', 'HAPPY', 'SURPRISE', 'NEUTRAL'}\n",
      "Tess emotions:{'DISGUST', 'PLEASANT_SURPRISE', 'SAD', 'ANGRY', 'FEAR', 'HAPPY', 'NEUTRAL'}\n"
     ]
    }
   ],
   "source": [
    "crema_emotions = set(crema_df.loc[:, \"Emotion\"])\n",
    "ravdess_emotions = set(ravdess_df.loc[:, \"Emotion\"])\n",
    "savee_emotions = set(savee_df.loc[:, \"Emotion\"])\n",
    "tess_emotions = set(tess_df.loc[:, \"Emotion\"])\n",
    "\n",
    "print(f\"Crema emotions: {crema_emotions}\\nRavdess emotions: {ravdess_emotions}\\nSavee emotions: {savee_emotions}\\nTess emotions:{tess_emotions}\")"
   ]
  },
  {
   "cell_type": "code",
   "execution_count": 33,
   "id": "f99dc887-008e-4c4a-927f-ee461b99b8e0",
   "metadata": {},
   "outputs": [
    {
     "name": "stdout",
     "output_type": "stream",
     "text": [
      "Wspólne etykiety znajdujace sie w kazdym zbiorze: {'DISGUST', 'ANGRY', 'FEAR', 'HAPPY', 'NEUTRAL'}\n"
     ]
    }
   ],
   "source": [
    "mutual_emotions = set.intersection(crema_emotions, ravdess_emotions, savee_emotions, tess_emotions)\n",
    "print(f\"Wspólne etykiety znajdujace sie w kazdym zbiorze: {mutual_emotions}\")"
   ]
  },
  {
   "cell_type": "markdown",
   "id": "e5fb42d2-e39e-40c5-b957-30678cb523c0",
   "metadata": {},
   "source": [
    "# Polaczenie zbiorow"
   ]
  },
  {
   "cell_type": "code",
   "execution_count": 34,
   "id": "18a44f61-f71a-4ae2-a9e7-b9d5e1abf975",
   "metadata": {},
   "outputs": [
    {
     "data": {
      "text/plain": [
       "(12162, 3)"
      ]
     },
     "execution_count": 34,
     "metadata": {},
     "output_type": "execute_result"
    }
   ],
   "source": [
    "df = pd.concat([crema_df, ravdess_df, savee_df, tess_df])\n",
    "df.shape"
   ]
  },
  {
   "cell_type": "code",
   "execution_count": 35,
   "id": "14e5e783-b946-42d9-91fa-3510bdae3188",
   "metadata": {},
   "outputs": [
    {
     "data": {
      "text/html": [
       "<div>\n",
       "<style scoped>\n",
       "    .dataframe tbody tr th:only-of-type {\n",
       "        vertical-align: middle;\n",
       "    }\n",
       "\n",
       "    .dataframe tbody tr th {\n",
       "        vertical-align: top;\n",
       "    }\n",
       "\n",
       "    .dataframe thead th {\n",
       "        text-align: right;\n",
       "    }\n",
       "</style>\n",
       "<table border=\"1\" class=\"dataframe\">\n",
       "  <thead>\n",
       "    <tr style=\"text-align: right;\">\n",
       "      <th></th>\n",
       "      <th>Emotion</th>\n",
       "      <th>Path</th>\n",
       "      <th>Dataset</th>\n",
       "    </tr>\n",
       "  </thead>\n",
       "  <tbody>\n",
       "    <tr>\n",
       "      <th>0</th>\n",
       "      <td>ANGRY</td>\n",
       "      <td>../data/kaggle/input/speech-emotion-recognitio...</td>\n",
       "      <td>Crema</td>\n",
       "    </tr>\n",
       "    <tr>\n",
       "      <th>1</th>\n",
       "      <td>ANGRY</td>\n",
       "      <td>../data/kaggle/input/speech-emotion-recognitio...</td>\n",
       "      <td>Crema</td>\n",
       "    </tr>\n",
       "    <tr>\n",
       "      <th>2</th>\n",
       "      <td>NEUTRAL</td>\n",
       "      <td>../data/kaggle/input/speech-emotion-recognitio...</td>\n",
       "      <td>Crema</td>\n",
       "    </tr>\n",
       "    <tr>\n",
       "      <th>3</th>\n",
       "      <td>NEUTRAL</td>\n",
       "      <td>../data/kaggle/input/speech-emotion-recognitio...</td>\n",
       "      <td>Crema</td>\n",
       "    </tr>\n",
       "    <tr>\n",
       "      <th>4</th>\n",
       "      <td>DISGUST</td>\n",
       "      <td>../data/kaggle/input/speech-emotion-recognitio...</td>\n",
       "      <td>Crema</td>\n",
       "    </tr>\n",
       "    <tr>\n",
       "      <th>...</th>\n",
       "      <td>...</td>\n",
       "      <td>...</td>\n",
       "      <td>...</td>\n",
       "    </tr>\n",
       "    <tr>\n",
       "      <th>2795</th>\n",
       "      <td>SAD</td>\n",
       "      <td>../data/kaggle/input/speech-emotion-recognitio...</td>\n",
       "      <td>Tess</td>\n",
       "    </tr>\n",
       "    <tr>\n",
       "      <th>2796</th>\n",
       "      <td>SAD</td>\n",
       "      <td>../data/kaggle/input/speech-emotion-recognitio...</td>\n",
       "      <td>Tess</td>\n",
       "    </tr>\n",
       "    <tr>\n",
       "      <th>2797</th>\n",
       "      <td>SAD</td>\n",
       "      <td>../data/kaggle/input/speech-emotion-recognitio...</td>\n",
       "      <td>Tess</td>\n",
       "    </tr>\n",
       "    <tr>\n",
       "      <th>2798</th>\n",
       "      <td>SAD</td>\n",
       "      <td>../data/kaggle/input/speech-emotion-recognitio...</td>\n",
       "      <td>Tess</td>\n",
       "    </tr>\n",
       "    <tr>\n",
       "      <th>2799</th>\n",
       "      <td>SAD</td>\n",
       "      <td>../data/kaggle/input/speech-emotion-recognitio...</td>\n",
       "      <td>Tess</td>\n",
       "    </tr>\n",
       "  </tbody>\n",
       "</table>\n",
       "<p>12162 rows × 3 columns</p>\n",
       "</div>"
      ],
      "text/plain": [
       "      Emotion                                               Path Dataset\n",
       "0       ANGRY  ../data/kaggle/input/speech-emotion-recognitio...   Crema\n",
       "1       ANGRY  ../data/kaggle/input/speech-emotion-recognitio...   Crema\n",
       "2     NEUTRAL  ../data/kaggle/input/speech-emotion-recognitio...   Crema\n",
       "3     NEUTRAL  ../data/kaggle/input/speech-emotion-recognitio...   Crema\n",
       "4     DISGUST  ../data/kaggle/input/speech-emotion-recognitio...   Crema\n",
       "...       ...                                                ...     ...\n",
       "2795      SAD  ../data/kaggle/input/speech-emotion-recognitio...    Tess\n",
       "2796      SAD  ../data/kaggle/input/speech-emotion-recognitio...    Tess\n",
       "2797      SAD  ../data/kaggle/input/speech-emotion-recognitio...    Tess\n",
       "2798      SAD  ../data/kaggle/input/speech-emotion-recognitio...    Tess\n",
       "2799      SAD  ../data/kaggle/input/speech-emotion-recognitio...    Tess\n",
       "\n",
       "[12162 rows x 3 columns]"
      ]
     },
     "execution_count": 35,
     "metadata": {},
     "output_type": "execute_result"
    }
   ],
   "source": [
    "df"
   ]
  },
  {
   "cell_type": "code",
   "execution_count": 36,
   "id": "c4f02348-7ed3-4eba-aa92-143ade6e73dc",
   "metadata": {},
   "outputs": [
    {
     "data": {
      "text/html": [
       "<div>\n",
       "<style scoped>\n",
       "    .dataframe tbody tr th:only-of-type {\n",
       "        vertical-align: middle;\n",
       "    }\n",
       "\n",
       "    .dataframe tbody tr th {\n",
       "        vertical-align: top;\n",
       "    }\n",
       "\n",
       "    .dataframe thead th {\n",
       "        text-align: right;\n",
       "    }\n",
       "</style>\n",
       "<table border=\"1\" class=\"dataframe\">\n",
       "  <thead>\n",
       "    <tr style=\"text-align: right;\">\n",
       "      <th></th>\n",
       "      <th>Emotion</th>\n",
       "      <th>Path</th>\n",
       "      <th>Dataset</th>\n",
       "    </tr>\n",
       "  </thead>\n",
       "  <tbody>\n",
       "    <tr>\n",
       "      <th>0</th>\n",
       "      <td>ANGRY</td>\n",
       "      <td>../data/kaggle/input/speech-emotion-recognitio...</td>\n",
       "      <td>Crema</td>\n",
       "    </tr>\n",
       "    <tr>\n",
       "      <th>1</th>\n",
       "      <td>ANGRY</td>\n",
       "      <td>../data/kaggle/input/speech-emotion-recognitio...</td>\n",
       "      <td>Crema</td>\n",
       "    </tr>\n",
       "    <tr>\n",
       "      <th>2</th>\n",
       "      <td>NEUTRAL</td>\n",
       "      <td>../data/kaggle/input/speech-emotion-recognitio...</td>\n",
       "      <td>Crema</td>\n",
       "    </tr>\n",
       "    <tr>\n",
       "      <th>3</th>\n",
       "      <td>NEUTRAL</td>\n",
       "      <td>../data/kaggle/input/speech-emotion-recognitio...</td>\n",
       "      <td>Crema</td>\n",
       "    </tr>\n",
       "    <tr>\n",
       "      <th>4</th>\n",
       "      <td>DISGUST</td>\n",
       "      <td>../data/kaggle/input/speech-emotion-recognitio...</td>\n",
       "      <td>Crema</td>\n",
       "    </tr>\n",
       "    <tr>\n",
       "      <th>...</th>\n",
       "      <td>...</td>\n",
       "      <td>...</td>\n",
       "      <td>...</td>\n",
       "    </tr>\n",
       "    <tr>\n",
       "      <th>2595</th>\n",
       "      <td>ANGRY</td>\n",
       "      <td>../data/kaggle/input/speech-emotion-recognitio...</td>\n",
       "      <td>Tess</td>\n",
       "    </tr>\n",
       "    <tr>\n",
       "      <th>2596</th>\n",
       "      <td>ANGRY</td>\n",
       "      <td>../data/kaggle/input/speech-emotion-recognitio...</td>\n",
       "      <td>Tess</td>\n",
       "    </tr>\n",
       "    <tr>\n",
       "      <th>2597</th>\n",
       "      <td>ANGRY</td>\n",
       "      <td>../data/kaggle/input/speech-emotion-recognitio...</td>\n",
       "      <td>Tess</td>\n",
       "    </tr>\n",
       "    <tr>\n",
       "      <th>2598</th>\n",
       "      <td>ANGRY</td>\n",
       "      <td>../data/kaggle/input/speech-emotion-recognitio...</td>\n",
       "      <td>Tess</td>\n",
       "    </tr>\n",
       "    <tr>\n",
       "      <th>2599</th>\n",
       "      <td>ANGRY</td>\n",
       "      <td>../data/kaggle/input/speech-emotion-recognitio...</td>\n",
       "      <td>Tess</td>\n",
       "    </tr>\n",
       "  </tbody>\n",
       "</table>\n",
       "<p>9395 rows × 3 columns</p>\n",
       "</div>"
      ],
      "text/plain": [
       "      Emotion                                               Path Dataset\n",
       "0       ANGRY  ../data/kaggle/input/speech-emotion-recognitio...   Crema\n",
       "1       ANGRY  ../data/kaggle/input/speech-emotion-recognitio...   Crema\n",
       "2     NEUTRAL  ../data/kaggle/input/speech-emotion-recognitio...   Crema\n",
       "3     NEUTRAL  ../data/kaggle/input/speech-emotion-recognitio...   Crema\n",
       "4     DISGUST  ../data/kaggle/input/speech-emotion-recognitio...   Crema\n",
       "...       ...                                                ...     ...\n",
       "2595    ANGRY  ../data/kaggle/input/speech-emotion-recognitio...    Tess\n",
       "2596    ANGRY  ../data/kaggle/input/speech-emotion-recognitio...    Tess\n",
       "2597    ANGRY  ../data/kaggle/input/speech-emotion-recognitio...    Tess\n",
       "2598    ANGRY  ../data/kaggle/input/speech-emotion-recognitio...    Tess\n",
       "2599    ANGRY  ../data/kaggle/input/speech-emotion-recognitio...    Tess\n",
       "\n",
       "[9395 rows x 3 columns]"
      ]
     },
     "execution_count": 36,
     "metadata": {},
     "output_type": "execute_result"
    }
   ],
   "source": [
    "df = df.loc[df[\"Emotion\"].isin(mutual_emotions)]\n",
    "df"
   ]
  },
  {
   "cell_type": "code",
   "execution_count": 37,
   "id": "c9838cd7-197d-48cf-9079-405f07e97acf",
   "metadata": {},
   "outputs": [],
   "source": [
    "df.to_csv(\"../data/datasets_sum.csv\", index=False)"
   ]
  },
  {
   "cell_type": "code",
   "execution_count": null,
   "id": "b81e4f2b-b1a1-4d9a-b481-b9b749bded72",
   "metadata": {},
   "outputs": [],
   "source": []
  }
 ],
 "metadata": {
  "kernelspec": {
   "display_name": "my_ser_env",
   "language": "python",
   "name": "my_ser_env"
  },
  "language_info": {
   "codemirror_mode": {
    "name": "ipython",
    "version": 3
   },
   "file_extension": ".py",
   "mimetype": "text/x-python",
   "name": "python",
   "nbconvert_exporter": "python",
   "pygments_lexer": "ipython3",
   "version": "3.12.5"
  }
 },
 "nbformat": 4,
 "nbformat_minor": 5
}
