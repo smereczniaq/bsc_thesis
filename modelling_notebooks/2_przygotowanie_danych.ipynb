{
 "cells": [
  {
   "cell_type": "markdown",
   "id": "a0ab6f73-745e-4dee-86e6-87cb6c17b22d",
   "metadata": {},
   "source": [
    "# Import bibliotek"
   ]
  },
  {
   "cell_type": "code",
   "execution_count": 1,
   "id": "f1ac45f8-36b2-4a76-9c21-19631ced51ef",
   "metadata": {},
   "outputs": [],
   "source": [
    "import pandas as pd\n",
    "import numpy as np\n",
    "import matplotlib.pyplot as plt\n",
    "\n",
    "import librosa"
   ]
  },
  {
   "cell_type": "markdown",
   "id": "90aa2a99-5fd7-42a8-b48e-9febbb462cef",
   "metadata": {},
   "source": [
    "# Wczytanie danych"
   ]
  },
  {
   "cell_type": "code",
   "execution_count": 2,
   "id": "5e4e6ad1-9667-48a0-b827-52f6c7b105f4",
   "metadata": {},
   "outputs": [
    {
     "data": {
      "text/html": [
       "<div>\n",
       "<style scoped>\n",
       "    .dataframe tbody tr th:only-of-type {\n",
       "        vertical-align: middle;\n",
       "    }\n",
       "\n",
       "    .dataframe tbody tr th {\n",
       "        vertical-align: top;\n",
       "    }\n",
       "\n",
       "    .dataframe thead th {\n",
       "        text-align: right;\n",
       "    }\n",
       "</style>\n",
       "<table border=\"1\" class=\"dataframe\">\n",
       "  <thead>\n",
       "    <tr style=\"text-align: right;\">\n",
       "      <th></th>\n",
       "      <th>Emotion</th>\n",
       "      <th>Path</th>\n",
       "      <th>Dataset</th>\n",
       "    </tr>\n",
       "  </thead>\n",
       "  <tbody>\n",
       "    <tr>\n",
       "      <th>0</th>\n",
       "      <td>ANGRY</td>\n",
       "      <td>../data/kaggle/input/speech-emotion-recognitio...</td>\n",
       "      <td>Crema</td>\n",
       "    </tr>\n",
       "    <tr>\n",
       "      <th>1</th>\n",
       "      <td>ANGRY</td>\n",
       "      <td>../data/kaggle/input/speech-emotion-recognitio...</td>\n",
       "      <td>Crema</td>\n",
       "    </tr>\n",
       "    <tr>\n",
       "      <th>2</th>\n",
       "      <td>NEUTRAL</td>\n",
       "      <td>../data/kaggle/input/speech-emotion-recognitio...</td>\n",
       "      <td>Crema</td>\n",
       "    </tr>\n",
       "    <tr>\n",
       "      <th>3</th>\n",
       "      <td>NEUTRAL</td>\n",
       "      <td>../data/kaggle/input/speech-emotion-recognitio...</td>\n",
       "      <td>Crema</td>\n",
       "    </tr>\n",
       "    <tr>\n",
       "      <th>4</th>\n",
       "      <td>DISGUST</td>\n",
       "      <td>../data/kaggle/input/speech-emotion-recognitio...</td>\n",
       "      <td>Crema</td>\n",
       "    </tr>\n",
       "    <tr>\n",
       "      <th>...</th>\n",
       "      <td>...</td>\n",
       "      <td>...</td>\n",
       "      <td>...</td>\n",
       "    </tr>\n",
       "    <tr>\n",
       "      <th>9390</th>\n",
       "      <td>ANGRY</td>\n",
       "      <td>../data/kaggle/input/speech-emotion-recognitio...</td>\n",
       "      <td>Tess</td>\n",
       "    </tr>\n",
       "    <tr>\n",
       "      <th>9391</th>\n",
       "      <td>ANGRY</td>\n",
       "      <td>../data/kaggle/input/speech-emotion-recognitio...</td>\n",
       "      <td>Tess</td>\n",
       "    </tr>\n",
       "    <tr>\n",
       "      <th>9392</th>\n",
       "      <td>ANGRY</td>\n",
       "      <td>../data/kaggle/input/speech-emotion-recognitio...</td>\n",
       "      <td>Tess</td>\n",
       "    </tr>\n",
       "    <tr>\n",
       "      <th>9393</th>\n",
       "      <td>ANGRY</td>\n",
       "      <td>../data/kaggle/input/speech-emotion-recognitio...</td>\n",
       "      <td>Tess</td>\n",
       "    </tr>\n",
       "    <tr>\n",
       "      <th>9394</th>\n",
       "      <td>ANGRY</td>\n",
       "      <td>../data/kaggle/input/speech-emotion-recognitio...</td>\n",
       "      <td>Tess</td>\n",
       "    </tr>\n",
       "  </tbody>\n",
       "</table>\n",
       "<p>9395 rows × 3 columns</p>\n",
       "</div>"
      ],
      "text/plain": [
       "      Emotion                                               Path Dataset\n",
       "0       ANGRY  ../data/kaggle/input/speech-emotion-recognitio...   Crema\n",
       "1       ANGRY  ../data/kaggle/input/speech-emotion-recognitio...   Crema\n",
       "2     NEUTRAL  ../data/kaggle/input/speech-emotion-recognitio...   Crema\n",
       "3     NEUTRAL  ../data/kaggle/input/speech-emotion-recognitio...   Crema\n",
       "4     DISGUST  ../data/kaggle/input/speech-emotion-recognitio...   Crema\n",
       "...       ...                                                ...     ...\n",
       "9390    ANGRY  ../data/kaggle/input/speech-emotion-recognitio...    Tess\n",
       "9391    ANGRY  ../data/kaggle/input/speech-emotion-recognitio...    Tess\n",
       "9392    ANGRY  ../data/kaggle/input/speech-emotion-recognitio...    Tess\n",
       "9393    ANGRY  ../data/kaggle/input/speech-emotion-recognitio...    Tess\n",
       "9394    ANGRY  ../data/kaggle/input/speech-emotion-recognitio...    Tess\n",
       "\n",
       "[9395 rows x 3 columns]"
      ]
     },
     "execution_count": 2,
     "metadata": {},
     "output_type": "execute_result"
    }
   ],
   "source": [
    "df = pd.read_csv(\"../data/datasets_sum.csv\")\n",
    "df"
   ]
  },
  {
   "cell_type": "markdown",
   "id": "50620cef-73fe-4ab3-962b-890a2ab9a5d5",
   "metadata": {},
   "source": [
    "# Obliczenie współczynników MFCC"
   ]
  },
  {
   "cell_type": "code",
   "execution_count": 3,
   "id": "881571d9-3f99-492b-9e6a-dfc9ea4b294e",
   "metadata": {},
   "outputs": [],
   "source": [
    "def extract_mfcc(filename):\n",
    "    y, sr = librosa.load(filename, sr=44100)\n",
    "    mfcc = np.mean(librosa.feature.mfcc(y=y, sr=sr, n_mfcc=40).T, axis=0)\n",
    "    return mfcc"
   ]
  },
  {
   "cell_type": "code",
   "execution_count": 4,
   "id": "780c1306-1415-4482-a2db-da08868f58b4",
   "metadata": {},
   "outputs": [
    {
     "data": {
      "text/plain": [
       "array([-3.08300903e+02,  1.31756012e+02, -4.29153633e+00,  3.22639503e+01,\n",
       "        2.61326237e+01, -4.28649187e+00, -3.06126499e+00, -1.27417965e+01,\n",
       "       -4.12786579e+00, -3.98338032e+00, -1.17734680e+01,  1.47707617e+00,\n",
       "       -5.52657938e+00, -6.83881330e+00,  6.62453079e+00, -4.45894909e+00,\n",
       "       -5.24316502e+00,  1.82022095e+00, -5.61171770e+00, -3.91164088e+00,\n",
       "       -3.21455550e+00, -3.98237538e+00, -1.34678376e+00, -7.98135233e+00,\n",
       "       -5.28109646e+00, -8.65261257e-01, -7.97481871e+00, -4.56493807e+00,\n",
       "        5.54571629e-01, -6.63708329e-01,  1.12487221e+00,  1.90416470e-01,\n",
       "        6.35304689e-01,  5.13895988e-01, -2.64025402e+00,  4.29047287e-01,\n",
       "        5.98297119e-02, -2.90354562e+00,  6.09731615e-01,  8.50573659e-01],\n",
       "      dtype=float32)"
      ]
     },
     "execution_count": 4,
     "metadata": {},
     "output_type": "execute_result"
    }
   ],
   "source": [
    "example_mfcc = extract_mfcc(df.iloc[0, 1])\n",
    "example_mfcc"
   ]
  },
  {
   "cell_type": "code",
   "execution_count": 5,
   "id": "bbaf9a73-9758-4634-ba70-7238b0376aec",
   "metadata": {},
   "outputs": [
    {
     "name": "stdout",
     "output_type": "stream",
     "text": [
      "CPU times: user 35.2 s, sys: 5.87 s, total: 41 s\n",
      "Wall time: 41.6 s\n"
     ]
    }
   ],
   "source": [
    "%%time\n",
    "mfccs = df[\"Path\"].apply(lambda x: extract_mfcc(x))"
   ]
  },
  {
   "cell_type": "code",
   "execution_count": 6,
   "id": "97fee27f-57a2-4413-92e2-1bbe5e7080a2",
   "metadata": {},
   "outputs": [
    {
     "data": {
      "text/plain": [
       "(9395, 40)"
      ]
     },
     "execution_count": 6,
     "metadata": {},
     "output_type": "execute_result"
    }
   ],
   "source": [
    "X = [x for x in mfccs]\n",
    "X = np.array(X)\n",
    "X.shape"
   ]
  },
  {
   "cell_type": "code",
   "execution_count": 7,
   "id": "5c3b16c3-5406-4ed6-8401-2e9760b640b3",
   "metadata": {},
   "outputs": [
    {
     "data": {
      "text/plain": [
       "(9395, 40, 1)"
      ]
     },
     "execution_count": 7,
     "metadata": {},
     "output_type": "execute_result"
    }
   ],
   "source": [
    "X = np.expand_dims(X, -1)\n",
    "X.shape"
   ]
  },
  {
   "cell_type": "code",
   "execution_count": null,
   "id": "a15d4d1e-d929-4e09-a66b-cd57ddbd4588",
   "metadata": {},
   "outputs": [],
   "source": []
  }
 ],
 "metadata": {
  "kernelspec": {
   "display_name": "my_ser_env",
   "language": "python",
   "name": "my_ser_env"
  },
  "language_info": {
   "codemirror_mode": {
    "name": "ipython",
    "version": 3
   },
   "file_extension": ".py",
   "mimetype": "text/x-python",
   "name": "python",
   "nbconvert_exporter": "python",
   "pygments_lexer": "ipython3",
   "version": "3.12.5"
  }
 },
 "nbformat": 4,
 "nbformat_minor": 5
}
